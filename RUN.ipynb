{
 "cells": [
  {
   "cell_type": "code",
   "execution_count": null,
   "metadata": {
    "execution": {
     "iopub.execute_input": "2023-07-27T12:02:50.118626Z",
     "iopub.status.busy": "2023-07-27T12:02:50.117908Z"
    },
    "tags": []
   },
   "outputs": [
    {
     "name": "stdout",
     "output_type": "stream",
     "text": [
      "Cloning into 'MLPNAS_Pytorch'...\n",
      "remote: Enumerating objects: 242, done.\u001b[K\n",
      "remote: Counting objects: 100% (82/82), done.\u001b[K\n",
      "remote: Compressing objects: 100% (66/66), done.\u001b[K\n",
      "remote: Total 242 (delta 38), reused 12 (delta 12), pack-reused 160\u001b[K\n",
      "Receiving objects: 100% (242/242), 104.69 MiB | 44.59 MiB/s, done.\n",
      "Resolving deltas:  97% (83/85)\r"
     ]
    }
   ],
   "source": [
    "!git clone https://github.com/EL-Bied-Ali/MLPNAS_Pytorch.git"
   ]
  },
  {
   "cell_type": "code",
   "execution_count": 3,
   "metadata": {
    "execution": {
     "iopub.execute_input": "2023-07-27T11:45:48.186629Z",
     "iopub.status.busy": "2023-07-27T11:45:48.186253Z",
     "iopub.status.idle": "2023-07-27T11:45:53.298488Z",
     "shell.execute_reply": "2023-07-27T11:45:53.297591Z",
     "shell.execute_reply.started": "2023-07-27T11:45:48.186604Z"
    },
    "tags": []
   },
   "outputs": [
    {
     "name": "stdout",
     "output_type": "stream",
     "text": [
      "fatal: not a git repository (or any parent up to mount point /home)\n",
      "Stopping at filesystem boundary (GIT_DISCOVERY_ACROSS_FILESYSTEM not set).\n",
      "fatal: not a git repository (or any parent up to mount point /home)\n",
      "Stopping at filesystem boundary (GIT_DISCOVERY_ACROSS_FILESYSTEM not set).\n",
      "fatal: not a git repository (or any parent up to mount point /home)\n",
      "Stopping at filesystem boundary (GIT_DISCOVERY_ACROSS_FILESYSTEM not set).\n",
      "fatal: not a git repository (or any parent up to mount point /home)\n",
      "Stopping at filesystem boundary (GIT_DISCOVERY_ACROSS_FILESYSTEM not set).\n"
     ]
    }
   ],
   "source": [
    "# !cd MLPNAS_Pytorch\n",
    "!git config --global user.name \"EL-Bied-Ali\"\n",
    "!git config --global user.email \"Ali.el.bied9898@gmail.com\"\n",
    "!git add .\n",
    "!git commit -m \"Update\"\n",
    "!git remote add origin https://github.com/EL-Bied-Ali/MLPNAS_Pytorch.git\n",
    "!git push -u origin master"
   ]
  },
  {
   "cell_type": "code",
   "execution_count": 2,
   "metadata": {
    "execution": {
     "iopub.execute_input": "2023-07-27T11:26:05.338188Z",
     "iopub.status.busy": "2023-07-27T11:26:05.337975Z",
     "iopub.status.idle": "2023-07-27T11:26:05.342559Z",
     "shell.execute_reply": "2023-07-27T11:26:05.341709Z",
     "shell.execute_reply.started": "2023-07-27T11:26:05.338168Z"
    },
    "tags": []
   },
   "outputs": [],
   "source": []
  },
  {
   "cell_type": "code",
   "execution_count": 1,
   "metadata": {
    "execution": {
     "iopub.execute_input": "2023-07-26T18:52:21.527192Z",
     "iopub.status.busy": "2023-07-26T18:52:21.526893Z",
     "iopub.status.idle": "2023-07-27T11:26:05.314595Z",
     "shell.execute_reply": "2023-07-27T11:26:05.313747Z",
     "shell.execute_reply.started": "2023-07-26T18:52:21.527170Z"
    },
    "tags": []
   },
   "outputs": [
    {
     "name": "stdout",
     "output_type": "stream",
     "text": [
      "Running script...\n",
      "------------------------------------------------------------------\n",
      "                       CONTROLLER EPOCH: 0\n",
      "------------------------------------------------------------------\n",
      "GENERATING ARCHITECTURE SAMPLES...\n",
      "------------------------------------------------------\n",
      "Architecture:  [(32, 'elu'), (32, 'tanh'), (10, 'last layer')]\n"
     ]
    },
    {
     "name": "stderr",
     "output_type": "stream",
     "text": [
      "Training loss = 0.474775 val accuracy = 0.848167: 100%|██████████| 10/10 [01:51<00:00, 11.15s/it]\n"
     ]
    },
    {
     "name": "stdout",
     "output_type": "stream",
     "text": [
      "------------------------------------------------------\n",
      "Architecture:  [(32, 'sigmoid'), (8, 'elu'), (10, 'last layer')]\n"
     ]
    },
    {
     "name": "stderr",
     "output_type": "stream",
     "text": [
      "Training loss = 0.526626 val accuracy = 0.850167: 100%|██████████| 10/10 [01:51<00:00, 11.18s/it]\n"
     ]
    },
    {
     "name": "stdout",
     "output_type": "stream",
     "text": [
      "------------------------------------------------------\n",
      "Architecture:  [(256, 'tanh'), (64, 'sigmoid'), (10, 'last layer')]\n"
     ]
    },
    {
     "name": "stderr",
     "output_type": "stream",
     "text": [
      "Training loss = 1.294501 val accuracy = 0.520583: 100%|██████████| 10/10 [01:53<00:00, 11.39s/it]\n"
     ]
    },
    {
     "name": "stdout",
     "output_type": "stream",
     "text": [
      "------------------------------------------------------\n",
      "Architecture:  [(64, 'sigmoid'), (64, 'elu'), (10, 'last layer')]\n"
     ]
    },
    {
     "name": "stderr",
     "output_type": "stream",
     "text": [
      "Training loss = 0.636536 val accuracy = 0.842333: 100%|██████████| 10/10 [01:52<00:00, 11.25s/it]\n"
     ]
    },
    {
     "name": "stdout",
     "output_type": "stream",
     "text": [
      "------------------------------------------------------\n",
      "Architecture:  [(32, 'sigmoid'), (16, 'tanh'), (10, 'last layer')]\n"
     ]
    },
    {
     "name": "stderr",
     "output_type": "stream",
     "text": [
      "Training loss = 0.520251 val accuracy = 0.862667: 100%|██████████| 10/10 [01:52<00:00, 11.29s/it]\n"
     ]
    },
    {
     "name": "stdout",
     "output_type": "stream",
     "text": [
      "------------------------------------------------------\n",
      "Architecture:  [(32, 'sigmoid'), (512, 'sigmoid'), (10, 'last layer')]\n"
     ]
    },
    {
     "name": "stderr",
     "output_type": "stream",
     "text": [
      "Training loss = 2.302804 val accuracy = 0.112083: 100%|██████████| 10/10 [01:51<00:00, 11.20s/it]\n"
     ]
    },
    {
     "name": "stdout",
     "output_type": "stream",
     "text": [
      "------------------------------------------------------\n",
      "Architecture:  [(16, 'elu'), (512, 'relu'), (10, 'last layer')]\n"
     ]
    },
    {
     "name": "stderr",
     "output_type": "stream",
     "text": [
      "Training loss = 1.556809 val accuracy = 0.396250: 100%|██████████| 10/10 [01:51<00:00, 11.19s/it]\n"
     ]
    },
    {
     "name": "stdout",
     "output_type": "stream",
     "text": [
      "------------------------------------------------------\n",
      "Architecture:  [(8, 'tanh'), (16, 'tanh'), (10, 'last layer')]\n"
     ]
    },
    {
     "name": "stderr",
     "output_type": "stream",
     "text": [
      "Training loss = 2.305563 val accuracy = 0.098083: 100%|██████████| 10/10 [01:51<00:00, 11.13s/it]\n"
     ]
    },
    {
     "name": "stdout",
     "output_type": "stream",
     "text": [
      "------------------------------------------------------\n",
      "Architecture:  [(256, 'elu'), (64, 'elu'), (10, 'last layer')]\n"
     ]
    },
    {
     "name": "stderr",
     "output_type": "stream",
     "text": [
      "Training loss = 0.260392 val accuracy = 0.914667: 100%|██████████| 10/10 [01:52<00:00, 11.29s/it]\n"
     ]
    },
    {
     "name": "stdout",
     "output_type": "stream",
     "text": [
      "------------------------------------------------------\n",
      "Architecture:  [(32, 'elu'), (256, 'sigmoid'), (10, 'last layer')]\n"
     ]
    },
    {
     "name": "stderr",
     "output_type": "stream",
     "text": [
      "Training loss = 0.335017 val accuracy = 0.890583: 100%|██████████| 10/10 [01:52<00:00, 11.23s/it]\n"
     ]
    },
    {
     "name": "stdout",
     "output_type": "stream",
     "text": [
      "------------------------------------------------------\n",
      "------------------------------------------------------------------\n",
      "                       CONTROLLER EPOCH: 1\n",
      "------------------------------------------------------------------\n",
      "GENERATING ARCHITECTURE SAMPLES...\n",
      "------------------------------------------------------\n",
      "Architecture:  [(8, 'tanh'), (128, 'tanh'), (10, 'last layer')]\n"
     ]
    },
    {
     "name": "stderr",
     "output_type": "stream",
     "text": [
      "Training loss = 1.871726 val accuracy = 0.198833: 100%|██████████| 10/10 [01:51<00:00, 11.17s/it]\n"
     ]
    },
    {
     "name": "stdout",
     "output_type": "stream",
     "text": [
      "------------------------------------------------------\n",
      "Architecture:  [(512, 'tanh'), (512, 'relu'), (10, 'last layer')]\n"
     ]
    },
    {
     "name": "stderr",
     "output_type": "stream",
     "text": [
      "Training loss = 2.302669 val accuracy = 0.112083: 100%|██████████| 10/10 [01:55<00:00, 11.56s/it]\n"
     ]
    },
    {
     "name": "stdout",
     "output_type": "stream",
     "text": [
      "------------------------------------------------------\n",
      "Architecture:  [(128, 'elu'), (512, 'sigmoid'), (10, 'last layer')]\n"
     ]
    },
    {
     "name": "stderr",
     "output_type": "stream",
     "text": [
      "Training loss = 0.485819 val accuracy = 0.852667: 100%|██████████| 10/10 [01:55<00:00, 11.52s/it]\n"
     ]
    },
    {
     "name": "stdout",
     "output_type": "stream",
     "text": [
      "------------------------------------------------------\n",
      "Architecture:  [(64, 'relu'), (128, 'tanh'), (10, 'last layer')]\n"
     ]
    },
    {
     "name": "stderr",
     "output_type": "stream",
     "text": [
      "Training loss = 0.587179 val accuracy = 0.809500: 100%|██████████| 10/10 [01:51<00:00, 11.20s/it]\n"
     ]
    },
    {
     "name": "stdout",
     "output_type": "stream",
     "text": [
      "------------------------------------------------------\n",
      "Architecture:  [(256, 'relu'), (16, 'sigmoid'), (10, 'last layer')]\n"
     ]
    },
    {
     "name": "stderr",
     "output_type": "stream",
     "text": [
      "Training loss = 0.661007 val accuracy = 0.797917: 100%|██████████| 10/10 [01:53<00:00, 11.34s/it]\n"
     ]
    },
    {
     "name": "stdout",
     "output_type": "stream",
     "text": [
      "------------------------------------------------------\n",
      "Architecture:  [(8, 'sigmoid'), (16, 'sigmoid'), (10, 'last layer')]\n"
     ]
    },
    {
     "name": "stderr",
     "output_type": "stream",
     "text": [
      "Training loss = 1.385295 val accuracy = 0.383417: 100%|██████████| 10/10 [01:52<00:00, 11.24s/it]\n"
     ]
    },
    {
     "name": "stdout",
     "output_type": "stream",
     "text": [
      "------------------------------------------------------\n",
      "Architecture:  [(512, 'sigmoid'), (256, 'relu'), (10, 'last layer')]\n"
     ]
    },
    {
     "name": "stderr",
     "output_type": "stream",
     "text": [
      "Training loss = 0.690674 val accuracy = 0.816083: 100%|██████████| 10/10 [01:56<00:00, 11.63s/it]\n"
     ]
    },
    {
     "name": "stdout",
     "output_type": "stream",
     "text": [
      "------------------------------------------------------\n",
      "Architecture:  [(512, 'relu'), (32, 'tanh'), (10, 'last layer')]\n"
     ]
    },
    {
     "name": "stderr",
     "output_type": "stream",
     "text": [
      "Training loss = 2.340894 val accuracy = 0.098083: 100%|██████████| 10/10 [01:54<00:00, 11.40s/it]\n"
     ]
    },
    {
     "name": "stdout",
     "output_type": "stream",
     "text": [
      "------------------------------------------------------\n",
      "Architecture:  [(32, 'sigmoid'), (8, 'tanh'), (10, 'last layer')]\n"
     ]
    },
    {
     "name": "stderr",
     "output_type": "stream",
     "text": [
      "Training loss = 1.858065 val accuracy = 0.189250: 100%|██████████| 10/10 [01:51<00:00, 11.19s/it]\n"
     ]
    },
    {
     "name": "stdout",
     "output_type": "stream",
     "text": [
      "------------------------------------------------------\n",
      "Architecture:  [(128, 'sigmoid'), (16, 'relu'), (10, 'last layer')]\n"
     ]
    },
    {
     "name": "stderr",
     "output_type": "stream",
     "text": [
      "Training loss = 0.850683 val accuracy = 0.753083: 100%|██████████| 10/10 [01:53<00:00, 11.36s/it]\n"
     ]
    },
    {
     "name": "stdout",
     "output_type": "stream",
     "text": [
      "------------------------------------------------------\n",
      "------------------------------------------------------------------\n",
      "                       CONTROLLER EPOCH: 2\n",
      "------------------------------------------------------------------\n",
      "GENERATING ARCHITECTURE SAMPLES...\n",
      "------------------------------------------------------\n",
      "Architecture:  [(512, 'sigmoid'), (512, 'sigmoid'), (10, 'last layer')]\n"
     ]
    },
    {
     "name": "stderr",
     "output_type": "stream",
     "text": [
      "Training loss = 0.590583 val accuracy = 0.809083: 100%|██████████| 10/10 [01:55<00:00, 11.60s/it]\n"
     ]
    },
    {
     "name": "stdout",
     "output_type": "stream",
     "text": [
      "------------------------------------------------------\n",
      "Architecture:  [(64, 'tanh'), (16, 'relu'), (10, 'last layer')]\n"
     ]
    },
    {
     "name": "stderr",
     "output_type": "stream",
     "text": [
      "Training loss = 1.467210 val accuracy = 0.382917: 100%|██████████| 10/10 [01:52<00:00, 11.24s/it]\n"
     ]
    },
    {
     "name": "stdout",
     "output_type": "stream",
     "text": [
      "------------------------------------------------------\n",
      "Architecture:  [(32, 'sigmoid'), (64, 'sigmoid'), (10, 'last layer')]\n"
     ]
    },
    {
     "name": "stderr",
     "output_type": "stream",
     "text": [
      "Training loss = 0.458890 val accuracy = 0.878000: 100%|██████████| 10/10 [01:52<00:00, 11.25s/it]\n"
     ]
    },
    {
     "name": "stdout",
     "output_type": "stream",
     "text": [
      "------------------------------------------------------\n",
      "Architecture:  [(8, 'sigmoid'), (512, 'sigmoid'), (10, 'last layer')]\n"
     ]
    },
    {
     "name": "stderr",
     "output_type": "stream",
     "text": [
      "Training loss = 1.439878 val accuracy = 0.380250: 100%|██████████| 10/10 [01:52<00:00, 11.24s/it]\n"
     ]
    },
    {
     "name": "stdout",
     "output_type": "stream",
     "text": [
      "------------------------------------------------------\n",
      "Architecture:  [(128, 'tanh'), (64, 'sigmoid'), (10, 'last layer')]\n"
     ]
    },
    {
     "name": "stderr",
     "output_type": "stream",
     "text": [
      "Training loss = 0.934088 val accuracy = 0.668500: 100%|██████████| 10/10 [01:52<00:00, 11.24s/it]\n"
     ]
    },
    {
     "name": "stdout",
     "output_type": "stream",
     "text": [
      "------------------------------------------------------\n",
      "Architecture:  [(16, 'tanh'), (512, 'relu'), (10, 'last layer')]\n"
     ]
    },
    {
     "name": "stderr",
     "output_type": "stream",
     "text": [
      "Training loss = 2.302543 val accuracy = 0.112083: 100%|██████████| 10/10 [01:52<00:00, 11.25s/it]\n"
     ]
    },
    {
     "name": "stdout",
     "output_type": "stream",
     "text": [
      "------------------------------------------------------\n",
      "Architecture:  [(128, 'relu'), (256, 'sigmoid'), (10, 'last layer')]\n"
     ]
    },
    {
     "name": "stderr",
     "output_type": "stream",
     "text": [
      "Training loss = 0.355724 val accuracy = 0.889167: 100%|██████████| 10/10 [01:53<00:00, 11.31s/it]\n"
     ]
    },
    {
     "name": "stdout",
     "output_type": "stream",
     "text": [
      "------------------------------------------------------\n",
      "Architecture:  [(8, 'tanh'), (512, 'tanh'), (10, 'last layer')]\n"
     ]
    },
    {
     "name": "stderr",
     "output_type": "stream",
     "text": [
      "Training loss = 2.344947 val accuracy = 0.087500: 100%|██████████| 10/10 [01:52<00:00, 11.26s/it]\n"
     ]
    },
    {
     "name": "stdout",
     "output_type": "stream",
     "text": [
      "------------------------------------------------------\n",
      "Architecture:  [(8, 'tanh'), (64, 'tanh'), (10, 'last layer')]\n"
     ]
    },
    {
     "name": "stderr",
     "output_type": "stream",
     "text": [
      "Training loss = 2.312254 val accuracy = 0.112083: 100%|██████████| 10/10 [01:52<00:00, 11.23s/it]\n"
     ]
    },
    {
     "name": "stdout",
     "output_type": "stream",
     "text": [
      "------------------------------------------------------\n",
      "Architecture:  [(32, 'tanh'), (512, 'elu'), (10, 'last layer')]\n"
     ]
    },
    {
     "name": "stderr",
     "output_type": "stream",
     "text": [
      "Training loss = 1.520972 val accuracy = 0.371250: 100%|██████████| 10/10 [01:52<00:00, 11.27s/it]\n"
     ]
    },
    {
     "name": "stdout",
     "output_type": "stream",
     "text": [
      "------------------------------------------------------\n",
      "------------------------------------------------------------------\n",
      "                       CONTROLLER EPOCH: 3\n",
      "------------------------------------------------------------------\n",
      "GENERATING ARCHITECTURE SAMPLES...\n",
      "------------------------------------------------------\n",
      "Architecture:  [(32, 'elu'), (16, 'elu'), (10, 'last layer')]\n"
     ]
    },
    {
     "name": "stderr",
     "output_type": "stream",
     "text": [
      "Training loss = 0.292876 val accuracy = 0.914333: 100%|██████████| 10/10 [01:51<00:00, 11.15s/it]\n"
     ]
    },
    {
     "name": "stdout",
     "output_type": "stream",
     "text": [
      "------------------------------------------------------\n",
      "Architecture:  [(256, 'relu'), (16, 'elu'), (10, 'last layer')]\n"
     ]
    },
    {
     "name": "stderr",
     "output_type": "stream",
     "text": [
      "Training loss = 0.237424 val accuracy = 0.921250: 100%|██████████| 10/10 [01:53<00:00, 11.32s/it]\n"
     ]
    },
    {
     "name": "stdout",
     "output_type": "stream",
     "text": [
      "------------------------------------------------------\n",
      "Architecture:  [(128, 'sigmoid'), (16, 'sigmoid'), (10, 'last layer')]\n"
     ]
    },
    {
     "name": "stderr",
     "output_type": "stream",
     "text": [
      "Training loss = 0.621881 val accuracy = 0.838417: 100%|██████████| 10/10 [01:52<00:00, 11.29s/it]\n"
     ]
    },
    {
     "name": "stdout",
     "output_type": "stream",
     "text": [
      "------------------------------------------------------\n",
      "Architecture:  [(16, 'sigmoid'), (10, 'last layer')]\n"
     ]
    },
    {
     "name": "stderr",
     "output_type": "stream",
     "text": [
      "Training loss = 0.748381 val accuracy = 0.813333: 100%|██████████| 10/10 [01:46<00:00, 10.68s/it]\n"
     ]
    },
    {
     "name": "stdout",
     "output_type": "stream",
     "text": [
      "------------------------------------------------------\n",
      "Architecture:  [(32, 'relu'), (512, 'relu'), (10, 'last layer')]\n"
     ]
    },
    {
     "name": "stderr",
     "output_type": "stream",
     "text": [
      "Training loss = 0.931360 val accuracy = 0.715917: 100%|██████████| 10/10 [01:51<00:00, 11.14s/it]\n"
     ]
    },
    {
     "name": "stdout",
     "output_type": "stream",
     "text": [
      "------------------------------------------------------\n",
      "Architecture:  [(64, 'tanh'), (16, 'elu'), (10, 'last layer')]\n"
     ]
    },
    {
     "name": "stderr",
     "output_type": "stream",
     "text": [
      "Training loss = 1.852678 val accuracy = 0.200667: 100%|██████████| 10/10 [01:51<00:00, 11.16s/it]\n"
     ]
    },
    {
     "name": "stdout",
     "output_type": "stream",
     "text": [
      "------------------------------------------------------\n",
      "Architecture:  [(32, 'sigmoid'), (16, 'sigmoid'), (10, 'last layer')]\n"
     ]
    },
    {
     "name": "stderr",
     "output_type": "stream",
     "text": [
      "Training loss = 0.457868 val accuracy = 0.864750: 100%|██████████| 10/10 [01:52<00:00, 11.27s/it]\n"
     ]
    },
    {
     "name": "stdout",
     "output_type": "stream",
     "text": [
      "------------------------------------------------------\n",
      "Architecture:  [(512, 'relu'), (128, 'elu'), (10, 'last layer')]\n"
     ]
    },
    {
     "name": "stderr",
     "output_type": "stream",
     "text": [
      "Training loss = 0.305324 val accuracy = 0.939250: 100%|██████████| 10/10 [01:56<00:00, 11.65s/it]\n"
     ]
    },
    {
     "name": "stdout",
     "output_type": "stream",
     "text": [
      "------------------------------------------------------\n",
      "Architecture:  [(16, 'tanh'), 'dropout', (10, 'last layer')]\n"
     ]
    },
    {
     "name": "stderr",
     "output_type": "stream",
     "text": [
      "Training loss = 1.943427 val accuracy = 0.196833: 100%|██████████| 10/10 [01:48<00:00, 10.87s/it]\n"
     ]
    },
    {
     "name": "stdout",
     "output_type": "stream",
     "text": [
      "------------------------------------------------------\n",
      "Architecture:  [(64, 'elu'), (64, 'elu'), (10, 'last layer')]\n"
     ]
    },
    {
     "name": "stderr",
     "output_type": "stream",
     "text": [
      "Training loss = 0.285126 val accuracy = 0.924083: 100%|██████████| 10/10 [01:52<00:00, 11.23s/it]\n"
     ]
    },
    {
     "name": "stdout",
     "output_type": "stream",
     "text": [
      "------------------------------------------------------\n",
      "------------------------------------------------------------------\n",
      "                       CONTROLLER EPOCH: 4\n",
      "------------------------------------------------------------------\n",
      "GENERATING ARCHITECTURE SAMPLES...\n",
      "------------------------------------------------------\n",
      "Architecture:  [(512, 'relu'), (32, 'elu'), (10, 'last layer')]\n"
     ]
    },
    {
     "name": "stderr",
     "output_type": "stream",
     "text": [
      "Training loss = 0.223766 val accuracy = 0.933583: 100%|██████████| 10/10 [01:55<00:00, 11.52s/it]\n"
     ]
    },
    {
     "name": "stdout",
     "output_type": "stream",
     "text": [
      "------------------------------------------------------\n",
      "Architecture:  [(8, 'elu'), (512, 'elu'), (10, 'last layer')]\n"
     ]
    },
    {
     "name": "stderr",
     "output_type": "stream",
     "text": [
      "Training loss = 0.782328 val accuracy = 0.758250: 100%|██████████| 10/10 [01:53<00:00, 11.30s/it]\n"
     ]
    },
    {
     "name": "stdout",
     "output_type": "stream",
     "text": [
      "------------------------------------------------------\n",
      "Architecture:  [(64, 'tanh'), (64, 'sigmoid'), (10, 'last layer')]\n"
     ]
    },
    {
     "name": "stderr",
     "output_type": "stream",
     "text": [
      "Training loss = 2.302512 val accuracy = 0.112083: 100%|██████████| 10/10 [01:53<00:00, 11.31s/it]\n"
     ]
    },
    {
     "name": "stdout",
     "output_type": "stream",
     "text": [
      "------------------------------------------------------\n",
      "Architecture:  [(32, 'relu'), (8, 'tanh'), (10, 'last layer')]\n"
     ]
    },
    {
     "name": "stderr",
     "output_type": "stream",
     "text": [
      "Training loss = 0.615607 val accuracy = 0.847167: 100%|██████████| 10/10 [01:52<00:00, 11.29s/it]\n"
     ]
    },
    {
     "name": "stdout",
     "output_type": "stream",
     "text": [
      "------------------------------------------------------\n",
      "Architecture:  [(64, 'relu'), (32, 'sigmoid'), (10, 'last layer')]\n"
     ]
    },
    {
     "name": "stderr",
     "output_type": "stream",
     "text": [
      "Training loss = 0.353569 val accuracy = 0.899917: 100%|██████████| 10/10 [01:52<00:00, 11.28s/it]\n"
     ]
    },
    {
     "name": "stdout",
     "output_type": "stream",
     "text": [
      "------------------------------------------------------\n",
      "Architecture:  [(32, 'relu'), (32, 'tanh'), (10, 'last layer')]\n"
     ]
    },
    {
     "name": "stderr",
     "output_type": "stream",
     "text": [
      "Training loss = 0.497457 val accuracy = 0.874833: 100%|██████████| 10/10 [01:52<00:00, 11.24s/it]\n"
     ]
    },
    {
     "name": "stdout",
     "output_type": "stream",
     "text": [
      "------------------------------------------------------\n",
      "Architecture:  [(512, 'relu'), (16, 'relu'), (10, 'last layer')]\n"
     ]
    },
    {
     "name": "stderr",
     "output_type": "stream",
     "text": [
      "Training loss = 2.302974 val accuracy = 0.112083: 100%|██████████| 10/10 [01:54<00:00, 11.48s/it]\n"
     ]
    },
    {
     "name": "stdout",
     "output_type": "stream",
     "text": [
      "------------------------------------------------------\n",
      "Architecture:  [(64, 'sigmoid'), (8, 'tanh'), (10, 'last layer')]\n"
     ]
    },
    {
     "name": "stderr",
     "output_type": "stream",
     "text": [
      "Training loss = 0.507452 val accuracy = 0.864167: 100%|██████████| 10/10 [01:52<00:00, 11.26s/it]\n"
     ]
    },
    {
     "name": "stdout",
     "output_type": "stream",
     "text": [
      "------------------------------------------------------\n",
      "Architecture:  [(8, 'elu'), (8, 'tanh'), (10, 'last layer')]\n"
     ]
    },
    {
     "name": "stderr",
     "output_type": "stream",
     "text": [
      "Training loss = 1.140435 val accuracy = 0.620750: 100%|██████████| 10/10 [01:52<00:00, 11.23s/it]\n"
     ]
    },
    {
     "name": "stdout",
     "output_type": "stream",
     "text": [
      "------------------------------------------------------\n",
      "Architecture:  [(32, 'relu'), (256, 'relu'), (10, 'last layer')]\n"
     ]
    },
    {
     "name": "stderr",
     "output_type": "stream",
     "text": [
      "Training loss = 1.619824 val accuracy = 0.312167: 100%|██████████| 10/10 [01:53<00:00, 11.30s/it]\n"
     ]
    },
    {
     "name": "stdout",
     "output_type": "stream",
     "text": [
      "------------------------------------------------------\n",
      "------------------------------------------------------------------\n",
      "                       CONTROLLER EPOCH: 5\n",
      "------------------------------------------------------------------\n",
      "GENERATING ARCHITECTURE SAMPLES...\n",
      "------------------------------------------------------\n",
      "Architecture:  [(8, 'tanh'), (8, 'tanh'), (10, 'last layer')]\n"
     ]
    },
    {
     "name": "stderr",
     "output_type": "stream",
     "text": [
      "Training loss = 2.304565 val accuracy = 0.098917: 100%|██████████| 10/10 [01:52<00:00, 11.26s/it]\n"
     ]
    },
    {
     "name": "stdout",
     "output_type": "stream",
     "text": [
      "------------------------------------------------------\n",
      "Architecture:  [(128, 'tanh'), (32, 'relu'), (10, 'last layer')]\n"
     ]
    },
    {
     "name": "stderr",
     "output_type": "stream",
     "text": [
      "Training loss = 2.302513 val accuracy = 0.112083: 100%|██████████| 10/10 [01:53<00:00, 11.31s/it]\n"
     ]
    },
    {
     "name": "stdout",
     "output_type": "stream",
     "text": [
      "------------------------------------------------------\n",
      "Architecture:  [(64, 'tanh'), (8, 'tanh'), (10, 'last layer')]\n"
     ]
    },
    {
     "name": "stderr",
     "output_type": "stream",
     "text": [
      "Training loss = 1.874375 val accuracy = 0.199250: 100%|██████████| 10/10 [01:52<00:00, 11.22s/it]\n"
     ]
    },
    {
     "name": "stdout",
     "output_type": "stream",
     "text": [
      "------------------------------------------------------\n",
      "Architecture:  [(512, 'tanh'), (256, 'relu'), (10, 'last layer')]\n"
     ]
    },
    {
     "name": "stderr",
     "output_type": "stream",
     "text": [
      "Training loss = 2.302695 val accuracy = 0.112083: 100%|██████████| 10/10 [01:55<00:00, 11.56s/it]\n"
     ]
    },
    {
     "name": "stdout",
     "output_type": "stream",
     "text": [
      "------------------------------------------------------\n",
      "Architecture:  [(8, 'sigmoid'), (512, 'relu'), (10, 'last layer')]\n"
     ]
    },
    {
     "name": "stderr",
     "output_type": "stream",
     "text": [
      "Training loss = 2.302710 val accuracy = 0.099000: 100%|██████████| 10/10 [01:52<00:00, 11.23s/it]\n"
     ]
    },
    {
     "name": "stdout",
     "output_type": "stream",
     "text": [
      "------------------------------------------------------\n",
      "Architecture:  [(64, 'tanh'), (32, 'sigmoid'), (10, 'last layer')]\n"
     ]
    },
    {
     "name": "stderr",
     "output_type": "stream",
     "text": [
      "Training loss = 1.852857 val accuracy = 0.174833: 100%|██████████| 10/10 [01:52<00:00, 11.21s/it]\n"
     ]
    },
    {
     "name": "stdout",
     "output_type": "stream",
     "text": [
      "------------------------------------------------------\n",
      "Architecture:  [(256, 'tanh'), (32, 'relu'), (10, 'last layer')]\n"
     ]
    },
    {
     "name": "stderr",
     "output_type": "stream",
     "text": [
      "Training loss = 2.302662 val accuracy = 0.112083: 100%|██████████| 10/10 [01:54<00:00, 11.45s/it]\n"
     ]
    },
    {
     "name": "stdout",
     "output_type": "stream",
     "text": [
      "------------------------------------------------------\n",
      "Architecture:  [(128, 'relu'), (64, 'tanh'), (10, 'last layer')]\n"
     ]
    },
    {
     "name": "stderr",
     "output_type": "stream",
     "text": [
      "Training loss = 2.376520 val accuracy = 0.087500: 100%|██████████| 10/10 [01:53<00:00, 11.39s/it]\n"
     ]
    },
    {
     "name": "stdout",
     "output_type": "stream",
     "text": [
      "------------------------------------------------------\n",
      "Architecture:  [(8, 'tanh'), (64, 'elu'), (10, 'last layer')]\n"
     ]
    },
    {
     "name": "stderr",
     "output_type": "stream",
     "text": [
      "Training loss = 2.312821 val accuracy = 0.098167: 100%|██████████| 10/10 [01:52<00:00, 11.20s/it]\n"
     ]
    },
    {
     "name": "stdout",
     "output_type": "stream",
     "text": [
      "------------------------------------------------------\n",
      "Architecture:  [(32, 'relu'), (128, 'elu'), (10, 'last layer')]\n"
     ]
    },
    {
     "name": "stderr",
     "output_type": "stream",
     "text": [
      "Training loss = 0.759329 val accuracy = 0.741833: 100%|██████████| 10/10 [01:51<00:00, 11.19s/it]\n"
     ]
    },
    {
     "name": "stdout",
     "output_type": "stream",
     "text": [
      "------------------------------------------------------\n",
      "------------------------------------------------------------------\n",
      "                       CONTROLLER EPOCH: 6\n",
      "------------------------------------------------------------------\n",
      "GENERATING ARCHITECTURE SAMPLES...\n",
      "------------------------------------------------------\n",
      "Architecture:  [(512, 'relu'), (16, 'sigmoid'), (10, 'last layer')]\n"
     ]
    },
    {
     "name": "stderr",
     "output_type": "stream",
     "text": [
      "Training loss = 2.306937 val accuracy = 0.112083: 100%|██████████| 10/10 [01:54<00:00, 11.41s/it]\n"
     ]
    },
    {
     "name": "stdout",
     "output_type": "stream",
     "text": [
      "------------------------------------------------------\n",
      "Architecture:  [(64, 'tanh'), (128, 'elu'), (10, 'last layer')]\n"
     ]
    },
    {
     "name": "stderr",
     "output_type": "stream",
     "text": [
      "Training loss = 0.903188 val accuracy = 0.766667: 100%|██████████| 10/10 [01:52<00:00, 11.28s/it]\n"
     ]
    },
    {
     "name": "stdout",
     "output_type": "stream",
     "text": [
      "------------------------------------------------------\n",
      "Architecture:  [(512, 'relu'), (256, 'elu'), (10, 'last layer')]\n"
     ]
    },
    {
     "name": "stderr",
     "output_type": "stream",
     "text": [
      "Training loss = 0.445543 val accuracy = 0.909667: 100%|██████████| 10/10 [01:56<00:00, 11.61s/it]\n"
     ]
    },
    {
     "name": "stdout",
     "output_type": "stream",
     "text": [
      "------------------------------------------------------\n",
      "Architecture:  [(16, 'tanh'), (32, 'sigmoid'), (10, 'last layer')]\n"
     ]
    },
    {
     "name": "stderr",
     "output_type": "stream",
     "text": [
      "Training loss = 2.302941 val accuracy = 0.112083: 100%|██████████| 10/10 [01:52<00:00, 11.29s/it]\n"
     ]
    },
    {
     "name": "stdout",
     "output_type": "stream",
     "text": [
      "------------------------------------------------------\n",
      "Architecture:  [(8, 'sigmoid'), (32, 'relu'), (10, 'last layer')]\n"
     ]
    },
    {
     "name": "stderr",
     "output_type": "stream",
     "text": [
      "Training loss = 1.423236 val accuracy = 0.394167: 100%|██████████| 10/10 [01:52<00:00, 11.22s/it]\n"
     ]
    },
    {
     "name": "stdout",
     "output_type": "stream",
     "text": [
      "------------------------------------------------------\n",
      "Architecture:  [(64, 'sigmoid'), (16, 'sigmoid'), (10, 'last layer')]\n"
     ]
    },
    {
     "name": "stderr",
     "output_type": "stream",
     "text": [
      "Training loss = 0.535416 val accuracy = 0.850833: 100%|██████████| 10/10 [01:51<00:00, 11.17s/it]\n"
     ]
    },
    {
     "name": "stdout",
     "output_type": "stream",
     "text": [
      "------------------------------------------------------\n",
      "Architecture:  [(64, 'tanh'), (10, 'last layer')]\n"
     ]
    },
    {
     "name": "stderr",
     "output_type": "stream",
     "text": [
      "Training loss = 1.892640 val accuracy = 0.188083: 100%|██████████| 10/10 [01:47<00:00, 10.72s/it]\n"
     ]
    },
    {
     "name": "stdout",
     "output_type": "stream",
     "text": [
      "------------------------------------------------------\n",
      "Architecture:  [(32, 'sigmoid'), (512, 'relu'), (10, 'last layer')]\n"
     ]
    },
    {
     "name": "stderr",
     "output_type": "stream",
     "text": [
      "Training loss = 1.006331 val accuracy = 0.614750: 100%|██████████| 10/10 [01:52<00:00, 11.25s/it]\n"
     ]
    },
    {
     "name": "stdout",
     "output_type": "stream",
     "text": [
      "------------------------------------------------------\n",
      "Architecture:  [(16, 'tanh'), (32, 'relu'), (10, 'last layer')]\n"
     ]
    },
    {
     "name": "stderr",
     "output_type": "stream",
     "text": [
      "Training loss = 2.302623 val accuracy = 0.112083: 100%|██████████| 10/10 [01:52<00:00, 11.28s/it]\n"
     ]
    },
    {
     "name": "stdout",
     "output_type": "stream",
     "text": [
      "------------------------------------------------------\n",
      "Architecture:  [(512, 'relu'), 'dropout', (10, 'last layer')]\n"
     ]
    },
    {
     "name": "stderr",
     "output_type": "stream",
     "text": [
      "Training loss = 0.544109 val accuracy = 0.891833: 100%|██████████| 10/10 [01:50<00:00, 11.08s/it]\n"
     ]
    },
    {
     "name": "stdout",
     "output_type": "stream",
     "text": [
      "------------------------------------------------------\n",
      "------------------------------------------------------------------\n",
      "                       CONTROLLER EPOCH: 7\n",
      "------------------------------------------------------------------\n",
      "GENERATING ARCHITECTURE SAMPLES...\n",
      "------------------------------------------------------\n",
      "Architecture:  [(256, 'tanh'), (16, 'elu'), (10, 'last layer')]\n"
     ]
    },
    {
     "name": "stderr",
     "output_type": "stream",
     "text": [
      "Training loss = 1.295361 val accuracy = 0.352167: 100%|██████████| 10/10 [01:55<00:00, 11.52s/it]\n"
     ]
    },
    {
     "name": "stdout",
     "output_type": "stream",
     "text": [
      "------------------------------------------------------\n",
      "Architecture:  [(256, 'tanh'), (64, 'tanh'), (10, 'last layer')]\n"
     ]
    },
    {
     "name": "stderr",
     "output_type": "stream",
     "text": [
      "Training loss = 2.375265 val accuracy = 0.102333: 100%|██████████| 10/10 [01:53<00:00, 11.37s/it]\n"
     ]
    },
    {
     "name": "stdout",
     "output_type": "stream",
     "text": [
      "------------------------------------------------------\n",
      "Architecture:  [(512, 'relu'), (512, 'elu'), (10, 'last layer')]\n"
     ]
    },
    {
     "name": "stderr",
     "output_type": "stream",
     "text": [
      "Training loss = 0.764404 val accuracy = 0.847083: 100%|██████████| 10/10 [01:55<00:00, 11.58s/it]\n"
     ]
    },
    {
     "name": "stdout",
     "output_type": "stream",
     "text": [
      "------------------------------------------------------\n",
      "Architecture:  [(16, 'relu'), (64, 'tanh'), (10, 'last layer')]\n"
     ]
    },
    {
     "name": "stderr",
     "output_type": "stream",
     "text": [
      "Training loss = 0.505350 val accuracy = 0.858667: 100%|██████████| 10/10 [01:51<00:00, 11.11s/it]\n"
     ]
    },
    {
     "name": "stdout",
     "output_type": "stream",
     "text": [
      "------------------------------------------------------\n",
      "Architecture:  [(8, 'tanh'), (32, 'sigmoid'), (10, 'last layer')]\n"
     ]
    },
    {
     "name": "stderr",
     "output_type": "stream",
     "text": [
      "Training loss = 2.302546 val accuracy = 0.104333: 100%|██████████| 10/10 [01:51<00:00, 11.14s/it]\n"
     ]
    },
    {
     "name": "stdout",
     "output_type": "stream",
     "text": [
      "------------------------------------------------------\n",
      "Architecture:  [(16, 'elu'), (128, 'tanh'), (10, 'last layer')]\n"
     ]
    },
    {
     "name": "stderr",
     "output_type": "stream",
     "text": [
      "Training loss = 0.496851 val accuracy = 0.861583: 100%|██████████| 10/10 [01:53<00:00, 11.32s/it]\n"
     ]
    },
    {
     "name": "stdout",
     "output_type": "stream",
     "text": [
      "------------------------------------------------------\n",
      "Architecture:  [(512, 'tanh'), (128, 'sigmoid'), (10, 'last layer')]\n"
     ]
    },
    {
     "name": "stderr",
     "output_type": "stream",
     "text": [
      "Training loss = 2.351320 val accuracy = 0.099000: 100%|██████████| 10/10 [01:55<00:00, 11.59s/it]\n"
     ]
    },
    {
     "name": "stdout",
     "output_type": "stream",
     "text": [
      "------------------------------------------------------\n",
      "Architecture:  [(32, 'tanh'), (8, 'tanh'), (10, 'last layer')]\n"
     ]
    },
    {
     "name": "stderr",
     "output_type": "stream",
     "text": [
      "Training loss = 1.891688 val accuracy = 0.206667: 100%|██████████| 10/10 [01:52<00:00, 11.29s/it]\n"
     ]
    },
    {
     "name": "stdout",
     "output_type": "stream",
     "text": [
      "------------------------------------------------------\n",
      "Architecture:  [(64, 'elu'), (8, 'tanh'), (10, 'last layer')]\n"
     ]
    },
    {
     "name": "stderr",
     "output_type": "stream",
     "text": [
      "Training loss = 0.682843 val accuracy = 0.785917: 100%|██████████| 10/10 [01:52<00:00, 11.26s/it]\n"
     ]
    },
    {
     "name": "stdout",
     "output_type": "stream",
     "text": [
      "------------------------------------------------------\n",
      "Architecture:  [(16, 'sigmoid'), (512, 'relu'), (10, 'last layer')]\n"
     ]
    },
    {
     "name": "stderr",
     "output_type": "stream",
     "text": [
      "Training loss = 0.788782 val accuracy = 0.755500: 100%|██████████| 10/10 [01:51<00:00, 11.11s/it]\n"
     ]
    },
    {
     "name": "stdout",
     "output_type": "stream",
     "text": [
      "------------------------------------------------------\n",
      "------------------------------------------------------------------\n",
      "                       CONTROLLER EPOCH: 8\n",
      "------------------------------------------------------------------\n",
      "GENERATING ARCHITECTURE SAMPLES...\n",
      "------------------------------------------------------\n",
      "Architecture:  [(32, 'sigmoid'), (128, 'sigmoid'), (10, 'last layer')]\n"
     ]
    },
    {
     "name": "stderr",
     "output_type": "stream",
     "text": [
      "Training loss = 0.982819 val accuracy = 0.667917: 100%|██████████| 10/10 [01:50<00:00, 11.05s/it]\n"
     ]
    },
    {
     "name": "stdout",
     "output_type": "stream",
     "text": [
      "------------------------------------------------------\n",
      "Architecture:  [(64, 'tanh'), (64, 'tanh'), (10, 'last layer')]\n"
     ]
    },
    {
     "name": "stderr",
     "output_type": "stream",
     "text": [
      "Training loss = 2.375623 val accuracy = 0.098167: 100%|██████████| 10/10 [01:50<00:00, 11.02s/it]\n"
     ]
    },
    {
     "name": "stdout",
     "output_type": "stream",
     "text": [
      "------------------------------------------------------\n",
      "Architecture:  [(64, 'tanh'), (8, 'sigmoid'), (10, 'last layer')]\n"
     ]
    },
    {
     "name": "stderr",
     "output_type": "stream",
     "text": [
      "Training loss = 1.851282 val accuracy = 0.200667: 100%|██████████| 10/10 [01:50<00:00, 11.05s/it]\n"
     ]
    },
    {
     "name": "stdout",
     "output_type": "stream",
     "text": [
      "------------------------------------------------------\n",
      "Architecture:  [(64, 'sigmoid'), (16, 'elu'), (10, 'last layer')]\n"
     ]
    },
    {
     "name": "stderr",
     "output_type": "stream",
     "text": [
      "Training loss = 0.400541 val accuracy = 0.865333: 100%|██████████| 10/10 [01:50<00:00, 11.06s/it]\n"
     ]
    },
    {
     "name": "stdout",
     "output_type": "stream",
     "text": [
      "------------------------------------------------------\n",
      "Architecture:  [(64, 'relu'), (32, 'tanh'), (10, 'last layer')]\n"
     ]
    },
    {
     "name": "stderr",
     "output_type": "stream",
     "text": [
      "Training loss = 0.513620 val accuracy = 0.870500: 100%|██████████| 10/10 [01:50<00:00, 11.06s/it]\n"
     ]
    },
    {
     "name": "stdout",
     "output_type": "stream",
     "text": [
      "------------------------------------------------------\n",
      "Architecture:  [(8, 'tanh'), (8, 'sigmoid'), (10, 'last layer')]\n"
     ]
    },
    {
     "name": "stderr",
     "output_type": "stream",
     "text": [
      "Training loss = 2.302658 val accuracy = 0.112083: 100%|██████████| 10/10 [01:51<00:00, 11.11s/it]\n"
     ]
    },
    {
     "name": "stdout",
     "output_type": "stream",
     "text": [
      "------------------------------------------------------\n",
      "Architecture:  [(256, 'elu'), 'dropout', (10, 'last layer')]\n"
     ]
    },
    {
     "name": "stderr",
     "output_type": "stream",
     "text": [
      "Training loss = 0.736979 val accuracy = 0.920000: 100%|██████████| 10/10 [01:49<00:00, 10.94s/it]\n"
     ]
    },
    {
     "name": "stdout",
     "output_type": "stream",
     "text": [
      "------------------------------------------------------\n",
      "Architecture:  [(64, 'tanh'), (128, 'sigmoid'), (10, 'last layer')]\n"
     ]
    },
    {
     "name": "stderr",
     "output_type": "stream",
     "text": [
      "Training loss = 1.862689 val accuracy = 0.212333: 100%|██████████| 10/10 [01:50<00:00, 11.08s/it]\n"
     ]
    },
    {
     "name": "stdout",
     "output_type": "stream",
     "text": [
      "------------------------------------------------------\n",
      "Architecture:  [(8, 'tanh'), 'dropout', (10, 'last layer')]\n"
     ]
    },
    {
     "name": "stderr",
     "output_type": "stream",
     "text": [
      "Training loss = 2.314884 val accuracy = 0.112083: 100%|██████████| 10/10 [01:46<00:00, 10.68s/it]\n"
     ]
    },
    {
     "name": "stdout",
     "output_type": "stream",
     "text": [
      "------------------------------------------------------\n",
      "Architecture:  [(256, 'tanh'), (512, 'tanh'), (10, 'last layer')]\n"
     ]
    },
    {
     "name": "stderr",
     "output_type": "stream",
     "text": [
      "Training loss = 2.775315 val accuracy = 0.104333: 100%|██████████| 10/10 [01:55<00:00, 11.52s/it]\n"
     ]
    },
    {
     "name": "stdout",
     "output_type": "stream",
     "text": [
      "------------------------------------------------------\n",
      "------------------------------------------------------------------\n",
      "                       CONTROLLER EPOCH: 9\n",
      "------------------------------------------------------------------\n",
      "GENERATING ARCHITECTURE SAMPLES...\n",
      "------------------------------------------------------\n",
      "Architecture:  [(8, 'sigmoid'), 'dropout', (10, 'last layer')]\n"
     ]
    },
    {
     "name": "stderr",
     "output_type": "stream",
     "text": [
      "Training loss = 1.578403 val accuracy = 0.535500: 100%|██████████| 10/10 [01:47<00:00, 10.72s/it]\n"
     ]
    },
    {
     "name": "stdout",
     "output_type": "stream",
     "text": [
      "------------------------------------------------------\n",
      "Architecture:  [(256, 'tanh'), (16, 'tanh'), (10, 'last layer')]\n"
     ]
    },
    {
     "name": "stderr",
     "output_type": "stream",
     "text": [
      "Training loss = 2.321095 val accuracy = 0.098167: 100%|██████████| 10/10 [01:53<00:00, 11.39s/it]\n"
     ]
    },
    {
     "name": "stdout",
     "output_type": "stream",
     "text": [
      "------------------------------------------------------\n",
      "Architecture:  [(32, 'sigmoid'), (16, 'relu'), (10, 'last layer')]\n"
     ]
    },
    {
     "name": "stderr",
     "output_type": "stream",
     "text": [
      "Training loss = 0.611409 val accuracy = 0.714500: 100%|██████████| 10/10 [01:52<00:00, 11.21s/it]\n"
     ]
    },
    {
     "name": "stdout",
     "output_type": "stream",
     "text": [
      "------------------------------------------------------\n",
      "Architecture:  [(128, 'sigmoid'), (128, 'tanh'), (10, 'last layer')]\n"
     ]
    },
    {
     "name": "stderr",
     "output_type": "stream",
     "text": [
      "Training loss = 0.743314 val accuracy = 0.728500: 100%|██████████| 10/10 [01:52<00:00, 11.23s/it]\n"
     ]
    },
    {
     "name": "stdout",
     "output_type": "stream",
     "text": [
      "------------------------------------------------------\n",
      "Architecture:  [(8, 'relu'), (16, 'elu'), (10, 'last layer')]\n"
     ]
    },
    {
     "name": "stderr",
     "output_type": "stream",
     "text": [
      "Training loss = 0.961843 val accuracy = 0.677583: 100%|██████████| 10/10 [01:52<00:00, 11.23s/it]\n"
     ]
    },
    {
     "name": "stdout",
     "output_type": "stream",
     "text": [
      "------------------------------------------------------\n",
      "Architecture:  [(32, 'tanh'), 'dropout', (10, 'last layer')]\n"
     ]
    },
    {
     "name": "stderr",
     "output_type": "stream",
     "text": [
      "Training loss = 1.697633 val accuracy = 0.376417: 100%|██████████| 10/10 [01:48<00:00, 10.82s/it]\n"
     ]
    },
    {
     "name": "stdout",
     "output_type": "stream",
     "text": [
      "------------------------------------------------------\n",
      "Architecture:  [(8, 'relu'), (8, 'tanh'), (10, 'last layer')]\n"
     ]
    },
    {
     "name": "stderr",
     "output_type": "stream",
     "text": [
      "Training loss = 0.666858 val accuracy = 0.806833: 100%|██████████| 10/10 [01:51<00:00, 11.19s/it]\n"
     ]
    },
    {
     "name": "stdout",
     "output_type": "stream",
     "text": [
      "------------------------------------------------------\n",
      "Architecture:  [(256, 'elu'), (16, 'elu'), (10, 'last layer')]\n"
     ]
    },
    {
     "name": "stderr",
     "output_type": "stream",
     "text": [
      "Training loss = 0.264123 val accuracy = 0.914167: 100%|██████████| 10/10 [01:53<00:00, 11.30s/it]\n"
     ]
    },
    {
     "name": "stdout",
     "output_type": "stream",
     "text": [
      "------------------------------------------------------\n",
      "Architecture:  [(32, 'tanh'), (128, 'tanh'), (10, 'last layer')]\n"
     ]
    },
    {
     "name": "stderr",
     "output_type": "stream",
     "text": [
      "Training loss = 2.362405 val accuracy = 0.098167: 100%|██████████| 10/10 [01:50<00:00, 11.08s/it]\n"
     ]
    },
    {
     "name": "stdout",
     "output_type": "stream",
     "text": [
      "------------------------------------------------------\n",
      "Architecture:  [(16, 'relu'), (256, 'tanh'), (10, 'last layer')]\n"
     ]
    },
    {
     "name": "stderr",
     "output_type": "stream",
     "text": [
      "Training loss = 0.651126 val accuracy = 0.733750: 100%|██████████| 10/10 [01:52<00:00, 11.22s/it]\n"
     ]
    },
    {
     "name": "stdout",
     "output_type": "stream",
     "text": [
      "------------------------------------------------------\n",
      "Running script...\n",
      "------------------------------------------------------------------\n",
      "                       CONTROLLER EPOCH: 0\n",
      "------------------------------------------------------------------\n",
      "GENERATING ARCHITECTURE SAMPLES...\n",
      "------------------------------------------------------\n",
      "Architecture:  [(16, 'relu'), (8, 'tanh'), (10, 'last layer')]\n"
     ]
    },
    {
     "name": "stderr",
     "output_type": "stream",
     "text": [
      "Training loss = 0.852049 val accuracy = 0.726583: 100%|██████████| 10/10 [01:52<00:00, 11.22s/it]\n"
     ]
    },
    {
     "name": "stdout",
     "output_type": "stream",
     "text": [
      "------------------------------------------------------\n",
      "Architecture:  [(512, 'tanh'), (512, 'elu'), (10, 'last layer')]\n"
     ]
    },
    {
     "name": "stderr",
     "output_type": "stream",
     "text": [
      "Training loss = 2.749099 val accuracy = 0.109583: 100%|██████████| 10/10 [01:55<00:00, 11.51s/it]\n"
     ]
    },
    {
     "name": "stdout",
     "output_type": "stream",
     "text": [
      "------------------------------------------------------\n",
      "Architecture:  [(512, 'relu'), (16, 'tanh'), (10, 'last layer')]\n"
     ]
    },
    {
     "name": "stderr",
     "output_type": "stream",
     "text": [
      "Training loss = 2.322494 val accuracy = 0.109583: 100%|██████████| 10/10 [01:53<00:00, 11.32s/it]\n"
     ]
    },
    {
     "name": "stdout",
     "output_type": "stream",
     "text": [
      "------------------------------------------------------\n",
      "Architecture:  [(128, 'tanh'), (256, 'relu'), (10, 'last layer')]\n"
     ]
    },
    {
     "name": "stderr",
     "output_type": "stream",
     "text": [
      "Training loss = 1.903489 val accuracy = 0.198250: 100%|██████████| 10/10 [01:51<00:00, 11.18s/it]\n"
     ]
    },
    {
     "name": "stdout",
     "output_type": "stream",
     "text": [
      "------------------------------------------------------\n",
      "Architecture:  [(16, 'elu'), (8, 'sigmoid'), (10, 'last layer')]\n"
     ]
    },
    {
     "name": "stderr",
     "output_type": "stream",
     "text": [
      "Training loss = 0.482282 val accuracy = 0.867500: 100%|██████████| 10/10 [01:50<00:00, 11.09s/it]\n"
     ]
    },
    {
     "name": "stdout",
     "output_type": "stream",
     "text": [
      "------------------------------------------------------\n",
      "Architecture:  [(32, 'relu'), (128, 'sigmoid'), (10, 'last layer')]\n"
     ]
    },
    {
     "name": "stderr",
     "output_type": "stream",
     "text": [
      "Training loss = 0.384077 val accuracy = 0.890167: 100%|██████████| 10/10 [01:51<00:00, 11.14s/it]\n"
     ]
    },
    {
     "name": "stdout",
     "output_type": "stream",
     "text": [
      "------------------------------------------------------\n",
      "Architecture:  [(64, 'relu'), (64, 'sigmoid'), (10, 'last layer')]\n"
     ]
    },
    {
     "name": "stderr",
     "output_type": "stream",
     "text": [
      "Training loss = 0.342011 val accuracy = 0.896083: 100%|██████████| 10/10 [01:52<00:00, 11.20s/it]\n"
     ]
    },
    {
     "name": "stdout",
     "output_type": "stream",
     "text": [
      "------------------------------------------------------\n",
      "Architecture:  [(512, 'elu'), (16, 'relu'), (10, 'last layer')]\n"
     ]
    },
    {
     "name": "stderr",
     "output_type": "stream",
     "text": [
      "Training loss = 0.485772 val accuracy = 0.884667: 100%|██████████| 10/10 [01:53<00:00, 11.36s/it]\n"
     ]
    },
    {
     "name": "stdout",
     "output_type": "stream",
     "text": [
      "------------------------------------------------------\n",
      "Architecture:  [(32, 'sigmoid'), (64, 'relu'), (10, 'last layer')]\n"
     ]
    },
    {
     "name": "stderr",
     "output_type": "stream",
     "text": [
      "Training loss = 0.536814 val accuracy = 0.802667: 100%|██████████| 10/10 [01:51<00:00, 11.19s/it]\n"
     ]
    },
    {
     "name": "stdout",
     "output_type": "stream",
     "text": [
      "------------------------------------------------------\n",
      "Architecture:  [(32, 'relu'), (512, 'elu'), (10, 'last layer')]\n"
     ]
    },
    {
     "name": "stderr",
     "output_type": "stream",
     "text": [
      "Training loss = 2.310298 val accuracy = 0.109583: 100%|██████████| 10/10 [01:51<00:00, 11.20s/it]\n"
     ]
    },
    {
     "name": "stdout",
     "output_type": "stream",
     "text": [
      "------------------------------------------------------\n",
      "------------------------------------------------------------------\n",
      "                       CONTROLLER EPOCH: 1\n",
      "------------------------------------------------------------------\n",
      "GENERATING ARCHITECTURE SAMPLES...\n",
      "------------------------------------------------------\n",
      "Architecture:  [(64, 'sigmoid'), (128, 'sigmoid'), (10, 'last layer')]\n"
     ]
    },
    {
     "name": "stderr",
     "output_type": "stream",
     "text": [
      "Training loss = 0.652117 val accuracy = 0.835083: 100%|██████████| 10/10 [01:51<00:00, 11.13s/it]\n"
     ]
    },
    {
     "name": "stdout",
     "output_type": "stream",
     "text": [
      "------------------------------------------------------\n",
      "Architecture:  [(16, 'elu'), (32, 'relu'), (10, 'last layer')]\n"
     ]
    },
    {
     "name": "stderr",
     "output_type": "stream",
     "text": [
      "Training loss = 0.644297 val accuracy = 0.787750: 100%|██████████| 10/10 [01:51<00:00, 11.13s/it]\n"
     ]
    },
    {
     "name": "stdout",
     "output_type": "stream",
     "text": [
      "------------------------------------------------------\n",
      "Architecture:  [(256, 'relu'), (32, 'sigmoid'), (10, 'last layer')]\n"
     ]
    },
    {
     "name": "stderr",
     "output_type": "stream",
     "text": [
      "Training loss = 0.733733 val accuracy = 0.762333: 100%|██████████| 10/10 [01:53<00:00, 11.37s/it]\n"
     ]
    },
    {
     "name": "stdout",
     "output_type": "stream",
     "text": [
      "------------------------------------------------------\n",
      "Architecture:  [(64, 'relu'), (512, 'sigmoid'), (10, 'last layer')]\n"
     ]
    },
    {
     "name": "stderr",
     "output_type": "stream",
     "text": [
      "Training loss = 0.367441 val accuracy = 0.899667: 100%|██████████| 10/10 [01:51<00:00, 11.19s/it]\n"
     ]
    },
    {
     "name": "stdout",
     "output_type": "stream",
     "text": [
      "------------------------------------------------------\n",
      "Architecture:  [(256, 'sigmoid'), (128, 'tanh'), (10, 'last layer')]\n"
     ]
    },
    {
     "name": "stderr",
     "output_type": "stream",
     "text": [
      "Training loss = 0.722375 val accuracy = 0.824500: 100%|██████████| 10/10 [01:52<00:00, 11.30s/it]\n"
     ]
    },
    {
     "name": "stdout",
     "output_type": "stream",
     "text": [
      "------------------------------------------------------\n",
      "Architecture:  [(64, 'tanh'), (512, 'elu'), (10, 'last layer')]\n"
     ]
    },
    {
     "name": "stderr",
     "output_type": "stream",
     "text": [
      "Training loss = 2.750121 val accuracy = 0.098917: 100%|██████████| 10/10 [01:52<00:00, 11.24s/it]\n"
     ]
    },
    {
     "name": "stdout",
     "output_type": "stream",
     "text": [
      "------------------------------------------------------\n",
      "Architecture:  [(256, 'elu'), (16, 'tanh'), (10, 'last layer')]\n"
     ]
    },
    {
     "name": "stderr",
     "output_type": "stream",
     "text": [
      "Training loss = 2.322845 val accuracy = 0.102250: 100%|██████████| 10/10 [01:53<00:00, 11.38s/it]\n"
     ]
    },
    {
     "name": "stdout",
     "output_type": "stream",
     "text": [
      "------------------------------------------------------\n",
      "Architecture:  [(128, 'sigmoid'), (256, 'sigmoid'), (10, 'last layer')]\n"
     ]
    },
    {
     "name": "stderr",
     "output_type": "stream",
     "text": [
      "Training loss = 0.408331 val accuracy = 0.894167: 100%|██████████| 10/10 [01:52<00:00, 11.22s/it]\n"
     ]
    },
    {
     "name": "stdout",
     "output_type": "stream",
     "text": [
      "------------------------------------------------------\n",
      "Architecture:  [(256, 'tanh'), (256, 'tanh'), (10, 'last layer')]\n"
     ]
    },
    {
     "name": "stderr",
     "output_type": "stream",
     "text": [
      "Training loss = 2.542377 val accuracy = 0.093333: 100%|██████████| 10/10 [01:54<00:00, 11.47s/it]\n"
     ]
    },
    {
     "name": "stdout",
     "output_type": "stream",
     "text": [
      "------------------------------------------------------\n",
      "Architecture:  [(512, 'relu'), (32, 'sigmoid'), (10, 'last layer')]\n"
     ]
    },
    {
     "name": "stderr",
     "output_type": "stream",
     "text": [
      "Training loss = 2.310808 val accuracy = 0.109583: 100%|██████████| 10/10 [01:53<00:00, 11.37s/it]\n"
     ]
    },
    {
     "name": "stdout",
     "output_type": "stream",
     "text": [
      "------------------------------------------------------\n",
      "------------------------------------------------------------------\n",
      "                       CONTROLLER EPOCH: 2\n",
      "------------------------------------------------------------------\n",
      "GENERATING ARCHITECTURE SAMPLES...\n",
      "------------------------------------------------------\n",
      "Architecture:  [(512, 'tanh'), (64, 'elu'), (10, 'last layer')]\n"
     ]
    },
    {
     "name": "stderr",
     "output_type": "stream",
     "text": [
      "Training loss = 1.580631 val accuracy = 0.446917: 100%|██████████| 10/10 [01:53<00:00, 11.37s/it]\n"
     ]
    },
    {
     "name": "stdout",
     "output_type": "stream",
     "text": [
      "------------------------------------------------------\n",
      "Architecture:  [(32, 'relu'), (128, 'relu'), (10, 'last layer')]\n"
     ]
    },
    {
     "name": "stderr",
     "output_type": "stream",
     "text": [
      "Training loss = 0.657762 val accuracy = 0.774417: 100%|██████████| 10/10 [01:52<00:00, 11.22s/it]\n"
     ]
    },
    {
     "name": "stdout",
     "output_type": "stream",
     "text": [
      "------------------------------------------------------\n",
      "Architecture:  [(128, 'sigmoid'), (512, 'elu'), (10, 'last layer')]\n"
     ]
    },
    {
     "name": "stderr",
     "output_type": "stream",
     "text": [
      "Training loss = 0.471566 val accuracy = 0.868667: 100%|██████████| 10/10 [01:54<00:00, 11.49s/it]\n"
     ]
    },
    {
     "name": "stdout",
     "output_type": "stream",
     "text": [
      "------------------------------------------------------\n",
      "Architecture:  [(512, 'relu'), (256, 'sigmoid'), (10, 'last layer')]\n"
     ]
    },
    {
     "name": "stderr",
     "output_type": "stream",
     "text": [
      "Training loss = 2.383738 val accuracy = 0.093583: 100%|██████████| 10/10 [01:55<00:00, 11.56s/it]\n"
     ]
    },
    {
     "name": "stdout",
     "output_type": "stream",
     "text": [
      "------------------------------------------------------\n",
      "Architecture:  [(128, 'tanh'), (512, 'relu'), (10, 'last layer')]\n"
     ]
    },
    {
     "name": "stderr",
     "output_type": "stream",
     "text": [
      "Training loss = 2.302397 val accuracy = 0.109583: 100%|██████████| 10/10 [01:55<00:00, 11.57s/it]\n"
     ]
    },
    {
     "name": "stdout",
     "output_type": "stream",
     "text": [
      "------------------------------------------------------\n",
      "Architecture:  [(128, 'relu'), 'dropout', (10, 'last layer')]\n"
     ]
    },
    {
     "name": "stderr",
     "output_type": "stream",
     "text": [
      "Training loss = 0.556151 val accuracy = 0.902833: 100%|██████████| 10/10 [01:50<00:00, 11.02s/it]\n"
     ]
    },
    {
     "name": "stdout",
     "output_type": "stream",
     "text": [
      "------------------------------------------------------\n",
      "Architecture:  [(32, 'relu'), (64, 'tanh'), (10, 'last layer')]\n"
     ]
    },
    {
     "name": "stderr",
     "output_type": "stream",
     "text": [
      "Training loss = 0.531675 val accuracy = 0.846667: 100%|██████████| 10/10 [01:52<00:00, 11.22s/it]\n"
     ]
    },
    {
     "name": "stdout",
     "output_type": "stream",
     "text": [
      "------------------------------------------------------\n",
      "Architecture:  [(32, 'tanh'), (8, 'elu'), (10, 'last layer')]\n"
     ]
    },
    {
     "name": "stderr",
     "output_type": "stream",
     "text": [
      "Training loss = 1.897041 val accuracy = 0.205333: 100%|██████████| 10/10 [01:52<00:00, 11.20s/it]\n"
     ]
    },
    {
     "name": "stdout",
     "output_type": "stream",
     "text": [
      "------------------------------------------------------\n",
      "Architecture:  [(32, 'elu'), (10, 'last layer')]\n"
     ]
    },
    {
     "name": "stderr",
     "output_type": "stream",
     "text": [
      "Training loss = 0.370112 val accuracy = 0.878083: 100%|██████████| 10/10 [01:47<00:00, 10.74s/it]\n"
     ]
    },
    {
     "name": "stdout",
     "output_type": "stream",
     "text": [
      "------------------------------------------------------\n",
      "Architecture:  [(256, 'tanh'), (10, 'last layer')]\n"
     ]
    },
    {
     "name": "stderr",
     "output_type": "stream",
     "text": [
      "Training loss = 0.717586 val accuracy = 0.827500: 100%|██████████| 10/10 [01:49<00:00, 10.97s/it]\n"
     ]
    },
    {
     "name": "stdout",
     "output_type": "stream",
     "text": [
      "------------------------------------------------------\n",
      "------------------------------------------------------------------\n",
      "                       CONTROLLER EPOCH: 3\n",
      "------------------------------------------------------------------\n",
      "GENERATING ARCHITECTURE SAMPLES...\n",
      "------------------------------------------------------\n",
      "Architecture:  [(512, 'elu'), (512, 'relu'), (10, 'last layer')]\n"
     ]
    },
    {
     "name": "stderr",
     "output_type": "stream",
     "text": [
      "Training loss = 0.286271 val accuracy = 0.900083: 100%|██████████| 10/10 [01:55<00:00, 11.60s/it]\n"
     ]
    },
    {
     "name": "stdout",
     "output_type": "stream",
     "text": [
      "------------------------------------------------------\n",
      "Architecture:  [(8, 'relu'), (8, 'relu'), (10, 'last layer')]\n"
     ]
    },
    {
     "name": "stderr",
     "output_type": "stream",
     "text": [
      "Training loss = 0.942177 val accuracy = 0.663750: 100%|██████████| 10/10 [01:51<00:00, 11.14s/it]\n"
     ]
    },
    {
     "name": "stdout",
     "output_type": "stream",
     "text": [
      "------------------------------------------------------\n",
      "Architecture:  [(512, 'tanh'), (16, 'tanh'), (10, 'last layer')]\n"
     ]
    },
    {
     "name": "stderr",
     "output_type": "stream",
     "text": [
      "Training loss = 2.322547 val accuracy = 0.109583: 100%|██████████| 10/10 [01:53<00:00, 11.33s/it]\n"
     ]
    },
    {
     "name": "stdout",
     "output_type": "stream",
     "text": [
      "------------------------------------------------------\n",
      "Architecture:  [(256, 'tanh'), (64, 'elu'), (10, 'last layer')]\n"
     ]
    },
    {
     "name": "stderr",
     "output_type": "stream",
     "text": [
      "Training loss = 2.371485 val accuracy = 0.098417: 100%|██████████| 10/10 [01:52<00:00, 11.21s/it]\n"
     ]
    },
    {
     "name": "stdout",
     "output_type": "stream",
     "text": [
      "------------------------------------------------------\n",
      "Architecture:  [(512, 'relu'), (256, 'elu'), (10, 'last layer')]\n"
     ]
    },
    {
     "name": "stderr",
     "output_type": "stream",
     "text": [
      "Training loss = 0.485718 val accuracy = 0.896000: 100%|██████████| 10/10 [01:54<00:00, 11.41s/it]\n"
     ]
    },
    {
     "name": "stdout",
     "output_type": "stream",
     "text": [
      "------------------------------------------------------\n",
      "Architecture:  [(128, 'tanh'), (64, 'sigmoid'), (10, 'last layer')]\n"
     ]
    },
    {
     "name": "stderr",
     "output_type": "stream",
     "text": [
      "Training loss = 1.339162 val accuracy = 0.533667: 100%|██████████| 10/10 [01:51<00:00, 11.14s/it]\n"
     ]
    },
    {
     "name": "stdout",
     "output_type": "stream",
     "text": [
      "------------------------------------------------------\n",
      "Architecture:  [(512, 'tanh'), (8, 'relu'), (10, 'last layer')]\n"
     ]
    },
    {
     "name": "stderr",
     "output_type": "stream",
     "text": [
      "Training loss = 2.302165 val accuracy = 0.109583: 100%|██████████| 10/10 [01:52<00:00, 11.26s/it]\n"
     ]
    },
    {
     "name": "stdout",
     "output_type": "stream",
     "text": [
      "------------------------------------------------------\n",
      "Architecture:  [(512, 'elu'), (32, 'tanh'), (10, 'last layer')]\n"
     ]
    },
    {
     "name": "stderr",
     "output_type": "stream",
     "text": [
      "Training loss = 2.341159 val accuracy = 0.097500: 100%|██████████| 10/10 [01:54<00:00, 11.45s/it]\n"
     ]
    },
    {
     "name": "stdout",
     "output_type": "stream",
     "text": [
      "------------------------------------------------------\n",
      "Architecture:  [(8, 'elu'), (512, 'tanh'), (10, 'last layer')]\n"
     ]
    },
    {
     "name": "stderr",
     "output_type": "stream",
     "text": [
      "Training loss = 0.907945 val accuracy = 0.806417: 100%|██████████| 10/10 [01:52<00:00, 11.25s/it]\n"
     ]
    },
    {
     "name": "stdout",
     "output_type": "stream",
     "text": [
      "------------------------------------------------------\n",
      "Architecture:  [(256, 'tanh'), 'dropout', (10, 'last layer')]\n"
     ]
    },
    {
     "name": "stderr",
     "output_type": "stream",
     "text": [
      "Training loss = 1.330215 val accuracy = 0.711667: 100%|██████████| 10/10 [01:51<00:00, 11.16s/it]\n"
     ]
    },
    {
     "name": "stdout",
     "output_type": "stream",
     "text": [
      "------------------------------------------------------\n",
      "------------------------------------------------------------------\n",
      "                       CONTROLLER EPOCH: 4\n",
      "------------------------------------------------------------------\n",
      "GENERATING ARCHITECTURE SAMPLES...\n",
      "------------------------------------------------------\n",
      "Architecture:  [(64, 'tanh'), (64, 'elu'), (10, 'last layer')]\n"
     ]
    },
    {
     "name": "stderr",
     "output_type": "stream",
     "text": [
      "Training loss = 1.553181 val accuracy = 0.353583: 100%|██████████| 10/10 [01:53<00:00, 11.34s/it]\n"
     ]
    },
    {
     "name": "stdout",
     "output_type": "stream",
     "text": [
      "------------------------------------------------------\n",
      "Architecture:  [(256, 'sigmoid'), (64, 'elu'), (10, 'last layer')]\n"
     ]
    },
    {
     "name": "stderr",
     "output_type": "stream",
     "text": [
      "Training loss = 0.440343 val accuracy = 0.865417: 100%|██████████| 10/10 [01:53<00:00, 11.35s/it]\n"
     ]
    },
    {
     "name": "stdout",
     "output_type": "stream",
     "text": [
      "------------------------------------------------------\n",
      "Architecture:  [(16, 'tanh'), (64, 'tanh'), (10, 'last layer')]\n"
     ]
    },
    {
     "name": "stderr",
     "output_type": "stream",
     "text": [
      "Training loss = 2.317415 val accuracy = 0.098250: 100%|██████████| 10/10 [01:52<00:00, 11.29s/it]\n"
     ]
    },
    {
     "name": "stdout",
     "output_type": "stream",
     "text": [
      "------------------------------------------------------\n",
      "Architecture:  [(8, 'tanh'), (10, 'last layer')]\n"
     ]
    },
    {
     "name": "stderr",
     "output_type": "stream",
     "text": [
      "Training loss = 2.312101 val accuracy = 0.097500: 100%|██████████| 10/10 [01:47<00:00, 10.73s/it]\n"
     ]
    },
    {
     "name": "stdout",
     "output_type": "stream",
     "text": [
      "------------------------------------------------------\n",
      "Architecture:  [(64, 'relu'), (256, 'elu'), (10, 'last layer')]\n"
     ]
    },
    {
     "name": "stderr",
     "output_type": "stream",
     "text": [
      "Training loss = 0.501883 val accuracy = 0.902833: 100%|██████████| 10/10 [01:52<00:00, 11.28s/it]\n"
     ]
    },
    {
     "name": "stdout",
     "output_type": "stream",
     "text": [
      "------------------------------------------------------\n",
      "Architecture:  [(512, 'relu'), (512, 'tanh'), (10, 'last layer')]\n"
     ]
    },
    {
     "name": "stderr",
     "output_type": "stream",
     "text": [
      "Training loss = 2.257573 val accuracy = 0.332500: 100%|██████████| 10/10 [01:56<00:00, 11.61s/it]\n"
     ]
    },
    {
     "name": "stdout",
     "output_type": "stream",
     "text": [
      "------------------------------------------------------\n",
      "Architecture:  [(16, 'sigmoid'), (16, 'tanh'), (10, 'last layer')]\n"
     ]
    },
    {
     "name": "stderr",
     "output_type": "stream",
     "text": [
      "Training loss = 0.870323 val accuracy = 0.692083: 100%|██████████| 10/10 [01:52<00:00, 11.21s/it]\n"
     ]
    },
    {
     "name": "stdout",
     "output_type": "stream",
     "text": [
      "------------------------------------------------------\n",
      "Architecture:  [(512, 'sigmoid'), (8, 'elu'), (10, 'last layer')]\n"
     ]
    },
    {
     "name": "stderr",
     "output_type": "stream",
     "text": [
      "Training loss = 0.715480 val accuracy = 0.809667: 100%|██████████| 10/10 [01:53<00:00, 11.35s/it]\n"
     ]
    },
    {
     "name": "stdout",
     "output_type": "stream",
     "text": [
      "------------------------------------------------------\n",
      "Architecture:  [(512, 'tanh'), (32, 'sigmoid'), (10, 'last layer')]\n"
     ]
    },
    {
     "name": "stderr",
     "output_type": "stream",
     "text": [
      "Training loss = 2.313163 val accuracy = 0.102250: 100%|██████████| 10/10 [01:54<00:00, 11.42s/it]\n"
     ]
    },
    {
     "name": "stdout",
     "output_type": "stream",
     "text": [
      "------------------------------------------------------\n",
      "Architecture:  [(512, 'relu'), (8, 'sigmoid'), (10, 'last layer')]\n"
     ]
    },
    {
     "name": "stderr",
     "output_type": "stream",
     "text": [
      "Training loss = 2.306059 val accuracy = 0.093333: 100%|██████████| 10/10 [01:53<00:00, 11.38s/it]\n"
     ]
    },
    {
     "name": "stdout",
     "output_type": "stream",
     "text": [
      "------------------------------------------------------\n",
      "------------------------------------------------------------------\n",
      "                       CONTROLLER EPOCH: 5\n",
      "------------------------------------------------------------------\n",
      "GENERATING ARCHITECTURE SAMPLES...\n",
      "------------------------------------------------------\n",
      "Architecture:  [(16, 'tanh'), (32, 'tanh'), (10, 'last layer')]\n"
     ]
    },
    {
     "name": "stderr",
     "output_type": "stream",
     "text": [
      "Training loss = 1.903257 val accuracy = 0.208250: 100%|██████████| 10/10 [01:51<00:00, 11.18s/it]\n"
     ]
    },
    {
     "name": "stdout",
     "output_type": "stream",
     "text": [
      "------------------------------------------------------\n",
      "Architecture:  [(512, 'relu'), (512, 'relu'), (10, 'last layer')]\n"
     ]
    },
    {
     "name": "stderr",
     "output_type": "stream",
     "text": [
      "Training loss = 0.301681 val accuracy = 0.920667: 100%|██████████| 10/10 [01:55<00:00, 11.55s/it]\n"
     ]
    },
    {
     "name": "stdout",
     "output_type": "stream",
     "text": [
      "------------------------------------------------------\n",
      "Architecture:  [(512, 'relu'), (64, 'tanh'), (10, 'last layer')]\n"
     ]
    },
    {
     "name": "stderr",
     "output_type": "stream",
     "text": [
      "Training loss = 2.373376 val accuracy = 0.093583: 100%|██████████| 10/10 [01:54<00:00, 11.41s/it]\n"
     ]
    },
    {
     "name": "stdout",
     "output_type": "stream",
     "text": [
      "------------------------------------------------------\n",
      "Architecture:  [(8, 'tanh'), (512, 'tanh'), (10, 'last layer')]\n"
     ]
    },
    {
     "name": "stderr",
     "output_type": "stream",
     "text": [
      "Training loss = 2.341480 val accuracy = 0.108917: 100%|██████████| 10/10 [01:52<00:00, 11.23s/it]\n"
     ]
    },
    {
     "name": "stdout",
     "output_type": "stream",
     "text": [
      "------------------------------------------------------\n",
      "Architecture:  [(512, 'elu'), (64, 'elu'), (10, 'last layer')]\n"
     ]
    },
    {
     "name": "stderr",
     "output_type": "stream",
     "text": [
      "Training loss = 0.274146 val accuracy = 0.937250: 100%|██████████| 10/10 [01:54<00:00, 11.42s/it]\n"
     ]
    },
    {
     "name": "stdout",
     "output_type": "stream",
     "text": [
      "------------------------------------------------------\n",
      "Architecture:  [(512, 'tanh'), (512, 'tanh'), (10, 'last layer')]\n"
     ]
    },
    {
     "name": "stderr",
     "output_type": "stream",
     "text": [
      "Training loss = 2.784709 val accuracy = 0.097500: 100%|██████████| 10/10 [01:55<00:00, 11.56s/it]\n"
     ]
    },
    {
     "name": "stdout",
     "output_type": "stream",
     "text": [
      "------------------------------------------------------\n",
      "Architecture:  [(64, 'tanh'), (512, 'relu'), (10, 'last layer')]\n"
     ]
    },
    {
     "name": "stderr",
     "output_type": "stream",
     "text": [
      "Training loss = 1.918784 val accuracy = 0.174917: 100%|██████████| 10/10 [01:52<00:00, 11.26s/it]\n"
     ]
    },
    {
     "name": "stdout",
     "output_type": "stream",
     "text": [
      "------------------------------------------------------\n",
      "Architecture:  [(128, 'elu'), (8, 'elu'), (10, 'last layer')]\n"
     ]
    },
    {
     "name": "stderr",
     "output_type": "stream",
     "text": [
      "Training loss = 0.289588 val accuracy = 0.915417: 100%|██████████| 10/10 [01:52<00:00, 11.29s/it]\n"
     ]
    },
    {
     "name": "stdout",
     "output_type": "stream",
     "text": [
      "------------------------------------------------------\n",
      "Architecture:  [(256, 'tanh'), (128, 'elu'), (10, 'last layer')]\n"
     ]
    },
    {
     "name": "stderr",
     "output_type": "stream",
     "text": [
      "Training loss = 1.089428 val accuracy = 0.595917: 100%|██████████| 10/10 [01:53<00:00, 11.38s/it]\n"
     ]
    },
    {
     "name": "stdout",
     "output_type": "stream",
     "text": [
      "------------------------------------------------------\n",
      "Architecture:  [(128, 'tanh'), (256, 'tanh'), (10, 'last layer')]\n"
     ]
    },
    {
     "name": "stderr",
     "output_type": "stream",
     "text": [
      "Training loss = 1.819118 val accuracy = 0.333167: 100%|██████████| 10/10 [01:52<00:00, 11.29s/it]\n"
     ]
    },
    {
     "name": "stdout",
     "output_type": "stream",
     "text": [
      "------------------------------------------------------\n",
      "------------------------------------------------------------------\n",
      "                       CONTROLLER EPOCH: 6\n",
      "------------------------------------------------------------------\n",
      "GENERATING ARCHITECTURE SAMPLES...\n",
      "------------------------------------------------------\n",
      "Architecture:  [(256, 'sigmoid'), 'dropout', (10, 'last layer')]\n"
     ]
    },
    {
     "name": "stderr",
     "output_type": "stream",
     "text": [
      "Training loss = 0.505282 val accuracy = 0.899000: 100%|██████████| 10/10 [01:49<00:00, 10.98s/it]\n"
     ]
    },
    {
     "name": "stdout",
     "output_type": "stream",
     "text": [
      "------------------------------------------------------\n",
      "Architecture:  [(512, 'tanh'), (256, 'relu'), (10, 'last layer')]\n"
     ]
    },
    {
     "name": "stderr",
     "output_type": "stream",
     "text": [
      "Training loss = 2.302432 val accuracy = 0.109583: 100%|██████████| 10/10 [01:55<00:00, 11.57s/it]\n"
     ]
    },
    {
     "name": "stdout",
     "output_type": "stream",
     "text": [
      "------------------------------------------------------\n",
      "Architecture:  [(32, 'tanh'), (512, 'relu'), (10, 'last layer')]\n"
     ]
    },
    {
     "name": "stderr",
     "output_type": "stream",
     "text": [
      "Training loss = 2.302480 val accuracy = 0.109583: 100%|██████████| 10/10 [01:52<00:00, 11.24s/it]\n"
     ]
    },
    {
     "name": "stdout",
     "output_type": "stream",
     "text": [
      "------------------------------------------------------\n",
      "Architecture:  [(16, 'tanh'), (512, 'relu'), (10, 'last layer')]\n"
     ]
    },
    {
     "name": "stderr",
     "output_type": "stream",
     "text": [
      "Training loss = 1.849979 val accuracy = 0.205583: 100%|██████████| 10/10 [01:52<00:00, 11.21s/it]\n"
     ]
    },
    {
     "name": "stdout",
     "output_type": "stream",
     "text": [
      "------------------------------------------------------\n",
      "Architecture:  [(512, 'tanh'), (64, 'relu'), (10, 'last layer')]\n"
     ]
    },
    {
     "name": "stderr",
     "output_type": "stream",
     "text": [
      "Training loss = 2.302215 val accuracy = 0.102250: 100%|██████████| 10/10 [01:55<00:00, 11.51s/it]\n"
     ]
    },
    {
     "name": "stdout",
     "output_type": "stream",
     "text": [
      "------------------------------------------------------\n",
      "Architecture:  [(128, 'relu'), (128, 'elu'), (10, 'last layer')]\n"
     ]
    },
    {
     "name": "stderr",
     "output_type": "stream",
     "text": [
      "Training loss = 0.335967 val accuracy = 0.911750: 100%|██████████| 10/10 [01:52<00:00, 11.27s/it]\n"
     ]
    },
    {
     "name": "stdout",
     "output_type": "stream",
     "text": [
      "------------------------------------------------------\n",
      "Architecture:  [(64, 'tanh'), (32, 'tanh'), (10, 'last layer')]\n"
     ]
    },
    {
     "name": "stderr",
     "output_type": "stream",
     "text": [
      "Training loss = 1.592371 val accuracy = 0.338333: 100%|██████████| 10/10 [01:52<00:00, 11.22s/it]\n"
     ]
    },
    {
     "name": "stdout",
     "output_type": "stream",
     "text": [
      "------------------------------------------------------\n",
      "Architecture:  [(64, 'tanh'), (64, 'sigmoid'), (10, 'last layer')]\n"
     ]
    },
    {
     "name": "stderr",
     "output_type": "stream",
     "text": [
      "Training loss = 1.510758 val accuracy = 0.351583: 100%|██████████| 10/10 [01:52<00:00, 11.22s/it]\n"
     ]
    },
    {
     "name": "stdout",
     "output_type": "stream",
     "text": [
      "------------------------------------------------------\n",
      "Architecture:  [(32, 'sigmoid'), (128, 'elu'), (10, 'last layer')]\n"
     ]
    },
    {
     "name": "stderr",
     "output_type": "stream",
     "text": [
      "Training loss = 0.422185 val accuracy = 0.873667: 100%|██████████| 10/10 [01:53<00:00, 11.31s/it]\n"
     ]
    },
    {
     "name": "stdout",
     "output_type": "stream",
     "text": [
      "------------------------------------------------------\n",
      "Architecture:  [(256, 'relu'), (256, 'tanh'), (10, 'last layer')]\n"
     ]
    },
    {
     "name": "stderr",
     "output_type": "stream",
     "text": [
      "Training loss = 2.541853 val accuracy = 0.102250: 100%|██████████| 10/10 [01:56<00:00, 11.66s/it]\n"
     ]
    },
    {
     "name": "stdout",
     "output_type": "stream",
     "text": [
      "------------------------------------------------------\n",
      "------------------------------------------------------------------\n",
      "                       CONTROLLER EPOCH: 7\n",
      "------------------------------------------------------------------\n",
      "GENERATING ARCHITECTURE SAMPLES...\n",
      "------------------------------------------------------\n",
      "Architecture:  [(128, 'tanh'), (8, 'relu'), (10, 'last layer')]\n"
     ]
    },
    {
     "name": "stderr",
     "output_type": "stream",
     "text": [
      "Training loss = 2.302639 val accuracy = 0.109583: 100%|██████████| 10/10 [01:53<00:00, 11.34s/it]\n"
     ]
    },
    {
     "name": "stdout",
     "output_type": "stream",
     "text": [
      "------------------------------------------------------\n",
      "Architecture:  [(32, 'sigmoid'), (32, 'relu'), (10, 'last layer')]\n"
     ]
    },
    {
     "name": "stderr",
     "output_type": "stream",
     "text": [
      "Training loss = 0.521393 val accuracy = 0.798917: 100%|██████████| 10/10 [01:52<00:00, 11.24s/it]\n"
     ]
    },
    {
     "name": "stdout",
     "output_type": "stream",
     "text": [
      "------------------------------------------------------\n",
      "Architecture:  [(32, 'tanh'), (128, 'relu'), (10, 'last layer')]\n"
     ]
    },
    {
     "name": "stderr",
     "output_type": "stream",
     "text": [
      "Training loss = 2.302119 val accuracy = 0.097500: 100%|██████████| 10/10 [01:52<00:00, 11.22s/it]\n"
     ]
    },
    {
     "name": "stdout",
     "output_type": "stream",
     "text": [
      "------------------------------------------------------\n",
      "Architecture:  [(128, 'elu'), (128, 'tanh'), (10, 'last layer')]\n"
     ]
    },
    {
     "name": "stderr",
     "output_type": "stream",
     "text": [
      "Training loss = 2.443979 val accuracy = 0.109583: 100%|██████████| 10/10 [01:52<00:00, 11.28s/it]\n"
     ]
    },
    {
     "name": "stdout",
     "output_type": "stream",
     "text": [
      "------------------------------------------------------\n",
      "Architecture:  [(512, 'elu'), (512, 'tanh'), (10, 'last layer')]\n"
     ]
    },
    {
     "name": "stderr",
     "output_type": "stream",
     "text": [
      "Training loss = 2.797114 val accuracy = 0.102250: 100%|██████████| 10/10 [01:55<00:00, 11.53s/it]\n"
     ]
    },
    {
     "name": "stdout",
     "output_type": "stream",
     "text": [
      "------------------------------------------------------\n",
      "Architecture:  [(32, 'sigmoid'), (16, 'relu'), (10, 'last layer')]\n"
     ]
    },
    {
     "name": "stderr",
     "output_type": "stream",
     "text": [
      "Training loss = 1.037156 val accuracy = 0.598667: 100%|██████████| 10/10 [01:52<00:00, 11.23s/it]\n"
     ]
    },
    {
     "name": "stdout",
     "output_type": "stream",
     "text": [
      "------------------------------------------------------\n",
      "Architecture:  [(16, 'elu'), (8, 'relu'), (10, 'last layer')]\n"
     ]
    },
    {
     "name": "stderr",
     "output_type": "stream",
     "text": [
      "Training loss = 0.682126 val accuracy = 0.784417: 100%|██████████| 10/10 [01:52<00:00, 11.20s/it]\n"
     ]
    },
    {
     "name": "stdout",
     "output_type": "stream",
     "text": [
      "------------------------------------------------------\n",
      "Architecture:  [(128, 'elu'), (32, 'sigmoid'), (10, 'last layer')]\n"
     ]
    },
    {
     "name": "stderr",
     "output_type": "stream",
     "text": [
      "Training loss = 0.384347 val accuracy = 0.883500: 100%|██████████| 10/10 [01:52<00:00, 11.27s/it]\n"
     ]
    },
    {
     "name": "stdout",
     "output_type": "stream",
     "text": [
      "------------------------------------------------------\n",
      "Architecture:  [(8, 'elu'), (64, 'tanh'), (10, 'last layer')]\n"
     ]
    },
    {
     "name": "stderr",
     "output_type": "stream",
     "text": [
      "Training loss = 1.004242 val accuracy = 0.655333: 100%|██████████| 10/10 [01:52<00:00, 11.21s/it]\n"
     ]
    },
    {
     "name": "stdout",
     "output_type": "stream",
     "text": [
      "------------------------------------------------------\n",
      "Architecture:  [(512, 'tanh'), (64, 'tanh'), (10, 'last layer')]\n"
     ]
    },
    {
     "name": "stderr",
     "output_type": "stream",
     "text": [
      "Training loss = 2.377804 val accuracy = 0.099250: 100%|██████████| 10/10 [01:53<00:00, 11.33s/it]\n"
     ]
    },
    {
     "name": "stdout",
     "output_type": "stream",
     "text": [
      "------------------------------------------------------\n",
      "------------------------------------------------------------------\n",
      "                       CONTROLLER EPOCH: 8\n",
      "------------------------------------------------------------------\n",
      "GENERATING ARCHITECTURE SAMPLES...\n",
      "------------------------------------------------------\n",
      "Architecture:  [(16, 'tanh'), (256, 'relu'), (10, 'last layer')]\n"
     ]
    },
    {
     "name": "stderr",
     "output_type": "stream",
     "text": [
      "Training loss = 2.302449 val accuracy = 0.109583: 100%|██████████| 10/10 [01:51<00:00, 11.20s/it]\n"
     ]
    },
    {
     "name": "stdout",
     "output_type": "stream",
     "text": [
      "------------------------------------------------------\n",
      "Architecture:  [(512, 'relu'), (256, 'tanh'), (10, 'last layer')]\n"
     ]
    },
    {
     "name": "stderr",
     "output_type": "stream",
     "text": [
      "Training loss = 2.548978 val accuracy = 0.099250: 100%|██████████| 10/10 [01:54<00:00, 11.47s/it]\n"
     ]
    },
    {
     "name": "stdout",
     "output_type": "stream",
     "text": [
      "------------------------------------------------------\n",
      "Architecture:  [(256, 'tanh'), (512, 'tanh'), (10, 'last layer')]\n"
     ]
    },
    {
     "name": "stderr",
     "output_type": "stream",
     "text": [
      "Training loss = 2.779615 val accuracy = 0.098917: 100%|██████████| 10/10 [01:54<00:00, 11.48s/it]\n"
     ]
    },
    {
     "name": "stdout",
     "output_type": "stream",
     "text": [
      "------------------------------------------------------\n",
      "Architecture:  [(16, 'tanh'), (8, 'tanh'), (10, 'last layer')]\n"
     ]
    },
    {
     "name": "stderr",
     "output_type": "stream",
     "text": [
      "Training loss = 2.308462 val accuracy = 0.108917: 100%|██████████| 10/10 [01:51<00:00, 11.13s/it]\n"
     ]
    },
    {
     "name": "stdout",
     "output_type": "stream",
     "text": [
      "------------------------------------------------------\n",
      "Architecture:  [(512, 'tanh'), (128, 'tanh'), (10, 'last layer')]\n"
     ]
    },
    {
     "name": "stderr",
     "output_type": "stream",
     "text": [
      "Training loss = 2.436439 val accuracy = 0.093583: 100%|██████████| 10/10 [01:54<00:00, 11.44s/it]\n"
     ]
    },
    {
     "name": "stdout",
     "output_type": "stream",
     "text": [
      "------------------------------------------------------\n",
      "Architecture:  [(512, 'relu'), (256, 'relu'), (10, 'last layer')]\n"
     ]
    },
    {
     "name": "stderr",
     "output_type": "stream",
     "text": [
      "Training loss = 0.268333 val accuracy = 0.930583: 100%|██████████| 10/10 [01:55<00:00, 11.50s/it]\n"
     ]
    },
    {
     "name": "stdout",
     "output_type": "stream",
     "text": [
      "------------------------------------------------------\n",
      "Architecture:  [(32, 'tanh'), (32, 'tanh'), (10, 'last layer')]\n"
     ]
    },
    {
     "name": "stderr",
     "output_type": "stream",
     "text": [
      "Training loss = 1.478153 val accuracy = 0.326083: 100%|██████████| 10/10 [01:51<00:00, 11.18s/it]\n"
     ]
    },
    {
     "name": "stdout",
     "output_type": "stream",
     "text": [
      "------------------------------------------------------\n",
      "Architecture:  [(16, 'tanh'), (16, 'tanh'), (10, 'last layer')]\n"
     ]
    },
    {
     "name": "stderr",
     "output_type": "stream",
     "text": [
      "Training loss = 2.308270 val accuracy = 0.108917: 100%|██████████| 10/10 [01:51<00:00, 11.19s/it]\n"
     ]
    },
    {
     "name": "stdout",
     "output_type": "stream",
     "text": [
      "------------------------------------------------------\n",
      "Architecture:  [(64, 'tanh'), (10, 'last layer')]\n"
     ]
    },
    {
     "name": "stderr",
     "output_type": "stream",
     "text": [
      "Training loss = 1.147753 val accuracy = 0.515583: 100%|██████████| 10/10 [01:47<00:00, 10.72s/it]\n"
     ]
    },
    {
     "name": "stdout",
     "output_type": "stream",
     "text": [
      "------------------------------------------------------\n",
      "Architecture:  [(512, 'tanh'), (256, 'elu'), (10, 'last layer')]\n"
     ]
    },
    {
     "name": "stderr",
     "output_type": "stream",
     "text": [
      "Training loss = 2.538933 val accuracy = 0.102250: 100%|██████████| 10/10 [01:55<00:00, 11.55s/it]\n"
     ]
    },
    {
     "name": "stdout",
     "output_type": "stream",
     "text": [
      "------------------------------------------------------\n",
      "------------------------------------------------------------------\n",
      "                       CONTROLLER EPOCH: 9\n",
      "------------------------------------------------------------------\n",
      "GENERATING ARCHITECTURE SAMPLES...\n",
      "------------------------------------------------------\n",
      "Architecture:  [(16, 'tanh'), (64, 'elu'), (10, 'last layer')]\n"
     ]
    },
    {
     "name": "stderr",
     "output_type": "stream",
     "text": [
      "Training loss = 2.319043 val accuracy = 0.109583: 100%|██████████| 10/10 [01:53<00:00, 11.31s/it]\n"
     ]
    },
    {
     "name": "stdout",
     "output_type": "stream",
     "text": [
      "------------------------------------------------------\n",
      "Architecture:  [(512, 'sigmoid'), (8, 'tanh'), (10, 'last layer')]\n"
     ]
    },
    {
     "name": "stderr",
     "output_type": "stream",
     "text": [
      "Training loss = 2.313857 val accuracy = 0.093583: 100%|██████████| 10/10 [01:54<00:00, 11.48s/it]\n"
     ]
    },
    {
     "name": "stdout",
     "output_type": "stream",
     "text": [
      "------------------------------------------------------\n",
      "Architecture:  [(256, 'tanh'), (16, 'sigmoid'), (10, 'last layer')]\n"
     ]
    },
    {
     "name": "stderr",
     "output_type": "stream",
     "text": [
      "Training loss = 0.985379 val accuracy = 0.638750: 100%|██████████| 10/10 [01:54<00:00, 11.42s/it]\n"
     ]
    },
    {
     "name": "stdout",
     "output_type": "stream",
     "text": [
      "------------------------------------------------------\n",
      "Architecture:  [(32, 'sigmoid'), (512, 'tanh'), (10, 'last layer')]\n"
     ]
    },
    {
     "name": "stderr",
     "output_type": "stream",
     "text": [
      "Training loss = 2.333329 val accuracy = 0.102250: 100%|██████████| 10/10 [01:52<00:00, 11.27s/it]\n"
     ]
    },
    {
     "name": "stdout",
     "output_type": "stream",
     "text": [
      "------------------------------------------------------\n",
      "Architecture:  [(512, 'tanh'), (128, 'sigmoid'), (10, 'last layer')]\n"
     ]
    },
    {
     "name": "stderr",
     "output_type": "stream",
     "text": [
      "Training loss = 2.337186 val accuracy = 0.093583: 100%|██████████| 10/10 [01:55<00:00, 11.53s/it]\n"
     ]
    },
    {
     "name": "stdout",
     "output_type": "stream",
     "text": [
      "------------------------------------------------------\n",
      "Architecture:  [(512, 'elu'), (128, 'elu'), (10, 'last layer')]\n"
     ]
    },
    {
     "name": "stderr",
     "output_type": "stream",
     "text": [
      "Training loss = 0.335537 val accuracy = 0.923250: 100%|██████████| 10/10 [01:55<00:00, 11.52s/it]\n"
     ]
    },
    {
     "name": "stdout",
     "output_type": "stream",
     "text": [
      "------------------------------------------------------\n",
      "Architecture:  [(512, 'tanh'), (32, 'tanh'), (10, 'last layer')]\n"
     ]
    },
    {
     "name": "stderr",
     "output_type": "stream",
     "text": [
      "Training loss = 2.340773 val accuracy = 0.098917: 100%|██████████| 10/10 [01:53<00:00, 11.38s/it]\n"
     ]
    },
    {
     "name": "stdout",
     "output_type": "stream",
     "text": [
      "------------------------------------------------------\n",
      "Architecture:  [(8, 'relu'), (512, 'tanh'), (10, 'last layer')]\n"
     ]
    },
    {
     "name": "stderr",
     "output_type": "stream",
     "text": [
      "Training loss = 1.406466 val accuracy = 0.365417: 100%|██████████| 10/10 [01:52<00:00, 11.25s/it]\n"
     ]
    },
    {
     "name": "stdout",
     "output_type": "stream",
     "text": [
      "------------------------------------------------------\n",
      "Architecture:  [(64, 'tanh'), (16, 'tanh'), (10, 'last layer')]\n"
     ]
    },
    {
     "name": "stderr",
     "output_type": "stream",
     "text": [
      "Training loss = 1.936224 val accuracy = 0.160167: 100%|██████████| 10/10 [01:52<00:00, 11.25s/it]\n"
     ]
    },
    {
     "name": "stdout",
     "output_type": "stream",
     "text": [
      "------------------------------------------------------\n",
      "Architecture:  [(512, 'sigmoid'), (512, 'tanh'), (10, 'last layer')]\n"
     ]
    },
    {
     "name": "stderr",
     "output_type": "stream",
     "text": [
      "Training loss = 2.766293 val accuracy = 0.108917: 100%|██████████| 10/10 [01:56<00:00, 11.62s/it]\n"
     ]
    },
    {
     "name": "stdout",
     "output_type": "stream",
     "text": [
      "------------------------------------------------------\n",
      "Running script...\n",
      "------------------------------------------------------------------\n",
      "                       CONTROLLER EPOCH: 0\n",
      "------------------------------------------------------------------\n",
      "GENERATING ARCHITECTURE SAMPLES...\n",
      "------------------------------------------------------\n",
      "Architecture:  [(32, 'elu'), (32, 'relu'), (10, 'last layer')]\n"
     ]
    },
    {
     "name": "stderr",
     "output_type": "stream",
     "text": [
      "Training loss = 0.283296 val accuracy = 0.908500: 100%|██████████| 10/10 [01:52<00:00, 11.25s/it]\n"
     ]
    },
    {
     "name": "stdout",
     "output_type": "stream",
     "text": [
      "------------------------------------------------------\n",
      "Architecture:  [(32, 'relu'), (256, 'sigmoid'), (10, 'last layer')]\n"
     ]
    },
    {
     "name": "stderr",
     "output_type": "stream",
     "text": [
      "Training loss = 0.320799 val accuracy = 0.895000: 100%|██████████| 10/10 [01:52<00:00, 11.28s/it]\n"
     ]
    },
    {
     "name": "stdout",
     "output_type": "stream",
     "text": [
      "------------------------------------------------------\n",
      "Architecture:  [(128, 'sigmoid'), (512, 'sigmoid'), (10, 'last layer')]\n"
     ]
    },
    {
     "name": "stderr",
     "output_type": "stream",
     "text": [
      "Training loss = 1.487183 val accuracy = 0.348917: 100%|██████████| 10/10 [01:54<00:00, 11.48s/it]\n"
     ]
    },
    {
     "name": "stdout",
     "output_type": "stream",
     "text": [
      "------------------------------------------------------\n",
      "Architecture:  [(32, 'sigmoid'), (32, 'elu'), (10, 'last layer')]\n"
     ]
    },
    {
     "name": "stderr",
     "output_type": "stream",
     "text": [
      "Training loss = 0.435166 val accuracy = 0.861417: 100%|██████████| 10/10 [01:52<00:00, 11.22s/it]\n"
     ]
    },
    {
     "name": "stdout",
     "output_type": "stream",
     "text": [
      "------------------------------------------------------\n",
      "Architecture:  [(512, 'relu'), (128, 'tanh'), (10, 'last layer')]\n"
     ]
    },
    {
     "name": "stderr",
     "output_type": "stream",
     "text": [
      "Training loss = 2.434901 val accuracy = 0.099167: 100%|██████████| 10/10 [01:55<00:00, 11.60s/it]\n"
     ]
    },
    {
     "name": "stdout",
     "output_type": "stream",
     "text": [
      "------------------------------------------------------\n",
      "Architecture:  [(512, 'sigmoid'), (8, 'relu'), (10, 'last layer')]\n"
     ]
    },
    {
     "name": "stderr",
     "output_type": "stream",
     "text": [
      "Training loss = 1.423305 val accuracy = 0.369500: 100%|██████████| 10/10 [01:54<00:00, 11.41s/it]\n"
     ]
    },
    {
     "name": "stdout",
     "output_type": "stream",
     "text": [
      "------------------------------------------------------\n",
      "Architecture:  [(64, 'sigmoid'), (256, 'elu'), (10, 'last layer')]\n"
     ]
    },
    {
     "name": "stderr",
     "output_type": "stream",
     "text": [
      "Training loss = 0.526489 val accuracy = 0.856167: 100%|██████████| 10/10 [01:52<00:00, 11.22s/it]\n"
     ]
    },
    {
     "name": "stdout",
     "output_type": "stream",
     "text": [
      "------------------------------------------------------\n",
      "Architecture:  [(512, 'elu'), 'dropout', (10, 'last layer')]\n"
     ]
    },
    {
     "name": "stderr",
     "output_type": "stream",
     "text": [
      "Training loss = 1.066173 val accuracy = 0.921000: 100%|██████████| 10/10 [01:49<00:00, 10.93s/it]\n"
     ]
    },
    {
     "name": "stdout",
     "output_type": "stream",
     "text": [
      "------------------------------------------------------\n",
      "Architecture:  [(512, 'relu'), (16, 'sigmoid'), (10, 'last layer')]\n"
     ]
    },
    {
     "name": "stderr",
     "output_type": "stream",
     "text": [
      "Training loss = 2.308742 val accuracy = 0.099750: 100%|██████████| 10/10 [01:52<00:00, 11.27s/it]\n"
     ]
    },
    {
     "name": "stdout",
     "output_type": "stream",
     "text": [
      "------------------------------------------------------\n",
      "Architecture:  [(128, 'sigmoid'), (64, 'sigmoid'), (10, 'last layer')]\n"
     ]
    },
    {
     "name": "stderr",
     "output_type": "stream",
     "text": [
      "Training loss = 0.410445 val accuracy = 0.884000: 100%|██████████| 10/10 [01:52<00:00, 11.25s/it]\n"
     ]
    },
    {
     "name": "stdout",
     "output_type": "stream",
     "text": [
      "------------------------------------------------------\n",
      "------------------------------------------------------------------\n",
      "                       CONTROLLER EPOCH: 1\n",
      "------------------------------------------------------------------\n",
      "GENERATING ARCHITECTURE SAMPLES...\n",
      "------------------------------------------------------\n",
      "Architecture:  [(16, 'sigmoid'), (8, 'elu'), (10, 'last layer')]\n"
     ]
    },
    {
     "name": "stderr",
     "output_type": "stream",
     "text": [
      "Training loss = 1.115860 val accuracy = 0.528917: 100%|██████████| 10/10 [01:51<00:00, 11.20s/it]\n"
     ]
    },
    {
     "name": "stdout",
     "output_type": "stream",
     "text": [
      "------------------------------------------------------\n",
      "Architecture:  [(8, 'sigmoid'), (16, 'tanh'), (10, 'last layer')]\n"
     ]
    },
    {
     "name": "stderr",
     "output_type": "stream",
     "text": [
      "Training loss = 1.378341 val accuracy = 0.383750: 100%|██████████| 10/10 [01:51<00:00, 11.14s/it]\n"
     ]
    },
    {
     "name": "stdout",
     "output_type": "stream",
     "text": [
      "------------------------------------------------------\n",
      "Architecture:  [(8, 'relu'), (64, 'elu'), (10, 'last layer')]\n"
     ]
    },
    {
     "name": "stderr",
     "output_type": "stream",
     "text": [
      "Training loss = 1.533155 val accuracy = 0.385250: 100%|██████████| 10/10 [01:51<00:00, 11.12s/it]\n"
     ]
    },
    {
     "name": "stdout",
     "output_type": "stream",
     "text": [
      "------------------------------------------------------\n",
      "Architecture:  [(16, 'tanh'), (512, 'sigmoid'), (10, 'last layer')]\n"
     ]
    },
    {
     "name": "stderr",
     "output_type": "stream",
     "text": [
      "Training loss = 2.302756 val accuracy = 0.115833: 100%|██████████| 10/10 [01:51<00:00, 11.18s/it]\n"
     ]
    },
    {
     "name": "stdout",
     "output_type": "stream",
     "text": [
      "------------------------------------------------------\n",
      "Architecture:  [(512, 'sigmoid'), (128, 'tanh'), (10, 'last layer')]\n"
     ]
    },
    {
     "name": "stderr",
     "output_type": "stream",
     "text": [
      "Training loss = 2.434047 val accuracy = 0.095333: 100%|██████████| 10/10 [01:55<00:00, 11.52s/it]\n"
     ]
    },
    {
     "name": "stdout",
     "output_type": "stream",
     "text": [
      "------------------------------------------------------\n",
      "Architecture:  [(512, 'tanh'), (128, 'relu'), (10, 'last layer')]\n"
     ]
    },
    {
     "name": "stderr",
     "output_type": "stream",
     "text": [
      "Training loss = 2.302378 val accuracy = 0.115833: 100%|██████████| 10/10 [01:54<00:00, 11.43s/it]\n"
     ]
    },
    {
     "name": "stdout",
     "output_type": "stream",
     "text": [
      "------------------------------------------------------\n",
      "Architecture:  [(256, 'elu'), (10, 'last layer')]\n"
     ]
    },
    {
     "name": "stderr",
     "output_type": "stream",
     "text": [
      "Training loss = 0.462440 val accuracy = 0.926500: 100%|██████████| 10/10 [01:48<00:00, 10.81s/it]\n"
     ]
    },
    {
     "name": "stdout",
     "output_type": "stream",
     "text": [
      "------------------------------------------------------\n",
      "Architecture:  [(512, 'relu'), (64, 'sigmoid'), (10, 'last layer')]\n"
     ]
    },
    {
     "name": "stderr",
     "output_type": "stream",
     "text": [
      "Training loss = 2.336771 val accuracy = 0.091750: 100%|██████████| 10/10 [01:53<00:00, 11.38s/it]\n"
     ]
    },
    {
     "name": "stdout",
     "output_type": "stream",
     "text": [
      "------------------------------------------------------\n",
      "Architecture:  [(32, 'sigmoid'), (128, 'tanh'), (10, 'last layer')]\n"
     ]
    },
    {
     "name": "stderr",
     "output_type": "stream",
     "text": [
      "Training loss = 0.467016 val accuracy = 0.875417: 100%|██████████| 10/10 [01:51<00:00, 11.13s/it]\n"
     ]
    },
    {
     "name": "stdout",
     "output_type": "stream",
     "text": [
      "------------------------------------------------------\n",
      "Architecture:  [(16, 'tanh'), (256, 'elu'), (10, 'last layer')]\n"
     ]
    },
    {
     "name": "stderr",
     "output_type": "stream",
     "text": [
      "Training loss = 1.872554 val accuracy = 0.183417: 100%|██████████| 10/10 [01:51<00:00, 11.11s/it]\n"
     ]
    },
    {
     "name": "stdout",
     "output_type": "stream",
     "text": [
      "------------------------------------------------------\n",
      "------------------------------------------------------------------\n",
      "                       CONTROLLER EPOCH: 2\n",
      "------------------------------------------------------------------\n",
      "GENERATING ARCHITECTURE SAMPLES...\n",
      "------------------------------------------------------\n",
      "Architecture:  [(128, 'elu'), (512, 'tanh'), (10, 'last layer')]\n"
     ]
    },
    {
     "name": "stderr",
     "output_type": "stream",
     "text": [
      "Training loss = 2.754349 val accuracy = 0.098750: 100%|██████████| 10/10 [01:53<00:00, 11.39s/it]\n"
     ]
    },
    {
     "name": "stdout",
     "output_type": "stream",
     "text": [
      "------------------------------------------------------\n",
      "Architecture:  [(512, 'sigmoid'), (128, 'elu'), (10, 'last layer')]\n"
     ]
    },
    {
     "name": "stderr",
     "output_type": "stream",
     "text": [
      "Training loss = 0.557085 val accuracy = 0.825333: 100%|██████████| 10/10 [01:53<00:00, 11.39s/it]\n"
     ]
    },
    {
     "name": "stdout",
     "output_type": "stream",
     "text": [
      "------------------------------------------------------\n",
      "Architecture:  [(256, 'sigmoid'), (256, 'tanh'), (10, 'last layer')]\n"
     ]
    },
    {
     "name": "stderr",
     "output_type": "stream",
     "text": [
      "Training loss = 0.766462 val accuracy = 0.697667: 100%|██████████| 10/10 [01:54<00:00, 11.41s/it]\n"
     ]
    },
    {
     "name": "stdout",
     "output_type": "stream",
     "text": [
      "------------------------------------------------------\n",
      "Architecture:  [(8, 'relu'), (16, 'relu'), (10, 'last layer')]\n"
     ]
    },
    {
     "name": "stderr",
     "output_type": "stream",
     "text": [
      "Training loss = 0.947841 val accuracy = 0.672250: 100%|██████████| 10/10 [01:50<00:00, 11.09s/it]\n"
     ]
    },
    {
     "name": "stdout",
     "output_type": "stream",
     "text": [
      "------------------------------------------------------\n",
      "Architecture:  [(32, 'tanh'), (512, 'relu'), (10, 'last layer')]\n"
     ]
    },
    {
     "name": "stderr",
     "output_type": "stream",
     "text": [
      "Training loss = 1.885780 val accuracy = 0.210500: 100%|██████████| 10/10 [01:51<00:00, 11.12s/it]\n"
     ]
    },
    {
     "name": "stdout",
     "output_type": "stream",
     "text": [
      "------------------------------------------------------\n",
      "Architecture:  [(512, 'relu'), (64, 'elu'), (10, 'last layer')]\n"
     ]
    },
    {
     "name": "stderr",
     "output_type": "stream",
     "text": [
      "Training loss = 0.268850 val accuracy = 0.923167: 100%|██████████| 10/10 [01:52<00:00, 11.27s/it]\n"
     ]
    },
    {
     "name": "stdout",
     "output_type": "stream",
     "text": [
      "------------------------------------------------------\n",
      "Architecture:  [(512, 'relu'), (512, 'tanh'), (10, 'last layer')]\n"
     ]
    },
    {
     "name": "stderr",
     "output_type": "stream",
     "text": [
      "Training loss = 2.747563 val accuracy = 0.098750: 100%|██████████| 10/10 [01:54<00:00, 11.45s/it]\n"
     ]
    },
    {
     "name": "stdout",
     "output_type": "stream",
     "text": [
      "------------------------------------------------------\n",
      "Architecture:  [(64, 'relu'), (8, 'tanh'), (10, 'last layer')]\n"
     ]
    },
    {
     "name": "stderr",
     "output_type": "stream",
     "text": [
      "Training loss = 2.313099 val accuracy = 0.099167:  30%|███       | 3/10 [00:33<01:17, 11.13s/it]IOPub message rate exceeded.\n",
      "The Jupyter server will temporarily stop sending output\n",
      "to the client in order to avoid crashing it.\n",
      "To change this limit, set the config variable\n",
      "`--ServerApp.iopub_msg_rate_limit`.\n",
      "\n",
      "Current values:\n",
      "ServerApp.iopub_msg_rate_limit=1000.0 (msgs/sec)\n",
      "ServerApp.rate_limit_window=3.0 (secs)\n",
      "\n",
      "Training loss = 0.450994 val accuracy = 0.889333: 100%|██████████| 10/10 [02:00<00:00, 12.09s/it]\n"
     ]
    },
    {
     "name": "stdout",
     "output_type": "stream",
     "text": [
      "------------------------------------------------------\n",
      "Architecture:  [(16, 'sigmoid'), (512, 'tanh'), (10, 'last layer')]\n"
     ]
    },
    {
     "name": "stderr",
     "output_type": "stream",
     "text": [
      "Training loss = 1.127117 val accuracy = 0.562750: 100%|██████████| 10/10 [01:58<00:00, 11.87s/it]\n"
     ]
    },
    {
     "name": "stdout",
     "output_type": "stream",
     "text": [
      "------------------------------------------------------\n",
      "------------------------------------------------------------------\n",
      "                       CONTROLLER EPOCH: 4\n",
      "------------------------------------------------------------------\n",
      "GENERATING ARCHITECTURE SAMPLES...\n",
      "------------------------------------------------------\n",
      "Architecture:  [(128, 'relu'), (16, 'tanh'), (10, 'last layer')]\n"
     ]
    },
    {
     "name": "stderr",
     "output_type": "stream",
     "text": [
      "Training loss = 2.322313 val accuracy = 0.101750: 100%|██████████| 10/10 [01:59<00:00, 11.95s/it]\n"
     ]
    },
    {
     "name": "stdout",
     "output_type": "stream",
     "text": [
      "------------------------------------------------------\n",
      "Architecture:  [(16, 'sigmoid'), (8, 'tanh'), (10, 'last layer')]\n"
     ]
    },
    {
     "name": "stderr",
     "output_type": "stream",
     "text": [
      "Training loss = 1.421422 val accuracy = 0.373917: 100%|██████████| 10/10 [01:58<00:00, 11.81s/it]\n"
     ]
    },
    {
     "name": "stdout",
     "output_type": "stream",
     "text": [
      "------------------------------------------------------\n",
      "Architecture:  [(256, 'elu'), (16, 'sigmoid'), (10, 'last layer')]\n"
     ]
    },
    {
     "name": "stderr",
     "output_type": "stream",
     "text": [
      "Training loss = 1.304152 val accuracy = 0.607667: 100%|██████████| 10/10 [02:00<00:00, 12.01s/it]\n"
     ]
    },
    {
     "name": "stdout",
     "output_type": "stream",
     "text": [
      "------------------------------------------------------\n",
      "Architecture:  [(64, 'elu'), (128, 'relu'), (10, 'last layer')]\n"
     ]
    },
    {
     "name": "stderr",
     "output_type": "stream",
     "text": [
      "Training loss = 0.255404 val accuracy = 0.923583: 100%|██████████| 10/10 [01:58<00:00, 11.86s/it]\n"
     ]
    },
    {
     "name": "stdout",
     "output_type": "stream",
     "text": [
      "------------------------------------------------------\n",
      "Architecture:  [(16, 'elu'), (256, 'sigmoid'), (10, 'last layer')]\n"
     ]
    },
    {
     "name": "stderr",
     "output_type": "stream",
     "text": [
      "Training loss = 0.350025 val accuracy = 0.859083: 100%|██████████| 10/10 [01:58<00:00, 11.82s/it]\n"
     ]
    },
    {
     "name": "stdout",
     "output_type": "stream",
     "text": [
      "------------------------------------------------------\n",
      "Architecture:  [(8, 'sigmoid'), (32, 'tanh'), (10, 'last layer')]\n"
     ]
    },
    {
     "name": "stderr",
     "output_type": "stream",
     "text": [
      "Training loss = 0.728903 val accuracy = 0.813750: 100%|██████████| 10/10 [01:58<00:00, 11.81s/it]\n"
     ]
    },
    {
     "name": "stdout",
     "output_type": "stream",
     "text": [
      "------------------------------------------------------\n",
      "Architecture:  [(8, 'sigmoid'), (256, 'elu'), (10, 'last layer')]\n"
     ]
    },
    {
     "name": "stderr",
     "output_type": "stream",
     "text": [
      "Training loss = 2.090113 val accuracy = 0.202750: 100%|██████████| 10/10 [01:58<00:00, 11.87s/it]\n"
     ]
    },
    {
     "name": "stdout",
     "output_type": "stream",
     "text": [
      "------------------------------------------------------\n",
      "Architecture:  [(128, 'sigmoid'), (128, 'relu'), (10, 'last layer')]\n"
     ]
    },
    {
     "name": "stderr",
     "output_type": "stream",
     "text": [
      "Training loss = 0.596311 val accuracy = 0.814917: 100%|██████████| 10/10 [02:00<00:00, 12.00s/it]\n"
     ]
    },
    {
     "name": "stdout",
     "output_type": "stream",
     "text": [
      "------------------------------------------------------\n",
      "Architecture:  [(8, 'relu'), (8, 'tanh'), (10, 'last layer')]\n"
     ]
    },
    {
     "name": "stderr",
     "output_type": "stream",
     "text": [
      "Training loss = 0.899254 val accuracy = 0.723833: 100%|██████████| 10/10 [02:00<00:00, 12.04s/it]\n"
     ]
    },
    {
     "name": "stdout",
     "output_type": "stream",
     "text": [
      "------------------------------------------------------\n",
      "Architecture:  [(32, 'tanh'), (512, 'tanh'), (10, 'last layer')]\n"
     ]
    },
    {
     "name": "stderr",
     "output_type": "stream",
     "text": [
      "Training loss = 2.429530 val accuracy = 0.101750: 100%|██████████| 10/10 [02:00<00:00, 12.03s/it]\n"
     ]
    },
    {
     "name": "stdout",
     "output_type": "stream",
     "text": [
      "------------------------------------------------------\n",
      "------------------------------------------------------------------\n",
      "                       CONTROLLER EPOCH: 5\n",
      "------------------------------------------------------------------\n",
      "GENERATING ARCHITECTURE SAMPLES...\n",
      "------------------------------------------------------\n",
      "Architecture:  [(16, 'sigmoid'), (64, 'tanh'), (10, 'last layer')]\n"
     ]
    },
    {
     "name": "stderr",
     "output_type": "stream",
     "text": [
      "Training loss = 1.001670 val accuracy = 0.622583: 100%|██████████| 10/10 [01:59<00:00, 11.98s/it]\n"
     ]
    },
    {
     "name": "stdout",
     "output_type": "stream",
     "text": [
      "------------------------------------------------------\n",
      "Architecture:  [(16, 'tanh'), (8, 'tanh'), (10, 'last layer')]\n"
     ]
    },
    {
     "name": "stderr",
     "output_type": "stream",
     "text": [
      "Training loss = 2.307098 val accuracy = 0.109833: 100%|██████████| 10/10 [01:58<00:00, 11.87s/it]\n"
     ]
    },
    {
     "name": "stdout",
     "output_type": "stream",
     "text": [
      "------------------------------------------------------\n",
      "Architecture:  [(16, 'sigmoid'), (16, 'tanh'), (10, 'last layer')]\n"
     ]
    },
    {
     "name": "stderr",
     "output_type": "stream",
     "text": [
      "Training loss = 0.651573 val accuracy = 0.779583: 100%|██████████| 10/10 [01:59<00:00, 11.93s/it]\n"
     ]
    },
    {
     "name": "stdout",
     "output_type": "stream",
     "text": [
      "------------------------------------------------------\n",
      "Architecture:  [(512, 'sigmoid'), (256, 'sigmoid'), (10, 'last layer')]\n"
     ]
    },
    {
     "name": "stderr",
     "output_type": "stream",
     "text": [
      "Training loss = 0.855966 val accuracy = 0.711000: 100%|██████████| 10/10 [02:03<00:00, 12.34s/it]\n"
     ]
    },
    {
     "name": "stdout",
     "output_type": "stream",
     "text": [
      "------------------------------------------------------\n",
      "Architecture:  [(8, 'sigmoid'), (512, 'tanh'), (10, 'last layer')]\n"
     ]
    },
    {
     "name": "stderr",
     "output_type": "stream",
     "text": [
      "Training loss = 1.824507 val accuracy = 0.200750: 100%|██████████| 10/10 [01:59<00:00, 11.93s/it]\n"
     ]
    },
    {
     "name": "stdout",
     "output_type": "stream",
     "text": [
      "------------------------------------------------------\n",
      "Architecture:  [(8, 'sigmoid'), (16, 'tanh'), (10, 'last layer')]\n"
     ]
    },
    {
     "name": "stderr",
     "output_type": "stream",
     "text": [
      "Training loss = 1.009619 val accuracy = 0.614750: 100%|██████████| 10/10 [01:58<00:00, 11.86s/it]\n"
     ]
    },
    {
     "name": "stdout",
     "output_type": "stream",
     "text": [
      "------------------------------------------------------\n",
      "Architecture:  [(32, 'relu'), (8, 'relu'), (10, 'last layer')]\n"
     ]
    },
    {
     "name": "stderr",
     "output_type": "stream",
     "text": [
      "Training loss = 0.253859 val accuracy = 0.923667: 100%|██████████| 10/10 [02:00<00:00, 12.00s/it]\n"
     ]
    },
    {
     "name": "stdout",
     "output_type": "stream",
     "text": [
      "------------------------------------------------------\n",
      "Architecture:  [(128, 'relu'), (512, 'tanh'), (10, 'last layer')]\n"
     ]
    },
    {
     "name": "stderr",
     "output_type": "stream",
     "text": [
      "Training loss = 2.761677 val accuracy = 0.097083: 100%|██████████| 10/10 [02:04<00:00, 12.42s/it]\n"
     ]
    },
    {
     "name": "stdout",
     "output_type": "stream",
     "text": [
      "------------------------------------------------------\n",
      "Architecture:  [(16, 'tanh'), (256, 'elu'), (10, 'last layer')]\n"
     ]
    },
    {
     "name": "stderr",
     "output_type": "stream",
     "text": [
      "Training loss = 2.345285 val accuracy = 0.105000: 100%|██████████| 10/10 [01:59<00:00, 11.98s/it]\n"
     ]
    },
    {
     "name": "stdout",
     "output_type": "stream",
     "text": [
      "------------------------------------------------------\n",
      "Architecture:  [(512, 'sigmoid'), (8, 'relu'), (10, 'last layer')]\n"
     ]
    },
    {
     "name": "stderr",
     "output_type": "stream",
     "text": [
      "Training loss = 2.302368 val accuracy = 0.109833: 100%|██████████| 10/10 [02:01<00:00, 12.13s/it]\n"
     ]
    },
    {
     "name": "stdout",
     "output_type": "stream",
     "text": [
      "------------------------------------------------------\n",
      "------------------------------------------------------------------\n",
      "                       CONTROLLER EPOCH: 6\n",
      "------------------------------------------------------------------\n",
      "GENERATING ARCHITECTURE SAMPLES...\n",
      "------------------------------------------------------\n",
      "Architecture:  [(16, 'relu'), (512, 'tanh'), (10, 'last layer')]\n"
     ]
    },
    {
     "name": "stderr",
     "output_type": "stream",
     "text": [
      "Training loss = 0.832220 val accuracy = 0.783500: 100%|██████████| 10/10 [01:59<00:00, 11.94s/it]\n"
     ]
    },
    {
     "name": "stdout",
     "output_type": "stream",
     "text": [
      "------------------------------------------------------\n",
      "Architecture:  [(32, 'tanh'), (16, 'tanh'), (10, 'last layer')]\n"
     ]
    },
    {
     "name": "stderr",
     "output_type": "stream",
     "text": [
      "Training loss = 2.322161 val accuracy = 0.109833: 100%|██████████| 10/10 [01:58<00:00, 11.89s/it]\n"
     ]
    },
    {
     "name": "stdout",
     "output_type": "stream",
     "text": [
      "------------------------------------------------------\n",
      "Architecture:  [(32, 'tanh'), (8, 'tanh'), (10, 'last layer')]\n"
     ]
    },
    {
     "name": "stderr",
     "output_type": "stream",
     "text": [
      "Training loss = 0.973154 val accuracy = 0.650333: 100%|██████████| 10/10 [01:58<00:00, 11.85s/it]\n"
     ]
    },
    {
     "name": "stdout",
     "output_type": "stream",
     "text": [
      "------------------------------------------------------\n",
      "Architecture:  [(64, 'tanh'), (16, 'tanh'), (10, 'last layer')]\n"
     ]
    },
    {
     "name": "stderr",
     "output_type": "stream",
     "text": [
      "Training loss = 1.917759 val accuracy = 0.191750: 100%|██████████| 10/10 [01:58<00:00, 11.84s/it]\n"
     ]
    },
    {
     "name": "stdout",
     "output_type": "stream",
     "text": [
      "------------------------------------------------------\n",
      "Architecture:  [(8, 'tanh'), (8, 'sigmoid'), (10, 'last layer')]\n"
     ]
    },
    {
     "name": "stderr",
     "output_type": "stream",
     "text": [
      "Training loss = 2.302472 val accuracy = 0.109833: 100%|██████████| 10/10 [01:57<00:00, 11.79s/it]\n"
     ]
    },
    {
     "name": "stdout",
     "output_type": "stream",
     "text": [
      "------------------------------------------------------\n",
      "Architecture:  [(8, 'tanh'), (8, 'relu'), (10, 'last layer')]\n"
     ]
    },
    {
     "name": "stderr",
     "output_type": "stream",
     "text": [
      "Training loss = 2.302575 val accuracy = 0.109833: 100%|██████████| 10/10 [01:58<00:00, 11.85s/it]\n"
     ]
    },
    {
     "name": "stdout",
     "output_type": "stream",
     "text": [
      "------------------------------------------------------\n",
      "Architecture:  [(256, 'sigmoid'), (8, 'relu'), (10, 'last layer')]\n"
     ]
    },
    {
     "name": "stderr",
     "output_type": "stream",
     "text": [
      "Training loss = 1.362747 val accuracy = 0.518167: 100%|██████████| 10/10 [02:00<00:00, 12.09s/it]\n"
     ]
    },
    {
     "name": "stdout",
     "output_type": "stream",
     "text": [
      "------------------------------------------------------\n",
      "Architecture:  [(512, 'tanh'), (8, 'sigmoid'), (10, 'last layer')]\n"
     ]
    },
    {
     "name": "stderr",
     "output_type": "stream",
     "text": [
      "Training loss = 2.307495 val accuracy = 0.105000: 100%|██████████| 10/10 [02:00<00:00, 12.09s/it]\n"
     ]
    },
    {
     "name": "stdout",
     "output_type": "stream",
     "text": [
      "------------------------------------------------------\n",
      "Architecture:  [(32, 'tanh'), (512, 'relu'), (10, 'last layer')]\n"
     ]
    },
    {
     "name": "stderr",
     "output_type": "stream",
     "text": [
      "Training loss = 2.302743 val accuracy = 0.109833: 100%|██████████| 10/10 [01:59<00:00, 11.97s/it]\n"
     ]
    },
    {
     "name": "stdout",
     "output_type": "stream",
     "text": [
      "------------------------------------------------------\n",
      "Architecture:  [(8, 'sigmoid'), (16, 'elu'), (10, 'last layer')]\n"
     ]
    },
    {
     "name": "stderr",
     "output_type": "stream",
     "text": [
      "Training loss = 1.418033 val accuracy = 0.405000: 100%|██████████| 10/10 [01:59<00:00, 11.96s/it]\n"
     ]
    },
    {
     "name": "stdout",
     "output_type": "stream",
     "text": [
      "------------------------------------------------------\n",
      "------------------------------------------------------------------\n",
      "                       CONTROLLER EPOCH: 7\n",
      "------------------------------------------------------------------\n",
      "GENERATING ARCHITECTURE SAMPLES...\n",
      "------------------------------------------------------\n",
      "Architecture:  [(8, 'relu'), (32, 'sigmoid'), (10, 'last layer')]\n"
     ]
    },
    {
     "name": "stderr",
     "output_type": "stream",
     "text": [
      "Training loss = 0.946512 val accuracy = 0.680167: 100%|██████████| 10/10 [01:59<00:00, 11.94s/it]\n"
     ]
    },
    {
     "name": "stdout",
     "output_type": "stream",
     "text": [
      "------------------------------------------------------\n",
      "Architecture:  [(16, 'tanh'), (8, 'sigmoid'), (10, 'last layer')]\n"
     ]
    },
    {
     "name": "stderr",
     "output_type": "stream",
     "text": [
      "Training loss = 2.302622 val accuracy = 0.105000: 100%|██████████| 10/10 [01:59<00:00, 11.92s/it]\n"
     ]
    },
    {
     "name": "stdout",
     "output_type": "stream",
     "text": [
      "------------------------------------------------------\n",
      "Architecture:  [(128, 'sigmoid'), (32, 'tanh'), (10, 'last layer')]\n"
     ]
    },
    {
     "name": "stderr",
     "output_type": "stream",
     "text": [
      "Training loss = 0.489594 val accuracy = 0.818250: 100%|██████████| 10/10 [01:59<00:00, 11.95s/it]\n"
     ]
    },
    {
     "name": "stdout",
     "output_type": "stream",
     "text": [
      "------------------------------------------------------\n",
      "Architecture:  [(8, 'relu'), (16, 'tanh'), (10, 'last layer')]\n"
     ]
    },
    {
     "name": "stderr",
     "output_type": "stream",
     "text": [
      "Training loss = 0.872688 val accuracy = 0.668917: 100%|██████████| 10/10 [02:00<00:00, 12.04s/it]\n"
     ]
    },
    {
     "name": "stdout",
     "output_type": "stream",
     "text": [
      "------------------------------------------------------\n",
      "Architecture:  [(256, 'tanh'), (8, 'relu'), (10, 'last layer')]\n"
     ]
    },
    {
     "name": "stderr",
     "output_type": "stream",
     "text": [
      "Training loss = 2.302770 val accuracy = 0.105000: 100%|██████████| 10/10 [02:01<00:00, 12.16s/it]\n"
     ]
    },
    {
     "name": "stdout",
     "output_type": "stream",
     "text": [
      "------------------------------------------------------\n",
      "Architecture:  [(16, 'relu'), (8, 'relu'), (10, 'last layer')]\n"
     ]
    },
    {
     "name": "stderr",
     "output_type": "stream",
     "text": [
      "Training loss = 0.949442 val accuracy = 0.649333: 100%|██████████| 10/10 [01:58<00:00, 11.87s/it]\n"
     ]
    },
    {
     "name": "stdout",
     "output_type": "stream",
     "text": [
      "------------------------------------------------------\n",
      "Architecture:  [(8, 'tanh'), (512, 'elu'), (10, 'last layer')]\n"
     ]
    },
    {
     "name": "stderr",
     "output_type": "stream",
     "text": [
      "Training loss = 2.343997 val accuracy = 0.101667: 100%|██████████| 10/10 [01:59<00:00, 11.91s/it]\n"
     ]
    },
    {
     "name": "stdout",
     "output_type": "stream",
     "text": [
      "------------------------------------------------------\n",
      "Architecture:  [(512, 'sigmoid'), (8, 'sigmoid'), (10, 'last layer')]\n"
     ]
    },
    {
     "name": "stderr",
     "output_type": "stream",
     "text": [
      "Training loss = 1.577559 val accuracy = 0.382833: 100%|██████████| 10/10 [02:01<00:00, 12.15s/it]\n"
     ]
    },
    {
     "name": "stdout",
     "output_type": "stream",
     "text": [
      "------------------------------------------------------\n",
      "Architecture:  [(16, 'tanh'), (8, 'relu'), (10, 'last layer')]\n"
     ]
    },
    {
     "name": "stderr",
     "output_type": "stream",
     "text": [
      "Training loss = 2.302639 val accuracy = 0.109833: 100%|██████████| 10/10 [02:00<00:00, 12.04s/it]\n"
     ]
    },
    {
     "name": "stdout",
     "output_type": "stream",
     "text": [
      "------------------------------------------------------\n",
      "Architecture:  [(16, 'elu'), 'dropout', (10, 'last layer')]\n"
     ]
    },
    {
     "name": "stderr",
     "output_type": "stream",
     "text": [
      "Training loss = 0.842983 val accuracy = 0.847500: 100%|██████████| 10/10 [01:56<00:00, 11.68s/it]\n"
     ]
    },
    {
     "name": "stdout",
     "output_type": "stream",
     "text": [
      "------------------------------------------------------\n",
      "------------------------------------------------------------------\n",
      "                       CONTROLLER EPOCH: 8\n",
      "------------------------------------------------------------------\n",
      "GENERATING ARCHITECTURE SAMPLES...\n",
      "------------------------------------------------------\n",
      "Architecture:  [(8, 'sigmoid'), (128, 'sigmoid'), (10, 'last layer')]\n"
     ]
    },
    {
     "name": "stderr",
     "output_type": "stream",
     "text": [
      "Training loss = 1.026212 val accuracy = 0.609167: 100%|██████████| 10/10 [01:59<00:00, 11.90s/it]\n"
     ]
    },
    {
     "name": "stdout",
     "output_type": "stream",
     "text": [
      "------------------------------------------------------\n",
      "Architecture:  [(16, 'tanh'), (10, 'last layer')]\n"
     ]
    },
    {
     "name": "stderr",
     "output_type": "stream",
     "text": [
      "Training loss = 1.854644 val accuracy = 0.199667: 100%|██████████| 10/10 [01:54<00:00, 11.46s/it]\n"
     ]
    },
    {
     "name": "stdout",
     "output_type": "stream",
     "text": [
      "------------------------------------------------------\n",
      "Architecture:  [(128, 'sigmoid'), (16, 'tanh'), (10, 'last layer')]\n"
     ]
    },
    {
     "name": "stderr",
     "output_type": "stream",
     "text": [
      "Training loss = 0.514037 val accuracy = 0.827750: 100%|██████████| 10/10 [02:00<00:00, 12.08s/it]\n"
     ]
    },
    {
     "name": "stdout",
     "output_type": "stream",
     "text": [
      "------------------------------------------------------\n",
      "Architecture:  [(512, 'tanh'), (8, 'relu'), (10, 'last layer')]\n"
     ]
    },
    {
     "name": "stderr",
     "output_type": "stream",
     "text": [
      "Training loss = 2.302493 val accuracy = 0.109833: 100%|██████████| 10/10 [02:01<00:00, 12.10s/it]\n"
     ]
    },
    {
     "name": "stdout",
     "output_type": "stream",
     "text": [
      "------------------------------------------------------\n",
      "Architecture:  [(256, 'relu'), (256, 'elu'), (10, 'last layer')]\n"
     ]
    },
    {
     "name": "stderr",
     "output_type": "stream",
     "text": [
      "Training loss = 0.458259 val accuracy = 0.898417: 100%|██████████| 10/10 [02:03<00:00, 12.34s/it]\n"
     ]
    },
    {
     "name": "stdout",
     "output_type": "stream",
     "text": [
      "------------------------------------------------------\n",
      "Architecture:  [(16, 'tanh'), (512, 'sigmoid'), (10, 'last layer')]\n"
     ]
    },
    {
     "name": "stderr",
     "output_type": "stream",
     "text": [
      "Training loss = 2.302706 val accuracy = 0.109833: 100%|██████████| 10/10 [01:59<00:00, 11.99s/it]\n"
     ]
    },
    {
     "name": "stdout",
     "output_type": "stream",
     "text": [
      "------------------------------------------------------\n",
      "Architecture:  [(16, 'tanh'), (512, 'tanh'), (10, 'last layer')]\n"
     ]
    },
    {
     "name": "stderr",
     "output_type": "stream",
     "text": [
      "Training loss = 1.577121 val accuracy = 0.369000: 100%|██████████| 10/10 [01:58<00:00, 11.88s/it]\n"
     ]
    },
    {
     "name": "stdout",
     "output_type": "stream",
     "text": [
      "------------------------------------------------------\n",
      "Architecture:  [(128, 'elu'), (8, 'sigmoid'), (10, 'last layer')]\n"
     ]
    },
    {
     "name": "stderr",
     "output_type": "stream",
     "text": [
      "Training loss = 0.635091 val accuracy = 0.834583: 100%|██████████| 10/10 [02:00<00:00, 12.10s/it]\n"
     ]
    },
    {
     "name": "stdout",
     "output_type": "stream",
     "text": [
      "------------------------------------------------------\n",
      "Architecture:  [(8, 'relu'), (64, 'relu'), (10, 'last layer')]\n"
     ]
    },
    {
     "name": "stderr",
     "output_type": "stream",
     "text": [
      "Training loss = 0.646407 val accuracy = 0.786583: 100%|██████████| 10/10 [01:59<00:00, 11.91s/it]\n"
     ]
    },
    {
     "name": "stdout",
     "output_type": "stream",
     "text": [
      "------------------------------------------------------\n",
      "Architecture:  [(16, 'tanh'), (32, 'tanh'), (10, 'last layer')]\n"
     ]
    },
    {
     "name": "stderr",
     "output_type": "stream",
     "text": [
      "Training loss = 1.868207 val accuracy = 0.193917: 100%|██████████| 10/10 [02:00<00:00, 12.00s/it]\n"
     ]
    },
    {
     "name": "stdout",
     "output_type": "stream",
     "text": [
      "------------------------------------------------------\n",
      "------------------------------------------------------------------\n",
      "                       CONTROLLER EPOCH: 9\n",
      "------------------------------------------------------------------\n",
      "GENERATING ARCHITECTURE SAMPLES...\n",
      "------------------------------------------------------\n",
      "Architecture:  [(16, 'sigmoid'), (16, 'elu'), (10, 'last layer')]\n"
     ]
    },
    {
     "name": "stderr",
     "output_type": "stream",
     "text": [
      "Training loss = 0.803742 val accuracy = 0.744500: 100%|██████████| 10/10 [01:59<00:00, 11.96s/it]\n"
     ]
    },
    {
     "name": "stdout",
     "output_type": "stream",
     "text": [
      "------------------------------------------------------\n",
      "Architecture:  [(16, 'tanh'), (256, 'relu'), (10, 'last layer')]\n"
     ]
    },
    {
     "name": "stderr",
     "output_type": "stream",
     "text": [
      "Training loss = 2.302782 val accuracy = 0.109833: 100%|██████████| 10/10 [01:59<00:00, 11.92s/it]\n"
     ]
    },
    {
     "name": "stdout",
     "output_type": "stream",
     "text": [
      "------------------------------------------------------\n",
      "Architecture:  [(16, 'tanh'), (128, 'relu'), (10, 'last layer')]\n"
     ]
    },
    {
     "name": "stderr",
     "output_type": "stream",
     "text": [
      "Training loss = 1.834013 val accuracy = 0.210667: 100%|██████████| 10/10 [01:58<00:00, 11.85s/it]\n"
     ]
    },
    {
     "name": "stdout",
     "output_type": "stream",
     "text": [
      "------------------------------------------------------\n",
      "Architecture:  [(8, 'relu'), (512, 'sigmoid'), (10, 'last layer')]\n"
     ]
    },
    {
     "name": "stderr",
     "output_type": "stream",
     "text": [
      "Training loss = 0.521890 val accuracy = 0.851667: 100%|██████████| 10/10 [01:58<00:00, 11.80s/it]\n"
     ]
    },
    {
     "name": "stdout",
     "output_type": "stream",
     "text": [
      "------------------------------------------------------\n",
      "Architecture:  [(64, 'tanh'), (8, 'tanh'), (10, 'last layer')]\n"
     ]
    },
    {
     "name": "stderr",
     "output_type": "stream",
     "text": [
      "Training loss = 1.295324 val accuracy = 0.522417: 100%|██████████| 10/10 [01:58<00:00, 11.82s/it]\n"
     ]
    },
    {
     "name": "stdout",
     "output_type": "stream",
     "text": [
      "------------------------------------------------------\n",
      "Architecture:  [(128, 'sigmoid'), (8, 'relu'), (10, 'last layer')]\n"
     ]
    },
    {
     "name": "stderr",
     "output_type": "stream",
     "text": [
      "Training loss = 0.982361 val accuracy = 0.622417: 100%|██████████| 10/10 [01:58<00:00, 11.87s/it]\n"
     ]
    },
    {
     "name": "stdout",
     "output_type": "stream",
     "text": [
      "------------------------------------------------------\n",
      "Architecture:  [(8, 'tanh'), (128, 'tanh'), (10, 'last layer')]\n"
     ]
    },
    {
     "name": "stderr",
     "output_type": "stream",
     "text": [
      "Training loss = 2.317604 val accuracy = 0.105000: 100%|██████████| 10/10 [01:58<00:00, 11.82s/it]\n"
     ]
    },
    {
     "name": "stdout",
     "output_type": "stream",
     "text": [
      "------------------------------------------------------\n",
      "Architecture:  [(8, 'tanh'), (256, 'tanh'), (10, 'last layer')]\n"
     ]
    },
    {
     "name": "stderr",
     "output_type": "stream",
     "text": [
      "Training loss = 2.323722 val accuracy = 0.109833: 100%|██████████| 10/10 [01:59<00:00, 11.95s/it]\n"
     ]
    },
    {
     "name": "stdout",
     "output_type": "stream",
     "text": [
      "------------------------------------------------------\n",
      "Architecture:  [(8, 'sigmoid'), (8, 'sigmoid'), (10, 'last layer')]\n"
     ]
    },
    {
     "name": "stderr",
     "output_type": "stream",
     "text": [
      "Training loss = 1.406177 val accuracy = 0.385167: 100%|██████████| 10/10 [01:59<00:00, 11.90s/it]\n"
     ]
    },
    {
     "name": "stdout",
     "output_type": "stream",
     "text": [
      "------------------------------------------------------\n",
      "Architecture:  [(8, 'relu'), (64, 'tanh'), (10, 'last layer')]\n"
     ]
    },
    {
     "name": "stderr",
     "output_type": "stream",
     "text": [
      "Training loss = 2.304626 val accuracy = 0.109833: 100%|██████████| 10/10 [01:58<00:00, 11.89s/it]\n"
     ]
    },
    {
     "name": "stdout",
     "output_type": "stream",
     "text": [
      "------------------------------------------------------\n",
      "Running script...\n",
      "------------------------------------------------------------------\n",
      "                       CONTROLLER EPOCH: 0\n",
      "------------------------------------------------------------------\n",
      "GENERATING ARCHITECTURE SAMPLES...\n",
      "------------------------------------------------------\n",
      "Architecture:  [(32, 'sigmoid'), (128, 'tanh'), (10, 'last layer')]\n"
     ]
    },
    {
     "name": "stderr",
     "output_type": "stream",
     "text": [
      "Training loss = 1.037119 val accuracy = 0.626000: 100%|██████████| 10/10 [01:58<00:00, 11.87s/it]\n"
     ]
    },
    {
     "name": "stdout",
     "output_type": "stream",
     "text": [
      "------------------------------------------------------\n",
      "Architecture:  [(128, 'tanh'), (32, 'tanh'), (10, 'last layer')]\n"
     ]
    },
    {
     "name": "stderr",
     "output_type": "stream",
     "text": [
      "Training loss = 1.262946 val accuracy = 0.402917: 100%|██████████| 10/10 [01:59<00:00, 11.92s/it]\n"
     ]
    },
    {
     "name": "stdout",
     "output_type": "stream",
     "text": [
      "------------------------------------------------------\n",
      "Architecture:  [(8, 'relu'), (64, 'sigmoid'), (10, 'last layer')]\n"
     ]
    },
    {
     "name": "stderr",
     "output_type": "stream",
     "text": [
      "Training loss = 0.526388 val accuracy = 0.848083: 100%|██████████| 10/10 [01:59<00:00, 12.00s/it]\n"
     ]
    },
    {
     "name": "stdout",
     "output_type": "stream",
     "text": [
      "------------------------------------------------------\n",
      "Architecture:  [(8, 'tanh'), (8, 'elu'), (10, 'last layer')]\n"
     ]
    },
    {
     "name": "stderr",
     "output_type": "stream",
     "text": [
      "Training loss = 2.304510 val accuracy = 0.110917: 100%|██████████| 10/10 [01:58<00:00, 11.89s/it]\n"
     ]
    },
    {
     "name": "stdout",
     "output_type": "stream",
     "text": [
      "------------------------------------------------------\n",
      "Architecture:  [(256, 'sigmoid'), (8, 'elu'), (10, 'last layer')]\n"
     ]
    },
    {
     "name": "stderr",
     "output_type": "stream",
     "text": [
      "Training loss = 0.471384 val accuracy = 0.880750: 100%|██████████| 10/10 [01:59<00:00, 11.97s/it]\n"
     ]
    },
    {
     "name": "stdout",
     "output_type": "stream",
     "text": [
      "------------------------------------------------------\n",
      "Architecture:  [(256, 'elu'), (64, 'sigmoid'), (10, 'last layer')]\n"
     ]
    },
    {
     "name": "stderr",
     "output_type": "stream",
     "text": [
      "Training loss = 0.831870 val accuracy = 0.751917: 100%|██████████| 10/10 [02:00<00:00, 12.08s/it]\n"
     ]
    },
    {
     "name": "stdout",
     "output_type": "stream",
     "text": [
      "------------------------------------------------------\n",
      "Architecture:  [(512, 'sigmoid'), (8, 'relu'), (10, 'last layer')]\n"
     ]
    },
    {
     "name": "stderr",
     "output_type": "stream",
     "text": [
      "Training loss = 2.302388 val accuracy = 0.110917: 100%|██████████| 10/10 [02:00<00:00, 12.05s/it]\n"
     ]
    },
    {
     "name": "stdout",
     "output_type": "stream",
     "text": [
      "------------------------------------------------------\n",
      "Architecture:  [(32, 'tanh'), (64, 'tanh'), (10, 'last layer')]\n"
     ]
    },
    {
     "name": "stderr",
     "output_type": "stream",
     "text": [
      "Training loss = 2.360724 val accuracy = 0.104000: 100%|██████████| 10/10 [01:58<00:00, 11.88s/it]\n"
     ]
    },
    {
     "name": "stdout",
     "output_type": "stream",
     "text": [
      "------------------------------------------------------\n",
      "Architecture:  [(8, 'elu'), (8, 'relu'), (10, 'last layer')]\n"
     ]
    },
    {
     "name": "stderr",
     "output_type": "stream",
     "text": [
      "Training loss = 0.941214 val accuracy = 0.686833: 100%|██████████| 10/10 [02:00<00:00, 12.01s/it]\n"
     ]
    },
    {
     "name": "stdout",
     "output_type": "stream",
     "text": [
      "------------------------------------------------------\n",
      "Architecture:  [(512, 'sigmoid'), (128, 'tanh'), (10, 'last layer')]\n"
     ]
    },
    {
     "name": "stderr",
     "output_type": "stream",
     "text": [
      "Training loss = 2.441435 val accuracy = 0.110917: 100%|██████████| 10/10 [02:03<00:00, 12.30s/it]\n"
     ]
    },
    {
     "name": "stdout",
     "output_type": "stream",
     "text": [
      "------------------------------------------------------\n",
      "------------------------------------------------------------------\n",
      "                       CONTROLLER EPOCH: 1\n",
      "------------------------------------------------------------------\n",
      "GENERATING ARCHITECTURE SAMPLES...\n",
      "------------------------------------------------------\n",
      "Architecture:  [(64, 'sigmoid'), (64, 'tanh'), (10, 'last layer')]\n"
     ]
    },
    {
     "name": "stderr",
     "output_type": "stream",
     "text": [
      "Training loss = 0.550461 val accuracy = 0.839000: 100%|██████████| 10/10 [01:59<00:00, 11.93s/it]\n"
     ]
    },
    {
     "name": "stdout",
     "output_type": "stream",
     "text": [
      "------------------------------------------------------\n",
      "Architecture:  [(16, 'tanh'), (512, 'tanh'), (10, 'last layer')]\n"
     ]
    },
    {
     "name": "stderr",
     "output_type": "stream",
     "text": [
      "Training loss = 2.368549 val accuracy = 0.110917: 100%|██████████| 10/10 [01:58<00:00, 11.86s/it]\n"
     ]
    },
    {
     "name": "stdout",
     "output_type": "stream",
     "text": [
      "------------------------------------------------------\n",
      "Architecture:  [(128, 'elu'), (32, 'tanh'), (10, 'last layer')]\n"
     ]
    },
    {
     "name": "stderr",
     "output_type": "stream",
     "text": [
      "Training loss = 2.344407 val accuracy = 0.110917: 100%|██████████| 10/10 [01:59<00:00, 11.95s/it]\n"
     ]
    },
    {
     "name": "stdout",
     "output_type": "stream",
     "text": [
      "------------------------------------------------------\n",
      "Architecture:  [(256, 'tanh'), 'dropout', (10, 'last layer')]\n"
     ]
    },
    {
     "name": "stderr",
     "output_type": "stream",
     "text": [
      "Training loss = 1.125885 val accuracy = 0.820333: 100%|██████████| 10/10 [01:57<00:00, 11.79s/it]\n"
     ]
    },
    {
     "name": "stdout",
     "output_type": "stream",
     "text": [
      "------------------------------------------------------\n",
      "Architecture:  [(512, 'relu'), (64, 'relu'), (10, 'last layer')]\n"
     ]
    },
    {
     "name": "stderr",
     "output_type": "stream",
     "text": [
      "Training loss = 0.226054 val accuracy = 0.945083: 100%|██████████| 10/10 [02:00<00:00, 12.04s/it]\n"
     ]
    },
    {
     "name": "stdout",
     "output_type": "stream",
     "text": [
      "------------------------------------------------------\n",
      "Architecture:  [(16, 'tanh'), (256, 'relu'), (10, 'last layer')]\n"
     ]
    },
    {
     "name": "stderr",
     "output_type": "stream",
     "text": [
      "Training loss = 2.302514 val accuracy = 0.110917: 100%|██████████| 10/10 [01:58<00:00, 11.89s/it]\n"
     ]
    },
    {
     "name": "stdout",
     "output_type": "stream",
     "text": [
      "------------------------------------------------------\n",
      "Architecture:  [(512, 'sigmoid'), (8, 'sigmoid'), (10, 'last layer')]\n"
     ]
    },
    {
     "name": "stderr",
     "output_type": "stream",
     "text": [
      "Training loss = 1.089602 val accuracy = 0.619167: 100%|██████████| 10/10 [02:00<00:00, 12.01s/it]\n"
     ]
    },
    {
     "name": "stdout",
     "output_type": "stream",
     "text": [
      "------------------------------------------------------\n",
      "Architecture:  [(256, 'elu'), (512, 'sigmoid'), (10, 'last layer')]\n"
     ]
    },
    {
     "name": "stderr",
     "output_type": "stream",
     "text": [
      "Training loss = 0.756616 val accuracy = 0.787083: 100%|██████████| 10/10 [02:02<00:00, 12.28s/it]\n"
     ]
    },
    {
     "name": "stdout",
     "output_type": "stream",
     "text": [
      "------------------------------------------------------\n",
      "Architecture:  [(8, 'tanh'), (32, 'elu'), (10, 'last layer')]\n"
     ]
    },
    {
     "name": "stderr",
     "output_type": "stream",
     "text": [
      "Training loss = 2.307845 val accuracy = 0.100917: 100%|██████████| 10/10 [01:58<00:00, 11.85s/it]\n"
     ]
    },
    {
     "name": "stdout",
     "output_type": "stream",
     "text": [
      "------------------------------------------------------\n",
      "Architecture:  [(512, 'relu'), (128, 'tanh'), (10, 'last layer')]\n"
     ]
    },
    {
     "name": "stderr",
     "output_type": "stream",
     "text": [
      "Training loss = 2.438253 val accuracy = 0.101167: 100%|██████████| 10/10 [02:01<00:00, 12.15s/it]\n"
     ]
    },
    {
     "name": "stdout",
     "output_type": "stream",
     "text": [
      "------------------------------------------------------\n",
      "------------------------------------------------------------------\n",
      "                       CONTROLLER EPOCH: 2\n",
      "------------------------------------------------------------------\n",
      "GENERATING ARCHITECTURE SAMPLES...\n",
      "------------------------------------------------------\n",
      "Architecture:  [(256, 'relu'), (512, 'relu'), (10, 'last layer')]\n"
     ]
    },
    {
     "name": "stderr",
     "output_type": "stream",
     "text": [
      "Training loss = 0.434785 val accuracy = 0.889250:  50%|█████     | 5/10 [01:06<01:06, 13.31s/it]\n"
     ]
    },
    {
     "ename": "KeyboardInterrupt",
     "evalue": "",
     "output_type": "error",
     "traceback": [
      "\u001b[0;31m---------------------------------------------------------------------------\u001b[0m",
      "\u001b[0;31mKeyboardInterrupt\u001b[0m                         Traceback (most recent call last)",
      "File \u001b[0;32m~/workspace/MLPNAS_Pytorch/Pytorch/run.py:10\u001b[0m\n\u001b[1;32m      7\u001b[0m data_loader \u001b[38;5;241m=\u001b[39m (train_loader, valid_loader)\n\u001b[1;32m      9\u001b[0m nas_object \u001b[38;5;241m=\u001b[39m MLPNAS(data_loader)\n\u001b[0;32m---> 10\u001b[0m data \u001b[38;5;241m=\u001b[39m \u001b[43mnas_object\u001b[49m\u001b[38;5;241;43m.\u001b[39;49m\u001b[43msearch\u001b[49m\u001b[43m(\u001b[49m\u001b[43m)\u001b[49m\n\u001b[1;32m     12\u001b[0m \u001b[38;5;66;03m# get_top_n_architectures(TOP_N)\u001b[39;00m\n",
      "File \u001b[0;32m~/workspace/MLPNAS_Pytorch/Pytorch/mlpnas.py:158\u001b[0m, in \u001b[0;36mMLPNAS.search\u001b[0;34m(self)\u001b[0m\n\u001b[1;32m    156\u001b[0m \u001b[38;5;28mprint\u001b[39m(\u001b[38;5;124m'\u001b[39m\u001b[38;5;124mArchitecture: \u001b[39m\u001b[38;5;124m'\u001b[39m, \u001b[38;5;28mself\u001b[39m\u001b[38;5;241m.\u001b[39mdecode_sequence(sequence))\n\u001b[1;32m    157\u001b[0m model \u001b[38;5;241m=\u001b[39m \u001b[38;5;28mself\u001b[39m\u001b[38;5;241m.\u001b[39mcreate_architecture(sequence)\n\u001b[0;32m--> 158\u001b[0m history \u001b[38;5;241m=\u001b[39m \u001b[38;5;28;43mself\u001b[39;49m\u001b[38;5;241;43m.\u001b[39;49m\u001b[43mtrain_architecture\u001b[49m\u001b[43m(\u001b[49m\u001b[43mmodel\u001b[49m\u001b[43m)\u001b[49m\n\u001b[1;32m    159\u001b[0m \u001b[38;5;28mself\u001b[39m\u001b[38;5;241m.\u001b[39mappend_model_metrics(sequence, history)\n\u001b[1;32m    160\u001b[0m \u001b[38;5;28mprint\u001b[39m(\u001b[38;5;124m'\u001b[39m\u001b[38;5;124m------------------------------------------------------\u001b[39m\u001b[38;5;124m'\u001b[39m)\n",
      "File \u001b[0;32m~/workspace/MLPNAS_Pytorch/Pytorch/mlpnas.py:63\u001b[0m, in \u001b[0;36mMLPNAS.train_architecture\u001b[0;34m(self, model)\u001b[0m\n\u001b[1;32m     62\u001b[0m \u001b[38;5;28;01mdef\u001b[39;00m \u001b[38;5;21mtrain_architecture\u001b[39m(\u001b[38;5;28mself\u001b[39m, model):\n\u001b[0;32m---> 63\u001b[0m     history \u001b[38;5;241m=\u001b[39m \u001b[38;5;28;43mself\u001b[39;49m\u001b[38;5;241;43m.\u001b[39;49m\u001b[43mmodel_generator\u001b[49m\u001b[38;5;241;43m.\u001b[39;49m\u001b[43mtrain_model\u001b[49m\u001b[43m(\u001b[49m\u001b[43mmodel\u001b[49m\u001b[43m,\u001b[49m\u001b[43m \u001b[49m\u001b[38;5;28;43mself\u001b[39;49m\u001b[38;5;241;43m.\u001b[39;49m\u001b[43mdata_loader\u001b[49m\u001b[43m,\u001b[49m\u001b[43m \u001b[49m\u001b[38;5;28;43mself\u001b[39;49m\u001b[38;5;241;43m.\u001b[39;49m\u001b[43marchitecture_train_epochs\u001b[49m\u001b[43m)\u001b[49m\n\u001b[1;32m     64\u001b[0m     \u001b[38;5;28;01mreturn\u001b[39;00m history\n",
      "File \u001b[0;32m~/workspace/MLPNAS_Pytorch/Pytorch/mlp_generator.py:145\u001b[0m, in \u001b[0;36mMLPGenerator.train_model\u001b[0;34m(self, model, data_loader, nb_epochs)\u001b[0m\n\u001b[1;32m    142\u001b[0m \u001b[38;5;66;03m# ensure model is in training mode\u001b[39;00m\n\u001b[1;32m    143\u001b[0m model\u001b[38;5;241m.\u001b[39mtrain()    \n\u001b[0;32m--> 145\u001b[0m \u001b[38;5;28;01mfor\u001b[39;00m data \u001b[38;5;129;01min\u001b[39;00m train_loader:        \n\u001b[1;32m    146\u001b[0m     inputs, target \u001b[38;5;241m=\u001b[39m data\n\u001b[1;32m    147\u001b[0m     inputs, target \u001b[38;5;241m=\u001b[39m inputs\u001b[38;5;241m.\u001b[39mto(\u001b[38;5;28mself\u001b[39m\u001b[38;5;241m.\u001b[39mdevice), target\u001b[38;5;241m.\u001b[39mto(\u001b[38;5;28mself\u001b[39m\u001b[38;5;241m.\u001b[39mdevice)\n",
      "File \u001b[0;32m/opt/saturncloud/envs/saturn/lib/python3.9/site-packages/torch/utils/data/dataloader.py:530\u001b[0m, in \u001b[0;36m_BaseDataLoaderIter.__next__\u001b[0;34m(self)\u001b[0m\n\u001b[1;32m    528\u001b[0m \u001b[38;5;28;01mif\u001b[39;00m \u001b[38;5;28mself\u001b[39m\u001b[38;5;241m.\u001b[39m_sampler_iter \u001b[38;5;129;01mis\u001b[39;00m \u001b[38;5;28;01mNone\u001b[39;00m:\n\u001b[1;32m    529\u001b[0m     \u001b[38;5;28mself\u001b[39m\u001b[38;5;241m.\u001b[39m_reset()\n\u001b[0;32m--> 530\u001b[0m data \u001b[38;5;241m=\u001b[39m \u001b[38;5;28;43mself\u001b[39;49m\u001b[38;5;241;43m.\u001b[39;49m\u001b[43m_next_data\u001b[49m\u001b[43m(\u001b[49m\u001b[43m)\u001b[49m\n\u001b[1;32m    531\u001b[0m \u001b[38;5;28mself\u001b[39m\u001b[38;5;241m.\u001b[39m_num_yielded \u001b[38;5;241m+\u001b[39m\u001b[38;5;241m=\u001b[39m \u001b[38;5;241m1\u001b[39m\n\u001b[1;32m    532\u001b[0m \u001b[38;5;28;01mif\u001b[39;00m \u001b[38;5;28mself\u001b[39m\u001b[38;5;241m.\u001b[39m_dataset_kind \u001b[38;5;241m==\u001b[39m _DatasetKind\u001b[38;5;241m.\u001b[39mIterable \u001b[38;5;129;01mand\u001b[39;00m \\\n\u001b[1;32m    533\u001b[0m         \u001b[38;5;28mself\u001b[39m\u001b[38;5;241m.\u001b[39m_IterableDataset_len_called \u001b[38;5;129;01mis\u001b[39;00m \u001b[38;5;129;01mnot\u001b[39;00m \u001b[38;5;28;01mNone\u001b[39;00m \u001b[38;5;129;01mand\u001b[39;00m \\\n\u001b[1;32m    534\u001b[0m         \u001b[38;5;28mself\u001b[39m\u001b[38;5;241m.\u001b[39m_num_yielded \u001b[38;5;241m>\u001b[39m \u001b[38;5;28mself\u001b[39m\u001b[38;5;241m.\u001b[39m_IterableDataset_len_called:\n",
      "File \u001b[0;32m/opt/saturncloud/envs/saturn/lib/python3.9/site-packages/torch/utils/data/dataloader.py:570\u001b[0m, in \u001b[0;36m_SingleProcessDataLoaderIter._next_data\u001b[0;34m(self)\u001b[0m\n\u001b[1;32m    568\u001b[0m \u001b[38;5;28;01mdef\u001b[39;00m \u001b[38;5;21m_next_data\u001b[39m(\u001b[38;5;28mself\u001b[39m):\n\u001b[1;32m    569\u001b[0m     index \u001b[38;5;241m=\u001b[39m \u001b[38;5;28mself\u001b[39m\u001b[38;5;241m.\u001b[39m_next_index()  \u001b[38;5;66;03m# may raise StopIteration\u001b[39;00m\n\u001b[0;32m--> 570\u001b[0m     data \u001b[38;5;241m=\u001b[39m \u001b[38;5;28;43mself\u001b[39;49m\u001b[38;5;241;43m.\u001b[39;49m\u001b[43m_dataset_fetcher\u001b[49m\u001b[38;5;241;43m.\u001b[39;49m\u001b[43mfetch\u001b[49m\u001b[43m(\u001b[49m\u001b[43mindex\u001b[49m\u001b[43m)\u001b[49m  \u001b[38;5;66;03m# may raise StopIteration\u001b[39;00m\n\u001b[1;32m    571\u001b[0m     \u001b[38;5;28;01mif\u001b[39;00m \u001b[38;5;28mself\u001b[39m\u001b[38;5;241m.\u001b[39m_pin_memory:\n\u001b[1;32m    572\u001b[0m         data \u001b[38;5;241m=\u001b[39m _utils\u001b[38;5;241m.\u001b[39mpin_memory\u001b[38;5;241m.\u001b[39mpin_memory(data)\n",
      "File \u001b[0;32m/opt/saturncloud/envs/saturn/lib/python3.9/site-packages/torch/utils/data/_utils/fetch.py:49\u001b[0m, in \u001b[0;36m_MapDatasetFetcher.fetch\u001b[0;34m(self, possibly_batched_index)\u001b[0m\n\u001b[1;32m     47\u001b[0m \u001b[38;5;28;01mdef\u001b[39;00m \u001b[38;5;21mfetch\u001b[39m(\u001b[38;5;28mself\u001b[39m, possibly_batched_index):\n\u001b[1;32m     48\u001b[0m     \u001b[38;5;28;01mif\u001b[39;00m \u001b[38;5;28mself\u001b[39m\u001b[38;5;241m.\u001b[39mauto_collation:\n\u001b[0;32m---> 49\u001b[0m         data \u001b[38;5;241m=\u001b[39m [\u001b[38;5;28mself\u001b[39m\u001b[38;5;241m.\u001b[39mdataset[idx] \u001b[38;5;28;01mfor\u001b[39;00m idx \u001b[38;5;129;01min\u001b[39;00m possibly_batched_index]\n\u001b[1;32m     50\u001b[0m     \u001b[38;5;28;01melse\u001b[39;00m:\n\u001b[1;32m     51\u001b[0m         data \u001b[38;5;241m=\u001b[39m \u001b[38;5;28mself\u001b[39m\u001b[38;5;241m.\u001b[39mdataset[possibly_batched_index]\n",
      "File \u001b[0;32m/opt/saturncloud/envs/saturn/lib/python3.9/site-packages/torch/utils/data/_utils/fetch.py:49\u001b[0m, in \u001b[0;36m<listcomp>\u001b[0;34m(.0)\u001b[0m\n\u001b[1;32m     47\u001b[0m \u001b[38;5;28;01mdef\u001b[39;00m \u001b[38;5;21mfetch\u001b[39m(\u001b[38;5;28mself\u001b[39m, possibly_batched_index):\n\u001b[1;32m     48\u001b[0m     \u001b[38;5;28;01mif\u001b[39;00m \u001b[38;5;28mself\u001b[39m\u001b[38;5;241m.\u001b[39mauto_collation:\n\u001b[0;32m---> 49\u001b[0m         data \u001b[38;5;241m=\u001b[39m [\u001b[38;5;28;43mself\u001b[39;49m\u001b[38;5;241;43m.\u001b[39;49m\u001b[43mdataset\u001b[49m\u001b[43m[\u001b[49m\u001b[43midx\u001b[49m\u001b[43m]\u001b[49m \u001b[38;5;28;01mfor\u001b[39;00m idx \u001b[38;5;129;01min\u001b[39;00m possibly_batched_index]\n\u001b[1;32m     50\u001b[0m     \u001b[38;5;28;01melse\u001b[39;00m:\n\u001b[1;32m     51\u001b[0m         data \u001b[38;5;241m=\u001b[39m \u001b[38;5;28mself\u001b[39m\u001b[38;5;241m.\u001b[39mdataset[possibly_batched_index]\n",
      "File \u001b[0;32m/opt/saturncloud/envs/saturn/lib/python3.9/site-packages/torch/utils/data/dataset.py:471\u001b[0m, in \u001b[0;36mSubset.__getitem__\u001b[0;34m(self, idx)\u001b[0m\n\u001b[1;32m    469\u001b[0m \u001b[38;5;28;01mif\u001b[39;00m \u001b[38;5;28misinstance\u001b[39m(idx, \u001b[38;5;28mlist\u001b[39m):\n\u001b[1;32m    470\u001b[0m     \u001b[38;5;28;01mreturn\u001b[39;00m \u001b[38;5;28mself\u001b[39m\u001b[38;5;241m.\u001b[39mdataset[[\u001b[38;5;28mself\u001b[39m\u001b[38;5;241m.\u001b[39mindices[i] \u001b[38;5;28;01mfor\u001b[39;00m i \u001b[38;5;129;01min\u001b[39;00m idx]]\n\u001b[0;32m--> 471\u001b[0m \u001b[38;5;28;01mreturn\u001b[39;00m \u001b[38;5;28;43mself\u001b[39;49m\u001b[38;5;241;43m.\u001b[39;49m\u001b[43mdataset\u001b[49m\u001b[43m[\u001b[49m\u001b[38;5;28;43mself\u001b[39;49m\u001b[38;5;241;43m.\u001b[39;49m\u001b[43mindices\u001b[49m\u001b[43m[\u001b[49m\u001b[43midx\u001b[49m\u001b[43m]\u001b[49m\u001b[43m]\u001b[49m\n",
      "File \u001b[0;32m/opt/saturncloud/envs/saturn/lib/python3.9/site-packages/torchvision/datasets/mnist.py:142\u001b[0m, in \u001b[0;36mMNIST.__getitem__\u001b[0;34m(self, index)\u001b[0m\n\u001b[1;32m    138\u001b[0m img, target \u001b[38;5;241m=\u001b[39m \u001b[38;5;28mself\u001b[39m\u001b[38;5;241m.\u001b[39mdata[index], \u001b[38;5;28mint\u001b[39m(\u001b[38;5;28mself\u001b[39m\u001b[38;5;241m.\u001b[39mtargets[index])\n\u001b[1;32m    140\u001b[0m \u001b[38;5;66;03m# doing this so that it is consistent with all other datasets\u001b[39;00m\n\u001b[1;32m    141\u001b[0m \u001b[38;5;66;03m# to return a PIL Image\u001b[39;00m\n\u001b[0;32m--> 142\u001b[0m img \u001b[38;5;241m=\u001b[39m \u001b[43mImage\u001b[49m\u001b[38;5;241;43m.\u001b[39;49m\u001b[43mfromarray\u001b[49m\u001b[43m(\u001b[49m\u001b[43mimg\u001b[49m\u001b[38;5;241;43m.\u001b[39;49m\u001b[43mnumpy\u001b[49m\u001b[43m(\u001b[49m\u001b[43m)\u001b[49m\u001b[43m,\u001b[49m\u001b[43m \u001b[49m\u001b[43mmode\u001b[49m\u001b[38;5;241;43m=\u001b[39;49m\u001b[38;5;124;43m\"\u001b[39;49m\u001b[38;5;124;43mL\u001b[39;49m\u001b[38;5;124;43m\"\u001b[39;49m\u001b[43m)\u001b[49m\n\u001b[1;32m    144\u001b[0m \u001b[38;5;28;01mif\u001b[39;00m \u001b[38;5;28mself\u001b[39m\u001b[38;5;241m.\u001b[39mtransform \u001b[38;5;129;01mis\u001b[39;00m \u001b[38;5;129;01mnot\u001b[39;00m \u001b[38;5;28;01mNone\u001b[39;00m:\n\u001b[1;32m    145\u001b[0m     img \u001b[38;5;241m=\u001b[39m \u001b[38;5;28mself\u001b[39m\u001b[38;5;241m.\u001b[39mtransform(img)\n",
      "File \u001b[0;32m/opt/saturncloud/envs/saturn/lib/python3.9/site-packages/PIL/Image.py:2918\u001b[0m, in \u001b[0;36mfromarray\u001b[0;34m(obj, mode)\u001b[0m\n\u001b[1;32m   2879\u001b[0m \u001b[38;5;28;01mdef\u001b[39;00m \u001b[38;5;21mfromarray\u001b[39m(obj, mode\u001b[38;5;241m=\u001b[39m\u001b[38;5;28;01mNone\u001b[39;00m):\n\u001b[1;32m   2880\u001b[0m \u001b[38;5;250m    \u001b[39m\u001b[38;5;124;03m\"\"\"\u001b[39;00m\n\u001b[1;32m   2881\u001b[0m \u001b[38;5;124;03m    Creates an image memory from an object exporting the array interface\u001b[39;00m\n\u001b[1;32m   2882\u001b[0m \u001b[38;5;124;03m    (using the buffer protocol).\u001b[39;00m\n\u001b[0;32m   (...)\u001b[0m\n\u001b[1;32m   2916\u001b[0m \u001b[38;5;124;03m    .. versionadded:: 1.1.6\u001b[39;00m\n\u001b[1;32m   2917\u001b[0m \u001b[38;5;124;03m    \"\"\"\u001b[39;00m\n\u001b[0;32m-> 2918\u001b[0m     arr \u001b[38;5;241m=\u001b[39m \u001b[43mobj\u001b[49m\u001b[38;5;241;43m.\u001b[39;49m\u001b[43m__array_interface__\u001b[49m\n\u001b[1;32m   2919\u001b[0m     shape \u001b[38;5;241m=\u001b[39m arr[\u001b[38;5;124m\"\u001b[39m\u001b[38;5;124mshape\u001b[39m\u001b[38;5;124m\"\u001b[39m]\n\u001b[1;32m   2920\u001b[0m     ndim \u001b[38;5;241m=\u001b[39m \u001b[38;5;28mlen\u001b[39m(shape)\n",
      "\u001b[0;31mKeyboardInterrupt\u001b[0m: "
     ]
    },
    {
     "name": "stdout",
     "output_type": "stream",
     "text": [
      "Script execution completed.\n"
     ]
    }
   ],
   "source": [
    "import time\n",
    "\n",
    "# Define the fixed duration in seconds for which you want to run the script\n",
    "fixed_duration_seconds = 29*360000  # Change this to the desired duration in seconds\n",
    "\n",
    "# Define the maximum number of times you want the script to be executed\n",
    "max_execution_count = 6  # Change this to the desired maximum execution count\n",
    "\n",
    "# Get the current time in seconds\n",
    "start_time = time.time()\n",
    "\n",
    "# Counter to keep track of the number of script executions\n",
    "execution_count = 0\n",
    "\n",
    "# Main loop that will run until the fixed duration is reached or max execution count is reached\n",
    "while (time.time() - start_time < fixed_duration_seconds) and (execution_count < max_execution_count):\n",
    "    # Place your script or code that you want to run here\n",
    "    # For example, print a message every time the script runs\n",
    "    print(\"Running script...\")\n",
    "    %run ./run.py\n",
    "    # Increment the execution count\n",
    "    execution_count += 1\n",
    "\n",
    "    # Add a delay to control the loop execution frequency (optional)\n",
    "    time.sleep(1)  # Sleep for 1 second\n",
    "\n",
    "# The loop will exit either after the fixed duration is reached or max execution count is reached\n",
    "print(\"Script execution completed.\")\n"
   ]
  }
 ],
 "metadata": {
  "kernelspec": {
   "display_name": "saturn (Python 3)",
   "language": "python",
   "name": "python3"
  },
  "language_info": {
   "codemirror_mode": {
    "name": "ipython",
    "version": 3
   },
   "file_extension": ".py",
   "mimetype": "text/x-python",
   "name": "python",
   "nbconvert_exporter": "python",
   "pygments_lexer": "ipython3",
   "version": "3.9.15"
  },
  "vscode": {
   "interpreter": {
    "hash": "0acf3a43864080be2c12a8131525f00380261cf4c845198ddc9955ee0334afb7"
   }
  }
 },
 "nbformat": 4,
 "nbformat_minor": 4
}
