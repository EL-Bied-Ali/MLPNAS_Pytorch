{
 "cells": [
  {
   "cell_type": "code",
   "execution_count": 1,
   "metadata": {
    "execution": {
     "iopub.execute_input": "2023-07-22T11:35:26.431429Z",
     "iopub.status.busy": "2023-07-22T11:35:26.431085Z",
     "iopub.status.idle": "2023-07-22T11:35:53.782582Z",
     "shell.execute_reply": "2023-07-22T11:35:53.781768Z",
     "shell.execute_reply.started": "2023-07-22T11:35:26.431394Z"
    },
    "tags": []
   },
   "outputs": [
    {
     "name": "stdout",
     "output_type": "stream",
     "text": [
      "------------------------------------------------------------------\n",
      "                       CONTROLLER EPOCH: 0\n",
      "------------------------------------------------------------------\n",
      "GENERATING ARCHITECTURE SAMPLES...\n",
      "------------------------------------------------------\n",
      "Architecture:  [(16, 'tanh'), (64, 'elu'), (10, 'last layer')]\n"
     ]
    },
    {
     "name": "stderr",
     "output_type": "stream",
     "text": [
      "Training loss = 1.908193 val accuracy = 0.180000:  10%|█         | 1/10 [00:20<03:06, 20.77s/it]\n"
     ]
    },
    {
     "ename": "KeyboardInterrupt",
     "evalue": "",
     "output_type": "error",
     "traceback": [
      "\u001b[0;31m---------------------------------------------------------------------------\u001b[0m",
      "\u001b[0;31mKeyboardInterrupt\u001b[0m                         Traceback (most recent call last)",
      "File \u001b[0;32m~/workspace/MLPNAS_Pytorch/Pytorch/run.py:10\u001b[0m\n\u001b[1;32m      7\u001b[0m data_loader \u001b[38;5;241m=\u001b[39m (train_loader, valid_loader)\n\u001b[1;32m      9\u001b[0m nas_object \u001b[38;5;241m=\u001b[39m MLPNAS(data_loader)\n\u001b[0;32m---> 10\u001b[0m data \u001b[38;5;241m=\u001b[39m \u001b[43mnas_object\u001b[49m\u001b[38;5;241;43m.\u001b[39;49m\u001b[43msearch\u001b[49m\u001b[43m(\u001b[49m\u001b[43m)\u001b[49m\n\u001b[1;32m     12\u001b[0m get_top_n_architectures(TOP_N)\n",
      "File \u001b[0;32m~/workspace/MLPNAS_Pytorch/Pytorch/mlpnas.py:150\u001b[0m, in \u001b[0;36mMLPNAS.search\u001b[0;34m(self)\u001b[0m\n\u001b[1;32m    148\u001b[0m \u001b[38;5;28mprint\u001b[39m(\u001b[38;5;124m'\u001b[39m\u001b[38;5;124mArchitecture: \u001b[39m\u001b[38;5;124m'\u001b[39m, \u001b[38;5;28mself\u001b[39m\u001b[38;5;241m.\u001b[39mdecode_sequence(sequence))\n\u001b[1;32m    149\u001b[0m model \u001b[38;5;241m=\u001b[39m \u001b[38;5;28mself\u001b[39m\u001b[38;5;241m.\u001b[39mcreate_architecture(sequence)\n\u001b[0;32m--> 150\u001b[0m history \u001b[38;5;241m=\u001b[39m \u001b[38;5;28;43mself\u001b[39;49m\u001b[38;5;241;43m.\u001b[39;49m\u001b[43mtrain_architecture\u001b[49m\u001b[43m(\u001b[49m\u001b[43mmodel\u001b[49m\u001b[43m)\u001b[49m\n\u001b[1;32m    151\u001b[0m \u001b[38;5;28mself\u001b[39m\u001b[38;5;241m.\u001b[39mappend_model_metrics(sequence, history)\n\u001b[1;32m    152\u001b[0m \u001b[38;5;28mprint\u001b[39m(\u001b[38;5;124m'\u001b[39m\u001b[38;5;124m------------------------------------------------------\u001b[39m\u001b[38;5;124m'\u001b[39m)\n",
      "File \u001b[0;32m~/workspace/MLPNAS_Pytorch/Pytorch/mlpnas.py:54\u001b[0m, in \u001b[0;36mMLPNAS.train_architecture\u001b[0;34m(self, model)\u001b[0m\n\u001b[1;32m     53\u001b[0m \u001b[38;5;28;01mdef\u001b[39;00m \u001b[38;5;21mtrain_architecture\u001b[39m(\u001b[38;5;28mself\u001b[39m, model):\n\u001b[0;32m---> 54\u001b[0m     history \u001b[38;5;241m=\u001b[39m \u001b[38;5;28;43mself\u001b[39;49m\u001b[38;5;241;43m.\u001b[39;49m\u001b[43mmodel_generator\u001b[49m\u001b[38;5;241;43m.\u001b[39;49m\u001b[43mtrain_model\u001b[49m\u001b[43m(\u001b[49m\u001b[43mmodel\u001b[49m\u001b[43m,\u001b[49m\u001b[43m \u001b[49m\u001b[38;5;28;43mself\u001b[39;49m\u001b[38;5;241;43m.\u001b[39;49m\u001b[43mdata_loader\u001b[49m\u001b[43m,\u001b[49m\u001b[43m \u001b[49m\u001b[38;5;28;43mself\u001b[39;49m\u001b[38;5;241;43m.\u001b[39;49m\u001b[43marchitecture_train_epochs\u001b[49m\u001b[43m)\u001b[49m\n\u001b[1;32m     55\u001b[0m     \u001b[38;5;28;01mreturn\u001b[39;00m history\n",
      "File \u001b[0;32m~/workspace/MLPNAS_Pytorch/Pytorch/mlp_generator.py:155\u001b[0m, in \u001b[0;36mMLPGenerator.train_model\u001b[0;34m(self, model, data_loader, nb_epochs)\u001b[0m\n\u001b[1;32m    152\u001b[0m loss \u001b[38;5;241m=\u001b[39m criterion(output, target)\n\u001b[1;32m    154\u001b[0m \u001b[38;5;66;03m# backward pass + run optimizer to update weights\u001b[39;00m\n\u001b[0;32m--> 155\u001b[0m \u001b[43mloss\u001b[49m\u001b[38;5;241;43m.\u001b[39;49m\u001b[43mbackward\u001b[49m\u001b[43m(\u001b[49m\u001b[43m)\u001b[49m\n\u001b[1;32m    156\u001b[0m optimizer\u001b[38;5;241m.\u001b[39mstep()\n\u001b[1;32m    158\u001b[0m \u001b[38;5;66;03m# keep track of loss value\u001b[39;00m\n",
      "File \u001b[0;32m/opt/saturncloud/envs/saturn/lib/python3.9/site-packages/torch/_tensor.py:363\u001b[0m, in \u001b[0;36mTensor.backward\u001b[0;34m(self, gradient, retain_graph, create_graph, inputs)\u001b[0m\n\u001b[1;32m    354\u001b[0m \u001b[38;5;28;01mif\u001b[39;00m has_torch_function_unary(\u001b[38;5;28mself\u001b[39m):\n\u001b[1;32m    355\u001b[0m     \u001b[38;5;28;01mreturn\u001b[39;00m handle_torch_function(\n\u001b[1;32m    356\u001b[0m         Tensor\u001b[38;5;241m.\u001b[39mbackward,\n\u001b[1;32m    357\u001b[0m         (\u001b[38;5;28mself\u001b[39m,),\n\u001b[0;32m   (...)\u001b[0m\n\u001b[1;32m    361\u001b[0m         create_graph\u001b[38;5;241m=\u001b[39mcreate_graph,\n\u001b[1;32m    362\u001b[0m         inputs\u001b[38;5;241m=\u001b[39minputs)\n\u001b[0;32m--> 363\u001b[0m \u001b[43mtorch\u001b[49m\u001b[38;5;241;43m.\u001b[39;49m\u001b[43mautograd\u001b[49m\u001b[38;5;241;43m.\u001b[39;49m\u001b[43mbackward\u001b[49m\u001b[43m(\u001b[49m\u001b[38;5;28;43mself\u001b[39;49m\u001b[43m,\u001b[49m\u001b[43m \u001b[49m\u001b[43mgradient\u001b[49m\u001b[43m,\u001b[49m\u001b[43m \u001b[49m\u001b[43mretain_graph\u001b[49m\u001b[43m,\u001b[49m\u001b[43m \u001b[49m\u001b[43mcreate_graph\u001b[49m\u001b[43m,\u001b[49m\u001b[43m \u001b[49m\u001b[43minputs\u001b[49m\u001b[38;5;241;43m=\u001b[39;49m\u001b[43minputs\u001b[49m\u001b[43m)\u001b[49m\n",
      "File \u001b[0;32m/opt/saturncloud/envs/saturn/lib/python3.9/site-packages/torch/autograd/__init__.py:173\u001b[0m, in \u001b[0;36mbackward\u001b[0;34m(tensors, grad_tensors, retain_graph, create_graph, grad_variables, inputs)\u001b[0m\n\u001b[1;32m    168\u001b[0m     retain_graph \u001b[38;5;241m=\u001b[39m create_graph\n\u001b[1;32m    170\u001b[0m \u001b[38;5;66;03m# The reason we repeat same the comment below is that\u001b[39;00m\n\u001b[1;32m    171\u001b[0m \u001b[38;5;66;03m# some Python versions print out the first line of a multi-line function\u001b[39;00m\n\u001b[1;32m    172\u001b[0m \u001b[38;5;66;03m# calls in the traceback and some print out the last line\u001b[39;00m\n\u001b[0;32m--> 173\u001b[0m \u001b[43mVariable\u001b[49m\u001b[38;5;241;43m.\u001b[39;49m\u001b[43m_execution_engine\u001b[49m\u001b[38;5;241;43m.\u001b[39;49m\u001b[43mrun_backward\u001b[49m\u001b[43m(\u001b[49m\u001b[43m  \u001b[49m\u001b[38;5;66;43;03m# Calls into the C++ engine to run the backward pass\u001b[39;49;00m\n\u001b[1;32m    174\u001b[0m \u001b[43m    \u001b[49m\u001b[43mtensors\u001b[49m\u001b[43m,\u001b[49m\u001b[43m \u001b[49m\u001b[43mgrad_tensors_\u001b[49m\u001b[43m,\u001b[49m\u001b[43m \u001b[49m\u001b[43mretain_graph\u001b[49m\u001b[43m,\u001b[49m\u001b[43m \u001b[49m\u001b[43mcreate_graph\u001b[49m\u001b[43m,\u001b[49m\u001b[43m \u001b[49m\u001b[43minputs\u001b[49m\u001b[43m,\u001b[49m\n\u001b[1;32m    175\u001b[0m \u001b[43m    \u001b[49m\u001b[43mallow_unreachable\u001b[49m\u001b[38;5;241;43m=\u001b[39;49m\u001b[38;5;28;43;01mTrue\u001b[39;49;00m\u001b[43m,\u001b[49m\u001b[43m \u001b[49m\u001b[43maccumulate_grad\u001b[49m\u001b[38;5;241;43m=\u001b[39;49m\u001b[38;5;28;43;01mTrue\u001b[39;49;00m\u001b[43m)\u001b[49m\n",
      "\u001b[0;31mKeyboardInterrupt\u001b[0m: "
     ]
    }
   ],
   "source": [
    "%run ./run.py"
   ]
  },
  {
   "cell_type": "code",
   "execution_count": 1,
   "metadata": {
    "execution": {
     "iopub.execute_input": "2023-07-22T13:40:21.897949Z",
     "iopub.status.busy": "2023-07-22T13:40:21.897560Z",
     "iopub.status.idle": "2023-07-22T13:40:24.433942Z",
     "shell.execute_reply": "2023-07-22T13:40:24.433188Z",
     "shell.execute_reply.started": "2023-07-22T13:40:21.897918Z"
    },
    "tags": []
   },
   "outputs": [
    {
     "name": "stdout",
     "output_type": "stream",
     "text": [
      "Cloning into 'MLPNAS_Pytorch'...\n",
      "remote: Enumerating objects: 162, done.\u001b[K\n",
      "remote: Counting objects: 100% (96/96), done.\u001b[K\n",
      "remote: Compressing objects: 100% (70/70), done.\u001b[K\n",
      "remote: Total 162 (delta 47), reused 51 (delta 25), pack-reused 66\u001b[K\n",
      "Receiving objects: 100% (162/162), 44.33 MiB | 41.53 MiB/s, done.\n",
      "Resolving deltas: 100% (53/53), done.\n"
     ]
    }
   ],
   "source": [
    "!git clone https://github.com/EL-Bied-Ali/MLPNAS_Pytorch.git"
   ]
  },
  {
   "cell_type": "code",
   "execution_count": 6,
   "metadata": {
    "execution": {
     "iopub.execute_input": "2023-07-22T13:44:32.257521Z",
     "iopub.status.busy": "2023-07-22T13:44:32.257073Z",
     "iopub.status.idle": "2023-07-22T13:44:37.046405Z",
     "shell.execute_reply": "2023-07-22T13:44:37.045630Z",
     "shell.execute_reply.started": "2023-07-22T13:44:32.257491Z"
    },
    "tags": []
   },
   "outputs": [
    {
     "name": "stdout",
     "output_type": "stream",
     "text": [
      "fatal: not a git repository (or any parent up to mount point /home)\n",
      "Stopping at filesystem boundary (GIT_DISCOVERY_ACROSS_FILESYSTEM not set).\n",
      "fatal: not a git repository (or any parent up to mount point /home)\n",
      "Stopping at filesystem boundary (GIT_DISCOVERY_ACROSS_FILESYSTEM not set).\n",
      "fatal: not a git repository (or any parent up to mount point /home)\n",
      "Stopping at filesystem boundary (GIT_DISCOVERY_ACROSS_FILESYSTEM not set).\n",
      "fatal: not a git repository (or any parent up to mount point /home)\n",
      "Stopping at filesystem boundary (GIT_DISCOVERY_ACROSS_FILESYSTEM not set).\n"
     ]
    }
   ],
   "source": [
    "# !cd MLPNAS_Pytorch\n",
    "!git config --global user.name \"EL-Bied-Ali\"\n",
    "!git config --global user.email \"Ali.el.bied9898@gmail.com\"\n",
    "!git add .\n",
    "!git commit -m \"Update\"\n",
    "!git remote add origin https://github.com/EL-Bied-Ali/MLPNAS_Pytorch.git\n",
    "!git push -u origin master"
   ]
  },
  {
   "cell_type": "code",
   "execution_count": 4,
   "metadata": {
    "execution": {
     "iopub.execute_input": "2023-07-22T13:45:49.301807Z",
     "iopub.status.busy": "2023-07-22T13:45:49.301410Z",
     "iopub.status.idle": "2023-07-22T13:45:50.919527Z",
     "shell.execute_reply": "2023-07-22T13:45:50.918672Z",
     "shell.execute_reply.started": "2023-07-22T13:45:49.301779Z"
    },
    "tags": []
   },
   "outputs": [
    {
     "name": "stdout",
     "output_type": "stream",
     "text": [
      "MLPNAS_Pytorch\n"
     ]
    }
   ],
   "source": [
    "!cd MLPNAS_Pytorch\n",
    "!ls"
   ]
  },
  {
   "cell_type": "code",
   "execution_count": null,
   "metadata": {
    "execution": {
     "iopub.execute_input": "2023-07-21T19:08:45.383070Z",
     "iopub.status.busy": "2023-07-21T19:08:45.382699Z"
    },
    "tags": []
   },
   "outputs": [
    {
     "name": "stdout",
     "output_type": "stream",
     "text": [
      "Running script...\n",
      "------------------------------------------------------------------\n",
      "                       CONTROLLER EPOCH: 0\n",
      "------------------------------------------------------------------\n",
      "GENERATING ARCHITECTURE SAMPLES...\n",
      "------------------------------------------------------\n",
      "Architecture:  [(16, 'sigmoid'), (128, 'tanh'), (10, 'last layer')]\n"
     ]
    },
    {
     "name": "stderr",
     "output_type": "stream",
     "text": [
      "Training loss = 0.114210 val accuracy = 0.944667: 100%|██████████| 10/10 [00:45<00:00,  4.53s/it]\n"
     ]
    },
    {
     "name": "stdout",
     "output_type": "stream",
     "text": [
      "validation accuracy:  0.9404424242424243\n",
      "------------------------------------------------------\n",
      "Architecture:  [(32, 'tanh'), (64, 'relu'), (10, 'last layer')]\n"
     ]
    },
    {
     "name": "stderr",
     "output_type": "stream",
     "text": [
      "Training loss = 0.062342 val accuracy = 0.957333: 100%|██████████| 10/10 [00:45<00:00,  4.55s/it]\n"
     ]
    },
    {
     "name": "stdout",
     "output_type": "stream",
     "text": [
      "validation accuracy:  0.9550969696969697\n",
      "------------------------------------------------------\n",
      "Architecture:  [(16, 'relu'), 'dropout', (10, 'last layer')]\n"
     ]
    },
    {
     "name": "stderr",
     "output_type": "stream",
     "text": [
      "Training loss = 0.336597 val accuracy = 0.934000: 100%|██████████| 10/10 [00:45<00:00,  4.52s/it]\n"
     ]
    },
    {
     "name": "stdout",
     "output_type": "stream",
     "text": [
      "validation accuracy:  0.9264181818181819\n",
      "------------------------------------------------------\n",
      "Architecture:  [(256, 'elu'), (16, 'relu'), (10, 'last layer')]\n"
     ]
    },
    {
     "name": "stderr",
     "output_type": "stream",
     "text": [
      "Training loss = 0.024505 val accuracy = 0.971500: 100%|██████████| 10/10 [00:46<00:00,  4.62s/it]\n"
     ]
    },
    {
     "name": "stdout",
     "output_type": "stream",
     "text": [
      "validation accuracy:  0.9699\n",
      "------------------------------------------------------\n",
      "Architecture:  [(16, 'sigmoid'), (16, 'tanh'), (10, 'last layer')]\n"
     ]
    },
    {
     "name": "stderr",
     "output_type": "stream",
     "text": [
      "Training loss = 0.121877 val accuracy = 0.942667: 100%|██████████| 10/10 [00:45<00:00,  4.55s/it]\n"
     ]
    },
    {
     "name": "stdout",
     "output_type": "stream",
     "text": [
      "validation accuracy:  0.9391060606060607\n",
      "------------------------------------------------------\n",
      "Architecture:  [(8, 'relu'), (32, 'relu'), (10, 'last layer')]\n"
     ]
    },
    {
     "name": "stderr",
     "output_type": "stream",
     "text": [
      "Training loss = 0.245672 val accuracy = 0.906333: 100%|██████████| 10/10 [00:45<00:00,  4.54s/it]\n"
     ]
    },
    {
     "name": "stdout",
     "output_type": "stream",
     "text": [
      "validation accuracy:  0.9070848484848484\n",
      "------------------------------------------------------\n",
      "Architecture:  [(16, 'tanh'), 'dropout', (10, 'last layer')]\n"
     ]
    },
    {
     "name": "stderr",
     "output_type": "stream",
     "text": [
      "Training loss = 0.263002 val accuracy = 0.929167: 100%|██████████| 10/10 [00:45<00:00,  4.52s/it]\n"
     ]
    },
    {
     "name": "stdout",
     "output_type": "stream",
     "text": [
      "validation accuracy:  0.9278939393939396\n",
      "------------------------------------------------------\n",
      "Architecture:  [(64, 'relu'), (256, 'tanh'), (10, 'last layer')]\n"
     ]
    },
    {
     "name": "stderr",
     "output_type": "stream",
     "text": [
      "Training loss = 0.029464 val accuracy = 0.966167: 100%|██████████| 10/10 [00:45<00:00,  4.54s/it]\n"
     ]
    },
    {
     "name": "stdout",
     "output_type": "stream",
     "text": [
      "validation accuracy:  0.9658060606060606\n",
      "------------------------------------------------------\n",
      "Architecture:  [(64, 'elu'), (64, 'elu'), (10, 'last layer')]\n"
     ]
    },
    {
     "name": "stderr",
     "output_type": "stream",
     "text": [
      "Training loss = 0.033982 val accuracy = 0.968500: 100%|██████████| 10/10 [00:45<00:00,  4.57s/it]\n"
     ]
    },
    {
     "name": "stdout",
     "output_type": "stream",
     "text": [
      "validation accuracy:  0.9654515151515152\n",
      "------------------------------------------------------\n",
      "Architecture:  [(256, 'sigmoid'), (64, 'elu'), (10, 'last layer')]\n"
     ]
    },
    {
     "name": "stderr",
     "output_type": "stream",
     "text": [
      "Training loss = 0.012356 val accuracy = 0.973500: 100%|██████████| 10/10 [00:45<00:00,  4.56s/it]\n"
     ]
    },
    {
     "name": "stdout",
     "output_type": "stream",
     "text": [
      "validation accuracy:  0.970360606060606\n",
      "------------------------------------------------------\n",
      "------------------------------------------------------------------\n",
      "                       CONTROLLER EPOCH: 1\n",
      "------------------------------------------------------------------\n",
      "GENERATING ARCHITECTURE SAMPLES...\n",
      "------------------------------------------------------\n",
      "Architecture:  [(64, 'relu'), (512, 'tanh'), (10, 'last layer')]\n"
     ]
    },
    {
     "name": "stderr",
     "output_type": "stream",
     "text": [
      "Training loss = 0.056976 val accuracy = 0.964000: 100%|██████████| 10/10 [00:45<00:00,  4.56s/it]\n"
     ]
    },
    {
     "name": "stdout",
     "output_type": "stream",
     "text": [
      "validation accuracy:  0.9610000000000001\n",
      "------------------------------------------------------\n",
      "Architecture:  [(64, 'relu'), (64, 'sigmoid'), (10, 'last layer')]\n"
     ]
    },
    {
     "name": "stderr",
     "output_type": "stream",
     "text": [
      "Training loss = 0.029326 val accuracy = 0.965667: 100%|██████████| 10/10 [00:45<00:00,  4.57s/it]\n"
     ]
    },
    {
     "name": "stdout",
     "output_type": "stream",
     "text": [
      "validation accuracy:  0.9645727272727272\n",
      "------------------------------------------------------\n",
      "Architecture:  [(128, 'tanh'), (512, 'tanh'), (10, 'last layer')]\n"
     ]
    },
    {
     "name": "stderr",
     "output_type": "stream",
     "text": [
      "Training loss = 0.038718 val accuracy = 0.962500: 100%|██████████| 10/10 [00:45<00:00,  4.55s/it]\n"
     ]
    },
    {
     "name": "stdout",
     "output_type": "stream",
     "text": [
      "validation accuracy:  0.9629818181818183\n",
      "------------------------------------------------------\n",
      "Architecture:  [(512, 'relu'), (8, 'tanh'), (10, 'last layer')]\n"
     ]
    },
    {
     "name": "stderr",
     "output_type": "stream",
     "text": [
      "Training loss = 0.048622 val accuracy = 0.967833: 100%|██████████| 10/10 [00:45<00:00,  4.58s/it]\n"
     ]
    },
    {
     "name": "stdout",
     "output_type": "stream",
     "text": [
      "validation accuracy:  0.9634151515151516\n",
      "------------------------------------------------------\n",
      "Architecture:  [(128, 'sigmoid'), (8, 'tanh'), (10, 'last layer')]\n"
     ]
    },
    {
     "name": "stderr",
     "output_type": "stream",
     "text": [
      "Training loss = 0.024976 val accuracy = 0.969000: 100%|██████████| 10/10 [00:45<00:00,  4.57s/it]\n"
     ]
    },
    {
     "name": "stdout",
     "output_type": "stream",
     "text": [
      "validation accuracy:  0.9635727272727272\n",
      "------------------------------------------------------\n",
      "Architecture:  [(128, 'sigmoid'), (256, 'sigmoid'), (10, 'last layer')]\n"
     ]
    },
    {
     "name": "stderr",
     "output_type": "stream",
     "text": [
      "Training loss = 0.017717 val accuracy = 0.975333: 100%|██████████| 10/10 [00:45<00:00,  4.56s/it]\n"
     ]
    },
    {
     "name": "stdout",
     "output_type": "stream",
     "text": [
      "validation accuracy:  0.9689363636363636\n",
      "------------------------------------------------------\n",
      "Architecture:  [(32, 'elu'), (128, 'elu'), (10, 'last layer')]\n"
     ]
    },
    {
     "name": "stderr",
     "output_type": "stream",
     "text": [
      "Training loss = 0.044543 val accuracy = 0.966833: 100%|██████████| 10/10 [00:45<00:00,  4.55s/it]\n"
     ]
    },
    {
     "name": "stdout",
     "output_type": "stream",
     "text": [
      "validation accuracy:  0.9635666666666667\n",
      "------------------------------------------------------\n",
      "Architecture:  [(256, 'relu'), (256, 'relu'), (10, 'last layer')]\n"
     ]
    },
    {
     "name": "stderr",
     "output_type": "stream",
     "text": [
      "Training loss = 0.026278 val accuracy = 0.969833: 100%|██████████| 10/10 [00:45<00:00,  4.55s/it]\n"
     ]
    },
    {
     "name": "stdout",
     "output_type": "stream",
     "text": [
      "validation accuracy:  0.9703121212121212\n",
      "------------------------------------------------------\n",
      "Architecture:  [(32, 'sigmoid'), (512, 'tanh'), (10, 'last layer')]\n"
     ]
    },
    {
     "name": "stderr",
     "output_type": "stream",
     "text": [
      "Training loss = 0.057857 val accuracy = 0.955333: 100%|██████████| 10/10 [00:45<00:00,  4.56s/it]\n"
     ]
    },
    {
     "name": "stdout",
     "output_type": "stream",
     "text": [
      "validation accuracy:  0.956369696969697\n",
      "------------------------------------------------------\n",
      "Architecture:  [(8, 'relu'), (64, 'elu'), (10, 'last layer')]\n"
     ]
    },
    {
     "name": "stderr",
     "output_type": "stream",
     "text": [
      "Training loss = 0.223807 val accuracy = 0.912833: 100%|██████████| 10/10 [00:45<00:00,  4.54s/it]\n"
     ]
    },
    {
     "name": "stdout",
     "output_type": "stream",
     "text": [
      "validation accuracy:  0.9114757575757577\n",
      "------------------------------------------------------\n",
      "------------------------------------------------------------------\n",
      "                       CONTROLLER EPOCH: 2\n",
      "------------------------------------------------------------------\n",
      "GENERATING ARCHITECTURE SAMPLES...\n",
      "------------------------------------------------------\n",
      "Architecture:  [(512, 'elu'), (64, 'elu'), (10, 'last layer')]\n"
     ]
    },
    {
     "name": "stderr",
     "output_type": "stream",
     "text": [
      "Training loss = 0.044363 val accuracy = 0.967000: 100%|██████████| 10/10 [00:45<00:00,  4.57s/it]\n"
     ]
    },
    {
     "name": "stdout",
     "output_type": "stream",
     "text": [
      "validation accuracy:  0.9665878787878787\n",
      "------------------------------------------------------\n",
      "Architecture:  [(64, 'relu'), (8, 'sigmoid'), (10, 'last layer')]\n"
     ]
    },
    {
     "name": "stderr",
     "output_type": "stream",
     "text": [
      "Training loss = 0.072957 val accuracy = 0.958333: 100%|██████████| 10/10 [00:45<00:00,  4.54s/it]\n"
     ]
    },
    {
     "name": "stdout",
     "output_type": "stream",
     "text": [
      "validation accuracy:  0.9550212121212122\n",
      "------------------------------------------------------\n",
      "Architecture:  [(128, 'elu'), 'dropout', (10, 'last layer')]\n"
     ]
    },
    {
     "name": "stderr",
     "output_type": "stream",
     "text": [
      "Training loss = 0.057364 val accuracy = 0.973167: 100%|██████████| 10/10 [00:45<00:00,  4.53s/it]\n"
     ]
    },
    {
     "name": "stdout",
     "output_type": "stream",
     "text": [
      "validation accuracy:  0.9703181818181816\n",
      "------------------------------------------------------\n",
      "Architecture:  [(128, 'sigmoid'), (32, 'relu'), (10, 'last layer')]\n"
     ]
    },
    {
     "name": "stderr",
     "output_type": "stream",
     "text": [
      "Training loss = 0.019291 val accuracy = 0.969500: 100%|██████████| 10/10 [00:45<00:00,  4.55s/it]\n"
     ]
    },
    {
     "name": "stdout",
     "output_type": "stream",
     "text": [
      "validation accuracy:  0.9645515151515152\n",
      "------------------------------------------------------\n",
      "Architecture:  [(512, 'tanh'), (8, 'elu'), (10, 'last layer')]\n"
     ]
    },
    {
     "name": "stderr",
     "output_type": "stream",
     "text": [
      "Training loss = 0.032911 val accuracy = 0.967333: 100%|██████████| 10/10 [00:45<00:00,  4.55s/it]\n"
     ]
    },
    {
     "name": "stdout",
     "output_type": "stream",
     "text": [
      "validation accuracy:  0.9663727272727272\n",
      "------------------------------------------------------\n",
      "Architecture:  [(64, 'sigmoid'), (512, 'sigmoid'), (10, 'last layer')]\n"
     ]
    },
    {
     "name": "stderr",
     "output_type": "stream",
     "text": [
      "Training loss = 0.030278 val accuracy = 0.968000: 100%|██████████| 10/10 [00:45<00:00,  4.56s/it]\n"
     ]
    },
    {
     "name": "stdout",
     "output_type": "stream",
     "text": [
      "validation accuracy:  0.9634636363636364\n",
      "------------------------------------------------------\n",
      "Architecture:  [(8, 'tanh'), (512, 'tanh'), (10, 'last layer')]\n"
     ]
    },
    {
     "name": "stderr",
     "output_type": "stream",
     "text": [
      "Training loss = 0.207436 val accuracy = 0.916667: 100%|██████████| 10/10 [00:45<00:00,  4.57s/it]\n"
     ]
    },
    {
     "name": "stdout",
     "output_type": "stream",
     "text": [
      "validation accuracy:  0.9160787878787878\n",
      "------------------------------------------------------\n",
      "Architecture:  [(32, 'tanh'), (128, 'sigmoid'), (10, 'last layer')]\n"
     ]
    },
    {
     "name": "stderr",
     "output_type": "stream",
     "text": [
      "Training loss = 0.068924 val accuracy = 0.955333: 100%|██████████| 10/10 [00:46<00:00,  4.61s/it]\n"
     ]
    },
    {
     "name": "stdout",
     "output_type": "stream",
     "text": [
      "validation accuracy:  0.9513545454545455\n",
      "------------------------------------------------------\n",
      "Architecture:  [(16, 'elu'), (8, 'sigmoid'), (10, 'last layer')]\n"
     ]
    },
    {
     "name": "stderr",
     "output_type": "stream",
     "text": [
      "Training loss = 0.170973 val accuracy = 0.936500: 100%|██████████| 10/10 [00:45<00:00,  4.58s/it]\n"
     ]
    },
    {
     "name": "stdout",
     "output_type": "stream",
     "text": [
      "validation accuracy:  0.9295545454545455\n",
      "------------------------------------------------------\n",
      "Architecture:  [(8, 'sigmoid'), (512, 'sigmoid'), (10, 'last layer')]\n"
     ]
    },
    {
     "name": "stderr",
     "output_type": "stream",
     "text": [
      "Training loss = 0.225974 val accuracy = 0.916333: 100%|██████████| 10/10 [00:46<00:00,  4.61s/it]\n"
     ]
    },
    {
     "name": "stdout",
     "output_type": "stream",
     "text": [
      "validation accuracy:  0.912160606060606\n",
      "------------------------------------------------------\n",
      "------------------------------------------------------------------\n",
      "                       CONTROLLER EPOCH: 3\n",
      "------------------------------------------------------------------\n",
      "GENERATING ARCHITECTURE SAMPLES...\n",
      "------------------------------------------------------\n",
      "Architecture:  [(8, 'elu'), (16, 'relu'), (10, 'last layer')]\n"
     ]
    },
    {
     "name": "stderr",
     "output_type": "stream",
     "text": [
      "Training loss = 0.204369 val accuracy = 0.922333: 100%|██████████| 10/10 [00:45<00:00,  4.55s/it]\n"
     ]
    },
    {
     "name": "stdout",
     "output_type": "stream",
     "text": [
      "validation accuracy:  0.9180333333333334\n",
      "------------------------------------------------------\n",
      "Architecture:  [(16, 'elu'), (32, 'sigmoid'), (10, 'last layer')]\n"
     ]
    },
    {
     "name": "stderr",
     "output_type": "stream",
     "text": [
      "Training loss = 0.117792 val accuracy = 0.946500: 100%|██████████| 10/10 [00:45<00:00,  4.55s/it]\n"
     ]
    },
    {
     "name": "stdout",
     "output_type": "stream",
     "text": [
      "validation accuracy:  0.9412303030303031\n",
      "------------------------------------------------------\n",
      "Architecture:  [(256, 'elu'), (32, 'elu'), (10, 'last layer')]\n"
     ]
    },
    {
     "name": "stderr",
     "output_type": "stream",
     "text": [
      "Training loss = 0.026990 val accuracy = 0.971500: 100%|██████████| 10/10 [00:45<00:00,  4.56s/it]\n"
     ]
    },
    {
     "name": "stdout",
     "output_type": "stream",
     "text": [
      "validation accuracy:  0.9690545454545455\n",
      "------------------------------------------------------\n",
      "Architecture:  [(256, 'relu'), (8, 'sigmoid'), (10, 'last layer')]\n"
     ]
    },
    {
     "name": "stderr",
     "output_type": "stream",
     "text": [
      "Training loss = 0.045589 val accuracy = 0.969333: 100%|██████████| 10/10 [00:45<00:00,  4.55s/it]\n"
     ]
    },
    {
     "name": "stdout",
     "output_type": "stream",
     "text": [
      "validation accuracy:  0.9654909090909091\n",
      "------------------------------------------------------\n",
      "Architecture:  [(64, 'elu'), (64, 'tanh'), (10, 'last layer')]\n"
     ]
    },
    {
     "name": "stderr",
     "output_type": "stream",
     "text": [
      "Training loss = 0.034758 val accuracy = 0.963333: 100%|██████████| 10/10 [00:45<00:00,  4.56s/it]\n"
     ]
    },
    {
     "name": "stdout",
     "output_type": "stream",
     "text": [
      "validation accuracy:  0.9637818181818182\n",
      "------------------------------------------------------\n",
      "Architecture:  [(32, 'elu'), (512, 'tanh'), (10, 'last layer')]\n"
     ]
    },
    {
     "name": "stderr",
     "output_type": "stream",
     "text": [
      "Training loss = 0.048231 val accuracy = 0.966833: 100%|██████████| 10/10 [00:45<00:00,  4.57s/it]\n"
     ]
    },
    {
     "name": "stdout",
     "output_type": "stream",
     "text": [
      "validation accuracy:  0.9601030303030303\n",
      "------------------------------------------------------\n",
      "Architecture:  [(8, 'elu'), (8, 'sigmoid'), (10, 'last layer')]\n"
     ]
    },
    {
     "name": "stderr",
     "output_type": "stream",
     "text": [
      "Training loss = 0.275226 val accuracy = 0.906833: 100%|██████████| 10/10 [00:45<00:00,  4.54s/it]\n"
     ]
    },
    {
     "name": "stdout",
     "output_type": "stream",
     "text": [
      "validation accuracy:  0.8967242424242425\n",
      "------------------------------------------------------\n",
      "Architecture:  [(512, 'sigmoid'), (8, 'sigmoid'), (10, 'last layer')]\n"
     ]
    },
    {
     "name": "stderr",
     "output_type": "stream",
     "text": [
      "Training loss = 0.032843 val accuracy = 0.971333: 100%|██████████| 10/10 [00:45<00:00,  4.56s/it]\n"
     ]
    },
    {
     "name": "stdout",
     "output_type": "stream",
     "text": [
      "validation accuracy:  0.9652424242424243\n",
      "------------------------------------------------------\n",
      "Architecture:  [(512, 'sigmoid'), (16, 'elu'), (10, 'last layer')]\n"
     ]
    },
    {
     "name": "stderr",
     "output_type": "stream",
     "text": [
      "Training loss = 0.005269 val accuracy = 0.979000: 100%|██████████| 10/10 [00:45<00:00,  4.57s/it]\n"
     ]
    },
    {
     "name": "stdout",
     "output_type": "stream",
     "text": [
      "validation accuracy:  0.9745242424242424\n",
      "------------------------------------------------------\n",
      "Architecture:  [(16, 'elu'), (8, 'elu'), (10, 'last layer')]\n"
     ]
    },
    {
     "name": "stderr",
     "output_type": "stream",
     "text": [
      "Training loss = 0.146398 val accuracy = 0.941500: 100%|██████████| 10/10 [00:45<00:00,  4.55s/it]\n"
     ]
    },
    {
     "name": "stdout",
     "output_type": "stream",
     "text": [
      "validation accuracy:  0.9333060606060605\n",
      "------------------------------------------------------\n",
      "------------------------------------------------------------------\n",
      "                       CONTROLLER EPOCH: 4\n",
      "------------------------------------------------------------------\n",
      "GENERATING ARCHITECTURE SAMPLES...\n",
      "------------------------------------------------------\n",
      "Architecture:  [(8, 'sigmoid'), (64, 'sigmoid'), (10, 'last layer')]\n"
     ]
    },
    {
     "name": "stderr",
     "output_type": "stream",
     "text": [
      "Training loss = 0.231699 val accuracy = 0.918833: 100%|██████████| 10/10 [00:45<00:00,  4.57s/it]\n"
     ]
    },
    {
     "name": "stdout",
     "output_type": "stream",
     "text": [
      "validation accuracy:  0.9081878787878788\n",
      "------------------------------------------------------\n",
      "Architecture:  [(128, 'elu'), (256, 'relu'), (10, 'last layer')]\n"
     ]
    },
    {
     "name": "stderr",
     "output_type": "stream",
     "text": [
      "Training loss = 0.046423 val accuracy = 0.972167: 100%|██████████| 10/10 [00:46<00:00,  4.61s/it]\n"
     ]
    },
    {
     "name": "stdout",
     "output_type": "stream",
     "text": [
      "validation accuracy:  0.967790909090909\n",
      "------------------------------------------------------\n",
      "Architecture:  [(32, 'relu'), (32, 'tanh'), (10, 'last layer')]\n"
     ]
    },
    {
     "name": "stderr",
     "output_type": "stream",
     "text": [
      "Training loss = 0.065853 val accuracy = 0.960667: 100%|██████████| 10/10 [00:45<00:00,  4.57s/it]\n"
     ]
    },
    {
     "name": "stdout",
     "output_type": "stream",
     "text": [
      "validation accuracy:  0.9558484848484848\n",
      "------------------------------------------------------\n",
      "Architecture:  [(16, 'relu'), (32, 'sigmoid'), (10, 'last layer')]\n"
     ]
    },
    {
     "name": "stderr",
     "output_type": "stream",
     "text": [
      "Training loss = 0.112857 val accuracy = 0.947833: 100%|██████████| 10/10 [00:46<00:00,  4.61s/it]\n"
     ]
    },
    {
     "name": "stdout",
     "output_type": "stream",
     "text": [
      "validation accuracy:  0.9439212121212123\n",
      "------------------------------------------------------\n",
      "Architecture:  [(256, 'relu'), (16, 'elu'), (10, 'last layer')]\n"
     ]
    },
    {
     "name": "stderr",
     "output_type": "stream",
     "text": [
      "Training loss = 0.022122 val accuracy = 0.971167: 100%|██████████| 10/10 [00:45<00:00,  4.58s/it]\n"
     ]
    },
    {
     "name": "stdout",
     "output_type": "stream",
     "text": [
      "validation accuracy:  0.9689272727272726\n",
      "------------------------------------------------------\n",
      "Architecture:  [(128, 'sigmoid'), (64, 'sigmoid'), (10, 'last layer')]\n"
     ]
    },
    {
     "name": "stderr",
     "output_type": "stream",
     "text": [
      "Training loss = 0.011881 val accuracy = 0.970667: 100%|██████████| 10/10 [00:45<00:00,  4.59s/it]\n"
     ]
    },
    {
     "name": "stdout",
     "output_type": "stream",
     "text": [
      "validation accuracy:  0.9677848484848485\n",
      "------------------------------------------------------\n",
      "Architecture:  [(64, 'tanh'), (32, 'sigmoid'), (10, 'last layer')]\n"
     ]
    },
    {
     "name": "stderr",
     "output_type": "stream",
     "text": [
      "Training loss = 0.039556 val accuracy = 0.962167: 100%|██████████| 10/10 [00:45<00:00,  4.57s/it]\n"
     ]
    },
    {
     "name": "stdout",
     "output_type": "stream",
     "text": [
      "validation accuracy:  0.959160606060606\n",
      "------------------------------------------------------\n",
      "Architecture:  [(128, 'relu'), (8, 'tanh'), (10, 'last layer')]\n"
     ]
    },
    {
     "name": "stderr",
     "output_type": "stream",
     "text": [
      "Training loss = 0.047969 val accuracy = 0.963500: 100%|██████████| 10/10 [00:45<00:00,  4.56s/it]\n"
     ]
    },
    {
     "name": "stdout",
     "output_type": "stream",
     "text": [
      "validation accuracy:  0.9645696969696969\n",
      "------------------------------------------------------\n",
      "Architecture:  [(128, 'relu'), (10, 'last layer')]\n"
     ]
    },
    {
     "name": "stderr",
     "output_type": "stream",
     "text": [
      "Training loss = 0.021558 val accuracy = 0.970167: 100%|██████████| 10/10 [00:45<00:00,  4.54s/it]\n"
     ]
    },
    {
     "name": "stdout",
     "output_type": "stream",
     "text": [
      "validation accuracy:  0.9674484848484848\n",
      "------------------------------------------------------\n",
      "Architecture:  [(128, 'relu'), (256, 'tanh'), (10, 'last layer')]\n"
     ]
    },
    {
     "name": "stderr",
     "output_type": "stream",
     "text": [
      "Training loss = 0.031348 val accuracy = 0.969333: 100%|██████████| 10/10 [00:45<00:00,  4.58s/it]\n"
     ]
    },
    {
     "name": "stdout",
     "output_type": "stream",
     "text": [
      "validation accuracy:  0.9687787878787878\n",
      "------------------------------------------------------\n",
      "------------------------------------------------------------------\n",
      "                       CONTROLLER EPOCH: 5\n",
      "------------------------------------------------------------------\n",
      "GENERATING ARCHITECTURE SAMPLES...\n",
      "------------------------------------------------------\n",
      "Architecture:  [(16, 'relu'), (512, 'sigmoid'), (10, 'last layer')]\n"
     ]
    },
    {
     "name": "stderr",
     "output_type": "stream",
     "text": [
      "Training loss = 0.096443 val accuracy = 0.948167: 100%|██████████| 10/10 [00:46<00:00,  4.60s/it]\n"
     ]
    },
    {
     "name": "stdout",
     "output_type": "stream",
     "text": [
      "validation accuracy:  0.9442545454545455\n",
      "------------------------------------------------------\n",
      "Architecture:  [(8, 'relu'), (256, 'relu'), (10, 'last layer')]\n"
     ]
    },
    {
     "name": "stderr",
     "output_type": "stream",
     "text": [
      "Training loss = 0.182922 val accuracy = 0.930000: 100%|██████████| 10/10 [00:45<00:00,  4.57s/it]\n"
     ]
    },
    {
     "name": "stdout",
     "output_type": "stream",
     "text": [
      "validation accuracy:  0.9259757575757575\n",
      "------------------------------------------------------\n",
      "Architecture:  [(128, 'relu'), (128, 'relu'), (10, 'last layer')]\n"
     ]
    },
    {
     "name": "stderr",
     "output_type": "stream",
     "text": [
      "Training loss = 0.032674 val accuracy = 0.973333: 100%|██████████| 10/10 [00:45<00:00,  4.57s/it]\n"
     ]
    },
    {
     "name": "stdout",
     "output_type": "stream",
     "text": [
      "validation accuracy:  0.9685272727272728\n",
      "------------------------------------------------------\n",
      "Architecture:  [(256, 'relu'), (16, 'tanh'), (10, 'last layer')]\n"
     ]
    },
    {
     "name": "stderr",
     "output_type": "stream",
     "text": [
      "Training loss = 0.031801 val accuracy = 0.968500: 100%|██████████| 10/10 [00:45<00:00,  4.56s/it]\n"
     ]
    },
    {
     "name": "stdout",
     "output_type": "stream",
     "text": [
      "validation accuracy:  0.9668666666666667\n",
      "------------------------------------------------------\n",
      "Architecture:  [(16, 'elu'), (512, 'tanh'), (10, 'last layer')]\n"
     ]
    },
    {
     "name": "stderr",
     "output_type": "stream",
     "text": [
      "Training loss = 0.074967 val accuracy = 0.955833: 100%|██████████| 10/10 [00:45<00:00,  4.60s/it]\n"
     ]
    },
    {
     "name": "stdout",
     "output_type": "stream",
     "text": [
      "validation accuracy:  0.9516969696969697\n",
      "------------------------------------------------------\n",
      "Architecture:  [(64, 'sigmoid'), (16, 'elu'), (10, 'last layer')]\n"
     ]
    },
    {
     "name": "stderr",
     "output_type": "stream",
     "text": [
      "Training loss = 0.036896 val accuracy = 0.961833: 100%|██████████| 10/10 [00:45<00:00,  4.59s/it]\n"
     ]
    },
    {
     "name": "stdout",
     "output_type": "stream",
     "text": [
      "validation accuracy:  0.9598545454545455\n",
      "------------------------------------------------------\n",
      "Architecture:  [(32, 'tanh'), (128, 'relu'), (10, 'last layer')]\n"
     ]
    },
    {
     "name": "stderr",
     "output_type": "stream",
     "text": [
      "Training loss = 0.054810 val accuracy = 0.960667: 100%|██████████| 10/10 [00:46<00:00,  4.61s/it]\n"
     ]
    },
    {
     "name": "stdout",
     "output_type": "stream",
     "text": [
      "validation accuracy:  0.9579151515151515\n",
      "------------------------------------------------------\n",
      "Architecture:  [(512, 'sigmoid'), (512, 'relu'), (10, 'last layer')]\n"
     ]
    },
    {
     "name": "stderr",
     "output_type": "stream",
     "text": [
      "Training loss = 0.024732 val accuracy = 0.969333: 100%|██████████| 10/10 [00:45<00:00,  4.58s/it]\n"
     ]
    },
    {
     "name": "stdout",
     "output_type": "stream",
     "text": [
      "validation accuracy:  0.9665515151515152\n",
      "------------------------------------------------------\n",
      "Architecture:  [(256, 'tanh'), (32, 'tanh'), (10, 'last layer')]\n"
     ]
    },
    {
     "name": "stderr",
     "output_type": "stream",
     "text": [
      "Training loss = 0.042200 val accuracy = 0.969833: 100%|██████████| 10/10 [00:45<00:00,  4.58s/it]\n"
     ]
    },
    {
     "name": "stdout",
     "output_type": "stream",
     "text": [
      "validation accuracy:  0.9656363636363636\n",
      "------------------------------------------------------\n",
      "Architecture:  [(512, 'sigmoid'), (32, 'elu'), (10, 'last layer')]\n"
     ]
    },
    {
     "name": "stderr",
     "output_type": "stream",
     "text": [
      "Training loss = 0.008008 val accuracy = 0.975833: 100%|██████████| 10/10 [00:45<00:00,  4.56s/it]\n"
     ]
    },
    {
     "name": "stdout",
     "output_type": "stream",
     "text": [
      "validation accuracy:  0.9712363636363635\n",
      "------------------------------------------------------\n",
      "------------------------------------------------------------------\n",
      "                       CONTROLLER EPOCH: 6\n",
      "------------------------------------------------------------------\n",
      "GENERATING ARCHITECTURE SAMPLES...\n",
      "------------------------------------------------------\n",
      "Architecture:  [(128, 'elu'), (512, 'elu'), (10, 'last layer')]\n"
     ]
    },
    {
     "name": "stderr",
     "output_type": "stream",
     "text": [
      "Training loss = 0.082280 val accuracy = 0.964167: 100%|██████████| 10/10 [00:45<00:00,  4.56s/it]\n"
     ]
    },
    {
     "name": "stdout",
     "output_type": "stream",
     "text": [
      "validation accuracy:  0.9642818181818181\n",
      "------------------------------------------------------\n",
      "Architecture:  [(8, 'relu'), (32, 'tanh'), (10, 'last layer')]\n"
     ]
    },
    {
     "name": "stderr",
     "output_type": "stream",
     "text": [
      "Training loss = 0.181878 val accuracy = 0.928833: 100%|██████████| 10/10 [00:45<00:00,  4.55s/it]\n"
     ]
    },
    {
     "name": "stdout",
     "output_type": "stream",
     "text": [
      "validation accuracy:  0.9256757575757575\n",
      "------------------------------------------------------\n",
      "Architecture:  [(8, 'elu'), (128, 'relu'), (10, 'last layer')]\n"
     ]
    },
    {
     "name": "stderr",
     "output_type": "stream",
     "text": [
      "Training loss = 0.151032 val accuracy = 0.937333: 100%|██████████| 10/10 [00:45<00:00,  4.55s/it]\n"
     ]
    },
    {
     "name": "stdout",
     "output_type": "stream",
     "text": [
      "validation accuracy:  0.9331454545454545\n",
      "------------------------------------------------------\n",
      "Architecture:  [(128, 'relu'), (64, 'tanh'), (10, 'last layer')]\n"
     ]
    },
    {
     "name": "stderr",
     "output_type": "stream",
     "text": [
      "Training loss = 0.024498 val accuracy = 0.971333: 100%|██████████| 10/10 [00:45<00:00,  4.56s/it]\n"
     ]
    },
    {
     "name": "stdout",
     "output_type": "stream",
     "text": [
      "validation accuracy:  0.9701333333333333\n",
      "------------------------------------------------------\n",
      "Architecture:  [(64, 'tanh'), (8, 'relu'), (10, 'last layer')]\n"
     ]
    },
    {
     "name": "stderr",
     "output_type": "stream",
     "text": [
      "Training loss = 0.041808 val accuracy = 0.961667: 100%|██████████| 10/10 [00:45<00:00,  4.55s/it]\n"
     ]
    },
    {
     "name": "stdout",
     "output_type": "stream",
     "text": [
      "validation accuracy:  0.9578090909090909\n",
      "------------------------------------------------------\n",
      "Architecture:  [(16, 'elu'), (128, 'relu'), (10, 'last layer')]\n"
     ]
    },
    {
     "name": "stderr",
     "output_type": "stream",
     "text": [
      "Training loss = 0.076188 val accuracy = 0.957333: 100%|██████████| 10/10 [00:45<00:00,  4.56s/it]\n"
     ]
    },
    {
     "name": "stdout",
     "output_type": "stream",
     "text": [
      "validation accuracy:  0.954\n",
      "------------------------------------------------------\n",
      "Architecture:  [(512, 'elu'), (128, 'relu'), (10, 'last layer')]\n"
     ]
    },
    {
     "name": "stderr",
     "output_type": "stream",
     "text": [
      "Training loss = 0.048925 val accuracy = 0.969833: 100%|██████████| 10/10 [00:45<00:00,  4.56s/it]\n"
     ]
    },
    {
     "name": "stdout",
     "output_type": "stream",
     "text": [
      "validation accuracy:  0.9687878787878788\n",
      "------------------------------------------------------\n",
      "Architecture:  [(512, 'elu'), (512, 'relu'), (10, 'last layer')]\n"
     ]
    },
    {
     "name": "stderr",
     "output_type": "stream",
     "text": [
      "Training loss = 0.049893 val accuracy = 0.965333: 100%|██████████| 10/10 [00:45<00:00,  4.58s/it]\n"
     ]
    },
    {
     "name": "stdout",
     "output_type": "stream",
     "text": [
      "validation accuracy:  0.9655000000000001\n",
      "------------------------------------------------------\n",
      "Architecture:  [(128, 'elu'), (8, 'relu'), (10, 'last layer')]\n"
     ]
    },
    {
     "name": "stderr",
     "output_type": "stream",
     "text": [
      "Training loss = 0.025682 val accuracy = 0.971000: 100%|██████████| 10/10 [00:45<00:00,  4.56s/it]\n"
     ]
    },
    {
     "name": "stdout",
     "output_type": "stream",
     "text": [
      "validation accuracy:  0.9666636363636365\n",
      "------------------------------------------------------\n",
      "Architecture:  [(512, 'relu'), (512, 'relu'), (10, 'last layer')]\n"
     ]
    },
    {
     "name": "stderr",
     "output_type": "stream",
     "text": [
      "Training loss = 0.047387 val accuracy = 0.969333: 100%|██████████| 10/10 [00:46<00:00,  4.61s/it]\n"
     ]
    },
    {
     "name": "stdout",
     "output_type": "stream",
     "text": [
      "validation accuracy:  0.9685030303030302\n",
      "------------------------------------------------------\n",
      "------------------------------------------------------------------\n",
      "                       CONTROLLER EPOCH: 7\n",
      "------------------------------------------------------------------\n",
      "GENERATING ARCHITECTURE SAMPLES...\n",
      "------------------------------------------------------\n",
      "Architecture:  [(64, 'tanh'), (512, 'elu'), (10, 'last layer')]\n"
     ]
    },
    {
     "name": "stderr",
     "output_type": "stream",
     "text": [
      "Training loss = 0.052391 val accuracy = 0.961333: 100%|██████████| 10/10 [00:45<00:00,  4.58s/it]\n"
     ]
    },
    {
     "name": "stdout",
     "output_type": "stream",
     "text": [
      "validation accuracy:  0.9597727272727274\n",
      "------------------------------------------------------\n",
      "Architecture:  [(128, 'relu'), (8, 'sigmoid'), (10, 'last layer')]\n"
     ]
    },
    {
     "name": "stderr",
     "output_type": "stream",
     "text": [
      "Training loss = 0.051980 val accuracy = 0.968333: 100%|██████████| 10/10 [00:45<00:00,  4.57s/it]\n"
     ]
    },
    {
     "name": "stdout",
     "output_type": "stream",
     "text": [
      "validation accuracy:  0.9618909090909092\n",
      "------------------------------------------------------\n",
      "Architecture:  [(32, 'sigmoid'), (512, 'elu'), (10, 'last layer')]\n"
     ]
    },
    {
     "name": "stderr",
     "output_type": "stream",
     "text": [
      "Training loss = 0.062067 val accuracy = 0.952167: 100%|██████████| 10/10 [00:46<00:00,  4.62s/it]\n"
     ]
    },
    {
     "name": "stdout",
     "output_type": "stream",
     "text": [
      "validation accuracy:  0.9542575757575757\n",
      "------------------------------------------------------\n",
      "Architecture:  [(256, 'elu'), (128, 'sigmoid'), (10, 'last layer')]\n"
     ]
    },
    {
     "name": "stderr",
     "output_type": "stream",
     "text": [
      "Training loss = 0.011763 val accuracy = 0.976500: 100%|██████████| 10/10 [00:46<00:00,  4.60s/it]\n"
     ]
    },
    {
     "name": "stdout",
     "output_type": "stream",
     "text": [
      "validation accuracy:  0.972330303030303\n",
      "------------------------------------------------------\n",
      "Architecture:  [(32, 'relu'), 'dropout', (10, 'last layer')]\n"
     ]
    },
    {
     "name": "stderr",
     "output_type": "stream",
     "text": [
      "Training loss = 0.198259 val accuracy = 0.952667: 100%|██████████| 10/10 [00:45<00:00,  4.54s/it]\n"
     ]
    },
    {
     "name": "stdout",
     "output_type": "stream",
     "text": [
      "validation accuracy:  0.9471696969696968\n",
      "------------------------------------------------------\n",
      "Architecture:  [(128, 'relu'), (256, 'elu'), (10, 'last layer')]\n"
     ]
    },
    {
     "name": "stderr",
     "output_type": "stream",
     "text": [
      "Training loss = 0.037722 val accuracy = 0.968000: 100%|██████████| 10/10 [00:45<00:00,  4.59s/it]\n"
     ]
    },
    {
     "name": "stdout",
     "output_type": "stream",
     "text": [
      "validation accuracy:  0.9647030303030304\n",
      "------------------------------------------------------\n",
      "Architecture:  [(128, 'tanh'), (10, 'last layer')]\n"
     ]
    },
    {
     "name": "stderr",
     "output_type": "stream",
     "text": [
      "Training loss = 0.016478 val accuracy = 0.966167: 100%|██████████| 10/10 [00:45<00:00,  4.53s/it]\n"
     ]
    },
    {
     "name": "stdout",
     "output_type": "stream",
     "text": [
      "validation accuracy:  0.9670515151515151\n",
      "------------------------------------------------------\n",
      "Architecture:  [(512, 'tanh'), (128, 'elu'), (10, 'last layer')]\n"
     ]
    },
    {
     "name": "stderr",
     "output_type": "stream",
     "text": [
      "Training loss = 0.051020 val accuracy = 0.967667: 100%|██████████| 10/10 [00:45<00:00,  4.59s/it]\n"
     ]
    },
    {
     "name": "stdout",
     "output_type": "stream",
     "text": [
      "validation accuracy:  0.9667696969696968\n",
      "------------------------------------------------------\n",
      "Architecture:  [(128, 'relu'), (8, 'relu'), (10, 'last layer')]\n"
     ]
    },
    {
     "name": "stderr",
     "output_type": "stream",
     "text": [
      "Training loss = 0.031924 val accuracy = 0.963667: 100%|██████████| 10/10 [00:45<00:00,  4.57s/it]\n"
     ]
    },
    {
     "name": "stdout",
     "output_type": "stream",
     "text": [
      "validation accuracy:  0.9626212121212123\n",
      "------------------------------------------------------\n",
      "Architecture:  [(32, 'sigmoid'), (256, 'elu'), (10, 'last layer')]\n"
     ]
    },
    {
     "name": "stderr",
     "output_type": "stream",
     "text": [
      "Training loss = 0.056538 val accuracy = 0.955667: 100%|██████████| 10/10 [00:45<00:00,  4.57s/it]\n"
     ]
    },
    {
     "name": "stdout",
     "output_type": "stream",
     "text": [
      "validation accuracy:  0.9532272727272728\n",
      "------------------------------------------------------\n",
      "------------------------------------------------------------------\n",
      "                       CONTROLLER EPOCH: 8\n",
      "------------------------------------------------------------------\n",
      "GENERATING ARCHITECTURE SAMPLES...\n",
      "------------------------------------------------------\n",
      "Architecture:  [(16, 'tanh'), (512, 'sigmoid'), (10, 'last layer')]\n"
     ]
    },
    {
     "name": "stderr",
     "output_type": "stream",
     "text": [
      "Training loss = 0.125397 val accuracy = 0.942000: 100%|██████████| 10/10 [00:45<00:00,  4.58s/it]\n"
     ]
    },
    {
     "name": "stdout",
     "output_type": "stream",
     "text": [
      "validation accuracy:  0.9362939393939396\n",
      "------------------------------------------------------\n",
      "Architecture:  [(512, 'sigmoid'), (16, 'relu'), (10, 'last layer')]\n"
     ]
    },
    {
     "name": "stderr",
     "output_type": "stream",
     "text": [
      "Training loss = 0.015122 val accuracy = 0.963667: 100%|██████████| 10/10 [00:45<00:00,  4.57s/it]\n"
     ]
    },
    {
     "name": "stdout",
     "output_type": "stream",
     "text": [
      "validation accuracy:  0.9603242424242425\n",
      "------------------------------------------------------\n",
      "Architecture:  [(8, 'elu'), (64, 'tanh'), (10, 'last layer')]\n"
     ]
    },
    {
     "name": "stderr",
     "output_type": "stream",
     "text": [
      "Training loss = 0.156647 val accuracy = 0.933833: 100%|██████████| 10/10 [00:46<00:00,  4.62s/it]\n"
     ]
    },
    {
     "name": "stdout",
     "output_type": "stream",
     "text": [
      "validation accuracy:  0.9328424242424241\n",
      "------------------------------------------------------\n",
      "Architecture:  [(512, 'tanh'), (16, 'relu'), (10, 'last layer')]\n"
     ]
    },
    {
     "name": "stderr",
     "output_type": "stream",
     "text": [
      "Training loss = 0.032262 val accuracy = 0.970167: 100%|██████████| 10/10 [00:45<00:00,  4.59s/it]\n"
     ]
    },
    {
     "name": "stdout",
     "output_type": "stream",
     "text": [
      "validation accuracy:  0.9679363636363637\n",
      "------------------------------------------------------\n",
      "Architecture:  [(256, 'relu'), (64, 'relu'), (10, 'last layer')]\n"
     ]
    },
    {
     "name": "stderr",
     "output_type": "stream",
     "text": [
      "Training loss = 0.023315 val accuracy = 0.972167: 100%|██████████| 10/10 [00:45<00:00,  4.57s/it]\n"
     ]
    },
    {
     "name": "stdout",
     "output_type": "stream",
     "text": [
      "validation accuracy:  0.9707757575757575\n",
      "------------------------------------------------------\n",
      "Architecture:  [(64, 'elu'), (256, 'elu'), (10, 'last layer')]\n"
     ]
    },
    {
     "name": "stderr",
     "output_type": "stream",
     "text": [
      "Training loss = 0.051095 val accuracy = 0.966333: 100%|██████████| 10/10 [00:45<00:00,  4.56s/it]\n"
     ]
    },
    {
     "name": "stdout",
     "output_type": "stream",
     "text": [
      "validation accuracy:  0.9655030303030301\n",
      "------------------------------------------------------\n",
      "Architecture:  [(256, 'elu'), (64, 'tanh'), (10, 'last layer')]\n"
     ]
    },
    {
     "name": "stderr",
     "output_type": "stream",
     "text": [
      "Training loss = 0.041604 val accuracy = 0.971833: 100%|██████████| 10/10 [00:45<00:00,  4.56s/it]\n"
     ]
    },
    {
     "name": "stdout",
     "output_type": "stream",
     "text": [
      "validation accuracy:  0.9682757575757576\n",
      "------------------------------------------------------\n",
      "Architecture:  [(32, 'relu'), (512, 'sigmoid'), (10, 'last layer')]\n"
     ]
    },
    {
     "name": "stderr",
     "output_type": "stream",
     "text": [
      "Training loss = 0.047459 val accuracy = 0.965667: 100%|██████████| 10/10 [00:45<00:00,  4.57s/it]\n"
     ]
    },
    {
     "name": "stdout",
     "output_type": "stream",
     "text": [
      "validation accuracy:  0.9603545454545455\n",
      "------------------------------------------------------\n",
      "Architecture:  [(128, 'sigmoid'), (512, 'tanh'), (10, 'last layer')]\n"
     ]
    },
    {
     "name": "stderr",
     "output_type": "stream",
     "text": [
      "Training loss = 0.034526 val accuracy = 0.968667: 100%|██████████| 10/10 [00:45<00:00,  4.58s/it]\n"
     ]
    },
    {
     "name": "stdout",
     "output_type": "stream",
     "text": [
      "validation accuracy:  0.9636333333333332\n",
      "------------------------------------------------------\n",
      "Architecture:  [(128, 'relu'), 'dropout', (10, 'last layer')]\n"
     ]
    },
    {
     "name": "stderr",
     "output_type": "stream",
     "text": [
      "Training loss = 0.052492 val accuracy = 0.972167: 100%|██████████| 10/10 [00:45<00:00,  4.54s/it]\n"
     ]
    },
    {
     "name": "stdout",
     "output_type": "stream",
     "text": [
      "validation accuracy:  0.9707757575757575\n",
      "------------------------------------------------------\n",
      "------------------------------------------------------------------\n",
      "                       CONTROLLER EPOCH: 9\n",
      "------------------------------------------------------------------\n",
      "GENERATING ARCHITECTURE SAMPLES...\n",
      "------------------------------------------------------\n",
      "Architecture:  [(16, 'sigmoid'), (16, 'relu'), (10, 'last layer')]\n"
     ]
    },
    {
     "name": "stderr",
     "output_type": "stream",
     "text": [
      "Training loss = 0.138148 val accuracy = 0.939167: 100%|██████████| 10/10 [00:45<00:00,  4.55s/it]\n"
     ]
    },
    {
     "name": "stdout",
     "output_type": "stream",
     "text": [
      "validation accuracy:  0.9351\n",
      "------------------------------------------------------\n",
      "Architecture:  [(256, 'elu'), (10, 'last layer')]\n"
     ]
    },
    {
     "name": "stderr",
     "output_type": "stream",
     "text": [
      "Training loss = 0.017611 val accuracy = 0.973000: 100%|██████████| 10/10 [00:45<00:00,  4.53s/it]\n"
     ]
    },
    {
     "name": "stdout",
     "output_type": "stream",
     "text": [
      "validation accuracy:  0.9702212121212122\n",
      "------------------------------------------------------\n",
      "Architecture:  [(8, 'elu'), (32, 'relu'), (10, 'last layer')]\n"
     ]
    },
    {
     "name": "stderr",
     "output_type": "stream",
     "text": [
      "Training loss = 0.176335 val accuracy = 0.935000: 100%|██████████| 10/10 [00:45<00:00,  4.57s/it]\n"
     ]
    },
    {
     "name": "stdout",
     "output_type": "stream",
     "text": [
      "validation accuracy:  0.9281636363636363\n",
      "------------------------------------------------------\n",
      "Architecture:  [(16, 'sigmoid'), (512, 'relu'), (10, 'last layer')]\n"
     ]
    },
    {
     "name": "stderr",
     "output_type": "stream",
     "text": [
      "Training loss = 0.083277 val accuracy = 0.951500: 100%|██████████| 10/10 [00:45<00:00,  4.56s/it]\n"
     ]
    },
    {
     "name": "stdout",
     "output_type": "stream",
     "text": [
      "validation accuracy:  0.9489424242424243\n",
      "------------------------------------------------------\n",
      "Architecture:  [(32, 'relu'), (16, 'tanh'), (10, 'last layer')]\n"
     ]
    },
    {
     "name": "stderr",
     "output_type": "stream",
     "text": [
      "Training loss = 0.075440 val accuracy = 0.953833: 100%|██████████| 10/10 [00:45<00:00,  4.55s/it]\n"
     ]
    },
    {
     "name": "stdout",
     "output_type": "stream",
     "text": [
      "validation accuracy:  0.9507969696969697\n",
      "------------------------------------------------------\n",
      "Architecture:  [(16, 'tanh'), (128, 'relu'), (10, 'last layer')]\n"
     ]
    },
    {
     "name": "stderr",
     "output_type": "stream",
     "text": [
      "Training loss = 0.101045 val accuracy = 0.941833: 100%|██████████| 10/10 [00:45<00:00,  4.55s/it]\n"
     ]
    },
    {
     "name": "stdout",
     "output_type": "stream",
     "text": [
      "validation accuracy:  0.9429787878787879\n",
      "------------------------------------------------------\n",
      "Architecture:  [(8, 'tanh'), (512, 'elu'), (10, 'last layer')]\n"
     ]
    },
    {
     "name": "stderr",
     "output_type": "stream",
     "text": [
      "Training loss = 0.201241 val accuracy = 0.925333: 100%|██████████| 10/10 [00:45<00:00,  4.59s/it]\n"
     ]
    },
    {
     "name": "stdout",
     "output_type": "stream",
     "text": [
      "validation accuracy:  0.9219575757575758\n",
      "------------------------------------------------------\n",
      "Architecture:  [(32, 'sigmoid'), (16, 'elu'), (10, 'last layer')]\n"
     ]
    },
    {
     "name": "stderr",
     "output_type": "stream",
     "text": [
      "Training loss = 0.068801 val accuracy = 0.954000: 100%|██████████| 10/10 [00:45<00:00,  4.58s/it]\n"
     ]
    },
    {
     "name": "stdout",
     "output_type": "stream",
     "text": [
      "validation accuracy:  0.9505272727272727\n",
      "------------------------------------------------------\n",
      "Architecture:  [(8, 'elu'), (512, 'elu'), (10, 'last layer')]\n"
     ]
    },
    {
     "name": "stderr",
     "output_type": "stream",
     "text": [
      "Training loss = 0.179569 val accuracy = 0.936500: 100%|██████████| 10/10 [00:45<00:00,  4.59s/it]\n"
     ]
    },
    {
     "name": "stdout",
     "output_type": "stream",
     "text": [
      "validation accuracy:  0.9278121212121212\n",
      "------------------------------------------------------\n",
      "Architecture:  [(128, 'relu'), (512, 'relu'), (10, 'last layer')]\n"
     ]
    },
    {
     "name": "stderr",
     "output_type": "stream",
     "text": [
      "Training loss = 0.043546 val accuracy = 0.971000: 100%|██████████| 10/10 [00:45<00:00,  4.60s/it]\n"
     ]
    },
    {
     "name": "stdout",
     "output_type": "stream",
     "text": [
      "validation accuracy:  0.9667575757575759\n",
      "------------------------------------------------------\n",
      "Top 5 Architectures:\n",
      "Architecture [(512, 'sigmoid'), (16, 'elu'), (10, 'last layer')]\n",
      "Validation Accuracy: 0.9745242424242424\n",
      "Architecture [(256, 'elu'), (128, 'sigmoid'), (10, 'last layer')]\n",
      "Validation Accuracy: 0.972330303030303\n",
      "Architecture [(512, 'sigmoid'), (32, 'elu'), (10, 'last layer')]\n",
      "Validation Accuracy: 0.9712363636363635\n",
      "Architecture [(256, 'relu'), (64, 'relu'), (10, 'last layer')]\n",
      "Validation Accuracy: 0.9707757575757575\n",
      "Architecture [(128, 'relu'), 'dropout', (10, 'last layer')]\n",
      "Validation Accuracy: 0.9707757575757575\n",
      "Running script...\n",
      "------------------------------------------------------------------\n",
      "                       CONTROLLER EPOCH: 0\n",
      "------------------------------------------------------------------\n",
      "GENERATING ARCHITECTURE SAMPLES...\n",
      "------------------------------------------------------\n",
      "Architecture:  [(64, 'relu'), (8, 'elu'), (10, 'last layer')]\n"
     ]
    },
    {
     "name": "stderr",
     "output_type": "stream",
     "text": [
      "Training loss = 0.044846 val accuracy = 0.968833: 100%|██████████| 10/10 [00:45<00:00,  4.55s/it]\n"
     ]
    },
    {
     "name": "stdout",
     "output_type": "stream",
     "text": [
      "validation accuracy:  0.9666757575757574\n",
      "------------------------------------------------------\n",
      "Architecture:  [(256, 'sigmoid'), (16, 'sigmoid'), (10, 'last layer')]\n"
     ]
    },
    {
     "name": "stderr",
     "output_type": "stream",
     "text": [
      "Training loss = 0.012009 val accuracy = 0.977833: 100%|██████████| 10/10 [00:45<00:00,  4.57s/it]\n"
     ]
    },
    {
     "name": "stdout",
     "output_type": "stream",
     "text": [
      "validation accuracy:  0.9736090909090908\n",
      "------------------------------------------------------\n",
      "Architecture:  [(32, 'tanh'), (128, 'tanh'), (10, 'last layer')]\n"
     ]
    },
    {
     "name": "stderr",
     "output_type": "stream",
     "text": [
      "Training loss = 0.059508 val accuracy = 0.960667: 100%|██████████| 10/10 [00:45<00:00,  4.56s/it]\n"
     ]
    },
    {
     "name": "stdout",
     "output_type": "stream",
     "text": [
      "validation accuracy:  0.9603909090909091\n",
      "------------------------------------------------------\n",
      "Architecture:  [(16, 'sigmoid'), (128, 'sigmoid'), (10, 'last layer')]\n"
     ]
    },
    {
     "name": "stderr",
     "output_type": "stream",
     "text": [
      "Training loss = 0.131292 val accuracy = 0.944000: 100%|██████████| 10/10 [00:45<00:00,  4.56s/it]\n"
     ]
    },
    {
     "name": "stdout",
     "output_type": "stream",
     "text": [
      "validation accuracy:  0.9408181818181818\n",
      "------------------------------------------------------\n",
      "Architecture:  [(16, 'sigmoid'), (512, 'elu'), (10, 'last layer')]\n"
     ]
    },
    {
     "name": "stderr",
     "output_type": "stream",
     "text": [
      "Training loss = 0.112547 val accuracy = 0.949000: 100%|██████████| 10/10 [00:45<00:00,  4.56s/it]\n"
     ]
    },
    {
     "name": "stdout",
     "output_type": "stream",
     "text": [
      "validation accuracy:  0.9485666666666667\n",
      "------------------------------------------------------\n",
      "Architecture:  [(32, 'relu'), (128, 'sigmoid'), (10, 'last layer')]\n"
     ]
    },
    {
     "name": "stderr",
     "output_type": "stream",
     "text": [
      "Training loss = 0.060723 val accuracy = 0.964500: 100%|██████████| 10/10 [00:45<00:00,  4.57s/it]\n"
     ]
    },
    {
     "name": "stdout",
     "output_type": "stream",
     "text": [
      "validation accuracy:  0.9613242424242424\n",
      "------------------------------------------------------\n",
      "Architecture:  [(16, 'relu'), (10, 'last layer')]\n"
     ]
    },
    {
     "name": "stderr",
     "output_type": "stream",
     "text": [
      "Training loss = 0.147105 val accuracy = 0.944333: 100%|██████████| 10/10 [00:45<00:00,  4.54s/it]\n"
     ]
    },
    {
     "name": "stdout",
     "output_type": "stream",
     "text": [
      "validation accuracy:  0.9409454545454546\n",
      "------------------------------------------------------\n",
      "Architecture:  [(128, 'elu'), (256, 'relu'), (10, 'last layer')]\n"
     ]
    },
    {
     "name": "stderr",
     "output_type": "stream",
     "text": [
      "Training loss = 0.047422 val accuracy = 0.970833: 100%|██████████| 10/10 [00:45<00:00,  4.60s/it]\n"
     ]
    },
    {
     "name": "stdout",
     "output_type": "stream",
     "text": [
      "validation accuracy:  0.9729212121212121\n",
      "------------------------------------------------------\n",
      "Architecture:  [(256, 'elu'), (256, 'elu'), (10, 'last layer')]\n"
     ]
    },
    {
     "name": "stderr",
     "output_type": "stream",
     "text": [
      "Training loss = 0.046117 val accuracy = 0.973333: 100%|██████████| 10/10 [00:45<00:00,  4.57s/it]\n"
     ]
    },
    {
     "name": "stdout",
     "output_type": "stream",
     "text": [
      "validation accuracy:  0.9706333333333333\n",
      "------------------------------------------------------\n",
      "Architecture:  [(256, 'elu'), (8, 'sigmoid'), (10, 'last layer')]\n"
     ]
    },
    {
     "name": "stderr",
     "output_type": "stream",
     "text": [
      "Training loss = 0.060571 val accuracy = 0.973333: 100%|██████████| 10/10 [00:46<00:00,  4.61s/it]\n"
     ]
    },
    {
     "name": "stdout",
     "output_type": "stream",
     "text": [
      "validation accuracy:  0.9646515151515151\n",
      "------------------------------------------------------\n",
      "------------------------------------------------------------------\n",
      "                       CONTROLLER EPOCH: 1\n",
      "------------------------------------------------------------------\n",
      "GENERATING ARCHITECTURE SAMPLES...\n",
      "------------------------------------------------------\n",
      "Architecture:  [(128, 'elu'), (32, 'sigmoid'), (10, 'last layer')]\n"
     ]
    },
    {
     "name": "stderr",
     "output_type": "stream",
     "text": [
      "Training loss = 0.020389 val accuracy = 0.976000: 100%|██████████| 10/10 [00:45<00:00,  4.58s/it]\n"
     ]
    },
    {
     "name": "stdout",
     "output_type": "stream",
     "text": [
      "validation accuracy:  0.9737545454545454\n",
      "------------------------------------------------------\n",
      "Architecture:  [(32, 'tanh'), (16, 'tanh'), (10, 'last layer')]\n"
     ]
    },
    {
     "name": "stderr",
     "output_type": "stream",
     "text": [
      "Training loss = 0.076759 val accuracy = 0.957667: 100%|██████████| 10/10 [00:45<00:00,  4.57s/it]\n"
     ]
    },
    {
     "name": "stdout",
     "output_type": "stream",
     "text": [
      "validation accuracy:  0.9548818181818183\n",
      "------------------------------------------------------\n",
      "Architecture:  [(8, 'tanh'), (8, 'relu'), (10, 'last layer')]\n"
     ]
    },
    {
     "name": "stderr",
     "output_type": "stream",
     "text": [
      "Training loss = 0.269839 val accuracy = 0.911833: 100%|██████████| 10/10 [00:45<00:00,  4.56s/it]\n"
     ]
    },
    {
     "name": "stdout",
     "output_type": "stream",
     "text": [
      "validation accuracy:  0.9093272727272727\n",
      "------------------------------------------------------\n",
      "Architecture:  [(512, 'sigmoid'), (8, 'tanh'), (10, 'last layer')]\n"
     ]
    },
    {
     "name": "stderr",
     "output_type": "stream",
     "text": [
      "Training loss = 0.022865 val accuracy = 0.974667: 100%|██████████| 10/10 [00:45<00:00,  4.57s/it]\n"
     ]
    },
    {
     "name": "stdout",
     "output_type": "stream",
     "text": [
      "validation accuracy:  0.9720454545454547\n",
      "------------------------------------------------------\n",
      "Architecture:  [(128, 'relu'), (256, 'sigmoid'), (10, 'last layer')]\n"
     ]
    },
    {
     "name": "stderr",
     "output_type": "stream",
     "text": [
      "Training loss = 0.017968 val accuracy = 0.974667: 100%|██████████| 10/10 [00:45<00:00,  4.57s/it]\n"
     ]
    },
    {
     "name": "stdout",
     "output_type": "stream",
     "text": [
      "validation accuracy:  0.973190909090909\n",
      "------------------------------------------------------\n",
      "Architecture:  [(256, 'relu'), (32, 'sigmoid'), (10, 'last layer')]\n"
     ]
    },
    {
     "name": "stderr",
     "output_type": "stream",
     "text": [
      "Training loss = 0.017890 val accuracy = 0.977667: 100%|██████████| 10/10 [00:45<00:00,  4.58s/it]\n"
     ]
    },
    {
     "name": "stdout",
     "output_type": "stream",
     "text": [
      "validation accuracy:  0.9755545454545456\n",
      "------------------------------------------------------\n",
      "Architecture:  [(64, 'relu'), (512, 'tanh'), (10, 'last layer')]\n"
     ]
    },
    {
     "name": "stderr",
     "output_type": "stream",
     "text": [
      "Training loss = 0.049908 val accuracy = 0.966500: 100%|██████████| 10/10 [00:45<00:00,  4.58s/it]\n"
     ]
    },
    {
     "name": "stdout",
     "output_type": "stream",
     "text": [
      "validation accuracy:  0.9664969696969697\n",
      "------------------------------------------------------\n",
      "Architecture:  [(32, 'elu'), (512, 'elu'), (10, 'last layer')]\n"
     ]
    },
    {
     "name": "stderr",
     "output_type": "stream",
     "text": [
      "Training loss = 0.065557 val accuracy = 0.967000: 100%|██████████| 10/10 [00:45<00:00,  4.59s/it]\n"
     ]
    },
    {
     "name": "stdout",
     "output_type": "stream",
     "text": [
      "validation accuracy:  0.962569696969697\n",
      "------------------------------------------------------\n",
      "Architecture:  [(128, 'tanh'), (128, 'relu'), (10, 'last layer')]\n"
     ]
    },
    {
     "name": "stderr",
     "output_type": "stream",
     "text": [
      "Training loss = 0.032112 val accuracy = 0.969167: 100%|██████████| 10/10 [00:46<00:00,  4.62s/it]\n"
     ]
    },
    {
     "name": "stdout",
     "output_type": "stream",
     "text": [
      "validation accuracy:  0.9706575757575758\n",
      "------------------------------------------------------\n",
      "Architecture:  [(32, 'sigmoid'), (16, 'tanh'), (10, 'last layer')]\n"
     ]
    },
    {
     "name": "stderr",
     "output_type": "stream",
     "text": [
      "Training loss = 0.069378 val accuracy = 0.960500: 100%|██████████| 10/10 [00:45<00:00,  4.58s/it]\n"
     ]
    },
    {
     "name": "stdout",
     "output_type": "stream",
     "text": [
      "validation accuracy:  0.9597636363636363\n",
      "------------------------------------------------------\n",
      "------------------------------------------------------------------\n",
      "                       CONTROLLER EPOCH: 2\n",
      "------------------------------------------------------------------\n",
      "GENERATING ARCHITECTURE SAMPLES...\n",
      "------------------------------------------------------\n",
      "Architecture:  [(32, 'relu'), (8, 'sigmoid'), (10, 'last layer')]\n"
     ]
    },
    {
     "name": "stderr",
     "output_type": "stream",
     "text": [
      "Training loss = 0.118388 val accuracy = 0.952667: 100%|██████████| 10/10 [00:45<00:00,  4.58s/it]\n"
     ]
    },
    {
     "name": "stdout",
     "output_type": "stream",
     "text": [
      "validation accuracy:  0.9486333333333334\n",
      "------------------------------------------------------\n",
      "Architecture:  [(64, 'tanh'), (8, 'elu'), (10, 'last layer')]\n"
     ]
    },
    {
     "name": "stderr",
     "output_type": "stream",
     "text": [
      "Training loss = 0.041200 val accuracy = 0.959500: 100%|██████████| 10/10 [00:45<00:00,  4.57s/it]\n"
     ]
    },
    {
     "name": "stdout",
     "output_type": "stream",
     "text": [
      "validation accuracy:  0.9603969696969696\n",
      "------------------------------------------------------\n",
      "Architecture:  [(8, 'relu'), (64, 'tanh'), (10, 'last layer')]\n"
     ]
    },
    {
     "name": "stderr",
     "output_type": "stream",
     "text": [
      "Training loss = 0.184041 val accuracy = 0.927833: 100%|██████████| 10/10 [00:46<00:00,  4.60s/it]\n"
     ]
    },
    {
     "name": "stdout",
     "output_type": "stream",
     "text": [
      "validation accuracy:  0.9285454545454545\n",
      "------------------------------------------------------\n",
      "Architecture:  [(32, 'tanh'), (8, 'sigmoid'), (10, 'last layer')]\n"
     ]
    },
    {
     "name": "stderr",
     "output_type": "stream",
     "text": [
      "Training loss = 0.118978 val accuracy = 0.954667: 100%|██████████| 10/10 [00:45<00:00,  4.58s/it]\n"
     ]
    },
    {
     "name": "stdout",
     "output_type": "stream",
     "text": [
      "validation accuracy:  0.9470727272727273\n",
      "------------------------------------------------------\n",
      "Architecture:  [(16, 'tanh'), (512, 'elu'), (10, 'last layer')]\n"
     ]
    },
    {
     "name": "stderr",
     "output_type": "stream",
     "text": [
      "Training loss = 0.119336 val accuracy = 0.940167: 100%|██████████| 10/10 [00:45<00:00,  4.59s/it]\n"
     ]
    },
    {
     "name": "stdout",
     "output_type": "stream",
     "text": [
      "validation accuracy:  0.942078787878788\n",
      "------------------------------------------------------\n",
      "Architecture:  [(32, 'relu'), (128, 'tanh'), (10, 'last layer')]\n"
     ]
    },
    {
     "name": "stderr",
     "output_type": "stream",
     "text": [
      "Training loss = 0.054164 val accuracy = 0.965667: 100%|██████████| 10/10 [00:45<00:00,  4.57s/it]\n"
     ]
    },
    {
     "name": "stdout",
     "output_type": "stream",
     "text": [
      "validation accuracy:  0.9627242424242425\n",
      "------------------------------------------------------\n",
      "Architecture:  [(512, 'sigmoid'), (512, 'elu'), (10, 'last layer')]\n"
     ]
    },
    {
     "name": "stderr",
     "output_type": "stream",
     "text": [
      "Training loss = 0.053727 val accuracy = 0.966667: 100%|██████████| 10/10 [00:45<00:00,  4.56s/it]\n"
     ]
    },
    {
     "name": "stdout",
     "output_type": "stream",
     "text": [
      "validation accuracy:  0.9592272727272727\n",
      "------------------------------------------------------\n",
      "Architecture:  [(8, 'elu'), (64, 'tanh'), (10, 'last layer')]\n"
     ]
    },
    {
     "name": "stderr",
     "output_type": "stream",
     "text": [
      "Training loss = 0.162091 val accuracy = 0.937333: 100%|██████████| 10/10 [00:45<00:00,  4.59s/it]\n"
     ]
    },
    {
     "name": "stdout",
     "output_type": "stream",
     "text": [
      "validation accuracy:  0.9383181818181818\n",
      "------------------------------------------------------\n",
      "Architecture:  [(32, 'relu'), (512, 'relu'), (10, 'last layer')]\n"
     ]
    },
    {
     "name": "stderr",
     "output_type": "stream",
     "text": [
      "Training loss = 0.050284 val accuracy = 0.966000: 100%|██████████| 10/10 [00:46<00:00,  4.60s/it]\n"
     ]
    },
    {
     "name": "stdout",
     "output_type": "stream",
     "text": [
      "validation accuracy:  0.9662818181818181\n",
      "------------------------------------------------------\n",
      "Architecture:  [(64, 'sigmoid'), (64, 'sigmoid'), (10, 'last layer')]\n"
     ]
    },
    {
     "name": "stderr",
     "output_type": "stream",
     "text": [
      "Training loss = 0.031495 val accuracy = 0.965667: 100%|██████████| 10/10 [00:46<00:00,  4.60s/it]\n"
     ]
    },
    {
     "name": "stdout",
     "output_type": "stream",
     "text": [
      "validation accuracy:  0.9653757575757574\n",
      "------------------------------------------------------\n",
      "------------------------------------------------------------------\n",
      "                       CONTROLLER EPOCH: 3\n",
      "------------------------------------------------------------------\n",
      "GENERATING ARCHITECTURE SAMPLES...\n",
      "------------------------------------------------------\n",
      "Architecture:  [(64, 'elu'), (256, 'sigmoid'), (10, 'last layer')]\n"
     ]
    },
    {
     "name": "stderr",
     "output_type": "stream",
     "text": [
      "Training loss = 0.022389 val accuracy = 0.971333: 100%|██████████| 10/10 [00:46<00:00,  4.60s/it]\n"
     ]
    },
    {
     "name": "stdout",
     "output_type": "stream",
     "text": [
      "validation accuracy:  0.9711484848484849\n",
      "------------------------------------------------------\n",
      "Architecture:  [(512, 'elu'), (256, 'sigmoid'), (10, 'last layer')]\n"
     ]
    },
    {
     "name": "stderr",
     "output_type": "stream",
     "text": [
      "Training loss = 0.013370 val accuracy = 0.981500: 100%|██████████| 10/10 [00:46<00:00,  4.60s/it]\n"
     ]
    },
    {
     "name": "stdout",
     "output_type": "stream",
     "text": [
      "validation accuracy:  0.9776121212121214\n",
      "------------------------------------------------------\n",
      "Architecture:  [(128, 'elu'), (128, 'relu'), (10, 'last layer')]\n"
     ]
    },
    {
     "name": "stderr",
     "output_type": "stream",
     "text": [
      "Training loss = 0.036535 val accuracy = 0.976667: 100%|██████████| 10/10 [00:45<00:00,  4.57s/it]\n"
     ]
    },
    {
     "name": "stdout",
     "output_type": "stream",
     "text": [
      "validation accuracy:  0.9740151515151514\n",
      "------------------------------------------------------\n",
      "Architecture:  [(32, 'relu'), (16, 'elu'), (10, 'last layer')]\n"
     ]
    },
    {
     "name": "stderr",
     "output_type": "stream",
     "text": [
      "Training loss = 0.077964 val accuracy = 0.958333: 100%|██████████| 10/10 [00:45<00:00,  4.57s/it]\n"
     ]
    },
    {
     "name": "stdout",
     "output_type": "stream",
     "text": [
      "validation accuracy:  0.9579515151515152\n",
      "------------------------------------------------------\n",
      "Architecture:  [(512, 'sigmoid'), (32, 'elu'), (10, 'last layer')]\n"
     ]
    },
    {
     "name": "stderr",
     "output_type": "stream",
     "text": [
      "Training loss = 0.010301 val accuracy = 0.975500: 100%|██████████| 10/10 [00:45<00:00,  4.57s/it]\n"
     ]
    },
    {
     "name": "stdout",
     "output_type": "stream",
     "text": [
      "validation accuracy:  0.9762636363636364\n",
      "------------------------------------------------------\n",
      "Architecture:  [(512, 'tanh'), (10, 'last layer')]\n"
     ]
    },
    {
     "name": "stderr",
     "output_type": "stream",
     "text": [
      "Training loss = 0.009520 val accuracy = 0.977833: 100%|██████████| 10/10 [00:45<00:00,  4.58s/it]\n"
     ]
    },
    {
     "name": "stdout",
     "output_type": "stream",
     "text": [
      "validation accuracy:  0.9754515151515152\n",
      "------------------------------------------------------\n",
      "Architecture:  [(256, 'relu'), (256, 'tanh'), (10, 'last layer')]\n"
     ]
    },
    {
     "name": "stderr",
     "output_type": "stream",
     "text": [
      "Training loss = 0.025245 val accuracy = 0.975167: 100%|██████████| 10/10 [00:45<00:00,  4.58s/it]\n"
     ]
    },
    {
     "name": "stdout",
     "output_type": "stream",
     "text": [
      "validation accuracy:  0.9751030303030302\n",
      "------------------------------------------------------\n",
      "Architecture:  [(64, 'sigmoid'), (512, 'relu'), (10, 'last layer')]\n"
     ]
    },
    {
     "name": "stderr",
     "output_type": "stream",
     "text": [
      "Training loss = 0.031492 val accuracy = 0.970500: 100%|██████████| 10/10 [00:45<00:00,  4.59s/it]\n"
     ]
    },
    {
     "name": "stdout",
     "output_type": "stream",
     "text": [
      "validation accuracy:  0.9692333333333334\n",
      "------------------------------------------------------\n",
      "Architecture:  [(32, 'elu'), (16, 'elu'), (10, 'last layer')]\n"
     ]
    },
    {
     "name": "stderr",
     "output_type": "stream",
     "text": [
      "Training loss = 0.058757 val accuracy = 0.965167: 100%|██████████| 10/10 [00:45<00:00,  4.57s/it]\n"
     ]
    },
    {
     "name": "stdout",
     "output_type": "stream",
     "text": [
      "validation accuracy:  0.9636999999999999\n",
      "------------------------------------------------------\n",
      "Architecture:  [(8, 'elu'), (512, 'tanh'), (10, 'last layer')]\n"
     ]
    },
    {
     "name": "stderr",
     "output_type": "stream",
     "text": [
      "Training loss = 0.152338 val accuracy = 0.946167: 100%|██████████| 10/10 [00:45<00:00,  4.58s/it]\n"
     ]
    },
    {
     "name": "stdout",
     "output_type": "stream",
     "text": [
      "validation accuracy:  0.9403060606060606\n",
      "------------------------------------------------------\n",
      "------------------------------------------------------------------\n",
      "                       CONTROLLER EPOCH: 4\n",
      "------------------------------------------------------------------\n",
      "GENERATING ARCHITECTURE SAMPLES...\n",
      "------------------------------------------------------\n",
      "Architecture:  [(128, 'sigmoid'), (128, 'relu'), (10, 'last layer')]\n"
     ]
    },
    {
     "name": "stderr",
     "output_type": "stream",
     "text": [
      "Training loss = 0.021805 val accuracy = 0.973833: 100%|██████████| 10/10 [00:45<00:00,  4.59s/it]\n"
     ]
    },
    {
     "name": "stdout",
     "output_type": "stream",
     "text": [
      "validation accuracy:  0.9715969696969696\n",
      "------------------------------------------------------\n",
      "Architecture:  [(8, 'tanh'), (32, 'elu'), (10, 'last layer')]\n"
     ]
    },
    {
     "name": "stderr",
     "output_type": "stream",
     "text": [
      "Training loss = 0.209033 val accuracy = 0.930333: 100%|██████████| 10/10 [00:45<00:00,  4.56s/it]\n"
     ]
    },
    {
     "name": "stdout",
     "output_type": "stream",
     "text": [
      "validation accuracy:  0.9266090909090909\n",
      "------------------------------------------------------\n",
      "Architecture:  [(64, 'sigmoid'), (256, 'tanh'), (10, 'last layer')]\n"
     ]
    },
    {
     "name": "stderr",
     "output_type": "stream",
     "text": [
      "Training loss = 0.027669 val accuracy = 0.972833: 100%|██████████| 10/10 [00:45<00:00,  4.58s/it]\n"
     ]
    },
    {
     "name": "stdout",
     "output_type": "stream",
     "text": [
      "validation accuracy:  0.9698212121212122\n",
      "------------------------------------------------------\n",
      "Architecture:  [(256, 'tanh'), (8, 'sigmoid'), (10, 'last layer')]\n"
     ]
    },
    {
     "name": "stderr",
     "output_type": "stream",
     "text": [
      "Training loss = 0.053836 val accuracy = 0.970167: 100%|██████████| 10/10 [00:45<00:00,  4.55s/it]\n"
     ]
    },
    {
     "name": "stdout",
     "output_type": "stream",
     "text": [
      "validation accuracy:  0.9648909090909091\n",
      "------------------------------------------------------\n",
      "Architecture:  [(8, 'elu'), (8, 'elu'), (10, 'last layer')]\n"
     ]
    },
    {
     "name": "stderr",
     "output_type": "stream",
     "text": [
      "Training loss = 0.221506 val accuracy = 0.924667: 100%|██████████| 10/10 [00:45<00:00,  4.56s/it]\n"
     ]
    },
    {
     "name": "stdout",
     "output_type": "stream",
     "text": [
      "validation accuracy:  0.9202969696969696\n",
      "------------------------------------------------------\n",
      "Architecture:  [(256, 'tanh'), (8, 'elu'), (10, 'last layer')]\n"
     ]
    },
    {
     "name": "stderr",
     "output_type": "stream",
     "text": [
      "Training loss = 0.020929 val accuracy = 0.970333: 100%|██████████| 10/10 [00:45<00:00,  4.56s/it]\n"
     ]
    },
    {
     "name": "stdout",
     "output_type": "stream",
     "text": [
      "validation accuracy:  0.9711666666666665\n",
      "------------------------------------------------------\n",
      "Architecture:  [(64, 'sigmoid'), (64, 'relu'), (10, 'last layer')]\n"
     ]
    },
    {
     "name": "stderr",
     "output_type": "stream",
     "text": [
      "Training loss = 0.032442 val accuracy = 0.968833: 100%|██████████| 10/10 [00:45<00:00,  4.59s/it]\n"
     ]
    },
    {
     "name": "stdout",
     "output_type": "stream",
     "text": [
      "validation accuracy:  0.9680575757575758\n",
      "------------------------------------------------------\n",
      "Architecture:  [(32, 'elu'), (64, 'elu'), (10, 'last layer')]\n"
     ]
    },
    {
     "name": "stderr",
     "output_type": "stream",
     "text": [
      "Training loss = 0.048544 val accuracy = 0.967667: 100%|██████████| 10/10 [00:45<00:00,  4.56s/it]\n"
     ]
    },
    {
     "name": "stdout",
     "output_type": "stream",
     "text": [
      "validation accuracy:  0.9653242424242424\n",
      "------------------------------------------------------\n",
      "Architecture:  [(64, 'relu'), (10, 'last layer')]\n"
     ]
    },
    {
     "name": "stderr",
     "output_type": "stream",
     "text": [
      "Training loss = 0.036619 val accuracy = 0.971667: 100%|██████████| 10/10 [00:45<00:00,  4.54s/it]\n"
     ]
    },
    {
     "name": "stdout",
     "output_type": "stream",
     "text": [
      "validation accuracy:  0.9680939393939396\n",
      "------------------------------------------------------\n",
      "Architecture:  [(512, 'elu'), (32, 'elu'), (10, 'last layer')]\n"
     ]
    },
    {
     "name": "stderr",
     "output_type": "stream",
     "text": [
      "Training loss = 0.026213 val accuracy = 0.979000: 100%|██████████| 10/10 [00:45<00:00,  4.57s/it]\n"
     ]
    },
    {
     "name": "stdout",
     "output_type": "stream",
     "text": [
      "validation accuracy:  0.9747727272727272\n",
      "------------------------------------------------------\n",
      "------------------------------------------------------------------\n",
      "                       CONTROLLER EPOCH: 5\n",
      "------------------------------------------------------------------\n",
      "GENERATING ARCHITECTURE SAMPLES...\n",
      "------------------------------------------------------\n",
      "Architecture:  [(8, 'sigmoid'), (64, 'elu'), (10, 'last layer')]\n"
     ]
    },
    {
     "name": "stderr",
     "output_type": "stream",
     "text": [
      "Training loss = 0.214215 val accuracy = 0.928333: 100%|██████████| 10/10 [00:45<00:00,  4.55s/it]\n"
     ]
    },
    {
     "name": "stdout",
     "output_type": "stream",
     "text": [
      "validation accuracy:  0.9232757575757574\n",
      "------------------------------------------------------\n",
      "Architecture:  [(128, 'relu'), (512, 'elu'), (10, 'last layer')]\n"
     ]
    },
    {
     "name": "stderr",
     "output_type": "stream",
     "text": [
      "Training loss = 0.049304 val accuracy = 0.970000: 100%|██████████| 10/10 [00:46<00:00,  4.61s/it]\n"
     ]
    },
    {
     "name": "stdout",
     "output_type": "stream",
     "text": [
      "validation accuracy:  0.9680242424242426\n",
      "------------------------------------------------------\n",
      "Architecture:  [(512, 'sigmoid'), (8, 'sigmoid'), (10, 'last layer')]\n"
     ]
    },
    {
     "name": "stderr",
     "output_type": "stream",
     "text": [
      "Training loss = 0.019794 val accuracy = 0.973833: 100%|██████████| 10/10 [00:45<00:00,  4.57s/it]\n"
     ]
    },
    {
     "name": "stdout",
     "output_type": "stream",
     "text": [
      "validation accuracy:  0.9727666666666667\n",
      "------------------------------------------------------\n",
      "Architecture:  [(16, 'relu'), (8, 'sigmoid'), (10, 'last layer')]\n"
     ]
    },
    {
     "name": "stderr",
     "output_type": "stream",
     "text": [
      "Training loss = 0.220930 val accuracy = 0.930167: 100%|██████████| 10/10 [00:45<00:00,  4.56s/it]\n"
     ]
    },
    {
     "name": "stdout",
     "output_type": "stream",
     "text": [
      "validation accuracy:  0.923709090909091\n",
      "------------------------------------------------------\n",
      "Architecture:  [(256, 'tanh'), (512, 'tanh'), (10, 'last layer')]\n"
     ]
    },
    {
     "name": "stderr",
     "output_type": "stream",
     "text": [
      "Training loss = 0.045299 val accuracy = 0.971167: 100%|██████████| 10/10 [00:45<00:00,  4.57s/it]\n"
     ]
    },
    {
     "name": "stdout",
     "output_type": "stream",
     "text": [
      "validation accuracy:  0.9696515151515152\n",
      "------------------------------------------------------\n",
      "Architecture:  [(16, 'relu'), (16, 'sigmoid'), (10, 'last layer')]\n"
     ]
    },
    {
     "name": "stderr",
     "output_type": "stream",
     "text": [
      "Training loss = 0.169031 val accuracy = 0.941333: 100%|██████████| 10/10 [00:45<00:00,  4.56s/it]\n"
     ]
    },
    {
     "name": "stdout",
     "output_type": "stream",
     "text": [
      "validation accuracy:  0.9359545454545455\n",
      "------------------------------------------------------\n",
      "Architecture:  [(32, 'elu'), (16, 'relu'), (10, 'last layer')]\n"
     ]
    },
    {
     "name": "stderr",
     "output_type": "stream",
     "text": [
      "Training loss = 0.071918 val accuracy = 0.964167: 100%|██████████| 10/10 [00:45<00:00,  4.58s/it]\n"
     ]
    },
    {
     "name": "stdout",
     "output_type": "stream",
     "text": [
      "validation accuracy:  0.9596939393939394\n",
      "------------------------------------------------------\n",
      "Architecture:  [(64, 'elu'), (512, 'sigmoid'), (10, 'last layer')]\n"
     ]
    },
    {
     "name": "stderr",
     "output_type": "stream",
     "text": [
      "Training loss = 0.023008 val accuracy = 0.972833: 100%|██████████| 10/10 [00:45<00:00,  4.58s/it]\n"
     ]
    },
    {
     "name": "stdout",
     "output_type": "stream",
     "text": [
      "validation accuracy:  0.9721151515151515\n",
      "------------------------------------------------------\n",
      "Architecture:  [(8, 'relu'), (32, 'elu'), (10, 'last layer')]\n"
     ]
    },
    {
     "name": "stderr",
     "output_type": "stream",
     "text": [
      "Training loss = 0.186434 val accuracy = 0.932667: 100%|██████████| 10/10 [00:45<00:00,  4.56s/it]\n"
     ]
    },
    {
     "name": "stdout",
     "output_type": "stream",
     "text": [
      "validation accuracy:  0.9322545454545454\n",
      "------------------------------------------------------\n",
      "Architecture:  [(128, 'relu'), (64, 'sigmoid'), (10, 'last layer')]\n"
     ]
    },
    {
     "name": "stderr",
     "output_type": "stream",
     "text": [
      "Training loss = 0.017429 val accuracy = 0.977167: 100%|██████████| 10/10 [00:45<00:00,  4.58s/it]\n"
     ]
    },
    {
     "name": "stdout",
     "output_type": "stream",
     "text": [
      "validation accuracy:  0.9746\n",
      "------------------------------------------------------\n",
      "------------------------------------------------------------------\n",
      "                       CONTROLLER EPOCH: 6\n",
      "------------------------------------------------------------------\n",
      "GENERATING ARCHITECTURE SAMPLES...\n",
      "------------------------------------------------------\n",
      "Architecture:  [(64, 'sigmoid'), (8, 'sigmoid'), (10, 'last layer')]\n"
     ]
    },
    {
     "name": "stderr",
     "output_type": "stream",
     "text": [
      "Training loss = 0.065827 val accuracy = 0.962000: 100%|██████████| 10/10 [00:45<00:00,  4.56s/it]\n"
     ]
    },
    {
     "name": "stdout",
     "output_type": "stream",
     "text": [
      "validation accuracy:  0.9572\n",
      "------------------------------------------------------\n",
      "Architecture:  [(512, 'sigmoid'), (32, 'relu'), (10, 'last layer')]\n"
     ]
    },
    {
     "name": "stderr",
     "output_type": "stream",
     "text": [
      "Training loss = 0.006126 val accuracy = 0.979333: 100%|██████████| 10/10 [00:46<00:00,  4.63s/it]\n"
     ]
    },
    {
     "name": "stdout",
     "output_type": "stream",
     "text": [
      "validation accuracy:  0.9759060606060604\n",
      "------------------------------------------------------\n",
      "Architecture:  [(512, 'tanh'), (8, 'sigmoid'), (10, 'last layer')]\n"
     ]
    },
    {
     "name": "stderr",
     "output_type": "stream",
     "text": [
      "Training loss = 0.051078 val accuracy = 0.967167: 100%|██████████| 10/10 [00:45<00:00,  4.58s/it]\n"
     ]
    },
    {
     "name": "stdout",
     "output_type": "stream",
     "text": [
      "validation accuracy:  0.9665727272727274\n",
      "------------------------------------------------------\n",
      "Architecture:  [(64, 'elu'), (10, 'last layer')]\n"
     ]
    },
    {
     "name": "stderr",
     "output_type": "stream",
     "text": [
      "Training loss = 0.027170 val accuracy = 0.974333: 100%|██████████| 10/10 [00:45<00:00,  4.52s/it]\n"
     ]
    },
    {
     "name": "stdout",
     "output_type": "stream",
     "text": [
      "validation accuracy:  0.971\n",
      "------------------------------------------------------\n",
      "Architecture:  [(8, 'elu'), (64, 'elu'), (10, 'last layer')]\n"
     ]
    },
    {
     "name": "stderr",
     "output_type": "stream",
     "text": [
      "Training loss = 0.158414 val accuracy = 0.942000: 100%|██████████| 10/10 [00:46<00:00,  4.61s/it]\n"
     ]
    },
    {
     "name": "stdout",
     "output_type": "stream",
     "text": [
      "validation accuracy:  0.9399818181818181\n",
      "------------------------------------------------------\n",
      "Architecture:  [(32, 'elu'), (128, 'elu'), (10, 'last layer')]\n"
     ]
    },
    {
     "name": "stderr",
     "output_type": "stream",
     "text": [
      "Training loss = 0.051924 val accuracy = 0.970000: 100%|██████████| 10/10 [00:46<00:00,  4.60s/it]\n"
     ]
    },
    {
     "name": "stdout",
     "output_type": "stream",
     "text": [
      "validation accuracy:  0.9670363636363636\n",
      "------------------------------------------------------\n",
      "Architecture:  [(256, 'sigmoid'), (8, 'sigmoid'), (10, 'last layer')]\n"
     ]
    },
    {
     "name": "stderr",
     "output_type": "stream",
     "text": [
      "Training loss = 0.026936 val accuracy = 0.975333: 100%|██████████| 10/10 [00:45<00:00,  4.58s/it]\n"
     ]
    },
    {
     "name": "stdout",
     "output_type": "stream",
     "text": [
      "validation accuracy:  0.9709000000000001\n",
      "------------------------------------------------------\n",
      "Architecture:  [(64, 'tanh'), (128, 'sigmoid'), (10, 'last layer')]\n"
     ]
    },
    {
     "name": "stderr",
     "output_type": "stream",
     "text": [
      "Training loss = 0.029860 val accuracy = 0.968000: 100%|██████████| 10/10 [00:45<00:00,  4.58s/it]\n"
     ]
    },
    {
     "name": "stdout",
     "output_type": "stream",
     "text": [
      "validation accuracy:  0.9672666666666666\n",
      "------------------------------------------------------\n",
      "Architecture:  [(64, 'sigmoid'), (16, 'relu'), (10, 'last layer')]\n"
     ]
    },
    {
     "name": "stderr",
     "output_type": "stream",
     "text": [
      "Training loss = 0.041826 val accuracy = 0.969833: 100%|██████████| 10/10 [00:45<00:00,  4.57s/it]\n"
     ]
    },
    {
     "name": "stdout",
     "output_type": "stream",
     "text": [
      "validation accuracy:  0.9634272727272728\n",
      "------------------------------------------------------\n",
      "Architecture:  [(32, 'elu'), (16, 'tanh'), (10, 'last layer')]\n"
     ]
    },
    {
     "name": "stderr",
     "output_type": "stream",
     "text": [
      "Training loss = 0.070093 val accuracy = 0.962833: 100%|██████████| 10/10 [00:45<00:00,  4.57s/it]\n"
     ]
    },
    {
     "name": "stdout",
     "output_type": "stream",
     "text": [
      "validation accuracy:  0.9596242424242426\n",
      "------------------------------------------------------\n",
      "------------------------------------------------------------------\n",
      "                       CONTROLLER EPOCH: 7\n",
      "------------------------------------------------------------------\n",
      "GENERATING ARCHITECTURE SAMPLES...\n",
      "------------------------------------------------------\n",
      "Architecture:  [(8, 'tanh'), (512, 'relu'), (10, 'last layer')]\n"
     ]
    },
    {
     "name": "stderr",
     "output_type": "stream",
     "text": [
      "Training loss = 0.176439 val accuracy = 0.929833: 100%|██████████| 10/10 [00:45<00:00,  4.60s/it]\n"
     ]
    },
    {
     "name": "stdout",
     "output_type": "stream",
     "text": [
      "validation accuracy:  0.9320878787878788\n",
      "------------------------------------------------------\n",
      "Architecture:  [(256, 'tanh'), (10, 'last layer')]\n"
     ]
    },
    {
     "name": "stderr",
     "output_type": "stream",
     "text": [
      "Training loss = 0.006796 val accuracy = 0.976833: 100%|██████████| 10/10 [00:45<00:00,  4.53s/it]\n"
     ]
    },
    {
     "name": "stdout",
     "output_type": "stream",
     "text": [
      "validation accuracy:  0.9740818181818182\n",
      "------------------------------------------------------\n",
      "Architecture:  [(512, 'sigmoid'), (128, 'relu'), (10, 'last layer')]\n"
     ]
    },
    {
     "name": "stderr",
     "output_type": "stream",
     "text": [
      "Training loss = 0.015726 val accuracy = 0.978667: 100%|██████████| 10/10 [00:45<00:00,  4.60s/it]\n"
     ]
    },
    {
     "name": "stdout",
     "output_type": "stream",
     "text": [
      "validation accuracy:  0.9757848484848486\n",
      "------------------------------------------------------\n",
      "Architecture:  [(128, 'relu'), (32, 'tanh'), (10, 'last layer')]\n"
     ]
    },
    {
     "name": "stderr",
     "output_type": "stream",
     "text": [
      "Training loss = 0.028109 val accuracy = 0.973167: 100%|██████████| 10/10 [00:45<00:00,  4.58s/it]\n"
     ]
    },
    {
     "name": "stdout",
     "output_type": "stream",
     "text": [
      "validation accuracy:  0.9725757575757574\n",
      "------------------------------------------------------\n",
      "Architecture:  [(128, 'elu'), (16, 'relu'), (10, 'last layer')]\n"
     ]
    },
    {
     "name": "stderr",
     "output_type": "stream",
     "text": [
      "Training loss = 0.026087 val accuracy = 0.973833: 100%|██████████| 10/10 [00:45<00:00,  4.58s/it]\n"
     ]
    },
    {
     "name": "stdout",
     "output_type": "stream",
     "text": [
      "validation accuracy:  0.9723151515151516\n",
      "------------------------------------------------------\n",
      "Architecture:  [(64, 'tanh'), (32, 'tanh'), (10, 'last layer')]\n"
     ]
    },
    {
     "name": "stderr",
     "output_type": "stream",
     "text": [
      "Training loss = 0.046845 val accuracy = 0.967500: 100%|██████████| 10/10 [00:45<00:00,  4.56s/it]\n"
     ]
    },
    {
     "name": "stdout",
     "output_type": "stream",
     "text": [
      "validation accuracy:  0.9653818181818182\n",
      "------------------------------------------------------\n",
      "Architecture:  [(32, 'elu'), (32, 'elu'), (10, 'last layer')]\n"
     ]
    },
    {
     "name": "stderr",
     "output_type": "stream",
     "text": [
      "Training loss = 0.053523 val accuracy = 0.964167: 100%|██████████| 10/10 [00:45<00:00,  4.56s/it]\n"
     ]
    },
    {
     "name": "stdout",
     "output_type": "stream",
     "text": [
      "validation accuracy:  0.9634787878787878\n",
      "------------------------------------------------------\n",
      "Architecture:  [(16, 'relu'), 'dropout', (10, 'last layer')]\n"
     ]
    },
    {
     "name": "stderr",
     "output_type": "stream",
     "text": [
      "Training loss = 0.354986 val accuracy = 0.939667: 100%|██████████| 10/10 [00:45<00:00,  4.54s/it]\n"
     ]
    },
    {
     "name": "stdout",
     "output_type": "stream",
     "text": [
      "validation accuracy:  0.9312060606060606\n",
      "------------------------------------------------------\n",
      "Architecture:  [(8, 'elu'), (512, 'relu'), (10, 'last layer')]\n"
     ]
    },
    {
     "name": "stderr",
     "output_type": "stream",
     "text": [
      "Training loss = 0.147434 val accuracy = 0.936167: 100%|██████████| 10/10 [00:45<00:00,  4.58s/it]\n"
     ]
    },
    {
     "name": "stdout",
     "output_type": "stream",
     "text": [
      "validation accuracy:  0.9404818181818182\n",
      "------------------------------------------------------\n",
      "Architecture:  [(64, 'elu'), (128, 'relu'), (10, 'last layer')]\n"
     ]
    },
    {
     "name": "stderr",
     "output_type": "stream",
     "text": [
      "Training loss = 0.039719 val accuracy = 0.963667: 100%|██████████| 10/10 [00:45<00:00,  4.58s/it]\n"
     ]
    },
    {
     "name": "stdout",
     "output_type": "stream",
     "text": [
      "validation accuracy:  0.9689969696969699\n",
      "------------------------------------------------------\n",
      "------------------------------------------------------------------\n",
      "                       CONTROLLER EPOCH: 8\n",
      "------------------------------------------------------------------\n",
      "GENERATING ARCHITECTURE SAMPLES...\n",
      "------------------------------------------------------\n",
      "Architecture:  [(8, 'sigmoid'), (512, 'tanh'), (10, 'last layer')]\n"
     ]
    },
    {
     "name": "stderr",
     "output_type": "stream",
     "text": [
      "Training loss = 0.210159 val accuracy = 0.925000: 100%|██████████| 10/10 [00:45<00:00,  4.59s/it]\n"
     ]
    },
    {
     "name": "stdout",
     "output_type": "stream",
     "text": [
      "validation accuracy:  0.9262303030303031\n",
      "------------------------------------------------------\n",
      "Architecture:  [(32, 'sigmoid'), (256, 'elu'), (10, 'last layer')]\n"
     ]
    },
    {
     "name": "stderr",
     "output_type": "stream",
     "text": [
      "Training loss = 0.059360 val accuracy = 0.957333: 100%|██████████| 10/10 [00:45<00:00,  4.57s/it]\n"
     ]
    },
    {
     "name": "stdout",
     "output_type": "stream",
     "text": [
      "validation accuracy:  0.9596696969696971\n",
      "------------------------------------------------------\n",
      "Architecture:  [(512, 'relu'), 'dropout', (10, 'last layer')]\n"
     ]
    },
    {
     "name": "stderr",
     "output_type": "stream",
     "text": [
      "Training loss = 0.046515 val accuracy = 0.978333: 100%|██████████| 10/10 [00:45<00:00,  4.57s/it]\n"
     ]
    },
    {
     "name": "stdout",
     "output_type": "stream",
     "text": [
      "validation accuracy:  0.9765151515151514\n",
      "------------------------------------------------------\n",
      "Architecture:  [(8, 'relu'), (256, 'sigmoid'), (10, 'last layer')]\n"
     ]
    },
    {
     "name": "stderr",
     "output_type": "stream",
     "text": [
      "Training loss = 0.258419 val accuracy = 0.909500: 100%|██████████| 10/10 [00:45<00:00,  4.57s/it]\n"
     ]
    },
    {
     "name": "stdout",
     "output_type": "stream",
     "text": [
      "validation accuracy:  0.9051\n",
      "------------------------------------------------------\n",
      "Architecture:  [(32, 'elu'), (8, 'sigmoid'), (10, 'last layer')]\n"
     ]
    },
    {
     "name": "stderr",
     "output_type": "stream",
     "text": [
      "Training loss = 0.101461 val accuracy = 0.957667: 100%|██████████| 10/10 [00:46<00:00,  4.60s/it]\n"
     ]
    },
    {
     "name": "stdout",
     "output_type": "stream",
     "text": [
      "validation accuracy:  0.9531060606060606\n",
      "------------------------------------------------------\n",
      "Architecture:  [(64, 'elu'), (64, 'relu'), (10, 'last layer')]\n"
     ]
    },
    {
     "name": "stderr",
     "output_type": "stream",
     "text": [
      "Training loss = 0.036087 val accuracy = 0.969500: 100%|██████████| 10/10 [00:46<00:00,  4.64s/it]\n"
     ]
    },
    {
     "name": "stdout",
     "output_type": "stream",
     "text": [
      "validation accuracy:  0.9684030303030303\n",
      "------------------------------------------------------\n",
      "Architecture:  [(64, 'elu'), 'dropout', (10, 'last layer')]\n"
     ]
    },
    {
     "name": "stderr",
     "output_type": "stream",
     "text": [
      "Training loss = 0.083724 val accuracy = 0.972333: 100%|██████████| 10/10 [00:45<00:00,  4.55s/it]\n"
     ]
    },
    {
     "name": "stdout",
     "output_type": "stream",
     "text": [
      "validation accuracy:  0.9695030303030304\n",
      "------------------------------------------------------\n",
      "Architecture:  [(512, 'tanh'), (256, 'tanh'), (10, 'last layer')]\n"
     ]
    },
    {
     "name": "stderr",
     "output_type": "stream",
     "text": [
      "Training loss = 0.057303 val accuracy = 0.969667: 100%|██████████| 10/10 [00:45<00:00,  4.59s/it]\n"
     ]
    },
    {
     "name": "stdout",
     "output_type": "stream",
     "text": [
      "validation accuracy:  0.9665484848484848\n",
      "------------------------------------------------------\n",
      "Architecture:  [(16, 'elu'), (64, 'relu'), (10, 'last layer')]\n"
     ]
    },
    {
     "name": "stderr",
     "output_type": "stream",
     "text": [
      "Training loss = 0.077374 val accuracy = 0.960500: 100%|██████████| 10/10 [00:45<00:00,  4.56s/it]\n"
     ]
    },
    {
     "name": "stdout",
     "output_type": "stream",
     "text": [
      "validation accuracy:  0.9575121212121213\n",
      "------------------------------------------------------\n",
      "Architecture:  [(512, 'sigmoid'), (64, 'sigmoid'), (10, 'last layer')]\n"
     ]
    },
    {
     "name": "stderr",
     "output_type": "stream",
     "text": [
      "Training loss = 0.004042 val accuracy = 0.979667: 100%|██████████| 10/10 [00:46<00:00,  4.61s/it]\n"
     ]
    },
    {
     "name": "stdout",
     "output_type": "stream",
     "text": [
      "validation accuracy:  0.9774090909090909\n",
      "------------------------------------------------------\n",
      "------------------------------------------------------------------\n",
      "                       CONTROLLER EPOCH: 9\n",
      "------------------------------------------------------------------\n",
      "GENERATING ARCHITECTURE SAMPLES...\n",
      "------------------------------------------------------\n",
      "Architecture:  [(16, 'elu'), 'dropout', (10, 'last layer')]\n"
     ]
    },
    {
     "name": "stderr",
     "output_type": "stream",
     "text": [
      "Training loss = 0.261724 val accuracy = 0.944333: 100%|██████████| 10/10 [00:45<00:00,  4.56s/it]\n"
     ]
    },
    {
     "name": "stdout",
     "output_type": "stream",
     "text": [
      "validation accuracy:  0.9402363636363636\n",
      "------------------------------------------------------\n",
      "Architecture:  [(512, 'sigmoid'), (8, 'elu'), (10, 'last layer')]\n"
     ]
    },
    {
     "name": "stderr",
     "output_type": "stream",
     "text": [
      "Training loss = 0.005585 val accuracy = 0.981500: 100%|██████████| 10/10 [00:46<00:00,  4.61s/it]\n"
     ]
    },
    {
     "name": "stdout",
     "output_type": "stream",
     "text": [
      "validation accuracy:  0.9750666666666669\n",
      "------------------------------------------------------\n",
      "Architecture:  [(512, 'relu'), (64, 'elu'), (10, 'last layer')]\n"
     ]
    },
    {
     "name": "stderr",
     "output_type": "stream",
     "text": [
      "Training loss = 0.023959 val accuracy = 0.971333: 100%|██████████| 10/10 [00:45<00:00,  4.59s/it]\n"
     ]
    },
    {
     "name": "stdout",
     "output_type": "stream",
     "text": [
      "validation accuracy:  0.9741121212121212\n",
      "------------------------------------------------------\n",
      "Architecture:  [(8, 'relu'), (32, 'tanh'), (10, 'last layer')]\n"
     ]
    },
    {
     "name": "stderr",
     "output_type": "stream",
     "text": [
      "Training loss = 0.192468 val accuracy = 0.930000: 100%|██████████| 10/10 [00:45<00:00,  4.59s/it]\n"
     ]
    },
    {
     "name": "stdout",
     "output_type": "stream",
     "text": [
      "validation accuracy:  0.9254939393939392\n",
      "------------------------------------------------------\n",
      "Architecture:  [(128, 'relu'), (256, 'relu'), (10, 'last layer')]\n"
     ]
    },
    {
     "name": "stderr",
     "output_type": "stream",
     "text": [
      "Training loss = 0.030350 val accuracy = 0.971500: 100%|██████████| 10/10 [00:45<00:00,  4.59s/it]\n"
     ]
    },
    {
     "name": "stdout",
     "output_type": "stream",
     "text": [
      "validation accuracy:  0.9724999999999999\n",
      "------------------------------------------------------\n",
      "Architecture:  [(8, 'elu'), (16, 'elu'), (10, 'last layer')]\n"
     ]
    },
    {
     "name": "stderr",
     "output_type": "stream",
     "text": [
      "Training loss = 0.185991 val accuracy = 0.940167: 100%|██████████| 10/10 [00:45<00:00,  4.57s/it]\n"
     ]
    },
    {
     "name": "stdout",
     "output_type": "stream",
     "text": [
      "validation accuracy:  0.9315060606060606\n",
      "------------------------------------------------------\n",
      "Architecture:  [(8, 'sigmoid'), (64, 'tanh'), (10, 'last layer')]\n"
     ]
    },
    {
     "name": "stderr",
     "output_type": "stream",
     "text": [
      "Training loss = 0.213021 val accuracy = 0.927000: 100%|██████████| 10/10 [00:45<00:00,  4.58s/it]\n"
     ]
    },
    {
     "name": "stdout",
     "output_type": "stream",
     "text": [
      "validation accuracy:  0.9247575757575757\n",
      "------------------------------------------------------\n",
      "Architecture:  [(256, 'sigmoid'), (64, 'sigmoid'), (10, 'last layer')]\n"
     ]
    },
    {
     "name": "stderr",
     "output_type": "stream",
     "text": [
      "Training loss = 0.007895 val accuracy = 0.979667: 100%|██████████| 10/10 [00:45<00:00,  4.59s/it]\n"
     ]
    },
    {
     "name": "stdout",
     "output_type": "stream",
     "text": [
      "validation accuracy:  0.9766363636363637\n",
      "------------------------------------------------------\n",
      "Architecture:  [(256, 'relu'), (10, 'last layer')]\n"
     ]
    },
    {
     "name": "stderr",
     "output_type": "stream",
     "text": [
      "Training loss = 0.017890 val accuracy = 0.975500: 100%|██████████| 10/10 [00:45<00:00,  4.54s/it]\n"
     ]
    },
    {
     "name": "stdout",
     "output_type": "stream",
     "text": [
      "validation accuracy:  0.9763181818181819\n",
      "------------------------------------------------------\n",
      "Architecture:  [(64, 'tanh'), 'dropout', (10, 'last layer')]\n"
     ]
    },
    {
     "name": "stderr",
     "output_type": "stream",
     "text": [
      "Training loss = 0.100086 val accuracy = 0.967167: 100%|██████████| 10/10 [00:45<00:00,  4.57s/it]\n"
     ]
    },
    {
     "name": "stdout",
     "output_type": "stream",
     "text": [
      "validation accuracy:  0.9640424242424243\n",
      "------------------------------------------------------\n",
      "Top 5 Architectures:\n",
      "Architecture [(512, 'elu'), (256, 'sigmoid'), (10, 'last layer')]\n",
      "Validation Accuracy: 0.9776121212121214\n",
      "Architecture [(512, 'sigmoid'), (64, 'sigmoid'), (10, 'last layer')]\n",
      "Validation Accuracy: 0.9774090909090909\n",
      "Architecture [(256, 'sigmoid'), (64, 'sigmoid'), (10, 'last layer')]\n",
      "Validation Accuracy: 0.9766363636363637\n",
      "Architecture [(512, 'relu'), 'dropout', (10, 'last layer')]\n",
      "Validation Accuracy: 0.9765151515151514\n",
      "Architecture [(256, 'relu'), (10, 'last layer')]\n",
      "Validation Accuracy: 0.9763181818181819\n",
      "Running script...\n",
      "------------------------------------------------------------------\n",
      "                       CONTROLLER EPOCH: 0\n",
      "------------------------------------------------------------------\n",
      "GENERATING ARCHITECTURE SAMPLES...\n",
      "------------------------------------------------------\n",
      "Architecture:  [(256, 'elu'), (256, 'relu'), (10, 'last layer')]\n"
     ]
    },
    {
     "name": "stderr",
     "output_type": "stream",
     "text": [
      "Training loss = 0.040339 val accuracy = 0.973333: 100%|██████████| 10/10 [00:46<00:00,  4.62s/it]\n"
     ]
    },
    {
     "name": "stdout",
     "output_type": "stream",
     "text": [
      "validation accuracy:  0.971260606060606\n",
      "------------------------------------------------------\n",
      "Architecture:  [(64, 'tanh'), (64, 'tanh'), (10, 'last layer')]\n"
     ]
    },
    {
     "name": "stderr",
     "output_type": "stream",
     "text": [
      "Training loss = 0.034884 val accuracy = 0.968167: 100%|██████████| 10/10 [00:46<00:00,  4.60s/it]\n"
     ]
    },
    {
     "name": "stdout",
     "output_type": "stream",
     "text": [
      "validation accuracy:  0.9655454545454545\n",
      "------------------------------------------------------\n",
      "Architecture:  [(32, 'relu'), (256, 'relu'), (10, 'last layer')]\n"
     ]
    },
    {
     "name": "stderr",
     "output_type": "stream",
     "text": [
      "Training loss = 0.054579 val accuracy = 0.961000: 100%|██████████| 10/10 [00:45<00:00,  4.60s/it]\n"
     ]
    },
    {
     "name": "stdout",
     "output_type": "stream",
     "text": [
      "validation accuracy:  0.9623151515151516\n",
      "------------------------------------------------------\n",
      "Architecture:  [(32, 'elu'), (512, 'relu'), (10, 'last layer')]\n"
     ]
    },
    {
     "name": "stderr",
     "output_type": "stream",
     "text": [
      "Training loss = 0.054515 val accuracy = 0.971333: 100%|██████████| 10/10 [00:46<00:00,  4.62s/it]\n"
     ]
    },
    {
     "name": "stdout",
     "output_type": "stream",
     "text": [
      "validation accuracy:  0.9678636363636364\n",
      "------------------------------------------------------\n",
      "Architecture:  [(32, 'elu'), (256, 'tanh'), (10, 'last layer')]\n"
     ]
    },
    {
     "name": "stderr",
     "output_type": "stream",
     "text": [
      "Training loss = 0.039758 val accuracy = 0.965000: 100%|██████████| 10/10 [00:46<00:00,  4.60s/it]\n"
     ]
    },
    {
     "name": "stdout",
     "output_type": "stream",
     "text": [
      "validation accuracy:  0.9669757575757575\n",
      "------------------------------------------------------\n",
      "Architecture:  [(8, 'tanh'), (8, 'relu'), (10, 'last layer')]\n"
     ]
    },
    {
     "name": "stderr",
     "output_type": "stream",
     "text": [
      "Training loss = 0.242878 val accuracy = 0.915000: 100%|██████████| 10/10 [00:45<00:00,  4.57s/it]\n"
     ]
    },
    {
     "name": "stdout",
     "output_type": "stream",
     "text": [
      "validation accuracy:  0.9122060606060606\n",
      "------------------------------------------------------\n",
      "Architecture:  [(128, 'elu'), (8, 'elu'), (10, 'last layer')]\n"
     ]
    },
    {
     "name": "stderr",
     "output_type": "stream",
     "text": [
      "Training loss = 0.027755 val accuracy = 0.972000: 100%|██████████| 10/10 [00:45<00:00,  4.58s/it]\n"
     ]
    },
    {
     "name": "stdout",
     "output_type": "stream",
     "text": [
      "validation accuracy:  0.9710030303030303\n",
      "------------------------------------------------------\n",
      "Architecture:  [(64, 'relu'), (512, 'sigmoid'), (10, 'last layer')]\n"
     ]
    },
    {
     "name": "stderr",
     "output_type": "stream",
     "text": [
      "Training loss = 0.027370 val accuracy = 0.970833: 100%|██████████| 10/10 [00:45<00:00,  4.60s/it]\n"
     ]
    },
    {
     "name": "stdout",
     "output_type": "stream",
     "text": [
      "validation accuracy:  0.9701060606060606\n",
      "------------------------------------------------------\n",
      "Architecture:  [(128, 'relu'), (128, 'relu'), (10, 'last layer')]\n"
     ]
    },
    {
     "name": "stderr",
     "output_type": "stream",
     "text": [
      "Training loss = 0.027935 val accuracy = 0.969500: 100%|██████████| 10/10 [00:45<00:00,  4.58s/it]\n"
     ]
    },
    {
     "name": "stdout",
     "output_type": "stream",
     "text": [
      "validation accuracy:  0.9715242424242424\n",
      "------------------------------------------------------\n",
      "Architecture:  [(32, 'elu'), (64, 'elu'), (10, 'last layer')]\n"
     ]
    },
    {
     "name": "stderr",
     "output_type": "stream",
     "text": [
      "Training loss = 0.055076 val accuracy = 0.970000: 100%|██████████| 10/10 [00:45<00:00,  4.58s/it]\n"
     ]
    },
    {
     "name": "stdout",
     "output_type": "stream",
     "text": [
      "validation accuracy:  0.9658\n",
      "------------------------------------------------------\n",
      "------------------------------------------------------------------\n",
      "                       CONTROLLER EPOCH: 1\n",
      "------------------------------------------------------------------\n",
      "GENERATING ARCHITECTURE SAMPLES...\n",
      "------------------------------------------------------\n",
      "Architecture:  [(128, 'elu'), (128, 'sigmoid'), (10, 'last layer')]\n"
     ]
    },
    {
     "name": "stderr",
     "output_type": "stream",
     "text": [
      "Training loss = 0.016717 val accuracy = 0.976833: 100%|██████████| 10/10 [00:45<00:00,  4.58s/it]\n"
     ]
    },
    {
     "name": "stdout",
     "output_type": "stream",
     "text": [
      "validation accuracy:  0.9739666666666666\n",
      "------------------------------------------------------\n",
      "Architecture:  [(64, 'sigmoid'), (16, 'relu'), (10, 'last layer')]\n"
     ]
    },
    {
     "name": "stderr",
     "output_type": "stream",
     "text": [
      "Training loss = 0.041605 val accuracy = 0.969167: 100%|██████████| 10/10 [00:45<00:00,  4.58s/it]\n"
     ]
    },
    {
     "name": "stdout",
     "output_type": "stream",
     "text": [
      "validation accuracy:  0.9646242424242424\n",
      "------------------------------------------------------\n",
      "Architecture:  [(512, 'relu'), (512, 'tanh'), (10, 'last layer')]\n"
     ]
    },
    {
     "name": "stderr",
     "output_type": "stream",
     "text": [
      "Training loss = 0.022483 val accuracy = 0.975333: 100%|██████████| 10/10 [00:46<00:00,  4.61s/it]\n"
     ]
    },
    {
     "name": "stdout",
     "output_type": "stream",
     "text": [
      "validation accuracy:  0.9726121212121213\n",
      "------------------------------------------------------\n",
      "Architecture:  [(256, 'sigmoid'), (16, 'tanh'), (10, 'last layer')]\n"
     ]
    },
    {
     "name": "stderr",
     "output_type": "stream",
     "text": [
      "Training loss = 0.011415 val accuracy = 0.973667: 100%|██████████| 10/10 [00:45<00:00,  4.58s/it]\n"
     ]
    },
    {
     "name": "stdout",
     "output_type": "stream",
     "text": [
      "validation accuracy:  0.9724060606060605\n",
      "------------------------------------------------------\n",
      "Architecture:  [(8, 'sigmoid'), (512, 'elu'), (10, 'last layer')]\n"
     ]
    },
    {
     "name": "stderr",
     "output_type": "stream",
     "text": [
      "Training loss = 0.212569 val accuracy = 0.922000: 100%|██████████| 10/10 [00:46<00:00,  4.63s/it]\n"
     ]
    },
    {
     "name": "stdout",
     "output_type": "stream",
     "text": [
      "validation accuracy:  0.9170787878787878\n",
      "------------------------------------------------------\n",
      "Architecture:  [(64, 'relu'), (512, 'elu'), (10, 'last layer')]\n"
     ]
    },
    {
     "name": "stderr",
     "output_type": "stream",
     "text": [
      "Training loss = 0.059607 val accuracy = 0.966667: 100%|██████████| 10/10 [00:46<00:00,  4.64s/it]\n"
     ]
    },
    {
     "name": "stdout",
     "output_type": "stream",
     "text": [
      "validation accuracy:  0.9659181818181818\n",
      "------------------------------------------------------\n",
      "Architecture:  [(64, 'sigmoid'), (16, 'elu'), (10, 'last layer')]\n"
     ]
    },
    {
     "name": "stderr",
     "output_type": "stream",
     "text": [
      "Training loss = 0.034692 val accuracy = 0.967167: 100%|██████████| 10/10 [00:45<00:00,  4.60s/it]\n"
     ]
    },
    {
     "name": "stdout",
     "output_type": "stream",
     "text": [
      "validation accuracy:  0.963678787878788\n",
      "------------------------------------------------------\n",
      "Architecture:  [(512, 'elu'), (128, 'sigmoid'), (10, 'last layer')]\n"
     ]
    },
    {
     "name": "stderr",
     "output_type": "stream",
     "text": [
      "Training loss = 0.019672 val accuracy = 0.977667: 100%|██████████| 10/10 [00:45<00:00,  4.58s/it]\n"
     ]
    },
    {
     "name": "stdout",
     "output_type": "stream",
     "text": [
      "validation accuracy:  0.9753212121212121\n",
      "------------------------------------------------------\n",
      "Architecture:  [(64, 'sigmoid'), (32, 'relu'), (10, 'last layer')]\n"
     ]
    },
    {
     "name": "stderr",
     "output_type": "stream",
     "text": [
      "Training loss = 0.032962 val accuracy = 0.969333: 100%|██████████| 10/10 [00:45<00:00,  4.57s/it]\n"
     ]
    },
    {
     "name": "stdout",
     "output_type": "stream",
     "text": [
      "validation accuracy:  0.9651818181818183\n",
      "------------------------------------------------------\n",
      "Architecture:  [(128, 'sigmoid'), (8, 'relu'), (10, 'last layer')]\n"
     ]
    },
    {
     "name": "stderr",
     "output_type": "stream",
     "text": [
      "Training loss = 0.084323 val accuracy = 0.952000: 100%|██████████| 10/10 [00:45<00:00,  4.56s/it]\n"
     ]
    },
    {
     "name": "stdout",
     "output_type": "stream",
     "text": [
      "validation accuracy:  0.9446606060606061\n",
      "------------------------------------------------------\n",
      "------------------------------------------------------------------\n",
      "                       CONTROLLER EPOCH: 2\n",
      "------------------------------------------------------------------\n",
      "GENERATING ARCHITECTURE SAMPLES...\n",
      "------------------------------------------------------\n",
      "Architecture:  [(16, 'elu'), (128, 'elu'), (10, 'last layer')]\n"
     ]
    },
    {
     "name": "stderr",
     "output_type": "stream",
     "text": [
      "Training loss = 0.081298 val accuracy = 0.959667: 100%|██████████| 10/10 [00:45<00:00,  4.57s/it]\n"
     ]
    },
    {
     "name": "stdout",
     "output_type": "stream",
     "text": [
      "validation accuracy:  0.9573424242424243\n",
      "------------------------------------------------------\n",
      "Architecture:  [(16, 'relu'), (16, 'relu'), (10, 'last layer')]\n"
     ]
    },
    {
     "name": "stderr",
     "output_type": "stream",
     "text": [
      "Training loss = 0.161695 val accuracy = 0.941500: 100%|██████████| 10/10 [00:45<00:00,  4.58s/it]\n"
     ]
    },
    {
     "name": "stdout",
     "output_type": "stream",
     "text": [
      "validation accuracy:  0.9362363636363635\n",
      "------------------------------------------------------\n",
      "Architecture:  [(512, 'relu'), (64, 'sigmoid'), (10, 'last layer')]\n"
     ]
    },
    {
     "name": "stderr",
     "output_type": "stream",
     "text": [
      "Training loss = 0.012243 val accuracy = 0.976500: 100%|██████████| 10/10 [00:45<00:00,  4.59s/it]\n"
     ]
    },
    {
     "name": "stdout",
     "output_type": "stream",
     "text": [
      "validation accuracy:  0.9763545454545455\n",
      "------------------------------------------------------\n",
      "Architecture:  [(8, 'tanh'), (128, 'elu'), (10, 'last layer')]\n"
     ]
    },
    {
     "name": "stderr",
     "output_type": "stream",
     "text": [
      "Training loss = 0.193148 val accuracy = 0.931667: 100%|██████████| 10/10 [00:45<00:00,  4.56s/it]\n"
     ]
    },
    {
     "name": "stdout",
     "output_type": "stream",
     "text": [
      "validation accuracy:  0.9264242424242424\n",
      "------------------------------------------------------\n",
      "Architecture:  [(16, 'relu'), (32, 'relu'), (10, 'last layer')]\n"
     ]
    },
    {
     "name": "stderr",
     "output_type": "stream",
     "text": [
      "Training loss = 0.143810 val accuracy = 0.945667: 100%|██████████| 10/10 [00:45<00:00,  4.60s/it]\n"
     ]
    },
    {
     "name": "stdout",
     "output_type": "stream",
     "text": [
      "validation accuracy:  0.9411303030303031\n",
      "------------------------------------------------------\n",
      "Architecture:  [(512, 'sigmoid'), (256, 'elu'), (10, 'last layer')]\n"
     ]
    },
    {
     "name": "stderr",
     "output_type": "stream",
     "text": [
      "Training loss = 0.023321 val accuracy = 0.972333: 100%|██████████| 10/10 [00:46<00:00,  4.62s/it]\n"
     ]
    },
    {
     "name": "stdout",
     "output_type": "stream",
     "text": [
      "validation accuracy:  0.970239393939394\n",
      "------------------------------------------------------\n",
      "Architecture:  [(8, 'sigmoid'), (64, 'sigmoid'), (10, 'last layer')]\n"
     ]
    },
    {
     "name": "stderr",
     "output_type": "stream",
     "text": [
      "Training loss = 0.220998 val accuracy = 0.919333: 100%|██████████| 10/10 [00:46<00:00,  4.68s/it]\n"
     ]
    },
    {
     "name": "stdout",
     "output_type": "stream",
     "text": [
      "validation accuracy:  0.9132000000000001\n",
      "------------------------------------------------------\n",
      "Architecture:  [(512, 'elu'), (32, 'relu'), (10, 'last layer')]\n"
     ]
    },
    {
     "name": "stderr",
     "output_type": "stream",
     "text": [
      "Training loss = 0.036182 val accuracy = 0.977167: 100%|██████████| 10/10 [00:46<00:00,  4.69s/it]\n"
     ]
    },
    {
     "name": "stdout",
     "output_type": "stream",
     "text": [
      "validation accuracy:  0.9742818181818182\n",
      "------------------------------------------------------\n",
      "Architecture:  [(64, 'relu'), (128, 'elu'), (10, 'last layer')]\n"
     ]
    },
    {
     "name": "stderr",
     "output_type": "stream",
     "text": [
      "Training loss = 0.038417 val accuracy = 0.973333: 100%|██████████| 10/10 [00:46<00:00,  4.68s/it]\n"
     ]
    },
    {
     "name": "stdout",
     "output_type": "stream",
     "text": [
      "validation accuracy:  0.9700060606060606\n",
      "------------------------------------------------------\n",
      "Architecture:  [(64, 'elu'), (32, 'tanh'), (10, 'last layer')]\n"
     ]
    },
    {
     "name": "stderr",
     "output_type": "stream",
     "text": [
      "Training loss = 0.035389 val accuracy = 0.971000: 100%|██████████| 10/10 [00:46<00:00,  4.70s/it]\n"
     ]
    },
    {
     "name": "stdout",
     "output_type": "stream",
     "text": [
      "validation accuracy:  0.9678454545454546\n",
      "------------------------------------------------------\n",
      "------------------------------------------------------------------\n",
      "                       CONTROLLER EPOCH: 3\n",
      "------------------------------------------------------------------\n",
      "GENERATING ARCHITECTURE SAMPLES...\n",
      "------------------------------------------------------\n",
      "Architecture:  [(256, 'tanh'), (16, 'elu'), (10, 'last layer')]\n"
     ]
    },
    {
     "name": "stderr",
     "output_type": "stream",
     "text": [
      "Training loss = 0.035476 val accuracy = 0.968667: 100%|██████████| 10/10 [00:47<00:00,  4.70s/it]\n"
     ]
    },
    {
     "name": "stdout",
     "output_type": "stream",
     "text": [
      "validation accuracy:  0.9696878787878789\n",
      "------------------------------------------------------\n",
      "Architecture:  [(512, 'elu'), (32, 'elu'), (10, 'last layer')]\n"
     ]
    },
    {
     "name": "stderr",
     "output_type": "stream",
     "text": [
      "Training loss = 0.025605 val accuracy = 0.975333: 100%|██████████| 10/10 [00:47<00:00,  4.70s/it]\n"
     ]
    },
    {
     "name": "stdout",
     "output_type": "stream",
     "text": [
      "validation accuracy:  0.9714909090909092\n",
      "------------------------------------------------------\n",
      "Architecture:  [(32, 'tanh'), (32, 'elu'), (10, 'last layer')]\n"
     ]
    },
    {
     "name": "stderr",
     "output_type": "stream",
     "text": [
      "Training loss = 0.067288 val accuracy = 0.955167: 100%|██████████| 10/10 [00:47<00:00,  4.71s/it]\n"
     ]
    },
    {
     "name": "stdout",
     "output_type": "stream",
     "text": [
      "validation accuracy:  0.9543151515151514\n",
      "------------------------------------------------------\n",
      "Architecture:  [(512, 'tanh'), (32, 'tanh'), (10, 'last layer')]\n"
     ]
    },
    {
     "name": "stderr",
     "output_type": "stream",
     "text": [
      "Training loss = 0.067947 val accuracy = 0.961833: 100%|██████████| 10/10 [00:46<00:00,  4.70s/it]\n"
     ]
    },
    {
     "name": "stdout",
     "output_type": "stream",
     "text": [
      "validation accuracy:  0.962951515151515\n",
      "------------------------------------------------------\n",
      "Architecture:  [(256, 'elu'), (128, 'tanh'), (10, 'last layer')]\n"
     ]
    },
    {
     "name": "stderr",
     "output_type": "stream",
     "text": [
      "Training loss = 0.040187 val accuracy = 0.973667: 100%|██████████| 10/10 [00:47<00:00,  4.70s/it]\n"
     ]
    },
    {
     "name": "stdout",
     "output_type": "stream",
     "text": [
      "validation accuracy:  0.9700484848484848\n",
      "------------------------------------------------------\n",
      "Architecture:  [(64, 'sigmoid'), (32, 'tanh'), (10, 'last layer')]\n"
     ]
    },
    {
     "name": "stderr",
     "output_type": "stream",
     "text": [
      "Training loss = 0.028168 val accuracy = 0.968833: 100%|██████████| 10/10 [00:47<00:00,  4.70s/it]\n"
     ]
    },
    {
     "name": "stdout",
     "output_type": "stream",
     "text": [
      "validation accuracy:  0.9671454545454545\n",
      "------------------------------------------------------\n",
      "Architecture:  [(8, 'sigmoid'), (16, 'elu'), (10, 'last layer')]\n"
     ]
    },
    {
     "name": "stderr",
     "output_type": "stream",
     "text": [
      "Training loss = 0.202859 val accuracy = 0.927500: 100%|██████████| 10/10 [00:46<00:00,  4.70s/it]\n"
     ]
    },
    {
     "name": "stdout",
     "output_type": "stream",
     "text": [
      "validation accuracy:  0.9263060606060607\n",
      "------------------------------------------------------\n",
      "Architecture:  [(256, 'sigmoid'), (8, 'sigmoid'), (10, 'last layer')]\n"
     ]
    },
    {
     "name": "stderr",
     "output_type": "stream",
     "text": [
      "Training loss = 0.024751 val accuracy = 0.975833: 100%|██████████| 10/10 [00:47<00:00,  4.72s/it]\n"
     ]
    },
    {
     "name": "stdout",
     "output_type": "stream",
     "text": [
      "validation accuracy:  0.9680969696969697\n",
      "------------------------------------------------------\n",
      "Architecture:  [(128, 'tanh'), (16, 'elu'), (10, 'last layer')]\n"
     ]
    },
    {
     "name": "stderr",
     "output_type": "stream",
     "text": [
      "Training loss = 0.029582 val accuracy = 0.972333: 100%|██████████| 10/10 [00:47<00:00,  4.79s/it]\n"
     ]
    },
    {
     "name": "stdout",
     "output_type": "stream",
     "text": [
      "validation accuracy:  0.968548484848485\n",
      "------------------------------------------------------\n",
      "Architecture:  [(8, 'relu'), (16, 'sigmoid'), (10, 'last layer')]\n"
     ]
    },
    {
     "name": "stderr",
     "output_type": "stream",
     "text": [
      "Training loss = 0.225682 val accuracy = 0.916000: 100%|██████████| 10/10 [00:47<00:00,  4.71s/it]\n"
     ]
    },
    {
     "name": "stdout",
     "output_type": "stream",
     "text": [
      "validation accuracy:  0.9113181818181818\n",
      "------------------------------------------------------\n",
      "------------------------------------------------------------------\n",
      "                       CONTROLLER EPOCH: 4\n",
      "------------------------------------------------------------------\n",
      "GENERATING ARCHITECTURE SAMPLES...\n",
      "------------------------------------------------------\n",
      "Architecture:  [(512, 'tanh'), (10, 'last layer')]\n"
     ]
    },
    {
     "name": "stderr",
     "output_type": "stream",
     "text": [
      "Training loss = 0.027089 val accuracy = 0.974333: 100%|██████████| 10/10 [00:46<00:00,  4.66s/it]\n"
     ]
    },
    {
     "name": "stdout",
     "output_type": "stream",
     "text": [
      "validation accuracy:  0.9721212121212122\n",
      "------------------------------------------------------\n",
      "Architecture:  [(128, 'tanh'), (10, 'last layer')]\n"
     ]
    },
    {
     "name": "stderr",
     "output_type": "stream",
     "text": [
      "Training loss = 0.014436 val accuracy = 0.973000: 100%|██████████| 10/10 [00:46<00:00,  4.66s/it]\n"
     ]
    },
    {
     "name": "stdout",
     "output_type": "stream",
     "text": [
      "validation accuracy:  0.9710454545454545\n",
      "------------------------------------------------------\n",
      "Architecture:  [(512, 'elu'), (512, 'sigmoid'), (10, 'last layer')]\n"
     ]
    },
    {
     "name": "stderr",
     "output_type": "stream",
     "text": [
      "Training loss = 0.019316 val accuracy = 0.975000: 100%|██████████| 10/10 [00:46<00:00,  4.69s/it]\n"
     ]
    },
    {
     "name": "stdout",
     "output_type": "stream",
     "text": [
      "validation accuracy:  0.9738242424242424\n",
      "------------------------------------------------------\n",
      "Architecture:  [(128, 'tanh'), (256, 'relu'), (10, 'last layer')]\n"
     ]
    },
    {
     "name": "stderr",
     "output_type": "stream",
     "text": [
      "Training loss = 0.040902 val accuracy = 0.966833: 100%|██████████| 10/10 [00:46<00:00,  4.69s/it]\n"
     ]
    },
    {
     "name": "stdout",
     "output_type": "stream",
     "text": [
      "validation accuracy:  0.9692060606060607\n",
      "------------------------------------------------------\n",
      "Architecture:  [(256, 'tanh'), (10, 'last layer')]\n"
     ]
    },
    {
     "name": "stderr",
     "output_type": "stream",
     "text": [
      "Training loss = 0.007631 val accuracy = 0.977333: 100%|██████████| 10/10 [00:46<00:00,  4.62s/it]\n"
     ]
    },
    {
     "name": "stdout",
     "output_type": "stream",
     "text": [
      "validation accuracy:  0.9731151515151515\n",
      "------------------------------------------------------\n",
      "Architecture:  [(16, 'sigmoid'), (16, 'elu'), (10, 'last layer')]\n"
     ]
    },
    {
     "name": "stderr",
     "output_type": "stream",
     "text": [
      "Training loss = 0.121206 val accuracy = 0.950167: 100%|██████████| 10/10 [00:46<00:00,  4.67s/it]\n"
     ]
    },
    {
     "name": "stdout",
     "output_type": "stream",
     "text": [
      "validation accuracy:  0.944890909090909\n",
      "------------------------------------------------------\n",
      "Architecture:  [(128, 'tanh'), (16, 'sigmoid'), (10, 'last layer')]\n"
     ]
    },
    {
     "name": "stderr",
     "output_type": "stream",
     "text": [
      "Training loss = 0.033072 val accuracy = 0.965500: 100%|██████████| 10/10 [00:47<00:00,  4.71s/it]\n"
     ]
    },
    {
     "name": "stdout",
     "output_type": "stream",
     "text": [
      "validation accuracy:  0.965790909090909\n",
      "------------------------------------------------------\n",
      "Architecture:  [(512, 'tanh'), (16, 'sigmoid'), (10, 'last layer')]\n"
     ]
    },
    {
     "name": "stderr",
     "output_type": "stream",
     "text": [
      "Training loss = 0.039458 val accuracy = 0.974500: 100%|██████████| 10/10 [00:46<00:00,  4.70s/it]\n"
     ]
    },
    {
     "name": "stdout",
     "output_type": "stream",
     "text": [
      "validation accuracy:  0.9708333333333332\n",
      "------------------------------------------------------\n",
      "Architecture:  [(8, 'elu'), (256, 'sigmoid'), (10, 'last layer')]\n"
     ]
    },
    {
     "name": "stderr",
     "output_type": "stream",
     "text": [
      "Training loss = 0.147631 val accuracy = 0.941667: 100%|██████████| 10/10 [00:47<00:00,  4.74s/it]\n"
     ]
    },
    {
     "name": "stdout",
     "output_type": "stream",
     "text": [
      "validation accuracy:  0.9390939393939394\n",
      "------------------------------------------------------\n",
      "Architecture:  [(256, 'relu'), (128, 'elu'), (10, 'last layer')]\n"
     ]
    },
    {
     "name": "stderr",
     "output_type": "stream",
     "text": [
      "Training loss = 0.029669 val accuracy = 0.975167: 100%|██████████| 10/10 [00:47<00:00,  4.71s/it]\n"
     ]
    },
    {
     "name": "stdout",
     "output_type": "stream",
     "text": [
      "validation accuracy:  0.9737242424242423\n",
      "------------------------------------------------------\n",
      "------------------------------------------------------------------\n",
      "                       CONTROLLER EPOCH: 5\n",
      "------------------------------------------------------------------\n",
      "GENERATING ARCHITECTURE SAMPLES...\n",
      "------------------------------------------------------\n",
      "Architecture:  [(256, 'sigmoid'), (16, 'sigmoid'), (10, 'last layer')]\n"
     ]
    },
    {
     "name": "stderr",
     "output_type": "stream",
     "text": [
      "Training loss = 0.010752 val accuracy = 0.977333: 100%|██████████| 10/10 [00:46<00:00,  4.67s/it]\n"
     ]
    },
    {
     "name": "stdout",
     "output_type": "stream",
     "text": [
      "validation accuracy:  0.9735787878787878\n",
      "------------------------------------------------------\n",
      "Architecture:  [(16, 'relu'), (16, 'tanh'), (10, 'last layer')]\n"
     ]
    },
    {
     "name": "stderr",
     "output_type": "stream",
     "text": [
      "Training loss = 0.123322 val accuracy = 0.944833: 100%|██████████| 10/10 [00:46<00:00,  4.69s/it]\n"
     ]
    },
    {
     "name": "stdout",
     "output_type": "stream",
     "text": [
      "validation accuracy:  0.9447242424242424\n",
      "------------------------------------------------------\n",
      "Architecture:  [(16, 'tanh'), 'dropout', (10, 'last layer')]\n"
     ]
    },
    {
     "name": "stderr",
     "output_type": "stream",
     "text": [
      "Training loss = 0.261402 val accuracy = 0.931667: 100%|██████████| 10/10 [00:46<00:00,  4.64s/it]\n"
     ]
    },
    {
     "name": "stdout",
     "output_type": "stream",
     "text": [
      "validation accuracy:  0.9302363636363635\n",
      "------------------------------------------------------\n",
      "Architecture:  [(32, 'sigmoid'), 'dropout', (10, 'last layer')]\n"
     ]
    },
    {
     "name": "stderr",
     "output_type": "stream",
     "text": [
      "Training loss = 0.185007 val accuracy = 0.953333: 100%|██████████| 10/10 [00:46<00:00,  4.64s/it]\n"
     ]
    },
    {
     "name": "stdout",
     "output_type": "stream",
     "text": [
      "validation accuracy:  0.9463666666666666\n",
      "------------------------------------------------------\n",
      "Architecture:  [(512, 'tanh'), (512, 'tanh'), (10, 'last layer')]\n"
     ]
    },
    {
     "name": "stderr",
     "output_type": "stream",
     "text": [
      "Training loss = 0.061086 val accuracy = 0.971000: 100%|██████████| 10/10 [00:46<00:00,  4.66s/it]\n"
     ]
    },
    {
     "name": "stdout",
     "output_type": "stream",
     "text": [
      "validation accuracy:  0.9668848484848485\n",
      "------------------------------------------------------\n",
      "Architecture:  [(512, 'tanh'), (256, 'sigmoid'), (10, 'last layer')]\n"
     ]
    },
    {
     "name": "stderr",
     "output_type": "stream",
     "text": [
      "Training loss = 0.026486 val accuracy = 0.979333: 100%|██████████| 10/10 [00:46<00:00,  4.70s/it]\n"
     ]
    },
    {
     "name": "stdout",
     "output_type": "stream",
     "text": [
      "validation accuracy:  0.9733636363636363\n",
      "------------------------------------------------------\n",
      "Architecture:  [(8, 'relu'), (8, 'elu'), (10, 'last layer')]\n"
     ]
    },
    {
     "name": "stderr",
     "output_type": "stream",
     "text": [
      "Training loss = 0.266104 val accuracy = 0.914833: 100%|██████████| 10/10 [00:46<00:00,  4.65s/it]\n"
     ]
    },
    {
     "name": "stdout",
     "output_type": "stream",
     "text": [
      "validation accuracy:  0.9102909090909092\n",
      "------------------------------------------------------\n",
      "Architecture:  [(8, 'tanh'), (8, 'elu'), (10, 'last layer')]\n"
     ]
    },
    {
     "name": "stderr",
     "output_type": "stream",
     "text": [
      "Training loss = 0.262913 val accuracy = 0.907167: 100%|██████████| 10/10 [00:46<00:00,  4.69s/it]\n"
     ]
    },
    {
     "name": "stdout",
     "output_type": "stream",
     "text": [
      "validation accuracy:  0.9006818181818183\n",
      "------------------------------------------------------\n",
      "Architecture:  [(64, 'relu'), (512, 'tanh'), (10, 'last layer')]\n"
     ]
    },
    {
     "name": "stderr",
     "output_type": "stream",
     "text": [
      "Training loss = 0.049939 val accuracy = 0.970167: 100%|██████████| 10/10 [00:46<00:00,  4.69s/it]\n"
     ]
    },
    {
     "name": "stdout",
     "output_type": "stream",
     "text": [
      "validation accuracy:  0.9684969696969697\n",
      "------------------------------------------------------\n",
      "Architecture:  [(16, 'sigmoid'), (32, 'sigmoid'), (10, 'last layer')]\n"
     ]
    },
    {
     "name": "stderr",
     "output_type": "stream",
     "text": [
      "Training loss = 0.137264 val accuracy = 0.938833: 100%|██████████| 10/10 [00:47<00:00,  4.71s/it]\n"
     ]
    },
    {
     "name": "stdout",
     "output_type": "stream",
     "text": [
      "validation accuracy:  0.9347757575757577\n",
      "------------------------------------------------------\n",
      "------------------------------------------------------------------\n",
      "                       CONTROLLER EPOCH: 6\n",
      "------------------------------------------------------------------\n",
      "GENERATING ARCHITECTURE SAMPLES...\n",
      "------------------------------------------------------\n",
      "Architecture:  [(16, 'sigmoid'), (512, 'relu'), (10, 'last layer')]\n"
     ]
    },
    {
     "name": "stderr",
     "output_type": "stream",
     "text": [
      "Training loss = 0.083565 val accuracy = 0.954167: 100%|██████████| 10/10 [00:46<00:00,  4.68s/it]\n"
     ]
    },
    {
     "name": "stdout",
     "output_type": "stream",
     "text": [
      "validation accuracy:  0.9528515151515152\n",
      "------------------------------------------------------\n",
      "Architecture:  [(256, 'relu'), (256, 'tanh'), (10, 'last layer')]\n"
     ]
    },
    {
     "name": "stderr",
     "output_type": "stream",
     "text": [
      "Training loss = 0.025786 val accuracy = 0.974833: 100%|██████████| 10/10 [00:46<00:00,  4.70s/it]\n"
     ]
    },
    {
     "name": "stdout",
     "output_type": "stream",
     "text": [
      "validation accuracy:  0.9736666666666667\n",
      "------------------------------------------------------\n",
      "Architecture:  [(8, 'sigmoid'), (128, 'sigmoid'), (10, 'last layer')]\n"
     ]
    },
    {
     "name": "stderr",
     "output_type": "stream",
     "text": [
      "Training loss = 0.248241 val accuracy = 0.910000: 100%|██████████| 10/10 [00:46<00:00,  4.67s/it]\n"
     ]
    },
    {
     "name": "stdout",
     "output_type": "stream",
     "text": [
      "validation accuracy:  0.9052757575757576\n",
      "------------------------------------------------------\n",
      "Architecture:  [(256, 'tanh'), (512, 'relu'), (10, 'last layer')]\n"
     ]
    },
    {
     "name": "stderr",
     "output_type": "stream",
     "text": [
      "Training loss = 0.043249 val accuracy = 0.973000: 100%|██████████| 10/10 [00:46<00:00,  4.70s/it]\n"
     ]
    },
    {
     "name": "stdout",
     "output_type": "stream",
     "text": [
      "validation accuracy:  0.9698212121212123\n",
      "------------------------------------------------------\n",
      "Architecture:  [(512, 'relu'), (32, 'sigmoid'), (10, 'last layer')]\n"
     ]
    },
    {
     "name": "stderr",
     "output_type": "stream",
     "text": [
      "Training loss = 0.014747 val accuracy = 0.976667: 100%|██████████| 10/10 [00:46<00:00,  4.70s/it]\n"
     ]
    },
    {
     "name": "stdout",
     "output_type": "stream",
     "text": [
      "validation accuracy:  0.9755545454545453\n",
      "------------------------------------------------------\n",
      "Architecture:  [(256, 'sigmoid'), (8, 'elu'), (10, 'last layer')]\n"
     ]
    },
    {
     "name": "stderr",
     "output_type": "stream",
     "text": [
      "Training loss = 0.009758 val accuracy = 0.977667: 100%|██████████| 10/10 [00:46<00:00,  4.68s/it]\n"
     ]
    },
    {
     "name": "stdout",
     "output_type": "stream",
     "text": [
      "validation accuracy:  0.9732636363636363\n",
      "------------------------------------------------------\n",
      "Architecture:  [(512, 'tanh'), (8, 'relu'), (10, 'last layer')]\n"
     ]
    },
    {
     "name": "stderr",
     "output_type": "stream",
     "text": [
      "Training loss = 0.025976 val accuracy = 0.972833: 100%|██████████| 10/10 [00:46<00:00,  4.67s/it]\n"
     ]
    },
    {
     "name": "stdout",
     "output_type": "stream",
     "text": [
      "validation accuracy:  0.9700030303030301\n",
      "------------------------------------------------------\n",
      "Architecture:  [(8, 'elu'), (512, 'tanh'), (10, 'last layer')]\n"
     ]
    },
    {
     "name": "stderr",
     "output_type": "stream",
     "text": [
      "Training loss = 0.156494 val accuracy = 0.945000: 100%|██████████| 10/10 [00:46<00:00,  4.68s/it]\n"
     ]
    },
    {
     "name": "stdout",
     "output_type": "stream",
     "text": [
      "validation accuracy:  0.937339393939394\n",
      "------------------------------------------------------\n",
      "Architecture:  [(256, 'elu'), 'dropout', (10, 'last layer')]\n"
     ]
    },
    {
     "name": "stderr",
     "output_type": "stream",
     "text": [
      "Training loss = 0.051988 val accuracy = 0.976167: 100%|██████████| 10/10 [00:47<00:00,  4.71s/it]\n"
     ]
    },
    {
     "name": "stdout",
     "output_type": "stream",
     "text": [
      "validation accuracy:  0.9743848484848485\n",
      "------------------------------------------------------\n",
      "Architecture:  [(128, 'relu'), (16, 'elu'), (10, 'last layer')]\n"
     ]
    },
    {
     "name": "stderr",
     "output_type": "stream",
     "text": [
      "Training loss = 0.025708 val accuracy = 0.966667: 100%|██████████| 10/10 [00:47<00:00,  4.70s/it]\n"
     ]
    },
    {
     "name": "stdout",
     "output_type": "stream",
     "text": [
      "validation accuracy:  0.9691333333333333\n",
      "------------------------------------------------------\n",
      "------------------------------------------------------------------\n",
      "                       CONTROLLER EPOCH: 7\n",
      "------------------------------------------------------------------\n",
      "GENERATING ARCHITECTURE SAMPLES...\n",
      "------------------------------------------------------\n",
      "Architecture:  [(8, 'relu'), (512, 'tanh'), (10, 'last layer')]\n"
     ]
    },
    {
     "name": "stderr",
     "output_type": "stream",
     "text": [
      "Training loss = 0.230224 val accuracy = 0.917167: 100%|██████████| 10/10 [00:47<00:00,  4.71s/it]\n"
     ]
    },
    {
     "name": "stdout",
     "output_type": "stream",
     "text": [
      "validation accuracy:  0.9122515151515151\n",
      "------------------------------------------------------\n",
      "Architecture:  [(8, 'sigmoid'), (32, 'elu'), (10, 'last layer')]\n"
     ]
    },
    {
     "name": "stderr",
     "output_type": "stream",
     "text": [
      "Training loss = 0.227326 val accuracy = 0.909167: 100%|██████████| 10/10 [00:47<00:00,  4.70s/it]\n"
     ]
    },
    {
     "name": "stdout",
     "output_type": "stream",
     "text": [
      "validation accuracy:  0.9126575757575758\n",
      "------------------------------------------------------\n",
      "Architecture:  [(16, 'tanh'), (16, 'tanh'), (10, 'last layer')]\n"
     ]
    },
    {
     "name": "stderr",
     "output_type": "stream",
     "text": [
      "Training loss = 0.129475 val accuracy = 0.942167: 100%|██████████| 10/10 [00:46<00:00,  4.64s/it]\n"
     ]
    },
    {
     "name": "stdout",
     "output_type": "stream",
     "text": [
      "validation accuracy:  0.939069696969697\n",
      "------------------------------------------------------\n",
      "Architecture:  [(32, 'tanh'), (64, 'elu'), (10, 'last layer')]\n"
     ]
    },
    {
     "name": "stderr",
     "output_type": "stream",
     "text": [
      "Training loss = 0.059855 val accuracy = 0.959167: 100%|██████████| 10/10 [00:46<00:00,  4.66s/it]\n"
     ]
    },
    {
     "name": "stdout",
     "output_type": "stream",
     "text": [
      "validation accuracy:  0.9613606060606061\n",
      "------------------------------------------------------\n",
      "Architecture:  [(512, 'tanh'), (128, 'sigmoid'), (10, 'last layer')]\n"
     ]
    },
    {
     "name": "stderr",
     "output_type": "stream",
     "text": [
      "Training loss = 0.024910 val accuracy = 0.971000: 100%|██████████| 10/10 [00:46<00:00,  4.68s/it]\n"
     ]
    },
    {
     "name": "stdout",
     "output_type": "stream",
     "text": [
      "validation accuracy:  0.9720484848484848\n",
      "------------------------------------------------------\n",
      "Architecture:  [(128, 'tanh'), (256, 'elu'), (10, 'last layer')]\n"
     ]
    },
    {
     "name": "stderr",
     "output_type": "stream",
     "text": [
      "Training loss = 0.043972 val accuracy = 0.972000: 100%|██████████| 10/10 [00:47<00:00,  4.73s/it]\n"
     ]
    },
    {
     "name": "stdout",
     "output_type": "stream",
     "text": [
      "validation accuracy:  0.9695999999999999\n",
      "------------------------------------------------------\n",
      "Architecture:  [(16, 'sigmoid'), (512, 'tanh'), (10, 'last layer')]\n"
     ]
    },
    {
     "name": "stderr",
     "output_type": "stream",
     "text": [
      "Training loss = 0.137155 val accuracy = 0.941500: 100%|██████████| 10/10 [00:47<00:00,  4.70s/it]\n"
     ]
    },
    {
     "name": "stdout",
     "output_type": "stream",
     "text": [
      "validation accuracy:  0.9410212121212121\n",
      "------------------------------------------------------\n",
      "Architecture:  [(64, 'tanh'), (128, 'tanh'), (10, 'last layer')]\n"
     ]
    },
    {
     "name": "stderr",
     "output_type": "stream",
     "text": [
      "Training loss = 0.036429 val accuracy = 0.970833: 100%|██████████| 10/10 [00:46<00:00,  4.68s/it]\n"
     ]
    },
    {
     "name": "stdout",
     "output_type": "stream",
     "text": [
      "validation accuracy:  0.9676939393939393\n",
      "------------------------------------------------------\n",
      "Architecture:  [(8, 'elu'), (128, 'elu'), (10, 'last layer')]\n"
     ]
    },
    {
     "name": "stderr",
     "output_type": "stream",
     "text": [
      "Training loss = 0.154789 val accuracy = 0.940333: 100%|██████████| 10/10 [00:46<00:00,  4.68s/it]\n"
     ]
    },
    {
     "name": "stdout",
     "output_type": "stream",
     "text": [
      "validation accuracy:  0.936709090909091\n",
      "------------------------------------------------------\n",
      "Architecture:  [(32, 'elu'), (8, 'elu'), (10, 'last layer')]\n"
     ]
    },
    {
     "name": "stderr",
     "output_type": "stream",
     "text": [
      "Training loss = 0.068445 val accuracy = 0.962167: 100%|██████████| 10/10 [00:46<00:00,  4.66s/it]\n"
     ]
    },
    {
     "name": "stdout",
     "output_type": "stream",
     "text": [
      "validation accuracy:  0.9581454545454544\n",
      "------------------------------------------------------\n",
      "------------------------------------------------------------------\n",
      "                       CONTROLLER EPOCH: 8\n",
      "------------------------------------------------------------------\n",
      "GENERATING ARCHITECTURE SAMPLES...\n",
      "------------------------------------------------------\n",
      "Architecture:  [(128, 'tanh'), (16, 'relu'), (10, 'last layer')]\n"
     ]
    },
    {
     "name": "stderr",
     "output_type": "stream",
     "text": [
      "Training loss = 0.033491 val accuracy = 0.968667: 100%|██████████| 10/10 [00:46<00:00,  4.69s/it]\n"
     ]
    },
    {
     "name": "stdout",
     "output_type": "stream",
     "text": [
      "validation accuracy:  0.9691333333333334\n",
      "------------------------------------------------------\n",
      "Architecture:  [(8, 'sigmoid'), (128, 'relu'), (10, 'last layer')]\n"
     ]
    },
    {
     "name": "stderr",
     "output_type": "stream",
     "text": [
      "Training loss = 0.180555 val accuracy = 0.933833: 100%|██████████| 10/10 [00:46<00:00,  4.69s/it]\n"
     ]
    },
    {
     "name": "stdout",
     "output_type": "stream",
     "text": [
      "validation accuracy:  0.9262272727272728\n",
      "------------------------------------------------------\n",
      "Architecture:  [(32, 'tanh'), (256, 'relu'), (10, 'last layer')]\n"
     ]
    },
    {
     "name": "stderr",
     "output_type": "stream",
     "text": [
      "Training loss = 0.049678 val accuracy = 0.961333: 100%|██████████| 10/10 [00:46<00:00,  4.67s/it]\n"
     ]
    },
    {
     "name": "stdout",
     "output_type": "stream",
     "text": [
      "validation accuracy:  0.9593121212121213\n",
      "------------------------------------------------------\n",
      "Architecture:  [(256, 'sigmoid'), (8, 'relu'), (10, 'last layer')]\n"
     ]
    },
    {
     "name": "stderr",
     "output_type": "stream",
     "text": [
      "Training loss = 0.032791 val accuracy = 0.960167: 100%|██████████| 10/10 [00:46<00:00,  4.69s/it]\n"
     ]
    },
    {
     "name": "stdout",
     "output_type": "stream",
     "text": [
      "validation accuracy:  0.9544787878787878\n",
      "------------------------------------------------------\n",
      "Architecture:  [(8, 'elu'), (8, 'sigmoid'), (10, 'last layer')]\n"
     ]
    },
    {
     "name": "stderr",
     "output_type": "stream",
     "text": [
      "Training loss = 0.269587 val accuracy = 0.904833: 100%|██████████| 10/10 [00:46<00:00,  4.68s/it]\n"
     ]
    },
    {
     "name": "stdout",
     "output_type": "stream",
     "text": [
      "validation accuracy:  0.900130303030303\n",
      "------------------------------------------------------\n",
      "Architecture:  [(32, 'sigmoid'), (8, 'elu'), (10, 'last layer')]\n"
     ]
    },
    {
     "name": "stderr",
     "output_type": "stream",
     "text": [
      "Training loss = 0.075063 val accuracy = 0.956333: 100%|██████████| 10/10 [00:46<00:00,  4.66s/it]\n"
     ]
    },
    {
     "name": "stdout",
     "output_type": "stream",
     "text": [
      "validation accuracy:  0.9524787878787879\n",
      "------------------------------------------------------\n",
      "Architecture:  [(8, 'elu'), (16, 'relu'), (10, 'last layer')]\n"
     ]
    },
    {
     "name": "stderr",
     "output_type": "stream",
     "text": [
      "Training loss = 0.203710 val accuracy = 0.929667: 100%|██████████| 10/10 [00:46<00:00,  4.65s/it]\n"
     ]
    },
    {
     "name": "stdout",
     "output_type": "stream",
     "text": [
      "validation accuracy:  0.9231181818181818\n",
      "------------------------------------------------------\n",
      "Architecture:  [(8, 'tanh'), (512, 'sigmoid'), (10, 'last layer')]\n"
     ]
    },
    {
     "name": "stderr",
     "output_type": "stream",
     "text": [
      "Training loss = 0.224051 val accuracy = 0.916833: 100%|██████████| 10/10 [00:46<00:00,  4.69s/it]\n"
     ]
    },
    {
     "name": "stdout",
     "output_type": "stream",
     "text": [
      "validation accuracy:  0.9132878787878789\n",
      "------------------------------------------------------\n",
      "Architecture:  [(256, 'sigmoid'), (512, 'elu'), (10, 'last layer')]\n"
     ]
    },
    {
     "name": "stderr",
     "output_type": "stream",
     "text": [
      "Training loss = 0.049037 val accuracy = 0.968000: 100%|██████████| 10/10 [00:46<00:00,  4.69s/it]\n"
     ]
    },
    {
     "name": "stdout",
     "output_type": "stream",
     "text": [
      "validation accuracy:  0.9624606060606061\n",
      "------------------------------------------------------\n",
      "Architecture:  [(256, 'tanh'), (256, 'tanh'), (10, 'last layer')]\n"
     ]
    },
    {
     "name": "stderr",
     "output_type": "stream",
     "text": [
      "Training loss = 0.039109 val accuracy = 0.968833: 100%|██████████| 10/10 [00:46<00:00,  4.67s/it]\n"
     ]
    },
    {
     "name": "stdout",
     "output_type": "stream",
     "text": [
      "validation accuracy:  0.9693060606060605\n",
      "------------------------------------------------------\n",
      "------------------------------------------------------------------\n",
      "                       CONTROLLER EPOCH: 9\n",
      "------------------------------------------------------------------\n",
      "GENERATING ARCHITECTURE SAMPLES...\n",
      "------------------------------------------------------\n",
      "Architecture:  [(512, 'relu'), (128, 'sigmoid'), (10, 'last layer')]\n"
     ]
    },
    {
     "name": "stderr",
     "output_type": "stream",
     "text": [
      "Training loss = 0.015158 val accuracy = 0.980333: 100%|██████████| 10/10 [00:46<00:00,  4.69s/it]\n"
     ]
    },
    {
     "name": "stdout",
     "output_type": "stream",
     "text": [
      "validation accuracy:  0.9767545454545454\n",
      "------------------------------------------------------\n",
      "Architecture:  [(256, 'relu'), (512, 'elu'), (10, 'last layer')]\n"
     ]
    },
    {
     "name": "stderr",
     "output_type": "stream",
     "text": [
      "Training loss = 0.049834 val accuracy = 0.972000: 100%|██████████| 10/10 [00:46<00:00,  4.69s/it]\n"
     ]
    },
    {
     "name": "stdout",
     "output_type": "stream",
     "text": [
      "validation accuracy:  0.9694424242424242\n",
      "------------------------------------------------------\n",
      "Architecture:  [(256, 'sigmoid'), (32, 'sigmoid'), (10, 'last layer')]\n"
     ]
    },
    {
     "name": "stderr",
     "output_type": "stream",
     "text": [
      "Training loss = 0.008471 val accuracy = 0.980000: 100%|██████████| 10/10 [00:47<00:00,  4.71s/it]\n"
     ]
    },
    {
     "name": "stdout",
     "output_type": "stream",
     "text": [
      "validation accuracy:  0.9756\n",
      "------------------------------------------------------\n",
      "Architecture:  [(256, 'relu'), (8, 'sigmoid'), (10, 'last layer')]\n"
     ]
    },
    {
     "name": "stderr",
     "output_type": "stream",
     "text": [
      "Training loss = 0.039678 val accuracy = 0.970000: 100%|██████████| 10/10 [00:46<00:00,  4.68s/it]\n"
     ]
    },
    {
     "name": "stdout",
     "output_type": "stream",
     "text": [
      "validation accuracy:  0.9680818181818183\n",
      "------------------------------------------------------\n",
      "Architecture:  [(512, 'sigmoid'), (8, 'relu'), (10, 'last layer')]\n"
     ]
    },
    {
     "name": "stderr",
     "output_type": "stream",
     "text": [
      "Training loss = 0.040214 val accuracy = 0.960500: 100%|██████████| 10/10 [00:46<00:00,  4.69s/it]\n"
     ]
    },
    {
     "name": "stdout",
     "output_type": "stream",
     "text": [
      "validation accuracy:  0.9507696969696969\n",
      "------------------------------------------------------\n",
      "Architecture:  [(8, 'relu'), 'dropout', (10, 'last layer')]\n"
     ]
    },
    {
     "name": "stderr",
     "output_type": "stream",
     "text": [
      "Training loss = 0.608116 val accuracy = 0.894167: 100%|██████████| 10/10 [00:46<00:00,  4.65s/it]\n"
     ]
    },
    {
     "name": "stdout",
     "output_type": "stream",
     "text": [
      "validation accuracy:  0.8937424242424242\n",
      "------------------------------------------------------\n",
      "Architecture:  [(512, 'relu'), (256, 'sigmoid'), (10, 'last layer')]\n"
     ]
    },
    {
     "name": "stderr",
     "output_type": "stream",
     "text": [
      "Training loss = 0.009612 val accuracy = 0.977333: 100%|██████████| 10/10 [00:46<00:00,  4.68s/it]\n"
     ]
    },
    {
     "name": "stdout",
     "output_type": "stream",
     "text": [
      "validation accuracy:  0.9769575757575759\n",
      "------------------------------------------------------\n",
      "Architecture:  [(256, 'relu'), 'dropout', (10, 'last layer')]\n"
     ]
    },
    {
     "name": "stderr",
     "output_type": "stream",
     "text": [
      "Training loss = 0.043464 val accuracy = 0.977000: 100%|██████████| 10/10 [00:46<00:00,  4.67s/it]\n"
     ]
    },
    {
     "name": "stdout",
     "output_type": "stream",
     "text": [
      "validation accuracy:  0.975709090909091\n",
      "------------------------------------------------------\n",
      "Architecture:  [(16, 'tanh'), (8, 'sigmoid'), (10, 'last layer')]\n"
     ]
    },
    {
     "name": "stderr",
     "output_type": "stream",
     "text": [
      "Training loss = 0.189652 val accuracy = 0.927667: 100%|██████████| 10/10 [00:46<00:00,  4.65s/it]\n"
     ]
    },
    {
     "name": "stdout",
     "output_type": "stream",
     "text": [
      "validation accuracy:  0.9204272727272729\n",
      "------------------------------------------------------\n",
      "Architecture:  [(16, 'relu'), (8, 'relu'), (10, 'last layer')]\n"
     ]
    },
    {
     "name": "stderr",
     "output_type": "stream",
     "text": [
      "Training loss = 0.162015 val accuracy = 0.937500: 100%|██████████| 10/10 [00:46<00:00,  4.69s/it]\n"
     ]
    },
    {
     "name": "stdout",
     "output_type": "stream",
     "text": [
      "validation accuracy:  0.9358575757575758\n",
      "------------------------------------------------------\n",
      "Top 5 Architectures:\n",
      "Architecture [(512, 'relu'), (256, 'sigmoid'), (10, 'last layer')]\n",
      "Validation Accuracy: 0.9769575757575759\n",
      "Architecture [(512, 'relu'), (128, 'sigmoid'), (10, 'last layer')]\n",
      "Validation Accuracy: 0.9767545454545454\n",
      "Architecture [(512, 'relu'), (64, 'sigmoid'), (10, 'last layer')]\n",
      "Validation Accuracy: 0.9763545454545455\n",
      "Architecture [(256, 'relu'), 'dropout', (10, 'last layer')]\n",
      "Validation Accuracy: 0.975709090909091\n",
      "Architecture [(256, 'sigmoid'), (32, 'sigmoid'), (10, 'last layer')]\n",
      "Validation Accuracy: 0.9756\n",
      "Running script...\n",
      "------------------------------------------------------------------\n",
      "                       CONTROLLER EPOCH: 0\n",
      "------------------------------------------------------------------\n",
      "GENERATING ARCHITECTURE SAMPLES...\n",
      "------------------------------------------------------\n",
      "Architecture:  [(16, 'tanh'), (16, 'elu'), (10, 'last layer')]\n"
     ]
    },
    {
     "name": "stderr",
     "output_type": "stream",
     "text": [
      "Training loss = 0.130412 val accuracy = 0.946833: 100%|██████████| 10/10 [00:46<00:00,  4.67s/it]\n"
     ]
    },
    {
     "name": "stdout",
     "output_type": "stream",
     "text": [
      "validation accuracy:  0.945269696969697\n",
      "------------------------------------------------------\n",
      "Architecture:  [(128, 'elu'), (64, 'sigmoid'), (10, 'last layer')]\n"
     ]
    },
    {
     "name": "stderr",
     "output_type": "stream",
     "text": [
      "Training loss = 0.014876 val accuracy = 0.974833: 100%|██████████| 10/10 [00:46<00:00,  4.67s/it]\n"
     ]
    },
    {
     "name": "stdout",
     "output_type": "stream",
     "text": [
      "validation accuracy:  0.9731545454545454\n",
      "------------------------------------------------------\n",
      "Architecture:  [(16, 'relu'), (64, 'sigmoid'), (10, 'last layer')]\n"
     ]
    },
    {
     "name": "stderr",
     "output_type": "stream",
     "text": [
      "Training loss = 0.114318 val accuracy = 0.950167: 100%|██████████| 10/10 [00:46<00:00,  4.68s/it]\n"
     ]
    },
    {
     "name": "stdout",
     "output_type": "stream",
     "text": [
      "validation accuracy:  0.9487212121212121\n",
      "------------------------------------------------------\n",
      "Architecture:  [(16, 'sigmoid'), (256, 'tanh'), (10, 'last layer')]\n"
     ]
    },
    {
     "name": "stderr",
     "output_type": "stream",
     "text": [
      "Training loss = 0.111151 val accuracy = 0.951667: 100%|██████████| 10/10 [00:46<00:00,  4.70s/it]\n"
     ]
    },
    {
     "name": "stdout",
     "output_type": "stream",
     "text": [
      "validation accuracy:  0.9479939393939395\n",
      "------------------------------------------------------\n",
      "Architecture:  [(512, 'relu'), (64, 'tanh'), (10, 'last layer')]\n"
     ]
    },
    {
     "name": "stderr",
     "output_type": "stream",
     "text": [
      "Training loss = 0.023277 val accuracy = 0.978667: 100%|██████████| 10/10 [00:47<00:00,  4.70s/it]\n"
     ]
    },
    {
     "name": "stdout",
     "output_type": "stream",
     "text": [
      "validation accuracy:  0.9751939393939394\n",
      "------------------------------------------------------\n",
      "Architecture:  [(64, 'relu'), (256, 'sigmoid'), (10, 'last layer')]\n"
     ]
    },
    {
     "name": "stderr",
     "output_type": "stream",
     "text": [
      "Training loss = 0.023184 val accuracy = 0.977000: 100%|██████████| 10/10 [00:46<00:00,  4.69s/it]\n"
     ]
    },
    {
     "name": "stdout",
     "output_type": "stream",
     "text": [
      "validation accuracy:  0.9694515151515152\n",
      "------------------------------------------------------\n",
      "Architecture:  [(16, 'tanh'), (8, 'tanh'), (10, 'last layer')]\n"
     ]
    },
    {
     "name": "stderr",
     "output_type": "stream",
     "text": [
      "Training loss = 0.158219 val accuracy = 0.939333: 100%|██████████| 10/10 [00:46<00:00,  4.69s/it]\n"
     ]
    },
    {
     "name": "stdout",
     "output_type": "stream",
     "text": [
      "validation accuracy:  0.9322848484848485\n",
      "------------------------------------------------------\n",
      "Architecture:  [(32, 'elu'), (16, 'relu'), (10, 'last layer')]\n"
     ]
    },
    {
     "name": "stderr",
     "output_type": "stream",
     "text": [
      "Training loss = 0.069485 val accuracy = 0.962667: 100%|██████████| 10/10 [00:46<00:00,  4.70s/it]\n"
     ]
    },
    {
     "name": "stdout",
     "output_type": "stream",
     "text": [
      "validation accuracy:  0.9598121212121212\n",
      "------------------------------------------------------\n",
      "Architecture:  [(8, 'relu'), (512, 'tanh'), (10, 'last layer')]\n"
     ]
    },
    {
     "name": "stderr",
     "output_type": "stream",
     "text": [
      "Training loss = 0.170922 val accuracy = 0.946000: 100%|██████████| 10/10 [00:47<00:00,  4.74s/it]\n"
     ]
    },
    {
     "name": "stdout",
     "output_type": "stream",
     "text": [
      "validation accuracy:  0.9359878787878788\n",
      "------------------------------------------------------\n",
      "Architecture:  [(16, 'tanh'), (512, 'relu'), (10, 'last layer')]\n"
     ]
    },
    {
     "name": "stderr",
     "output_type": "stream",
     "text": [
      "Training loss = 0.092824 val accuracy = 0.949667: 100%|██████████| 10/10 [00:46<00:00,  4.67s/it]\n"
     ]
    },
    {
     "name": "stdout",
     "output_type": "stream",
     "text": [
      "validation accuracy:  0.950948484848485\n",
      "------------------------------------------------------\n",
      "------------------------------------------------------------------\n",
      "                       CONTROLLER EPOCH: 1\n",
      "------------------------------------------------------------------\n",
      "GENERATING ARCHITECTURE SAMPLES...\n",
      "------------------------------------------------------\n",
      "Architecture:  [(256, 'relu'), (32, 'tanh'), (10, 'last layer')]\n"
     ]
    },
    {
     "name": "stderr",
     "output_type": "stream",
     "text": [
      "Training loss = 0.027183 val accuracy = 0.970833: 100%|██████████| 10/10 [00:46<00:00,  4.66s/it]\n"
     ]
    },
    {
     "name": "stdout",
     "output_type": "stream",
     "text": [
      "validation accuracy:  0.9729090909090911\n",
      "------------------------------------------------------\n",
      "Architecture:  [(512, 'elu'), (16, 'elu'), (10, 'last layer')]\n"
     ]
    },
    {
     "name": "stderr",
     "output_type": "stream",
     "text": [
      "Training loss = 0.029585 val accuracy = 0.972833: 100%|██████████| 10/10 [00:46<00:00,  4.66s/it]\n"
     ]
    },
    {
     "name": "stdout",
     "output_type": "stream",
     "text": [
      "validation accuracy:  0.9719545454545454\n",
      "------------------------------------------------------\n",
      "Architecture:  [(32, 'relu'), (512, 'tanh'), (10, 'last layer')]\n"
     ]
    },
    {
     "name": "stderr",
     "output_type": "stream",
     "text": [
      "Training loss = 0.056215 val accuracy = 0.966167: 100%|██████████| 10/10 [00:46<00:00,  4.67s/it]\n"
     ]
    },
    {
     "name": "stdout",
     "output_type": "stream",
     "text": [
      "validation accuracy:  0.9633878787878788\n",
      "------------------------------------------------------\n",
      "Architecture:  [(32, 'sigmoid'), (64, 'elu'), (10, 'last layer')]\n"
     ]
    },
    {
     "name": "stderr",
     "output_type": "stream",
     "text": [
      "Training loss = 0.062760 val accuracy = 0.959167: 100%|██████████| 10/10 [00:46<00:00,  4.67s/it]\n"
     ]
    },
    {
     "name": "stdout",
     "output_type": "stream",
     "text": [
      "validation accuracy:  0.9566272727272729\n",
      "------------------------------------------------------\n",
      "Architecture:  [(8, 'relu'), (512, 'elu'), (10, 'last layer')]\n"
     ]
    },
    {
     "name": "stderr",
     "output_type": "stream",
     "text": [
      "Training loss = 0.308060 val accuracy = 0.900500: 100%|██████████| 10/10 [00:46<00:00,  4.68s/it]\n"
     ]
    },
    {
     "name": "stdout",
     "output_type": "stream",
     "text": [
      "validation accuracy:  0.8989909090909092\n",
      "------------------------------------------------------\n",
      "Architecture:  [(128, 'sigmoid'), (8, 'elu'), (10, 'last layer')]\n"
     ]
    },
    {
     "name": "stderr",
     "output_type": "stream",
     "text": [
      "Training loss = 0.019596 val accuracy = 0.969833: 100%|██████████| 10/10 [00:47<00:00,  4.73s/it]\n"
     ]
    },
    {
     "name": "stdout",
     "output_type": "stream",
     "text": [
      "validation accuracy:  0.9677242424242425\n",
      "------------------------------------------------------\n",
      "Architecture:  [(512, 'relu'), (64, 'relu'), (10, 'last layer')]\n"
     ]
    },
    {
     "name": "stderr",
     "output_type": "stream",
     "text": [
      "Training loss = 0.026641 val accuracy = 0.976333: 100%|██████████| 10/10 [00:47<00:00,  4.74s/it]\n"
     ]
    },
    {
     "name": "stdout",
     "output_type": "stream",
     "text": [
      "validation accuracy:  0.9736303030303031\n",
      "------------------------------------------------------\n",
      "Architecture:  [(32, 'tanh'), (256, 'elu'), (10, 'last layer')]\n"
     ]
    },
    {
     "name": "stderr",
     "output_type": "stream",
     "text": [
      "Training loss = 0.062959 val accuracy = 0.962333: 100%|██████████| 10/10 [00:46<00:00,  4.69s/it]\n"
     ]
    },
    {
     "name": "stdout",
     "output_type": "stream",
     "text": [
      "validation accuracy:  0.960009090909091\n",
      "------------------------------------------------------\n",
      "Architecture:  [(256, 'elu'), (8, 'elu'), (10, 'last layer')]\n"
     ]
    },
    {
     "name": "stderr",
     "output_type": "stream",
     "text": [
      "Training loss = 0.021975 val accuracy = 0.971833: 100%|██████████| 10/10 [00:46<00:00,  4.66s/it]\n"
     ]
    },
    {
     "name": "stdout",
     "output_type": "stream",
     "text": [
      "validation accuracy:  0.9708606060606061\n",
      "------------------------------------------------------\n",
      "Architecture:  [(16, 'sigmoid'), (128, 'sigmoid'), (10, 'last layer')]\n"
     ]
    },
    {
     "name": "stderr",
     "output_type": "stream",
     "text": [
      "Training loss = 0.135651 val accuracy = 0.944167: 100%|██████████| 10/10 [00:46<00:00,  4.66s/it]\n"
     ]
    },
    {
     "name": "stdout",
     "output_type": "stream",
     "text": [
      "validation accuracy:  0.9385363636363637\n",
      "------------------------------------------------------\n",
      "------------------------------------------------------------------\n",
      "                       CONTROLLER EPOCH: 2\n",
      "------------------------------------------------------------------\n",
      "GENERATING ARCHITECTURE SAMPLES...\n",
      "------------------------------------------------------\n",
      "Architecture:  [(128, 'tanh'), (64, 'sigmoid'), (10, 'last layer')]\n"
     ]
    },
    {
     "name": "stderr",
     "output_type": "stream",
     "text": [
      "Training loss = 0.024759 val accuracy = 0.971667: 100%|██████████| 10/10 [00:46<00:00,  4.67s/it]\n"
     ]
    },
    {
     "name": "stdout",
     "output_type": "stream",
     "text": [
      "validation accuracy:  0.9697545454545454\n",
      "------------------------------------------------------\n",
      "Architecture:  [(8, 'tanh'), (8, 'sigmoid'), (10, 'last layer')]\n"
     ]
    },
    {
     "name": "stderr",
     "output_type": "stream",
     "text": [
      "Training loss = 0.315928 val accuracy = 0.899167: 100%|██████████| 10/10 [00:46<00:00,  4.64s/it]\n"
     ]
    },
    {
     "name": "stdout",
     "output_type": "stream",
     "text": [
      "validation accuracy:  0.8874606060606061\n",
      "------------------------------------------------------\n",
      "Architecture:  [(128, 'tanh'), (256, 'relu'), (10, 'last layer')]\n"
     ]
    },
    {
     "name": "stderr",
     "output_type": "stream",
     "text": [
      "Training loss = 0.048546 val accuracy = 0.972333: 100%|██████████| 10/10 [00:46<00:00,  4.68s/it]\n"
     ]
    },
    {
     "name": "stdout",
     "output_type": "stream",
     "text": [
      "validation accuracy:  0.9684606060606061\n",
      "------------------------------------------------------\n",
      "Architecture:  [(128, 'relu'), (64, 'relu'), (10, 'last layer')]\n"
     ]
    },
    {
     "name": "stderr",
     "output_type": "stream",
     "text": [
      "Training loss = 0.029786 val accuracy = 0.971167: 100%|██████████| 10/10 [00:46<00:00,  4.66s/it]\n"
     ]
    },
    {
     "name": "stdout",
     "output_type": "stream",
     "text": [
      "validation accuracy:  0.9720151515151514\n",
      "------------------------------------------------------\n",
      "Architecture:  [(32, 'sigmoid'), (8, 'elu'), (10, 'last layer')]\n"
     ]
    },
    {
     "name": "stderr",
     "output_type": "stream",
     "text": [
      "Training loss = 0.077931 val accuracy = 0.957167: 100%|██████████| 10/10 [00:46<00:00,  4.66s/it]\n"
     ]
    },
    {
     "name": "stdout",
     "output_type": "stream",
     "text": [
      "validation accuracy:  0.9531242424242424\n",
      "------------------------------------------------------\n",
      "Architecture:  [(512, 'elu'), (128, 'sigmoid'), (10, 'last layer')]\n"
     ]
    },
    {
     "name": "stderr",
     "output_type": "stream",
     "text": [
      "Training loss = 0.019387 val accuracy = 0.978333: 100%|██████████| 10/10 [00:46<00:00,  4.69s/it]\n"
     ]
    },
    {
     "name": "stdout",
     "output_type": "stream",
     "text": [
      "validation accuracy:  0.9761606060606061\n",
      "------------------------------------------------------\n",
      "Architecture:  [(128, 'relu'), (32, 'tanh'), (10, 'last layer')]\n"
     ]
    },
    {
     "name": "stderr",
     "output_type": "stream",
     "text": [
      "Training loss = 0.034911 val accuracy = 0.971833: 100%|██████████| 10/10 [00:47<00:00,  4.71s/it]\n"
     ]
    },
    {
     "name": "stdout",
     "output_type": "stream",
     "text": [
      "validation accuracy:  0.9700636363636364\n",
      "------------------------------------------------------\n",
      "Architecture:  [(64, 'tanh'), (16, 'sigmoid'), (10, 'last layer')]\n"
     ]
    },
    {
     "name": "stderr",
     "output_type": "stream",
     "text": [
      "Training loss = 0.046350 val accuracy = 0.965167: 100%|██████████| 10/10 [00:46<00:00,  4.68s/it]\n"
     ]
    },
    {
     "name": "stdout",
     "output_type": "stream",
     "text": [
      "validation accuracy:  0.9644333333333333\n",
      "------------------------------------------------------\n",
      "Architecture:  [(512, 'tanh'), (128, 'sigmoid'), (10, 'last layer')]\n"
     ]
    },
    {
     "name": "stderr",
     "output_type": "stream",
     "text": [
      "Training loss = 0.025919 val accuracy = 0.976500: 100%|██████████| 10/10 [00:46<00:00,  4.70s/it]\n"
     ]
    },
    {
     "name": "stdout",
     "output_type": "stream",
     "text": [
      "validation accuracy:  0.972790909090909\n",
      "------------------------------------------------------\n",
      "Architecture:  [(64, 'tanh'), 'dropout', (10, 'last layer')]\n"
     ]
    },
    {
     "name": "stderr",
     "output_type": "stream",
     "text": [
      "Training loss = 0.106873 val accuracy = 0.965333: 100%|██████████| 10/10 [00:46<00:00,  4.65s/it]\n"
     ]
    },
    {
     "name": "stdout",
     "output_type": "stream",
     "text": [
      "validation accuracy:  0.9637272727272727\n",
      "------------------------------------------------------\n",
      "------------------------------------------------------------------\n",
      "                       CONTROLLER EPOCH: 3\n",
      "------------------------------------------------------------------\n",
      "GENERATING ARCHITECTURE SAMPLES...\n",
      "------------------------------------------------------\n",
      "Architecture:  [(128, 'relu'), (512, 'sigmoid'), (10, 'last layer')]\n"
     ]
    },
    {
     "name": "stderr",
     "output_type": "stream",
     "text": [
      "Training loss = 0.019534 val accuracy = 0.974000: 100%|██████████| 10/10 [00:46<00:00,  4.69s/it]\n"
     ]
    },
    {
     "name": "stdout",
     "output_type": "stream",
     "text": [
      "validation accuracy:  0.9734484848484848\n",
      "------------------------------------------------------\n",
      "Architecture:  [(32, 'tanh'), (10, 'last layer')]\n"
     ]
    },
    {
     "name": "stderr",
     "output_type": "stream",
     "text": [
      "Training loss = 0.075736 val accuracy = 0.951000: 100%|██████████| 10/10 [00:46<00:00,  4.63s/it]\n"
     ]
    },
    {
     "name": "stdout",
     "output_type": "stream",
     "text": [
      "validation accuracy:  0.9527363636363636\n",
      "------------------------------------------------------\n",
      "Architecture:  [(32, 'relu'), (32, 'relu'), (10, 'last layer')]\n"
     ]
    },
    {
     "name": "stderr",
     "output_type": "stream",
     "text": [
      "Training loss = 0.069292 val accuracy = 0.963167: 100%|██████████| 10/10 [00:46<00:00,  4.67s/it]\n"
     ]
    },
    {
     "name": "stdout",
     "output_type": "stream",
     "text": [
      "validation accuracy:  0.9611575757575759\n",
      "------------------------------------------------------\n",
      "Architecture:  [(512, 'sigmoid'), (8, 'elu'), (10, 'last layer')]\n"
     ]
    },
    {
     "name": "stderr",
     "output_type": "stream",
     "text": [
      "Training loss = 0.007219 val accuracy = 0.980000: 100%|██████████| 10/10 [00:46<00:00,  4.65s/it]\n"
     ]
    },
    {
     "name": "stdout",
     "output_type": "stream",
     "text": [
      "validation accuracy:  0.9737515151515153\n",
      "------------------------------------------------------\n",
      "Architecture:  [(32, 'relu'), (256, 'elu'), (10, 'last layer')]\n"
     ]
    },
    {
     "name": "stderr",
     "output_type": "stream",
     "text": [
      "Training loss = 0.054418 val accuracy = 0.965167: 100%|██████████| 10/10 [00:46<00:00,  4.67s/it]\n"
     ]
    },
    {
     "name": "stdout",
     "output_type": "stream",
     "text": [
      "validation accuracy:  0.9626393939393938\n",
      "------------------------------------------------------\n",
      "Architecture:  [(128, 'tanh'), (8, 'sigmoid'), (10, 'last layer')]\n"
     ]
    },
    {
     "name": "stderr",
     "output_type": "stream",
     "text": [
      "Training loss = 0.053010 val accuracy = 0.966833: 100%|██████████| 10/10 [00:46<00:00,  4.70s/it]\n"
     ]
    },
    {
     "name": "stdout",
     "output_type": "stream",
     "text": [
      "validation accuracy:  0.9646969696969697\n",
      "------------------------------------------------------\n",
      "Architecture:  [(32, 'tanh'), (128, 'tanh'), (10, 'last layer')]\n"
     ]
    },
    {
     "name": "stderr",
     "output_type": "stream",
     "text": [
      "Training loss = 0.056677 val accuracy = 0.963833: 100%|██████████| 10/10 [00:46<00:00,  4.67s/it]\n"
     ]
    },
    {
     "name": "stdout",
     "output_type": "stream",
     "text": [
      "validation accuracy:  0.9607757575757577\n",
      "------------------------------------------------------\n",
      "Architecture:  [(32, 'sigmoid'), (128, 'tanh'), (10, 'last layer')]\n"
     ]
    },
    {
     "name": "stderr",
     "output_type": "stream",
     "text": [
      "Training loss = 0.057839 val accuracy = 0.963000: 100%|██████████| 10/10 [00:46<00:00,  4.66s/it]\n"
     ]
    },
    {
     "name": "stdout",
     "output_type": "stream",
     "text": [
      "validation accuracy:  0.9595242424242424\n",
      "------------------------------------------------------\n",
      "Architecture:  [(16, 'relu'), (8, 'sigmoid'), (10, 'last layer')]\n"
     ]
    },
    {
     "name": "stderr",
     "output_type": "stream",
     "text": [
      "Training loss = 0.185093 val accuracy = 0.940667: 100%|██████████| 10/10 [00:46<00:00,  4.66s/it]\n"
     ]
    },
    {
     "name": "stdout",
     "output_type": "stream",
     "text": [
      "validation accuracy:  0.9357060606060607\n",
      "------------------------------------------------------\n",
      "Architecture:  [(16, 'relu'), (128, 'tanh'), (10, 'last layer')]\n"
     ]
    },
    {
     "name": "stderr",
     "output_type": "stream",
     "text": [
      "Training loss = 0.083151 val accuracy = 0.960333: 100%|██████████| 10/10 [00:46<00:00,  4.67s/it]\n"
     ]
    },
    {
     "name": "stdout",
     "output_type": "stream",
     "text": [
      "validation accuracy:  0.9563030303030302\n",
      "------------------------------------------------------\n",
      "------------------------------------------------------------------\n",
      "                       CONTROLLER EPOCH: 4\n",
      "------------------------------------------------------------------\n",
      "GENERATING ARCHITECTURE SAMPLES...\n",
      "------------------------------------------------------\n",
      "Architecture:  [(256, 'elu'), (16, 'relu'), (10, 'last layer')]\n"
     ]
    },
    {
     "name": "stderr",
     "output_type": "stream",
     "text": [
      "Training loss = 0.021932 val accuracy = 0.974667: 100%|██████████| 10/10 [00:46<00:00,  4.67s/it]\n"
     ]
    },
    {
     "name": "stdout",
     "output_type": "stream",
     "text": [
      "validation accuracy:  0.9722575757575757\n",
      "------------------------------------------------------\n",
      "Architecture:  [(128, 'relu'), (16, 'elu'), (10, 'last layer')]\n"
     ]
    },
    {
     "name": "stderr",
     "output_type": "stream",
     "text": [
      "Training loss = 0.026820 val accuracy = 0.970833: 100%|██████████| 10/10 [00:46<00:00,  4.66s/it]\n"
     ]
    },
    {
     "name": "stdout",
     "output_type": "stream",
     "text": [
      "validation accuracy:  0.9707666666666666\n",
      "------------------------------------------------------\n",
      "Architecture:  [(256, 'tanh'), (256, 'sigmoid'), (10, 'last layer')]\n"
     ]
    },
    {
     "name": "stderr",
     "output_type": "stream",
     "text": [
      "Training loss = 0.019749 val accuracy = 0.966500: 100%|██████████| 10/10 [00:46<00:00,  4.66s/it]\n"
     ]
    },
    {
     "name": "stdout",
     "output_type": "stream",
     "text": [
      "validation accuracy:  0.9704757575757575\n",
      "------------------------------------------------------\n",
      "Architecture:  [(128, 'relu'), (256, 'sigmoid'), (10, 'last layer')]\n"
     ]
    },
    {
     "name": "stderr",
     "output_type": "stream",
     "text": [
      "Training loss = 0.018606 val accuracy = 0.974833: 100%|██████████| 10/10 [00:46<00:00,  4.67s/it]\n"
     ]
    },
    {
     "name": "stdout",
     "output_type": "stream",
     "text": [
      "validation accuracy:  0.9727878787878788\n",
      "------------------------------------------------------\n",
      "Architecture:  [(8, 'tanh'), (32, 'sigmoid'), (10, 'last layer')]\n"
     ]
    },
    {
     "name": "stderr",
     "output_type": "stream",
     "text": [
      "Training loss = 0.245933 val accuracy = 0.913667: 100%|██████████| 10/10 [00:46<00:00,  4.65s/it]\n"
     ]
    },
    {
     "name": "stdout",
     "output_type": "stream",
     "text": [
      "validation accuracy:  0.9101666666666667\n",
      "------------------------------------------------------\n",
      "Architecture:  [(128, 'relu'), (128, 'relu'), (10, 'last layer')]\n"
     ]
    },
    {
     "name": "stderr",
     "output_type": "stream",
     "text": [
      "Training loss = 0.027365 val accuracy = 0.972833: 100%|██████████| 10/10 [00:46<00:00,  4.67s/it]\n"
     ]
    },
    {
     "name": "stdout",
     "output_type": "stream",
     "text": [
      "validation accuracy:  0.9727303030303031\n",
      "------------------------------------------------------\n",
      "Architecture:  [(64, 'tanh'), (8, 'tanh'), (10, 'last layer')]\n"
     ]
    },
    {
     "name": "stderr",
     "output_type": "stream",
     "text": [
      "Training loss = 0.063958 val accuracy = 0.965167: 100%|██████████| 10/10 [00:46<00:00,  4.67s/it]\n"
     ]
    },
    {
     "name": "stdout",
     "output_type": "stream",
     "text": [
      "validation accuracy:  0.9584242424242424\n",
      "------------------------------------------------------\n",
      "Architecture:  [(128, 'tanh'), (512, 'elu'), (10, 'last layer')]\n"
     ]
    },
    {
     "name": "stderr",
     "output_type": "stream",
     "text": [
      "Training loss = 0.052367 val accuracy = 0.969500: 100%|██████████| 10/10 [00:46<00:00,  4.67s/it]\n"
     ]
    },
    {
     "name": "stdout",
     "output_type": "stream",
     "text": [
      "validation accuracy:  0.9666454545454546\n",
      "------------------------------------------------------\n",
      "Architecture:  [(256, 'sigmoid'), (16, 'tanh'), (10, 'last layer')]\n"
     ]
    },
    {
     "name": "stderr",
     "output_type": "stream",
     "text": [
      "Training loss = 0.012057 val accuracy = 0.974667: 100%|██████████| 10/10 [00:46<00:00,  4.68s/it]\n"
     ]
    },
    {
     "name": "stdout",
     "output_type": "stream",
     "text": [
      "validation accuracy:  0.9732151515151515\n",
      "------------------------------------------------------\n",
      "Architecture:  [(512, 'sigmoid'), (512, 'sigmoid'), (10, 'last layer')]\n"
     ]
    },
    {
     "name": "stderr",
     "output_type": "stream",
     "text": [
      "Training loss = 0.008533 val accuracy = 0.977000: 100%|██████████| 10/10 [00:46<00:00,  4.68s/it]\n"
     ]
    },
    {
     "name": "stdout",
     "output_type": "stream",
     "text": [
      "validation accuracy:  0.9742484848484847\n",
      "------------------------------------------------------\n",
      "------------------------------------------------------------------\n",
      "                       CONTROLLER EPOCH: 5\n",
      "------------------------------------------------------------------\n",
      "GENERATING ARCHITECTURE SAMPLES...\n",
      "------------------------------------------------------\n",
      "Architecture:  [(64, 'elu'), (8, 'sigmoid'), (10, 'last layer')]\n"
     ]
    },
    {
     "name": "stderr",
     "output_type": "stream",
     "text": [
      "Training loss = 0.051797 val accuracy = 0.968167: 100%|██████████| 10/10 [00:46<00:00,  4.66s/it]\n"
     ]
    },
    {
     "name": "stdout",
     "output_type": "stream",
     "text": [
      "validation accuracy:  0.9638727272727272\n",
      "------------------------------------------------------\n",
      "Architecture:  [(8, 'sigmoid'), (128, 'relu'), (10, 'last layer')]\n"
     ]
    },
    {
     "name": "stderr",
     "output_type": "stream",
     "text": [
      "Training loss = 0.186916 val accuracy = 0.930167: 100%|██████████| 10/10 [00:46<00:00,  4.65s/it]\n"
     ]
    },
    {
     "name": "stdout",
     "output_type": "stream",
     "text": [
      "validation accuracy:  0.9292909090909092\n",
      "------------------------------------------------------\n",
      "Architecture:  [(128, 'relu'), (8, 'tanh'), (10, 'last layer')]\n"
     ]
    },
    {
     "name": "stderr",
     "output_type": "stream",
     "text": [
      "Training loss = 0.050492 val accuracy = 0.967000: 100%|██████████| 10/10 [00:46<00:00,  4.67s/it]\n"
     ]
    },
    {
     "name": "stdout",
     "output_type": "stream",
     "text": [
      "validation accuracy:  0.9664666666666666\n",
      "------------------------------------------------------\n",
      "Architecture:  [(32, 'sigmoid'), (256, 'tanh'), (10, 'last layer')]\n"
     ]
    },
    {
     "name": "stderr",
     "output_type": "stream",
     "text": [
      "Training loss = 0.059803 val accuracy = 0.960833: 100%|██████████| 10/10 [00:46<00:00,  4.67s/it]\n"
     ]
    },
    {
     "name": "stdout",
     "output_type": "stream",
     "text": [
      "validation accuracy:  0.9583757575757577\n",
      "------------------------------------------------------\n",
      "Architecture:  [(256, 'tanh'), (128, 'tanh'), (10, 'last layer')]\n"
     ]
    },
    {
     "name": "stderr",
     "output_type": "stream",
     "text": [
      "Training loss = 0.037647 val accuracy = 0.967500: 100%|██████████| 10/10 [00:46<00:00,  4.68s/it]\n"
     ]
    },
    {
     "name": "stdout",
     "output_type": "stream",
     "text": [
      "validation accuracy:  0.9684272727272726\n",
      "------------------------------------------------------\n",
      "Architecture:  [(128, 'relu'), (128, 'elu'), (10, 'last layer')]\n"
     ]
    },
    {
     "name": "stderr",
     "output_type": "stream",
     "text": [
      "Training loss = 0.029162 val accuracy = 0.974833: 100%|██████████| 10/10 [00:46<00:00,  4.68s/it]\n"
     ]
    },
    {
     "name": "stdout",
     "output_type": "stream",
     "text": [
      "validation accuracy:  0.971539393939394\n",
      "------------------------------------------------------\n",
      "Architecture:  [(16, 'elu'), (256, 'elu'), (10, 'last layer')]\n"
     ]
    },
    {
     "name": "stderr",
     "output_type": "stream",
     "text": [
      "Training loss = 0.084754 val accuracy = 0.961333: 100%|██████████| 10/10 [00:46<00:00,  4.67s/it]\n"
     ]
    },
    {
     "name": "stdout",
     "output_type": "stream",
     "text": [
      "validation accuracy:  0.954478787878788\n",
      "------------------------------------------------------\n",
      "Architecture:  [(128, 'relu'), 'dropout', (10, 'last layer')]\n"
     ]
    },
    {
     "name": "stderr",
     "output_type": "stream",
     "text": [
      "Training loss = 0.060114 val accuracy = 0.977167: 100%|██████████| 10/10 [00:46<00:00,  4.63s/it]\n"
     ]
    },
    {
     "name": "stdout",
     "output_type": "stream",
     "text": [
      "validation accuracy:  0.9740121212121212\n",
      "------------------------------------------------------\n",
      "Architecture:  [(32, 'relu'), (10, 'last layer')]\n"
     ]
    },
    {
     "name": "stderr",
     "output_type": "stream",
     "text": [
      "Training loss = 0.068731 val accuracy = 0.964333: 100%|██████████| 10/10 [00:46<00:00,  4.63s/it]\n"
     ]
    },
    {
     "name": "stdout",
     "output_type": "stream",
     "text": [
      "validation accuracy:  0.9601545454545454\n",
      "------------------------------------------------------\n",
      "Architecture:  [(128, 'relu'), (64, 'tanh'), (10, 'last layer')]\n"
     ]
    },
    {
     "name": "stderr",
     "output_type": "stream",
     "text": [
      "Training loss = 0.031585 val accuracy = 0.973667: 100%|██████████| 10/10 [00:46<00:00,  4.67s/it]\n"
     ]
    },
    {
     "name": "stdout",
     "output_type": "stream",
     "text": [
      "validation accuracy:  0.9722121212121212\n",
      "------------------------------------------------------\n",
      "------------------------------------------------------------------\n",
      "                       CONTROLLER EPOCH: 6\n",
      "------------------------------------------------------------------\n",
      "GENERATING ARCHITECTURE SAMPLES...\n",
      "------------------------------------------------------\n",
      "Architecture:  [(32, 'relu'), (256, 'sigmoid'), (10, 'last layer')]\n"
     ]
    },
    {
     "name": "stderr",
     "output_type": "stream",
     "text": [
      "Training loss = 0.048714 val accuracy = 0.966167: 100%|██████████| 10/10 [00:46<00:00,  4.68s/it]\n"
     ]
    },
    {
     "name": "stdout",
     "output_type": "stream",
     "text": [
      "validation accuracy:  0.962821212121212\n",
      "------------------------------------------------------\n",
      "Architecture:  [(512, 'tanh'), (32, 'sigmoid'), (10, 'last layer')]\n"
     ]
    },
    {
     "name": "stderr",
     "output_type": "stream",
     "text": [
      "Training loss = 0.035028 val accuracy = 0.975000: 100%|██████████| 10/10 [00:46<00:00,  4.69s/it]\n"
     ]
    },
    {
     "name": "stdout",
     "output_type": "stream",
     "text": [
      "validation accuracy:  0.9729242424242424\n",
      "------------------------------------------------------\n",
      "Architecture:  [(128, 'tanh'), 'dropout', (10, 'last layer')]\n"
     ]
    },
    {
     "name": "stderr",
     "output_type": "stream",
     "text": [
      "Training loss = 0.067871 val accuracy = 0.969667: 100%|██████████| 10/10 [00:46<00:00,  4.67s/it]\n"
     ]
    },
    {
     "name": "stdout",
     "output_type": "stream",
     "text": [
      "validation accuracy:  0.9669515151515152\n",
      "------------------------------------------------------\n",
      "Architecture:  [(32, 'relu'), (128, 'relu'), (10, 'last layer')]\n"
     ]
    },
    {
     "name": "stderr",
     "output_type": "stream",
     "text": [
      "Training loss = 0.067033 val accuracy = 0.962167: 100%|██████████| 10/10 [00:46<00:00,  4.68s/it]\n"
     ]
    },
    {
     "name": "stdout",
     "output_type": "stream",
     "text": [
      "validation accuracy:  0.9615878787878788\n",
      "------------------------------------------------------\n",
      "Architecture:  [(32, 'elu'), (256, 'tanh'), (10, 'last layer')]\n"
     ]
    },
    {
     "name": "stderr",
     "output_type": "stream",
     "text": [
      "Training loss = 0.046938 val accuracy = 0.965500: 100%|██████████| 10/10 [00:46<00:00,  4.66s/it]\n"
     ]
    },
    {
     "name": "stdout",
     "output_type": "stream",
     "text": [
      "validation accuracy:  0.963739393939394\n",
      "------------------------------------------------------\n",
      "Architecture:  [(64, 'elu'), (128, 'relu'), (10, 'last layer')]\n"
     ]
    },
    {
     "name": "stderr",
     "output_type": "stream",
     "text": [
      "Training loss = 0.039937 val accuracy = 0.972167: 100%|██████████| 10/10 [00:46<00:00,  4.68s/it]\n"
     ]
    },
    {
     "name": "stdout",
     "output_type": "stream",
     "text": [
      "validation accuracy:  0.9692454545454544\n",
      "------------------------------------------------------\n",
      "Architecture:  [(64, 'sigmoid'), (8, 'sigmoid'), (10, 'last layer')]\n"
     ]
    },
    {
     "name": "stderr",
     "output_type": "stream",
     "text": [
      "Training loss = 0.066277 val accuracy = 0.961667: 100%|██████████| 10/10 [00:46<00:00,  4.67s/it]\n"
     ]
    },
    {
     "name": "stdout",
     "output_type": "stream",
     "text": [
      "validation accuracy:  0.9557878787878789\n",
      "------------------------------------------------------\n",
      "Architecture:  [(16, 'elu'), (8, 'sigmoid'), (10, 'last layer')]\n"
     ]
    },
    {
     "name": "stderr",
     "output_type": "stream",
     "text": [
      "Training loss = 0.180033 val accuracy = 0.936333: 100%|██████████| 10/10 [00:46<00:00,  4.64s/it]\n"
     ]
    },
    {
     "name": "stdout",
     "output_type": "stream",
     "text": [
      "validation accuracy:  0.9318909090909089\n",
      "------------------------------------------------------\n",
      "Architecture:  [(512, 'elu'), (10, 'last layer')]\n"
     ]
    },
    {
     "name": "stderr",
     "output_type": "stream",
     "text": [
      "Training loss = 0.028509 val accuracy = 0.977500: 100%|██████████| 10/10 [00:46<00:00,  4.63s/it]\n"
     ]
    },
    {
     "name": "stdout",
     "output_type": "stream",
     "text": [
      "validation accuracy:  0.9722606060606059\n",
      "------------------------------------------------------\n",
      "Architecture:  [(128, 'sigmoid'), (256, 'elu'), (10, 'last layer')]\n"
     ]
    },
    {
     "name": "stderr",
     "output_type": "stream",
     "text": [
      "Training loss = 0.020780 val accuracy = 0.974833: 100%|██████████| 10/10 [00:46<00:00,  4.66s/it]\n"
     ]
    },
    {
     "name": "stdout",
     "output_type": "stream",
     "text": [
      "validation accuracy:  0.970081818181818\n",
      "------------------------------------------------------\n",
      "------------------------------------------------------------------\n",
      "                       CONTROLLER EPOCH: 7\n",
      "------------------------------------------------------------------\n",
      "GENERATING ARCHITECTURE SAMPLES...\n",
      "------------------------------------------------------\n",
      "Architecture:  [(8, 'sigmoid'), (256, 'sigmoid'), (10, 'last layer')]\n"
     ]
    },
    {
     "name": "stderr",
     "output_type": "stream",
     "text": [
      "Training loss = 0.227710 val accuracy = 0.921500: 100%|██████████| 10/10 [00:46<00:00,  4.66s/it]\n"
     ]
    },
    {
     "name": "stdout",
     "output_type": "stream",
     "text": [
      "validation accuracy:  0.9176000000000001\n",
      "------------------------------------------------------\n",
      "Architecture:  [(8, 'sigmoid'), (8, 'tanh'), (10, 'last layer')]\n"
     ]
    },
    {
     "name": "stderr",
     "output_type": "stream",
     "text": [
      "Training loss = 0.264285 val accuracy = 0.911167: 100%|██████████| 10/10 [00:46<00:00,  4.66s/it]\n"
     ]
    },
    {
     "name": "stdout",
     "output_type": "stream",
     "text": [
      "validation accuracy:  0.9052666666666666\n",
      "------------------------------------------------------\n",
      "Architecture:  [(256, 'sigmoid'), (16, 'elu'), (10, 'last layer')]\n"
     ]
    },
    {
     "name": "stderr",
     "output_type": "stream",
     "text": [
      "Training loss = 0.007012 val accuracy = 0.974667: 100%|██████████| 10/10 [00:46<00:00,  4.67s/it]\n"
     ]
    },
    {
     "name": "stdout",
     "output_type": "stream",
     "text": [
      "validation accuracy:  0.9738272727272728\n",
      "------------------------------------------------------\n",
      "Architecture:  [(16, 'tanh'), (256, 'tanh'), (10, 'last layer')]\n"
     ]
    },
    {
     "name": "stderr",
     "output_type": "stream",
     "text": [
      "Training loss = 0.108410 val accuracy = 0.947333: 100%|██████████| 10/10 [00:46<00:00,  4.67s/it]\n"
     ]
    },
    {
     "name": "stdout",
     "output_type": "stream",
     "text": [
      "validation accuracy:  0.9454575757575758\n",
      "------------------------------------------------------\n",
      "Architecture:  [(8, 'tanh'), (128, 'tanh'), (10, 'last layer')]\n"
     ]
    },
    {
     "name": "stderr",
     "output_type": "stream",
     "text": [
      "Training loss = 0.208510 val accuracy = 0.926000: 100%|██████████| 10/10 [00:46<00:00,  4.65s/it]\n"
     ]
    },
    {
     "name": "stdout",
     "output_type": "stream",
     "text": [
      "validation accuracy:  0.9231121212121212\n",
      "------------------------------------------------------\n",
      "Architecture:  [(16, 'elu'), (10, 'last layer')]\n"
     ]
    },
    {
     "name": "stderr",
     "output_type": "stream",
     "text": [
      "Training loss = 0.136302 val accuracy = 0.943500: 100%|██████████| 10/10 [00:46<00:00,  4.63s/it]\n"
     ]
    },
    {
     "name": "stdout",
     "output_type": "stream",
     "text": [
      "validation accuracy:  0.9406666666666668\n",
      "------------------------------------------------------\n",
      "Architecture:  [(256, 'sigmoid'), (8, 'sigmoid'), (10, 'last layer')]\n"
     ]
    },
    {
     "name": "stderr",
     "output_type": "stream",
     "text": [
      "Training loss = 0.026090 val accuracy = 0.972833: 100%|██████████| 10/10 [00:46<00:00,  4.67s/it]\n"
     ]
    },
    {
     "name": "stdout",
     "output_type": "stream",
     "text": [
      "validation accuracy:  0.9659666666666666\n",
      "------------------------------------------------------\n",
      "Architecture:  [(64, 'relu'), (32, 'elu'), (10, 'last layer')]\n"
     ]
    },
    {
     "name": "stderr",
     "output_type": "stream",
     "text": [
      "Training loss = 0.038535 val accuracy = 0.972167: 100%|██████████| 10/10 [00:46<00:00,  4.66s/it]\n"
     ]
    },
    {
     "name": "stdout",
     "output_type": "stream",
     "text": [
      "validation accuracy:  0.9678363636363635\n",
      "------------------------------------------------------\n",
      "Architecture:  [(512, 'elu'), 'dropout', (10, 'last layer')]\n"
     ]
    },
    {
     "name": "stderr",
     "output_type": "stream",
     "text": [
      "Training loss = 0.059688 val accuracy = 0.973333: 100%|██████████| 10/10 [00:46<00:00,  4.66s/it]\n"
     ]
    },
    {
     "name": "stdout",
     "output_type": "stream",
     "text": [
      "validation accuracy:  0.9712181818181819\n",
      "------------------------------------------------------\n",
      "Architecture:  [(256, 'relu'), (32, 'relu'), (10, 'last layer')]\n"
     ]
    },
    {
     "name": "stderr",
     "output_type": "stream",
     "text": [
      "Training loss = 0.024156 val accuracy = 0.974500: 100%|██████████| 10/10 [00:46<00:00,  4.68s/it]\n"
     ]
    },
    {
     "name": "stdout",
     "output_type": "stream",
     "text": [
      "validation accuracy:  0.9727999999999998\n",
      "------------------------------------------------------\n",
      "------------------------------------------------------------------\n",
      "                       CONTROLLER EPOCH: 8\n",
      "------------------------------------------------------------------\n",
      "GENERATING ARCHITECTURE SAMPLES...\n",
      "------------------------------------------------------\n",
      "Architecture:  [(256, 'tanh'), (8, 'tanh'), (10, 'last layer')]\n"
     ]
    },
    {
     "name": "stderr",
     "output_type": "stream",
     "text": [
      "Training loss = 0.053493 val accuracy = 0.968833: 100%|██████████| 10/10 [00:47<00:00,  4.71s/it]\n"
     ]
    },
    {
     "name": "stdout",
     "output_type": "stream",
     "text": [
      "validation accuracy:  0.9643848484848485\n",
      "------------------------------------------------------\n",
      "Architecture:  [(256, 'sigmoid'), (512, 'tanh'), (10, 'last layer')]\n"
     ]
    },
    {
     "name": "stderr",
     "output_type": "stream",
     "text": [
      "Training loss = 0.030738 val accuracy = 0.964833: 100%|██████████| 10/10 [00:46<00:00,  4.69s/it]\n"
     ]
    },
    {
     "name": "stdout",
     "output_type": "stream",
     "text": [
      "validation accuracy:  0.9671000000000002\n",
      "------------------------------------------------------\n",
      "Architecture:  [(64, 'tanh'), (16, 'elu'), (10, 'last layer')]\n"
     ]
    },
    {
     "name": "stderr",
     "output_type": "stream",
     "text": [
      "Training loss = 0.042736 val accuracy = 0.965167: 100%|██████████| 10/10 [00:47<00:00,  4.70s/it]\n"
     ]
    },
    {
     "name": "stdout",
     "output_type": "stream",
     "text": [
      "validation accuracy:  0.9637454545454546\n",
      "------------------------------------------------------\n",
      "Architecture:  [(128, 'elu'), (128, 'tanh'), (10, 'last layer')]\n"
     ]
    },
    {
     "name": "stderr",
     "output_type": "stream",
     "text": [
      "Training loss = 0.032749 val accuracy = 0.971500: 100%|██████████| 10/10 [00:46<00:00,  4.67s/it]\n"
     ]
    },
    {
     "name": "stdout",
     "output_type": "stream",
     "text": [
      "validation accuracy:  0.9703727272727274\n",
      "------------------------------------------------------\n",
      "Architecture:  [(64, 'relu'), (512, 'sigmoid'), (10, 'last layer')]\n"
     ]
    },
    {
     "name": "stderr",
     "output_type": "stream",
     "text": [
      "Training loss = 0.025037 val accuracy = 0.973667: 100%|██████████| 10/10 [00:46<00:00,  4.67s/it]\n"
     ]
    },
    {
     "name": "stdout",
     "output_type": "stream",
     "text": [
      "validation accuracy:  0.9704363636363635\n",
      "------------------------------------------------------\n",
      "Architecture:  [(8, 'tanh'), (16, 'sigmoid'), (10, 'last layer')]\n"
     ]
    },
    {
     "name": "stderr",
     "output_type": "stream",
     "text": [
      "Training loss = 0.264157 val accuracy = 0.914667: 100%|██████████| 10/10 [00:46<00:00,  4.67s/it]\n"
     ]
    },
    {
     "name": "stdout",
     "output_type": "stream",
     "text": [
      "validation accuracy:  0.9096818181818181\n",
      "------------------------------------------------------\n",
      "Architecture:  [(256, 'elu'), (128, 'relu'), (10, 'last layer')]\n"
     ]
    },
    {
     "name": "stderr",
     "output_type": "stream",
     "text": [
      "Training loss = 0.045390 val accuracy = 0.974333: 100%|██████████| 10/10 [00:46<00:00,  4.68s/it]\n"
     ]
    },
    {
     "name": "stdout",
     "output_type": "stream",
     "text": [
      "validation accuracy:  0.9703030303030303\n",
      "------------------------------------------------------\n",
      "Architecture:  [(256, 'elu'), (16, 'sigmoid'), (10, 'last layer')]\n"
     ]
    },
    {
     "name": "stderr",
     "output_type": "stream",
     "text": [
      "Training loss = 0.026489 val accuracy = 0.976167: 100%|██████████| 10/10 [00:47<00:00,  4.71s/it]\n"
     ]
    },
    {
     "name": "stdout",
     "output_type": "stream",
     "text": [
      "validation accuracy:  0.9724545454545455\n",
      "------------------------------------------------------\n",
      "Architecture:  [(128, 'tanh'), (10, 'last layer')]\n"
     ]
    },
    {
     "name": "stderr",
     "output_type": "stream",
     "text": [
      "Training loss = 0.015664 val accuracy = 0.971667: 100%|██████████| 10/10 [00:46<00:00,  4.66s/it]\n"
     ]
    },
    {
     "name": "stdout",
     "output_type": "stream",
     "text": [
      "validation accuracy:  0.969239393939394\n",
      "------------------------------------------------------\n",
      "Architecture:  [(128, 'elu'), (512, 'tanh'), (10, 'last layer')]\n"
     ]
    },
    {
     "name": "stderr",
     "output_type": "stream",
     "text": [
      "Training loss = 0.028027 val accuracy = 0.973500: 100%|██████████| 10/10 [00:47<00:00,  4.71s/it]\n"
     ]
    },
    {
     "name": "stdout",
     "output_type": "stream",
     "text": [
      "validation accuracy:  0.9701424242424243\n",
      "------------------------------------------------------\n",
      "------------------------------------------------------------------\n",
      "                       CONTROLLER EPOCH: 9\n",
      "------------------------------------------------------------------\n",
      "GENERATING ARCHITECTURE SAMPLES...\n",
      "------------------------------------------------------\n",
      "Architecture:  [(512, 'sigmoid'), (32, 'elu'), (10, 'last layer')]\n"
     ]
    },
    {
     "name": "stderr",
     "output_type": "stream",
     "text": [
      "Training loss = 0.009628 val accuracy = 0.977000: 100%|██████████| 10/10 [00:47<00:00,  4.71s/it]\n"
     ]
    },
    {
     "name": "stdout",
     "output_type": "stream",
     "text": [
      "validation accuracy:  0.9746333333333334\n",
      "------------------------------------------------------\n",
      "Architecture:  [(16, 'elu'), (256, 'relu'), (10, 'last layer')]\n"
     ]
    },
    {
     "name": "stderr",
     "output_type": "stream",
     "text": [
      "Training loss = 0.073292 val accuracy = 0.961667: 100%|██████████| 10/10 [00:47<00:00,  4.70s/it]\n"
     ]
    },
    {
     "name": "stdout",
     "output_type": "stream",
     "text": [
      "validation accuracy:  0.9614030303030303\n",
      "------------------------------------------------------\n",
      "Architecture:  [(256, 'relu'), 'dropout', (10, 'last layer')]\n"
     ]
    },
    {
     "name": "stderr",
     "output_type": "stream",
     "text": [
      "Training loss = 0.044817 val accuracy = 0.976333: 100%|██████████| 10/10 [00:46<00:00,  4.69s/it]\n"
     ]
    },
    {
     "name": "stdout",
     "output_type": "stream",
     "text": [
      "validation accuracy:  0.9758515151515151\n",
      "------------------------------------------------------\n",
      "Architecture:  [(256, 'tanh'), (128, 'elu'), (10, 'last layer')]\n"
     ]
    },
    {
     "name": "stderr",
     "output_type": "stream",
     "text": [
      "Training loss = 0.041379 val accuracy = 0.971833: 100%|██████████| 10/10 [00:47<00:00,  4.70s/it]\n"
     ]
    },
    {
     "name": "stdout",
     "output_type": "stream",
     "text": [
      "validation accuracy:  0.969669696969697\n",
      "------------------------------------------------------\n",
      "Architecture:  [(256, 'sigmoid'), (128, 'tanh'), (10, 'last layer')]\n"
     ]
    },
    {
     "name": "stderr",
     "output_type": "stream",
     "text": [
      "Training loss = 0.014927 val accuracy = 0.977833: 100%|██████████| 10/10 [00:46<00:00,  4.65s/it]\n"
     ]
    },
    {
     "name": "stdout",
     "output_type": "stream",
     "text": [
      "validation accuracy:  0.9744181818181816\n",
      "------------------------------------------------------\n",
      "Architecture:  [(512, 'tanh'), (64, 'tanh'), (10, 'last layer')]\n"
     ]
    },
    {
     "name": "stderr",
     "output_type": "stream",
     "text": [
      "Training loss = 0.070693 val accuracy = 0.965833: 100%|██████████| 10/10 [00:46<00:00,  4.67s/it]\n"
     ]
    },
    {
     "name": "stdout",
     "output_type": "stream",
     "text": [
      "validation accuracy:  0.9639393939393941\n",
      "------------------------------------------------------\n",
      "Architecture:  [(256, 'relu'), (16, 'elu'), (10, 'last layer')]\n"
     ]
    },
    {
     "name": "stderr",
     "output_type": "stream",
     "text": [
      "Training loss = 0.029813 val accuracy = 0.970667: 100%|██████████| 10/10 [00:46<00:00,  4.68s/it]\n"
     ]
    },
    {
     "name": "stdout",
     "output_type": "stream",
     "text": [
      "validation accuracy:  0.9713666666666667\n",
      "------------------------------------------------------\n",
      "Architecture:  [(128, 'elu'), 'dropout', (10, 'last layer')]\n"
     ]
    },
    {
     "name": "stderr",
     "output_type": "stream",
     "text": [
      "Training loss = 0.056349 val accuracy = 0.977167: 100%|██████████| 10/10 [00:46<00:00,  4.62s/it]\n"
     ]
    },
    {
     "name": "stdout",
     "output_type": "stream",
     "text": [
      "validation accuracy:  0.9741272727272728\n",
      "------------------------------------------------------\n",
      "Architecture:  [(128, 'relu'), (64, 'elu'), (10, 'last layer')]\n"
     ]
    },
    {
     "name": "stderr",
     "output_type": "stream",
     "text": [
      "Training loss = 0.033278 val accuracy = 0.975333:  70%|███████   | 7/10 [00:32<00:14,  4.69s/it]"
     ]
    }
   ],
   "source": [
    "import time\n",
    "\n",
    "# Define the fixed duration in seconds for which you want to run the script\n",
    "fixed_duration_seconds = 72000  # Change this to the desired duration in seconds\n",
    "\n",
    "# Define the maximum number of times you want the script to be executed\n",
    "max_execution_count = 10  # Change this to the desired maximum execution count\n",
    "\n",
    "# Get the current time in seconds\n",
    "start_time = time.time()\n",
    "\n",
    "# Counter to keep track of the number of script executions\n",
    "execution_count = 0\n",
    "\n",
    "# Main loop that will run until the fixed duration is reached or max execution count is reached\n",
    "while (time.time() - start_time < fixed_duration_seconds) and (execution_count < max_execution_count):\n",
    "    # Place your script or code that you want to run here\n",
    "    # For example, print a message every time the script runs\n",
    "    print(\"Running script...\")\n",
    "    %run ./run.py\n",
    "    # Increment the execution count\n",
    "    execution_count += 1\n",
    "\n",
    "    # Add a delay to control the loop execution frequency (optional)\n",
    "    time.sleep(1)  # Sleep for 1 second\n",
    "\n",
    "# The loop will exit either after the fixed duration is reached or max execution count is reached\n",
    "print(\"Script execution completed.\")\n"
   ]
  },
  {
   "cell_type": "code",
   "execution_count": 11,
   "metadata": {},
   "outputs": [],
   "source": [
    "def vocab_dict():\n",
    "        nodes = [8, 16, 32, 64, 128, 256, 512]\n",
    "        act_funcs = ['sigmoid', 'tanh', 'relu', 'elu']\n",
    "        layer_params = []\n",
    "        layer_id = []\n",
    "        for i in range(len(nodes)):\n",
    "            for j in range(len(act_funcs)):\n",
    "                layer_params.append((nodes[i], act_funcs[j]))\n",
    "                layer_id.append(len(act_funcs) * i + j + 1)\n",
    "        vocab = dict(zip(layer_id, layer_params))\n",
    "        vocab[len(vocab) + 1] = (('dropout'))\n",
    "        vocab[len(vocab) + 1] = (10, 'last layer')\n",
    "\n",
    "        return vocab\n"
   ]
  },
  {
   "cell_type": "code",
   "execution_count": 12,
   "metadata": {},
   "outputs": [
    {
     "data": {
      "text/plain": [
       "{1: (8, 'sigmoid'),\n",
       " 2: (8, 'tanh'),\n",
       " 3: (8, 'relu'),\n",
       " 4: (8, 'elu'),\n",
       " 5: (16, 'sigmoid'),\n",
       " 6: (16, 'tanh'),\n",
       " 7: (16, 'relu'),\n",
       " 8: (16, 'elu'),\n",
       " 9: (32, 'sigmoid'),\n",
       " 10: (32, 'tanh'),\n",
       " 11: (32, 'relu'),\n",
       " 12: (32, 'elu'),\n",
       " 13: (64, 'sigmoid'),\n",
       " 14: (64, 'tanh'),\n",
       " 15: (64, 'relu'),\n",
       " 16: (64, 'elu'),\n",
       " 17: (128, 'sigmoid'),\n",
       " 18: (128, 'tanh'),\n",
       " 19: (128, 'relu'),\n",
       " 20: (128, 'elu'),\n",
       " 21: (256, 'sigmoid'),\n",
       " 22: (256, 'tanh'),\n",
       " 23: (256, 'relu'),\n",
       " 24: (256, 'elu'),\n",
       " 25: (512, 'sigmoid'),\n",
       " 26: (512, 'tanh'),\n",
       " 27: (512, 'relu'),\n",
       " 28: (512, 'elu'),\n",
       " 29: 'dropout',\n",
       " 30: (10, 'last layer')}"
      ]
     },
     "execution_count": 12,
     "metadata": {},
     "output_type": "execute_result"
    }
   ],
   "source": [
    "vocab_dict()"
   ]
  },
  {
   "cell_type": "code",
   "execution_count": 1,
   "metadata": {},
   "outputs": [],
   "source": [
    "import keras.backend as K\n",
    "from keras.utils import to_categorical\n",
    "from keras.utils.data_utils import pad_sequences\n"
   ]
  },
  {
   "cell_type": "code",
   "execution_count": 96,
   "metadata": {},
   "outputs": [
    {
     "name": "stdout",
     "output_type": "stream",
     "text": [
      "tensor([[1, 2, 0],\n",
      "        [3, 4, 5]])\n"
     ]
    },
    {
     "data": {
      "text/plain": [
       "tensor([[1, 0, 0, 0, 0, 0, 0, 0, 0, 0],\n",
       "        [0, 0, 0, 0, 0, 1, 0, 0, 0, 0]])"
      ]
     },
     "execution_count": 96,
     "metadata": {},
     "output_type": "execute_result"
    }
   ],
   "source": [
    "import torch\n",
    "import torch.nn.functional as F\n",
    "from torch.nn.utils.rnn import pad_sequence\n",
    "\n",
    "def pad_sequence_torch(sequences, max_len):\n",
    "\n",
    "    tmp_t = torch.zeros(max_len, dtype=int)\n",
    "    sequences_t = [torch.as_tensor(l) for l in sequences] + [tmp_t]\n",
    "    p= pad_sequence(sequences_t) \n",
    "    p = p.T\n",
    "    return p[:-1]\n",
    "\n",
    "max_len = 3\n",
    "sequences = [[1, 2], [3, 4, 5]]\n",
    "controller_sequences= pad_sequence_torch(sequences, max_len)\n",
    "# xc = controller_sequences[:, :-1].reshape(len(controller_sequences), 1, max_len - 1)\n",
    "xc = controller_sequences[:, :-1]\n",
    "yc = F.one_hot(controller_sequences[:, -1], 10)\n"
   ]
  },
  {
   "cell_type": "code",
   "execution_count": 55,
   "metadata": {},
   "outputs": [
    {
     "name": "stderr",
     "output_type": "stream",
     "text": [
      "\n",
      "KeyboardInterrupt\n",
      "\n"
     ]
    }
   ],
   "source": [
    "from keras import optimizers\n",
    "from keras.layers import Dense, LSTM\n",
    "from keras.models import Model\n",
    "from keras.engine.input_layer import Input\n",
    "from keras.utils.data_utils import pad_sequences\n",
    "import numpy as np\n",
    "\n",
    "\n",
    "# define model\n",
    "shape_=(2, 1)\n",
    "inputs1 = Input(shape=shape_)\n",
    "lstm1 = LSTM(100, return_sequences=False)(inputs1)\n",
    "# lstm2 = LSTM(3, return_sequences=True)(lstm1)\n",
    "# output_m = Dense(30, activation='softmax')(lstm1)\n",
    "# model = Model(inputs=inputs1, outputs=output_m)\n",
    "model = Model(inputs=inputs1, outputs=lstm1)\n",
    "# define input data\n",
    "data = np.random.rand(1, shape_[0], shape_[1])\n",
    "out = model.predict(data)\n",
    "print(out.shape)\n",
    "# model.summary()\n",
    "# probab = out[0]\n",
    "\n",
    "# next = np.random.choice(np.arange(30), size=1, p=probab)\n",
    "# next"
   ]
  },
  {
   "cell_type": "code",
   "execution_count": 60,
   "metadata": {},
   "outputs": [],
   "source": [
    "import winsound\n",
    "frequency = 2500  # Set Frequency To 2500 Hertz\n",
    "duration = 1000  # Set Duration To 1000 ms == 1 second\n",
    "winsound.Beep(frequency, duration)"
   ]
  },
  {
   "cell_type": "code",
   "execution_count": 56,
   "metadata": {},
   "outputs": [
    {
     "name": "stdout",
     "output_type": "stream",
     "text": [
      "torch.Size([10, 30, 1])\n",
      "torch.Size([10, 30, 100])\n",
      "torch.Size([1, 10, 100])\n",
      "torch.Size([1, 10, 100])\n",
      "tensor(-0.0130, grad_fn=<SelectBackward0>)\n",
      "tensor(-0.0130, grad_fn=<SelectBackward0>)\n"
     ]
    }
   ],
   "source": [
    "\n",
    "# Author: Robert Guthrie\n",
    "\n",
    "import torch\n",
    "import torch.nn as nn\n",
    "import torch.nn.functional as F\n",
    "import torch.optim as optim\n",
    "\n",
    "torch.manual_seed(1)\n",
    "\n",
    "\n",
    "# lstm = nn.LSTM(3, 3)  # Input dim is 3, output dim is 3\n",
    "# inputs = [torch.randn(1, 3) for _ in range(5)]  # make a sequence of length 5\n",
    "\n",
    "lstm = nn.LSTM(input_size=1, hidden_size=100, batch_first=True)\n",
    "input = torch.randn(10, 30, 1)\n",
    "output, (hn, cn) = lstm(input)\n",
    "print(input.shape)\n",
    "print(output.shape)\n",
    "print(hn.shape)\n",
    "print(cn.shape)\n",
    "\n",
    "print(output[0][29][1])\n",
    "print(hn[0][0][1])"
   ]
  },
  {
   "cell_type": "code",
   "execution_count": 25,
   "metadata": {},
   "outputs": [],
   "source": [
    "import torch\n",
    "from torch.utils.data import TensorDataset, DataLoader\n",
    "import torch.nn as nn\n",
    "import torch.nn.functional as F\n",
    "import numpy as np\n",
    "\n",
    "class RNNController(nn.Module):\n",
    "    def __init__(self, vocab_size, output_size, embedding_dim, hidden_dim, n_layers, drop_prob=0.5):\n",
    "        super(RNNController, self).__init__()\n",
    "        self.output_size = output_size\n",
    "        self.n_layers = n_layers\n",
    "        self.hidden_dim = hidden_dim\n",
    "        \n",
    "        self.embedding = nn.Embedding(vocab_size, embedding_dim)\n",
    "        self.lstm = nn.LSTM(embedding_dim, hidden_dim, n_layers, batch_first=True)\n",
    "        self.dropout = nn.Dropout(drop_prob)\n",
    "        self.fc = nn.Linear(hidden_dim, output_size)\n",
    "        self.softmax = nn.Softmax(dim=1)\n",
    "        \n",
    "    def forward(self, x):\n",
    "        batch_size = x.size(0)\n",
    "        x = x.long()\n",
    "        embeds = self.embedding(x)\n",
    "        lstm_out, _ = self.lstm(embeds)\n",
    "        lstm_out = lstm_out[:, -1, :]\n",
    "        out = self.dropout(lstm_out)\n",
    "        out = self.fc(out)\n",
    "        # print(\"out fc shape: \", out.shape)\n",
    "        out = self.softmax(out)\n",
    "        # print(\"out soft shape: \", out.shape)\n",
    "        return out\n",
    "    \n",
    "    # def init_hidden(self, batch_size):\n",
    "    #     weight = next(self.parameters()).data\n",
    "    #     hidden = (weight.new(self.n_layers, batch_size, self.hidden_dim).zero_().to(self.device),\n",
    "    #                   weight.new(self.n_layers, batch_size, self.hidden_dim).zero_().to(self.device))\n",
    "    #     return hidden"
   ]
  },
  {
   "cell_type": "code",
   "execution_count": 23,
   "metadata": {},
   "outputs": [],
   "source": [
    "def get_discounted_reward(self, rewards):\n",
    "    discounted_r = np.zeros_like(rewards, dtype=np.float32)\n",
    "    for t in range(len(rewards)):\n",
    "        running_add = 0.\n",
    "        exp = 0.\n",
    "        for r in rewards[t:]:\n",
    "            running_add += self.controller_loss_alpha**exp * r\n",
    "            exp += 1\n",
    "        discounted_r[t] = running_add\n",
    "    discounted_r = (discounted_r - discounted_r.mean()) / discounted_r.std()\n",
    "    return discounted_r\n",
    "\n",
    "def custom_loss(target, output):\n",
    "    baseline = 0.5\n",
    "    reward = np.array([item[1] - baseline for item in self.data[-self.samples_per_controller_epoch:]]).reshape(\n",
    "        self.samples_per_controller_epoch, 1)\n",
    "    discounted_reward = self.get_discounted_reward(reward)\n",
    "    loss = - K.log(output) * discounted_reward[:, None]\n",
    "    print(\"output:\", output)\n",
    "    print(\"reward: \", discounted_reward[:, None])\n",
    "    print(\"log: \", - K.log(output))\n",
    "    print(\"loss:\", loss)\n",
    "    # loss = - torch.log(output) * discounted_reward[:, None]\n",
    "    return loss"
   ]
  },
  {
   "cell_type": "code",
   "execution_count": 26,
   "metadata": {},
   "outputs": [],
   "source": [
    "vocab_size = 30 + 1\n",
    "output_size = vocab_size\n",
    "embedding_dim = 400\n",
    "hidden_dim = 100\n",
    "n_layers = 1\n",
    "device = torch.device(\"cuda\" if torch.cuda.is_available() else \"cpu\")\n",
    "device = \"cpu\"\n",
    "\n",
    "model = RNNController(vocab_size, output_size, embedding_dim, hidden_dim, n_layers)\n",
    "model.to(device)\n",
    "\n",
    "lr=0.005\n",
    "criterion = nn.CrossEntropyLoss()\n",
    "optimizer = torch.optim.Adam(model.parameters(), lr=lr)"
   ]
  },
  {
   "cell_type": "code",
   "execution_count": 27,
   "metadata": {},
   "outputs": [],
   "source": [
    "\n",
    "batch_size = 5\n",
    "\n",
    "archs = np.asarray([[1, 14, 30], [4, 8, 30], [18, 12, 30], [2, 27, 30], [23, 5, 30]])\n",
    "train = torch.as_tensor(archs[:, :-1].reshape(len(archs), 2), dtype=int)\n",
    "label = F.one_hot(torch.as_tensor(archs[:, -1], dtype=int), vocab_size)\n",
    "\n",
    "train_data = TensorDataset(train, label)\n",
    "\n",
    "train_loader = DataLoader(train_data, shuffle=True, batch_size=batch_size)"
   ]
  },
  {
   "cell_type": "code",
   "execution_count": null,
   "metadata": {},
   "outputs": [],
   "source": []
  },
  {
   "cell_type": "code",
   "execution_count": 21,
   "metadata": {},
   "outputs": [
    {
     "name": "stdout",
     "output_type": "stream",
     "text": [
      "tensor([[1, 2, 0, 0, 0]]) tensor([[1],\n",
      "        [2],\n",
      "        [0],\n",
      "        [0],\n",
      "        [0]])\n"
     ]
    }
   ],
   "source": [
    "from torch.nn.utils.rnn import pad_sequence\n",
    "def pad_sequence_torch(sequences, max_len):\n",
    "    \n",
    "    tmp_t = torch.zeros(max_len, dtype=int)\n",
    "    sequences_t = [torch.as_tensor(l) for l in sequences] + [tmp_t]\n",
    "    p = pad_sequence(sequences_t) \n",
    "    p = p.T\n",
    "    return p[:-1]\n",
    "\n",
    "a = pad_sequence_torch([[1, 2]], 5)\n",
    "# a.shape\n",
    "print(a, a.reshape(5, 1))\n"
   ]
  },
  {
   "cell_type": "code",
   "execution_count": 102,
   "metadata": {},
   "outputs": [
    {
     "name": "stdout",
     "output_type": "stream",
     "text": [
      "torch.Size([2, 2])\n",
      "tensor([[ 1, 14],\n",
      "        [ 4,  8]])\n",
      "torch.Size([2, 31])\n"
     ]
    }
   ],
   "source": [
    "input, target = next(iter(train_loader))\n",
    "print(input.shape)\n",
    "print(input)\n",
    "print(target.shape)"
   ]
  },
  {
   "cell_type": "code",
   "execution_count": 7,
   "metadata": {},
   "outputs": [
    {
     "name": "stdout",
     "output_type": "stream",
     "text": [
      "tensor(0.1456, grad_fn=<MeanBackward0>)\n",
      "tensor([[-0.4848, -0.8128],\n",
      "        [-0.0531, -0.0890]])\n",
      "x:  tensor([[-0.9037, -1.5152]])\n"
     ]
    }
   ],
   "source": [
    "import torch\n",
    "import torch.nn as nn\n",
    "import torch.nn.functional as F\n",
    "import torch.optim as optim\n",
    "\n",
    "def my_loss(output, target):\n",
    "    loss = torch.mean((output)**2)\n",
    "    return loss\n",
    "\n",
    "model = nn.Linear(2, 2)\n",
    "x = torch.randn(1, 2)\n",
    "target = torch.randn(1, 2)\n",
    "output = model(x)\n",
    "loss = my_loss(output, target)\n",
    "print(loss)\n",
    "loss.backward()\n",
    "print(model.weight.grad)\n",
    "print(\"x: \",x)"
   ]
  },
  {
   "cell_type": "code",
   "execution_count": null,
   "metadata": {},
   "outputs": [],
   "source": [
    "import numpy as np\n",
    "epochs = 1\n",
    "clip = 5\n",
    "\n",
    "model.train()\n",
    "for i in range(epochs):\n",
    "    \n",
    "    for inputs, labels in train_loader:\n",
    "        inputs, labels = inputs.to(device), labels.to(device)\n",
    "        model.zero_grad()\n",
    "        output = model(inputs)\n",
    "        print(output[0], output.shape)\n",
    "        np.random.choice(31, size=1, p=output[0].detach())\n",
    "        print(\"input: \", inputs.shape)\n",
    "        # print(output.shape, labels.shape)\n",
    "        loss = criterion(output, labels.float())\n",
    "        print(\"loss shape: \", loss.data)\n",
    "        loss.backward()\n",
    "        nn.utils.clip_grad_norm_(model.parameters(), clip)\n",
    "        optimizer.step()"
   ]
  },
  {
   "cell_type": "code",
   "execution_count": 48,
   "metadata": {},
   "outputs": [
    {
     "data": {
      "text/plain": [
       "tensor([3])"
      ]
     },
     "execution_count": 48,
     "metadata": {},
     "output_type": "execute_result"
    }
   ],
   "source": [
    "seed = [1]\n",
    "sequence = pad_sequence_torch([seed], max_len = 2)\n",
    "sequence = sequence.reshape(1, 2)\n",
    "\n",
    "probab = model(torch.as_tensor(sequence, dtype=int))\n",
    "probab = probab[0]\n",
    "idx = probab.multinomial(1)\n",
    "idx\n"
   ]
  },
  {
   "cell_type": "code",
   "execution_count": 49,
   "metadata": {},
   "outputs": [
    {
     "ename": "KeyboardInterrupt",
     "evalue": "",
     "output_type": "error",
     "traceback": [
      "\u001b[1;31m---------------------------------------------------------------------------\u001b[0m",
      "\u001b[1;31mFileNotFoundError\u001b[0m                         Traceback (most recent call last)",
      "File \u001b[1;32m<frozen importlib._bootstrap_external>:153\u001b[0m, in \u001b[0;36m_path_is_mode_type\u001b[1;34m(path, mode)\u001b[0m\n",
      "File \u001b[1;32m<frozen importlib._bootstrap_external>:147\u001b[0m, in \u001b[0;36m_path_stat\u001b[1;34m(path)\u001b[0m\n",
      "\u001b[1;31mFileNotFoundError\u001b[0m: [WinError 2] The system cannot find the file specified: 'c:\\\\Users\\\\romoh\\\\AppData\\\\Local\\\\Programs\\\\Python\\\\Python310\\\\lib\\\\site-packages\\\\scipy\\\\stats\\\\_unuran\\\\__init__.cp310-win_amd64.pyd'",
      "\nDuring handling of the above exception, another exception occurred:\n",
      "\u001b[1;31mKeyboardInterrupt\u001b[0m                         Traceback (most recent call last)",
      "\u001b[1;32mc:\\Users\\romoh\\git_clones\\MLPNAS_Pytorch\\Pytorch\\test.ipynb Cell 9\u001b[0m in \u001b[0;36m<cell line: 5>\u001b[1;34m()\u001b[0m\n\u001b[0;32m      <a href='vscode-notebook-cell:/c%3A/Users/romoh/git_clones/MLPNAS_Pytorch/Pytorch/test.ipynb#X10sZmlsZQ%3D%3D?line=1'>2</a>\u001b[0m \u001b[39mimport\u001b[39;00m \u001b[39mtorch\u001b[39;00m\u001b[39m.\u001b[39;00m\u001b[39mnn\u001b[39;00m \u001b[39mas\u001b[39;00m \u001b[39mnn\u001b[39;00m\n\u001b[0;32m      <a href='vscode-notebook-cell:/c%3A/Users/romoh/git_clones/MLPNAS_Pytorch/Pytorch/test.ipynb#X10sZmlsZQ%3D%3D?line=2'>3</a>\u001b[0m \u001b[39mfrom\u001b[39;00m \u001b[39mfunctools\u001b[39;00m \u001b[39mimport\u001b[39;00m reduce\n\u001b[1;32m----> <a href='vscode-notebook-cell:/c%3A/Users/romoh/git_clones/MLPNAS_Pytorch/Pytorch/test.ipynb#X10sZmlsZQ%3D%3D?line=4'>5</a>\u001b[0m \u001b[39mfrom\u001b[39;00m \u001b[39msklearn\u001b[39;00m\u001b[39m.\u001b[39;00m\u001b[39mmetrics\u001b[39;00m \u001b[39mimport\u001b[39;00m accuracy_score\n\u001b[0;32m      <a href='vscode-notebook-cell:/c%3A/Users/romoh/git_clones/MLPNAS_Pytorch/Pytorch/test.ipynb#X10sZmlsZQ%3D%3D?line=6'>7</a>\u001b[0m \u001b[39mfrom\u001b[39;00m \u001b[39mCONSTANTS\u001b[39;00m \u001b[39mimport\u001b[39;00m \u001b[39m*\u001b[39m\n\u001b[0;32m      <a href='vscode-notebook-cell:/c%3A/Users/romoh/git_clones/MLPNAS_Pytorch/Pytorch/test.ipynb#X10sZmlsZQ%3D%3D?line=7'>8</a>\u001b[0m \u001b[39mfrom\u001b[39;00m \u001b[39mutils\u001b[39;00m \u001b[39mimport\u001b[39;00m \u001b[39m*\u001b[39m\n",
      "File \u001b[1;32mc:\\Users\\romoh\\AppData\\Local\\Programs\\Python\\Python310\\lib\\site-packages\\sklearn\\__init__.py:82\u001b[0m, in \u001b[0;36m<module>\u001b[1;34m\u001b[0m\n\u001b[0;32m     80\u001b[0m \u001b[39mfrom\u001b[39;00m \u001b[39m.\u001b[39;00m \u001b[39mimport\u001b[39;00m _distributor_init  \u001b[39m# noqa: F401\u001b[39;00m\n\u001b[0;32m     81\u001b[0m \u001b[39mfrom\u001b[39;00m \u001b[39m.\u001b[39;00m \u001b[39mimport\u001b[39;00m __check_build  \u001b[39m# noqa: F401\u001b[39;00m\n\u001b[1;32m---> 82\u001b[0m \u001b[39mfrom\u001b[39;00m \u001b[39m.\u001b[39;00m\u001b[39mbase\u001b[39;00m \u001b[39mimport\u001b[39;00m clone\n\u001b[0;32m     83\u001b[0m \u001b[39mfrom\u001b[39;00m \u001b[39m.\u001b[39;00m\u001b[39mutils\u001b[39;00m\u001b[39m.\u001b[39;00m\u001b[39m_show_versions\u001b[39;00m \u001b[39mimport\u001b[39;00m show_versions\n\u001b[0;32m     85\u001b[0m __all__ \u001b[39m=\u001b[39m [\n\u001b[0;32m     86\u001b[0m     \u001b[39m\"\u001b[39m\u001b[39mcalibration\u001b[39m\u001b[39m\"\u001b[39m,\n\u001b[0;32m     87\u001b[0m     \u001b[39m\"\u001b[39m\u001b[39mcluster\u001b[39m\u001b[39m\"\u001b[39m,\n\u001b[1;32m   (...)\u001b[0m\n\u001b[0;32m    128\u001b[0m     \u001b[39m\"\u001b[39m\u001b[39mshow_versions\u001b[39m\u001b[39m\"\u001b[39m,\n\u001b[0;32m    129\u001b[0m ]\n",
      "File \u001b[1;32mc:\\Users\\romoh\\AppData\\Local\\Programs\\Python\\Python310\\lib\\site-packages\\sklearn\\base.py:17\u001b[0m, in \u001b[0;36m<module>\u001b[1;34m\u001b[0m\n\u001b[0;32m     15\u001b[0m \u001b[39mfrom\u001b[39;00m \u001b[39m.\u001b[39;00m \u001b[39mimport\u001b[39;00m __version__\n\u001b[0;32m     16\u001b[0m \u001b[39mfrom\u001b[39;00m \u001b[39m.\u001b[39;00m\u001b[39m_config\u001b[39;00m \u001b[39mimport\u001b[39;00m get_config\n\u001b[1;32m---> 17\u001b[0m \u001b[39mfrom\u001b[39;00m \u001b[39m.\u001b[39;00m\u001b[39mutils\u001b[39;00m \u001b[39mimport\u001b[39;00m _IS_32BIT\n\u001b[0;32m     18\u001b[0m \u001b[39mfrom\u001b[39;00m \u001b[39m.\u001b[39;00m\u001b[39mutils\u001b[39;00m\u001b[39m.\u001b[39;00m\u001b[39m_tags\u001b[39;00m \u001b[39mimport\u001b[39;00m (\n\u001b[0;32m     19\u001b[0m     _DEFAULT_TAGS,\n\u001b[0;32m     20\u001b[0m )\n\u001b[0;32m     21\u001b[0m \u001b[39mfrom\u001b[39;00m \u001b[39m.\u001b[39;00m\u001b[39mutils\u001b[39;00m\u001b[39m.\u001b[39;00m\u001b[39mvalidation\u001b[39;00m \u001b[39mimport\u001b[39;00m check_X_y\n",
      "File \u001b[1;32mc:\\Users\\romoh\\AppData\\Local\\Programs\\Python\\Python310\\lib\\site-packages\\sklearn\\utils\\__init__.py:29\u001b[0m, in \u001b[0;36m<module>\u001b[1;34m\u001b[0m\n\u001b[0;32m     27\u001b[0m \u001b[39mfrom\u001b[39;00m \u001b[39m.\u001b[39;00m\u001b[39m.\u001b[39;00m\u001b[39mexceptions\u001b[39;00m \u001b[39mimport\u001b[39;00m DataConversionWarning\n\u001b[0;32m     28\u001b[0m \u001b[39mfrom\u001b[39;00m \u001b[39m.\u001b[39;00m\u001b[39mdeprecation\u001b[39;00m \u001b[39mimport\u001b[39;00m deprecated\n\u001b[1;32m---> 29\u001b[0m \u001b[39mfrom\u001b[39;00m \u001b[39m.\u001b[39;00m\u001b[39mfixes\u001b[39;00m \u001b[39mimport\u001b[39;00m parse_version, threadpool_info\n\u001b[0;32m     30\u001b[0m \u001b[39mfrom\u001b[39;00m \u001b[39m.\u001b[39;00m\u001b[39m_estimator_html_repr\u001b[39;00m \u001b[39mimport\u001b[39;00m estimator_html_repr\n\u001b[0;32m     31\u001b[0m \u001b[39mfrom\u001b[39;00m \u001b[39m.\u001b[39;00m\u001b[39mvalidation\u001b[39;00m \u001b[39mimport\u001b[39;00m (\n\u001b[0;32m     32\u001b[0m     as_float_array,\n\u001b[0;32m     33\u001b[0m     assert_all_finite,\n\u001b[1;32m   (...)\u001b[0m\n\u001b[0;32m     41\u001b[0m     check_scalar,\n\u001b[0;32m     42\u001b[0m )\n",
      "File \u001b[1;32mc:\\Users\\romoh\\AppData\\Local\\Programs\\Python\\Python310\\lib\\site-packages\\sklearn\\utils\\fixes.py:19\u001b[0m, in \u001b[0;36m<module>\u001b[1;34m\u001b[0m\n\u001b[0;32m     17\u001b[0m \u001b[39mimport\u001b[39;00m \u001b[39mnumpy\u001b[39;00m \u001b[39mas\u001b[39;00m \u001b[39mnp\u001b[39;00m\n\u001b[0;32m     18\u001b[0m \u001b[39mimport\u001b[39;00m \u001b[39mscipy\u001b[39;00m\n\u001b[1;32m---> 19\u001b[0m \u001b[39mimport\u001b[39;00m \u001b[39mscipy\u001b[39;00m\u001b[39m.\u001b[39;00m\u001b[39mstats\u001b[39;00m\n\u001b[0;32m     20\u001b[0m \u001b[39mimport\u001b[39;00m \u001b[39mthreadpoolctl\u001b[39;00m\n\u001b[0;32m     21\u001b[0m \u001b[39mfrom\u001b[39;00m \u001b[39m.\u001b[39;00m\u001b[39m.\u001b[39;00m\u001b[39m_config\u001b[39;00m \u001b[39mimport\u001b[39;00m config_context, get_config\n",
      "File \u001b[1;32mc:\\Users\\romoh\\AppData\\Local\\Programs\\Python\\Python310\\lib\\site-packages\\scipy\\stats\\__init__.py:482\u001b[0m, in \u001b[0;36m<module>\u001b[1;34m\u001b[0m\n\u001b[0;32m    480\u001b[0m \u001b[39mfrom\u001b[39;00m \u001b[39m.\u001b[39;00m\u001b[39m_entropy\u001b[39;00m \u001b[39mimport\u001b[39;00m \u001b[39m*\u001b[39m\n\u001b[0;32m    481\u001b[0m \u001b[39mfrom\u001b[39;00m \u001b[39m.\u001b[39;00m\u001b[39m_hypotests\u001b[39;00m \u001b[39mimport\u001b[39;00m \u001b[39m*\u001b[39m\n\u001b[1;32m--> 482\u001b[0m \u001b[39mfrom\u001b[39;00m \u001b[39m.\u001b[39;00m\u001b[39m_rvs_sampling\u001b[39;00m \u001b[39mimport\u001b[39;00m rvs_ratio_uniforms, NumericalInverseHermite\n\u001b[0;32m    483\u001b[0m \u001b[39mfrom\u001b[39;00m \u001b[39m.\u001b[39;00m\u001b[39m_page_trend_test\u001b[39;00m \u001b[39mimport\u001b[39;00m page_trend_test\n\u001b[0;32m    484\u001b[0m \u001b[39mfrom\u001b[39;00m \u001b[39m.\u001b[39;00m\u001b[39m_mannwhitneyu\u001b[39;00m \u001b[39mimport\u001b[39;00m mannwhitneyu\n",
      "File \u001b[1;32mc:\\Users\\romoh\\AppData\\Local\\Programs\\Python\\Python310\\lib\\site-packages\\scipy\\stats\\_rvs_sampling.py:3\u001b[0m, in \u001b[0;36m<module>\u001b[1;34m\u001b[0m\n\u001b[0;32m      1\u001b[0m \u001b[39m# -*- coding: utf-8 -*-\u001b[39;00m\n\u001b[0;32m      2\u001b[0m \u001b[39mimport\u001b[39;00m \u001b[39mnumpy\u001b[39;00m \u001b[39mas\u001b[39;00m \u001b[39mnp\u001b[39;00m\n\u001b[1;32m----> 3\u001b[0m \u001b[39mfrom\u001b[39;00m \u001b[39m.\u001b[39;00m\u001b[39m_unuran\u001b[39;00m \u001b[39mimport\u001b[39;00m unuran_wrapper\n\u001b[0;32m      4\u001b[0m \u001b[39mfrom\u001b[39;00m \u001b[39mscipy\u001b[39;00m\u001b[39m.\u001b[39;00m\u001b[39m_lib\u001b[39;00m\u001b[39m.\u001b[39;00m\u001b[39mdeprecation\u001b[39;00m \u001b[39mimport\u001b[39;00m _deprecated\n\u001b[0;32m      5\u001b[0m \u001b[39mfrom\u001b[39;00m \u001b[39mscipy\u001b[39;00m\u001b[39m.\u001b[39;00m\u001b[39m_lib\u001b[39;00m\u001b[39m.\u001b[39;00m\u001b[39m_util\u001b[39;00m \u001b[39mimport\u001b[39;00m check_random_state\n",
      "File \u001b[1;32m<frozen importlib._bootstrap>:1027\u001b[0m, in \u001b[0;36m_find_and_load\u001b[1;34m(name, import_)\u001b[0m\n",
      "File \u001b[1;32m<frozen importlib._bootstrap>:1002\u001b[0m, in \u001b[0;36m_find_and_load_unlocked\u001b[1;34m(name, import_)\u001b[0m\n",
      "File \u001b[1;32m<frozen importlib._bootstrap>:945\u001b[0m, in \u001b[0;36m_find_spec\u001b[1;34m(name, path, target)\u001b[0m\n",
      "File \u001b[1;32m<frozen importlib._bootstrap_external>:1439\u001b[0m, in \u001b[0;36mfind_spec\u001b[1;34m(cls, fullname, path, target)\u001b[0m\n",
      "File \u001b[1;32m<frozen importlib._bootstrap_external>:1411\u001b[0m, in \u001b[0;36m_get_spec\u001b[1;34m(cls, fullname, path, target)\u001b[0m\n",
      "File \u001b[1;32m<frozen importlib._bootstrap_external>:1563\u001b[0m, in \u001b[0;36mfind_spec\u001b[1;34m(self, fullname, target)\u001b[0m\n",
      "File \u001b[1;32m<frozen importlib._bootstrap_external>:161\u001b[0m, in \u001b[0;36m_path_isfile\u001b[1;34m(path)\u001b[0m\n",
      "File \u001b[1;32m<frozen importlib._bootstrap_external>:153\u001b[0m, in \u001b[0;36m_path_is_mode_type\u001b[1;34m(path, mode)\u001b[0m\n",
      "\u001b[1;31mKeyboardInterrupt\u001b[0m: "
     ]
    }
   ],
   "source": [
    "import torch\n",
    "import torch.nn as nn\n",
    "from functools import reduce\n",
    "\n",
    "from sklearn.metrics import accuracy_score\n",
    "\n",
    "from CONSTANTS import *\n",
    "from utils import *\n",
    "from tqdm import tqdm, trange\n",
    "\n",
    "\n",
    "\n",
    "from brevitas.nn import QuantIdentity, QuantLinear, QuantReLU, QuantHardTanh\n",
    "from brevitas import quant \n",
    "\n",
    "\n",
    "\n",
    "def clamp_weight(model):\n",
    "    for mod in model:\n",
    "        if isinstance(mod, QuantLinear):\n",
    "            mod.weight.data.clamp_(-1, 1)\n",
    "\n",
    "def train_model(model, data_loader, nb_epochs, lr, device):\n",
    "        \n",
    "        criterion = nn.CrossEntropyLoss().to(device)\n",
    "        optimizer = torch.optim.Adam(model.parameters(), lr=lr, betas=(0.9, 0.999))\n",
    "\n",
    "        train_loader = data_loader[0]\n",
    "        valid_loader = data_loader[1]\n",
    "\n",
    "        train_losses = []\n",
    "        train_accs = []\n",
    "        valid_losses = []\n",
    "        valid_accs = []\n",
    "\n",
    "        t = trange(nb_epochs, desc=\"Training loss\", leave=True)\n",
    "\n",
    "        for epoch in t:\n",
    "\n",
    "            train_loss_total = 0.0\n",
    "    \n",
    "            # ensure model is in training mode\n",
    "            model.train()    \n",
    "\n",
    "            for data in train_loader:        \n",
    "                inputs, target = data\n",
    "                inputs, target = inputs.to(device), target.to(device)\n",
    "                optimizer.zero_grad()   \n",
    "                        \n",
    "                # forward pass\n",
    "                # output = model(inputs.view(inputs.shape[0], -1)) # flattening the input image\n",
    "                inputs = inputs.view(inputs.shape[0], -1)\n",
    "                inputs = 2.0 * inputs - torch.tensor([1.0], device=device)\n",
    "                output = model(inputs)\n",
    "            \n",
    "                loss = criterion(output, target)\n",
    "                \n",
    "                # backward pass + run optimizer to update weights\n",
    "                loss.backward()\n",
    "                optimizer.step()\n",
    "                clamp_weight(model)\n",
    "            \n",
    "                # keep track of loss value\n",
    "                train_loss_total += loss.item()\n",
    "\n",
    "            train_losses.append(train_loss_total / len(train_loader)) #average train loss for each epoch  \n",
    "            \n",
    "            # Validation loop\n",
    "            # valid_loss_total = 0.0\n",
    "            model.eval()\n",
    "            y_true = []\n",
    "            y_pred = []\n",
    "            for data in valid_loader:\n",
    "                inputs, target = data\n",
    "                inputs, target = inputs.to(device), target.to(device)\n",
    "\n",
    "                # forward pass\n",
    "                # output = model(inputs.view(inputs.shape[0], -1)) # flattening the input image\n",
    "                inputs = inputs.view(inputs.shape[0], -1)\n",
    "                inputs = 2.0 * inputs - torch.tensor([1.0], device=device)\n",
    "                output = model(inputs)\n",
    "                \n",
    "                \n",
    "                # loss = criterion(output, target)\n",
    "                # valid_loss_total += loss.item()\n",
    "                \n",
    "                _, pred = torch.max(output, 1)\n",
    "                target = target.cpu().float()\n",
    "                y_true.extend(target.tolist()) \n",
    "                y_pred.extend(pred.reshape(-1).tolist())\n",
    "            \n",
    "            # valid_losses.append(valid_loss_total / len(valid_loader))\n",
    "            valid_accs.append(accuracy_score(y_true, y_pred))\n",
    "\n",
    "            \n",
    "            \n",
    "            t.set_description(\"Training loss = %f val accuracy = %f\" % (train_loss_total / len(train_loader), accuracy_score(y_true, y_pred)))\n",
    "            t.refresh() # to show immediately the update  \n",
    "\n",
    "        history = {\"accuracy\": train_accs, \"loss\": train_losses, \"val_accuracy\": valid_accs, \"val_loss\": valid_losses}\n",
    "        return history\n"
   ]
  },
  {
   "cell_type": "code",
   "execution_count": 75,
   "metadata": {},
   "outputs": [],
   "source": [
    "\n",
    "# from .common_bnn_pynq import CommonWeightQuant, CommonActQuant\n",
    "# from .tensor_norm import TensorNorm\n",
    "\n",
    "# import torch.nn as nn\n",
    "\n",
    "# Setting seeds for reproducibility\n",
    "torch.manual_seed(0)\n",
    "\n",
    "input_size = 28 * 28      \n",
    "hidden1 = 64      \n",
    "hidden2 = 64\n",
    "hidden3 = 64\n",
    "weight_bit_width = 1\n",
    "act_bit_width = 1\n",
    "in_bit_width = 1\n",
    "num_classes = 10\n",
    "dropout = 0.2   \n",
    "\n",
    "model = nn.Sequential(\n",
    "      QuantIdentity(bit_width=in_bit_width),\n",
    "      nn.Dropout(dropout),\n",
    "      QuantLinear(input_size, hidden1, bias=False, weight_bit_width=weight_bit_width, weight_quant=quant.SignedBinaryWeightPerTensorConst),\n",
    "      nn.BatchNorm1d(hidden1),\n",
    "      QuantIdentity(bit_width=act_bit_width, act_quant=quant.SignedBinaryActPerTensorConst),\n",
    "      nn.Dropout(dropout),\n",
    "      # QuantReLU(bit_width=act_bit_width),\n",
    "      QuantLinear(hidden1, hidden2, bias=False, weight_bit_width=weight_bit_width, weight_quant=quant.SignedBinaryWeightPerTensorConst),\n",
    "      nn.BatchNorm1d(hidden2),\n",
    "      QuantIdentity(bit_width=act_bit_width, act_quant=quant.SignedBinaryActPerTensorConst),\n",
    "      nn.Dropout(dropout),\n",
    "      # QuantReLU(bit_width=act_bit_width),\n",
    "      QuantLinear(hidden2, hidden3, bias=False, weight_bit_width=weight_bit_width, weight_quant=quant.SignedBinaryWeightPerTensorConst),\n",
    "      nn.BatchNorm1d(hidden3),\n",
    "      QuantIdentity(bit_width=act_bit_width, act_quant=quant.SignedBinaryActPerTensorConst),\n",
    "      nn.Dropout(dropout),\n",
    "      # QuantReLU(bit_width=act_bit_width),\n",
    "      QuantLinear(hidden3, num_classes, bias=False, weight_bit_width=weight_bit_width, weight_quant=quant.SignedBinaryWeightPerTensorConst)\n",
    "      # QuantLinear(hidden3, num_classes, bias=False, weight_bit_width=32)\n",
    ")"
   ]
  },
  {
   "cell_type": "code",
   "execution_count": 76,
   "metadata": {},
   "outputs": [
    {
     "name": "stderr",
     "output_type": "stream",
     "text": [
      "Training loss = 0.731369 val accuracy = 0.860500: 100%|██████████| 1000/1000 [2:09:31<00:00,  7.77s/it] \n"
     ]
    }
   ],
   "source": [
    "lr = 0.02\n",
    "nb_epochs = 1000\n",
    "\n",
    "device = torch.device(\"cuda\" if torch.cuda.is_available() else \"cpu\")\n",
    "\n",
    "train_loader, valid_loader, test_loader = load_dataset()\n",
    "data_loader = (train_loader, valid_loader)\n",
    "\n",
    "history = train_model(model.to(device), data_loader, nb_epochs=nb_epochs, lr=lr, device=device)"
   ]
  },
  {
   "cell_type": "code",
   "execution_count": 79,
   "metadata": {},
   "outputs": [
    {
     "data": {
      "text/plain": [
       "tensor(0.8687, dtype=torch.float64)"
      ]
     },
     "execution_count": 79,
     "metadata": {},
     "output_type": "execute_result"
    }
   ],
   "source": [
    "torch.max(torch.as_tensor(history['val_accuracy']))"
   ]
  },
  {
   "cell_type": "code",
   "execution_count": 77,
   "metadata": {},
   "outputs": [
    {
     "data": {
      "image/png": "[encoded data removed]",
      "text/plain": [
       "<Figure size 432x288 with 1 Axes>"
      ]
     },
     "metadata": {
      "needs_background": "light"
     },
     "output_type": "display_data"
    }
   ],
   "source": [
    "def display_loss_plot(losses, title=\"Training loss\", xlabel=\"Epochs\", ylabel=\"Loss\"):\n",
    "    x_axis = [i for i in range(len(losses))]\n",
    "    plt.plot(x_axis,losses)\n",
    "    plt.title(title)\n",
    "    plt.xlabel(xlabel)\n",
    "    plt.ylabel(ylabel)\n",
    "    plt.show()\n",
    "\n",
    "display_loss_plot(history['val_accuracy'], title=\"Test accuracy\", ylabel=\"Accuracy [%]\")"
   ]
  },
  {
   "cell_type": "code",
   "execution_count": null,
   "metadata": {},
   "outputs": [],
   "source": []
  }
 ],
 "metadata": {
  "kernelspec": {
   "display_name": "saturn (Python 3)",
   "language": "python",
   "name": "python3"
  },
  "language_info": {
   "codemirror_mode": {
    "name": "ipython",
    "version": 3
   },
   "file_extension": ".py",
   "mimetype": "text/x-python",
   "name": "python",
   "nbconvert_exporter": "python",
   "pygments_lexer": "ipython3",
   "version": "3.9.15"
  },
  "vscode": {
   "interpreter": {
    "hash": "0acf3a43864080be2c12a8131525f00380261cf4c845198ddc9955ee0334afb7"
   }
  }
 },
 "nbformat": 4,
 "nbformat_minor": 4
}
