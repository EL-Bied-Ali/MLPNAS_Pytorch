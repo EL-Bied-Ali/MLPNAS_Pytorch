{
 "cells": [
  {
   "cell_type": "code",
   "execution_count": 1,
   "id": "2e26f819-a232-4928-9345-b0beacfeedea",
   "metadata": {
    "execution": {
     "iopub.execute_input": "2023-07-24T10:03:41.383703Z",
     "iopub.status.busy": "2023-07-24T10:03:41.383319Z",
     "iopub.status.idle": "2023-07-24T10:03:45.971715Z",
     "shell.execute_reply": "2023-07-24T10:03:45.970827Z",
     "shell.execute_reply.started": "2023-07-24T10:03:41.383672Z"
    },
    "tags": []
   },
   "outputs": [
    {
     "name": "stdout",
     "output_type": "stream",
     "text": [
      "Cloning into 'MLPNAS_Pytorch'...\n",
      "remote: Enumerating objects: 191, done.\u001b[K\n",
      "remote: Counting objects: 100% (31/31), done.\u001b[K\n",
      "remote: Compressing objects: 100% (19/19), done.\u001b[K\n",
      "remote: Total 191 (delta 18), reused 12 (delta 12), pack-reused 160\u001b[K\n",
      "Receiving objects: 100% (191/191), 104.67 MiB | 47.96 MiB/s, done.\n",
      "Resolving deltas: 100% (65/65), done.\n"
     ]
    }
   ],
   "source": [
    "!git clone https://github.com/EL-Bied-Ali/MLPNAS_Pytorch.git"
   ]
  },
  {
   "cell_type": "code",
   "execution_count": null,
   "id": "1debed0b-31f3-4b34-83c9-56c26abe792d",
   "metadata": {},
   "outputs": [],
   "source": []
  }
 ],
 "metadata": {
  "kernelspec": {
   "display_name": "saturn (Python 3)",
   "language": "python",
   "name": "python3"
  },
  "language_info": {
   "codemirror_mode": {
    "name": "ipython",
    "version": 3
   },
   "file_extension": ".py",
   "mimetype": "text/x-python",
   "name": "python",
   "nbconvert_exporter": "python",
   "pygments_lexer": "ipython3",
   "version": "3.9.15"
  }
 },
 "nbformat": 4,
 "nbformat_minor": 5
}
