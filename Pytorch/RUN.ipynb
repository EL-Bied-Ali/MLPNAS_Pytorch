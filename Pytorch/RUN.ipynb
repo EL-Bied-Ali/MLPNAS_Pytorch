{
 "cells": [
  {
   "cell_type": "code",
   "execution_count": 1,
   "metadata": {
    "execution": {
     "iopub.execute_input": "2023-07-22T13:40:21.897949Z",
     "iopub.status.busy": "2023-07-22T13:40:21.897560Z",
     "iopub.status.idle": "2023-07-22T13:40:24.433942Z",
     "shell.execute_reply": "2023-07-22T13:40:24.433188Z",
     "shell.execute_reply.started": "2023-07-22T13:40:21.897918Z"
    },
    "tags": []
   },
   "outputs": [
    {
     "name": "stdout",
     "output_type": "stream",
     "text": [
      "Cloning into 'MLPNAS_Pytorch'...\n",
      "remote: Enumerating objects: 162, done.\u001b[K\n",
      "remote: Counting objects: 100% (96/96), done.\u001b[K\n",
      "remote: Compressing objects: 100% (70/70), done.\u001b[K\n",
      "remote: Total 162 (delta 47), reused 51 (delta 25), pack-reused 66\u001b[K\n",
      "Receiving objects: 100% (162/162), 44.33 MiB | 41.53 MiB/s, done.\n",
      "Resolving deltas: 100% (53/53), done.\n"
     ]
    }
   ],
   "source": [
    "!git clone https://github.com/EL-Bied-Ali/MLPNAS_Pytorch.git"
   ]
  },
  {
   "cell_type": "code",
   "execution_count": 6,
   "metadata": {
    "execution": {
     "iopub.execute_input": "2023-07-22T13:44:32.257521Z",
     "iopub.status.busy": "2023-07-22T13:44:32.257073Z",
     "iopub.status.idle": "2023-07-22T13:44:37.046405Z",
     "shell.execute_reply": "2023-07-22T13:44:37.045630Z",
     "shell.execute_reply.started": "2023-07-22T13:44:32.257491Z"
    },
    "tags": []
   },
   "outputs": [
    {
     "name": "stdout",
     "output_type": "stream",
     "text": [
      "fatal: not a git repository (or any parent up to mount point /home)\n",
      "Stopping at filesystem boundary (GIT_DISCOVERY_ACROSS_FILESYSTEM not set).\n",
      "fatal: not a git repository (or any parent up to mount point /home)\n",
      "Stopping at filesystem boundary (GIT_DISCOVERY_ACROSS_FILESYSTEM not set).\n",
      "fatal: not a git repository (or any parent up to mount point /home)\n",
      "Stopping at filesystem boundary (GIT_DISCOVERY_ACROSS_FILESYSTEM not set).\n",
      "fatal: not a git repository (or any parent up to mount point /home)\n",
      "Stopping at filesystem boundary (GIT_DISCOVERY_ACROSS_FILESYSTEM not set).\n"
     ]
    }
   ],
   "source": [
    "# !cd MLPNAS_Pytorch\n",
    "!git config --global user.name \"EL-Bied-Ali\"\n",
    "!git config --global user.email \"Ali.el.bied9898@gmail.com\"\n",
    "!git add .\n",
    "!git commit -m \"Update\"\n",
    "!git remote add origin https://github.com/EL-Bied-Ali/MLPNAS_Pytorch.git\n",
    "!git push -u origin master"
   ]
  },
  {
   "cell_type": "code",
   "execution_count": null,
   "metadata": {
    "execution": {
     "iopub.execute_input": "2023-07-24T10:41:43.097747Z",
     "iopub.status.busy": "2023-07-24T10:41:43.097342Z"
    },
    "tags": []
   },
   "outputs": [
    {
     "name": "stdout",
     "output_type": "stream",
     "text": [
      "Running script...\n",
      "------------------------------------------------------------------\n",
      "                       CONTROLLER EPOCH: 0\n",
      "------------------------------------------------------------------\n",
      "GENERATING ARCHITECTURE SAMPLES...\n",
      "------------------------------------------------------\n",
      "Architecture:  [(128, 'relu'), (64, 'sigmoid'), (10, 'last layer')]\n"
     ]
    },
    {
     "name": "stderr",
     "output_type": "stream",
     "text": [
      "Training loss = 0.378087 val accuracy = 0.896583: 100%|██████████| 10/10 [01:50<00:00, 11.05s/it]\n"
     ]
    },
    {
     "name": "stdout",
     "output_type": "stream",
     "text": [
      "------------------------------------------------------\n",
      "Architecture:  [(64, 'elu'), (128, 'relu'), (10, 'last layer')]\n"
     ]
    },
    {
     "name": "stderr",
     "output_type": "stream",
     "text": [
      "Training loss = 0.267408 val accuracy = 0.925167: 100%|██████████| 10/10 [01:50<00:00, 11.05s/it]\n"
     ]
    },
    {
     "name": "stdout",
     "output_type": "stream",
     "text": [
      "------------------------------------------------------\n",
      "Architecture:  [(32, 'elu'), 'dropout', (10, 'last layer')]\n"
     ]
    },
    {
     "name": "stderr",
     "output_type": "stream",
     "text": [
      "Training loss = 0.673049 val accuracy = 0.856500: 100%|██████████| 10/10 [01:49<00:00, 10.91s/it]\n"
     ]
    },
    {
     "name": "stdout",
     "output_type": "stream",
     "text": [
      "------------------------------------------------------\n",
      "Architecture:  [(64, 'elu'), (8, 'elu'), (10, 'last layer')]\n"
     ]
    },
    {
     "name": "stderr",
     "output_type": "stream",
     "text": [
      "Training loss = 0.285303 val accuracy = 0.912167: 100%|██████████| 10/10 [01:50<00:00, 11.02s/it]\n"
     ]
    },
    {
     "name": "stdout",
     "output_type": "stream",
     "text": [
      "------------------------------------------------------\n",
      "Architecture:  [(64, 'tanh'), (16, 'sigmoid'), (10, 'last layer')]\n"
     ]
    },
    {
     "name": "stderr",
     "output_type": "stream",
     "text": [
      "Training loss = 1.526358 val accuracy = 0.366083: 100%|██████████| 10/10 [01:49<00:00, 10.99s/it]\n"
     ]
    },
    {
     "name": "stdout",
     "output_type": "stream",
     "text": [
      "------------------------------------------------------\n",
      "Architecture:  [(512, 'relu'), (64, 'tanh'), (10, 'last layer')]\n"
     ]
    },
    {
     "name": "stderr",
     "output_type": "stream",
     "text": [
      "Training loss = 2.374100 val accuracy = 0.100750: 100%|██████████| 10/10 [01:52<00:00, 11.20s/it]\n"
     ]
    },
    {
     "name": "stdout",
     "output_type": "stream",
     "text": [
      "------------------------------------------------------\n",
      "Architecture:  [(16, 'sigmoid'), (512, 'relu'), (10, 'last layer')]\n"
     ]
    },
    {
     "name": "stderr",
     "output_type": "stream",
     "text": [
      "Training loss = 1.446390 val accuracy = 0.385583: 100%|██████████| 10/10 [01:50<00:00, 11.05s/it]\n"
     ]
    },
    {
     "name": "stdout",
     "output_type": "stream",
     "text": [
      "------------------------------------------------------\n",
      "Architecture:  [(256, 'tanh'), (8, 'tanh'), (10, 'last layer')]\n"
     ]
    },
    {
     "name": "stderr",
     "output_type": "stream",
     "text": [
      "Training loss = 2.312684 val accuracy = 0.101167: 100%|██████████| 10/10 [01:51<00:00, 11.18s/it]\n"
     ]
    },
    {
     "name": "stdout",
     "output_type": "stream",
     "text": [
      "------------------------------------------------------\n",
      "Architecture:  [(32, 'sigmoid'), (128, 'elu'), (10, 'last layer')]\n"
     ]
    },
    {
     "name": "stderr",
     "output_type": "stream",
     "text": [
      "Training loss = 1.002694 val accuracy = 0.633417: 100%|██████████| 10/10 [01:51<00:00, 11.12s/it]\n"
     ]
    },
    {
     "name": "stdout",
     "output_type": "stream",
     "text": [
      "------------------------------------------------------\n",
      "Architecture:  [(128, 'sigmoid'), (8, 'tanh'), (10, 'last layer')]\n"
     ]
    },
    {
     "name": "stderr",
     "output_type": "stream",
     "text": [
      "Training loss = 1.479418 val accuracy = 0.465750: 100%|██████████| 10/10 [01:51<00:00, 11.16s/it]\n"
     ]
    },
    {
     "name": "stdout",
     "output_type": "stream",
     "text": [
      "------------------------------------------------------\n",
      "------------------------------------------------------------------\n",
      "                       CONTROLLER EPOCH: 1\n",
      "------------------------------------------------------------------\n",
      "GENERATING ARCHITECTURE SAMPLES...\n",
      "------------------------------------------------------\n",
      "Architecture:  [(128, 'sigmoid'), 'dropout', (10, 'last layer')]\n"
     ]
    },
    {
     "name": "stderr",
     "output_type": "stream",
     "text": [
      "Training loss = 0.508885 val accuracy = 0.900083: 100%|██████████| 10/10 [01:48<00:00, 10.81s/it]\n"
     ]
    },
    {
     "name": "stdout",
     "output_type": "stream",
     "text": [
      "------------------------------------------------------\n",
      "Architecture:  [(512, 'tanh'), (8, 'relu'), (10, 'last layer')]\n"
     ]
    },
    {
     "name": "stderr",
     "output_type": "stream",
     "text": [
      "Training loss = 2.302705 val accuracy = 0.114583: 100%|██████████| 10/10 [01:52<00:00, 11.21s/it]\n"
     ]
    },
    {
     "name": "stdout",
     "output_type": "stream",
     "text": [
      "------------------------------------------------------\n",
      "Architecture:  [(64, 'sigmoid'), (32, 'relu'), (10, 'last layer')]\n"
     ]
    },
    {
     "name": "stderr",
     "output_type": "stream",
     "text": [
      "Training loss = 0.728597 val accuracy = 0.800667: 100%|██████████| 10/10 [01:50<00:00, 11.06s/it]\n"
     ]
    },
    {
     "name": "stdout",
     "output_type": "stream",
     "text": [
      "------------------------------------------------------\n",
      "Architecture:  [(64, 'elu'), (512, 'tanh'), (10, 'last layer')]\n"
     ]
    },
    {
     "name": "stderr",
     "output_type": "stream",
     "text": [
      "Training loss = 0.827950 val accuracy = 0.763083: 100%|██████████| 10/10 [01:51<00:00, 11.12s/it]\n"
     ]
    },
    {
     "name": "stdout",
     "output_type": "stream",
     "text": [
      "------------------------------------------------------\n",
      "Architecture:  [(64, 'relu'), (512, 'tanh'), (10, 'last layer')]\n"
     ]
    },
    {
     "name": "stderr",
     "output_type": "stream",
     "text": [
      "Training loss = 0.814581 val accuracy = 0.834750: 100%|██████████| 10/10 [01:50<00:00, 11.08s/it]\n"
     ]
    },
    {
     "name": "stdout",
     "output_type": "stream",
     "text": [
      "------------------------------------------------------\n",
      "Architecture:  [(16, 'relu'), 'dropout', (10, 'last layer')]\n"
     ]
    },
    {
     "name": "stderr",
     "output_type": "stream",
     "text": [
      "Training loss = 1.910774 val accuracy = 0.309667: 100%|██████████| 10/10 [01:47<00:00, 10.73s/it]\n"
     ]
    },
    {
     "name": "stdout",
     "output_type": "stream",
     "text": [
      "------------------------------------------------------\n",
      "Architecture:  [(256, 'elu'), (64, 'relu'), (10, 'last layer')]\n"
     ]
    },
    {
     "name": "stderr",
     "output_type": "stream",
     "text": [
      "Training loss = 0.253082 val accuracy = 0.919417: 100%|██████████| 10/10 [01:51<00:00, 11.19s/it]\n"
     ]
    },
    {
     "name": "stdout",
     "output_type": "stream",
     "text": [
      "------------------------------------------------------\n",
      "Architecture:  [(64, 'relu'), (512, 'sigmoid'), (10, 'last layer')]\n"
     ]
    },
    {
     "name": "stderr",
     "output_type": "stream",
     "text": [
      "Training loss = 0.398539 val accuracy = 0.887417: 100%|██████████| 10/10 [01:50<00:00, 11.05s/it]\n"
     ]
    },
    {
     "name": "stdout",
     "output_type": "stream",
     "text": [
      "------------------------------------------------------\n",
      "Architecture:  [(16, 'tanh'), (64, 'relu'), (10, 'last layer')]\n"
     ]
    },
    {
     "name": "stderr",
     "output_type": "stream",
     "text": [
      "Training loss = 2.302604 val accuracy = 0.114583: 100%|██████████| 10/10 [01:51<00:00, 11.15s/it]\n"
     ]
    },
    {
     "name": "stdout",
     "output_type": "stream",
     "text": [
      "------------------------------------------------------\n",
      "Architecture:  [(8, 'elu'), (64, 'relu'), (10, 'last layer')]\n"
     ]
    },
    {
     "name": "stderr",
     "output_type": "stream",
     "text": [
      "Training loss = 0.923996 val accuracy = 0.708750: 100%|██████████| 10/10 [01:51<00:00, 11.13s/it]\n"
     ]
    },
    {
     "name": "stdout",
     "output_type": "stream",
     "text": [
      "------------------------------------------------------\n",
      "------------------------------------------------------------------\n",
      "                       CONTROLLER EPOCH: 2\n",
      "------------------------------------------------------------------\n",
      "GENERATING ARCHITECTURE SAMPLES...\n",
      "------------------------------------------------------\n",
      "Architecture:  [(32, 'sigmoid'), (16, 'tanh'), (10, 'last layer')]\n"
     ]
    },
    {
     "name": "stderr",
     "output_type": "stream",
     "text": [
      "Training loss = 0.553825 val accuracy = 0.846500: 100%|██████████| 10/10 [01:50<00:00, 11.09s/it]\n"
     ]
    },
    {
     "name": "stdout",
     "output_type": "stream",
     "text": [
      "------------------------------------------------------\n",
      "Architecture:  [(128, 'tanh'), (8, 'sigmoid'), (10, 'last layer')]\n"
     ]
    },
    {
     "name": "stderr",
     "output_type": "stream",
     "text": [
      "Training loss = 1.548948 val accuracy = 0.376250: 100%|██████████| 10/10 [01:52<00:00, 11.24s/it]\n"
     ]
    },
    {
     "name": "stdout",
     "output_type": "stream",
     "text": [
      "------------------------------------------------------\n",
      "Architecture:  [(16, 'tanh'), (16, 'relu'), (10, 'last layer')]\n"
     ]
    },
    {
     "name": "stderr",
     "output_type": "stream",
     "text": [
      "Training loss = 1.851602 val accuracy = 0.189667: 100%|██████████| 10/10 [01:51<00:00, 11.15s/it]\n"
     ]
    },
    {
     "name": "stdout",
     "output_type": "stream",
     "text": [
      "------------------------------------------------------\n",
      "Architecture:  [(512, 'elu'), (256, 'elu'), (10, 'last layer')]\n"
     ]
    },
    {
     "name": "stderr",
     "output_type": "stream",
     "text": [
      "Training loss = 0.457167 val accuracy = 0.877083: 100%|██████████| 10/10 [01:53<00:00, 11.38s/it]\n"
     ]
    },
    {
     "name": "stdout",
     "output_type": "stream",
     "text": [
      "------------------------------------------------------\n",
      "Architecture:  [(256, 'relu'), (10, 'last layer')]\n"
     ]
    },
    {
     "name": "stderr",
     "output_type": "stream",
     "text": [
      "Training loss = 0.270874 val accuracy = 0.917500: 100%|██████████| 10/10 [01:48<00:00, 10.88s/it]\n"
     ]
    },
    {
     "name": "stdout",
     "output_type": "stream",
     "text": [
      "------------------------------------------------------\n",
      "Architecture:  [(32, 'relu'), (16, 'sigmoid'), (10, 'last layer')]\n"
     ]
    },
    {
     "name": "stderr",
     "output_type": "stream",
     "text": [
      "Training loss = 0.430077 val accuracy = 0.868333: 100%|██████████| 10/10 [01:50<00:00, 11.09s/it]\n"
     ]
    },
    {
     "name": "stdout",
     "output_type": "stream",
     "text": [
      "------------------------------------------------------\n",
      "Architecture:  [(32, 'relu'), (32, 'tanh'), (10, 'last layer')]\n"
     ]
    },
    {
     "name": "stderr",
     "output_type": "stream",
     "text": [
      "Training loss = 0.448939 val accuracy = 0.868500: 100%|██████████| 10/10 [01:51<00:00, 11.10s/it]\n"
     ]
    },
    {
     "name": "stdout",
     "output_type": "stream",
     "text": [
      "------------------------------------------------------\n",
      "Architecture:  [(256, 'relu'), (512, 'tanh'), (10, 'last layer')]\n"
     ]
    },
    {
     "name": "stderr",
     "output_type": "stream",
     "text": [
      "Training loss = 2.724866 val accuracy = 0.100750: 100%|██████████| 10/10 [01:55<00:00, 11.53s/it]\n"
     ]
    },
    {
     "name": "stdout",
     "output_type": "stream",
     "text": [
      "------------------------------------------------------\n",
      "Architecture:  [(8, 'elu'), (256, 'relu'), (10, 'last layer')]\n"
     ]
    },
    {
     "name": "stderr",
     "output_type": "stream",
     "text": [
      "Training loss = 0.682095 val accuracy = 0.779917: 100%|██████████| 10/10 [01:50<00:00, 11.08s/it]\n"
     ]
    },
    {
     "name": "stdout",
     "output_type": "stream",
     "text": [
      "------------------------------------------------------\n",
      "Architecture:  [(256, 'sigmoid'), (512, 'relu'), (10, 'last layer')]\n"
     ]
    },
    {
     "name": "stderr",
     "output_type": "stream",
     "text": [
      "Training loss = 0.451171 val accuracy = 0.858750: 100%|██████████| 10/10 [01:54<00:00, 11.41s/it]\n"
     ]
    },
    {
     "name": "stdout",
     "output_type": "stream",
     "text": [
      "------------------------------------------------------\n",
      "------------------------------------------------------------------\n",
      "                       CONTROLLER EPOCH: 3\n",
      "------------------------------------------------------------------\n",
      "GENERATING ARCHITECTURE SAMPLES...\n",
      "------------------------------------------------------\n",
      "Architecture:  [(128, 'relu'), (64, 'relu'), (10, 'last layer')]\n"
     ]
    },
    {
     "name": "stderr",
     "output_type": "stream",
     "text": [
      "Training loss = 0.230159 val accuracy = 0.920833: 100%|██████████| 10/10 [01:51<00:00, 11.18s/it]\n"
     ]
    },
    {
     "name": "stdout",
     "output_type": "stream",
     "text": [
      "------------------------------------------------------\n",
      "Architecture:  [(8, 'elu'), (512, 'elu'), (10, 'last layer')]\n"
     ]
    },
    {
     "name": "stderr",
     "output_type": "stream",
     "text": [
      "Training loss = 1.588616 val accuracy = 0.258333: 100%|██████████| 10/10 [01:51<00:00, 11.13s/it]\n"
     ]
    },
    {
     "name": "stdout",
     "output_type": "stream",
     "text": [
      "------------------------------------------------------\n",
      "Architecture:  [(16, 'elu'), (8, 'elu'), (10, 'last layer')]\n"
     ]
    },
    {
     "name": "stderr",
     "output_type": "stream",
     "text": [
      "Training loss = 0.383423 val accuracy = 0.872167: 100%|██████████| 10/10 [01:51<00:00, 11.14s/it]\n"
     ]
    },
    {
     "name": "stdout",
     "output_type": "stream",
     "text": [
      "------------------------------------------------------\n",
      "Architecture:  [(256, 'sigmoid'), (128, 'tanh'), (10, 'last layer')]\n"
     ]
    },
    {
     "name": "stderr",
     "output_type": "stream",
     "text": [
      "Training loss = 0.697541 val accuracy = 0.833250: 100%|██████████| 10/10 [01:53<00:00, 11.35s/it]\n"
     ]
    },
    {
     "name": "stdout",
     "output_type": "stream",
     "text": [
      "------------------------------------------------------\n",
      "Architecture:  [(32, 'relu'), (512, 'relu'), (10, 'last layer')]\n"
     ]
    },
    {
     "name": "stderr",
     "output_type": "stream",
     "text": [
      "Training loss = 1.555493 val accuracy = 0.433583: 100%|██████████| 10/10 [01:51<00:00, 11.19s/it]\n"
     ]
    },
    {
     "name": "stdout",
     "output_type": "stream",
     "text": [
      "------------------------------------------------------\n",
      "Architecture:  [(64, 'tanh'), (64, 'relu'), (10, 'last layer')]\n"
     ]
    },
    {
     "name": "stderr",
     "output_type": "stream",
     "text": [
      "Training loss = 2.302717 val accuracy = 0.114583: 100%|██████████| 10/10 [01:51<00:00, 11.18s/it]\n"
     ]
    },
    {
     "name": "stdout",
     "output_type": "stream",
     "text": [
      "------------------------------------------------------\n",
      "Architecture:  [(32, 'relu'), (32, 'sigmoid'), (10, 'last layer')]\n"
     ]
    },
    {
     "name": "stderr",
     "output_type": "stream",
     "text": [
      "Training loss = 0.346744 val accuracy = 0.903417: 100%|██████████| 10/10 [01:50<00:00, 11.08s/it]\n"
     ]
    },
    {
     "name": "stdout",
     "output_type": "stream",
     "text": [
      "------------------------------------------------------\n",
      "Architecture:  [(128, 'tanh'), (256, 'tanh'), (10, 'last layer')]\n"
     ]
    },
    {
     "name": "stderr",
     "output_type": "stream",
     "text": [
      "Training loss = 2.132668 val accuracy = 0.209667: 100%|██████████| 10/10 [01:51<00:00, 11.15s/it]\n"
     ]
    },
    {
     "name": "stdout",
     "output_type": "stream",
     "text": [
      "------------------------------------------------------\n",
      "Architecture:  [(64, 'tanh'), (256, 'elu'), (10, 'last layer')]\n"
     ]
    },
    {
     "name": "stderr",
     "output_type": "stream",
     "text": [
      "Training loss = 2.540705 val accuracy = 0.101167: 100%|██████████| 10/10 [01:50<00:00, 11.09s/it]\n"
     ]
    },
    {
     "name": "stdout",
     "output_type": "stream",
     "text": [
      "------------------------------------------------------\n",
      "Architecture:  [(256, 'sigmoid'), (256, 'elu'), (10, 'last layer')]\n"
     ]
    },
    {
     "name": "stderr",
     "output_type": "stream",
     "text": [
      "Training loss = 0.643155 val accuracy = 0.856500: 100%|██████████| 10/10 [01:54<00:00, 11.41s/it]\n"
     ]
    },
    {
     "name": "stdout",
     "output_type": "stream",
     "text": [
      "------------------------------------------------------\n",
      "------------------------------------------------------------------\n",
      "                       CONTROLLER EPOCH: 4\n",
      "------------------------------------------------------------------\n",
      "GENERATING ARCHITECTURE SAMPLES...\n",
      "------------------------------------------------------\n",
      "Architecture:  [(256, 'elu'), (32, 'elu'), (10, 'last layer')]\n"
     ]
    },
    {
     "name": "stderr",
     "output_type": "stream",
     "text": [
      "Training loss = 0.236749 val accuracy = 0.935083: 100%|██████████| 10/10 [01:52<00:00, 11.22s/it]\n"
     ]
    },
    {
     "name": "stdout",
     "output_type": "stream",
     "text": [
      "------------------------------------------------------\n",
      "Architecture:  [(256, 'tanh'), (512, 'sigmoid'), (10, 'last layer')]\n"
     ]
    },
    {
     "name": "stderr",
     "output_type": "stream",
     "text": [
      "Training loss = 2.320062 val accuracy = 0.098750: 100%|██████████| 10/10 [01:54<00:00, 11.40s/it]\n"
     ]
    },
    {
     "name": "stdout",
     "output_type": "stream",
     "text": [
      "------------------------------------------------------\n",
      "Architecture:  [(16, 'elu'), (10, 'last layer')]\n"
     ]
    },
    {
     "name": "stderr",
     "output_type": "stream",
     "text": [
      "Training loss = 0.558908 val accuracy = 0.837250: 100%|██████████| 10/10 [01:46<00:00, 10.67s/it]\n"
     ]
    },
    {
     "name": "stdout",
     "output_type": "stream",
     "text": [
      "------------------------------------------------------\n",
      "Architecture:  [(16, 'relu'), (64, 'relu'), (10, 'last layer')]\n"
     ]
    },
    {
     "name": "stderr",
     "output_type": "stream",
     "text": [
      "Training loss = 0.950395 val accuracy = 0.604917: 100%|██████████| 10/10 [01:51<00:00, 11.14s/it]\n"
     ]
    },
    {
     "name": "stdout",
     "output_type": "stream",
     "text": [
      "------------------------------------------------------\n",
      "Architecture:  [(256, 'tanh'), (32, 'elu'), (10, 'last layer')]\n"
     ]
    },
    {
     "name": "stderr",
     "output_type": "stream",
     "text": [
      "Training loss = 0.615510 val accuracy = 0.853083: 100%|██████████| 10/10 [01:51<00:00, 11.12s/it]\n"
     ]
    },
    {
     "name": "stdout",
     "output_type": "stream",
     "text": [
      "------------------------------------------------------\n",
      "Architecture:  [(32, 'relu'), (8, 'tanh'), (10, 'last layer')]\n"
     ]
    },
    {
     "name": "stderr",
     "output_type": "stream",
     "text": [
      "Training loss = 0.685892 val accuracy = 0.755000: 100%|██████████| 10/10 [01:51<00:00, 11.11s/it]\n"
     ]
    },
    {
     "name": "stdout",
     "output_type": "stream",
     "text": [
      "------------------------------------------------------\n",
      "Architecture:  [(256, 'elu'), (8, 'relu'), (10, 'last layer')]\n"
     ]
    },
    {
     "name": "stderr",
     "output_type": "stream",
     "text": [
      "Training loss = 2.302736 val accuracy = 0.101167: 100%|██████████| 10/10 [01:52<00:00, 11.25s/it]\n"
     ]
    },
    {
     "name": "stdout",
     "output_type": "stream",
     "text": [
      "------------------------------------------------------\n",
      "Architecture:  [(512, 'elu'), (512, 'relu'), (10, 'last layer')]\n"
     ]
    },
    {
     "name": "stderr",
     "output_type": "stream",
     "text": [
      "Training loss = 0.306013 val accuracy = 0.921250: 100%|██████████| 10/10 [01:55<00:00, 11.56s/it]\n"
     ]
    },
    {
     "name": "stdout",
     "output_type": "stream",
     "text": [
      "------------------------------------------------------\n",
      "Architecture:  [(32, 'relu'), (128, 'relu'), (10, 'last layer')]\n"
     ]
    },
    {
     "name": "stderr",
     "output_type": "stream",
     "text": [
      "Training loss = 0.384186 val accuracy = 0.891083: 100%|██████████| 10/10 [01:50<00:00, 11.05s/it]\n"
     ]
    },
    {
     "name": "stdout",
     "output_type": "stream",
     "text": [
      "------------------------------------------------------\n",
      "------------------------------------------------------------------\n",
      "                       CONTROLLER EPOCH: 5\n",
      "------------------------------------------------------------------\n",
      "GENERATING ARCHITECTURE SAMPLES...\n",
      "------------------------------------------------------\n",
      "Architecture:  [(8, 'sigmoid'), (32, 'relu'), (10, 'last layer')]\n"
     ]
    },
    {
     "name": "stderr",
     "output_type": "stream",
     "text": [
      "Training loss = 2.302712 val accuracy = 0.101167: 100%|██████████| 10/10 [01:51<00:00, 11.13s/it]\n"
     ]
    },
    {
     "name": "stdout",
     "output_type": "stream",
     "text": [
      "------------------------------------------------------\n",
      "Architecture:  [(8, 'relu'), (32, 'relu'), (10, 'last layer')]\n"
     ]
    },
    {
     "name": "stderr",
     "output_type": "stream",
     "text": [
      "Training loss = 0.972483 val accuracy = 0.628417: 100%|██████████| 10/10 [01:51<00:00, 11.18s/it]\n"
     ]
    },
    {
     "name": "stdout",
     "output_type": "stream",
     "text": [
      "------------------------------------------------------\n",
      "Architecture:  [(8, 'relu'), (16, 'sigmoid'), (10, 'last layer')]\n"
     ]
    },
    {
     "name": "stderr",
     "output_type": "stream",
     "text": [
      "Training loss = 0.972529 val accuracy = 0.657667: 100%|██████████| 10/10 [01:51<00:00, 11.16s/it]\n"
     ]
    },
    {
     "name": "stdout",
     "output_type": "stream",
     "text": [
      "------------------------------------------------------\n",
      "Architecture:  [(16, 'elu'), (16, 'tanh'), (10, 'last layer')]\n"
     ]
    },
    {
     "name": "stderr",
     "output_type": "stream",
     "text": [
      "Training loss = 0.580914 val accuracy = 0.845667: 100%|██████████| 10/10 [01:51<00:00, 11.12s/it]\n"
     ]
    },
    {
     "name": "stdout",
     "output_type": "stream",
     "text": [
      "------------------------------------------------------\n",
      "Architecture:  [(8, 'sigmoid'), (8, 'sigmoid'), (10, 'last layer')]\n"
     ]
    },
    {
     "name": "stderr",
     "output_type": "stream",
     "text": [
      "Training loss = 1.842155 val accuracy = 0.213167: 100%|██████████| 10/10 [01:51<00:00, 11.10s/it]\n"
     ]
    },
    {
     "name": "stdout",
     "output_type": "stream",
     "text": [
      "------------------------------------------------------\n",
      "Architecture:  [(128, 'sigmoid'), (8, 'sigmoid'), (10, 'last layer')]\n"
     ]
    },
    {
     "name": "stderr",
     "output_type": "stream",
     "text": [
      "Training loss = 0.506817 val accuracy = 0.838667: 100%|██████████| 10/10 [01:52<00:00, 11.24s/it]\n"
     ]
    },
    {
     "name": "stdout",
     "output_type": "stream",
     "text": [
      "------------------------------------------------------\n",
      "Architecture:  [(32, 'relu'), (256, 'elu'), (10, 'last layer')]\n"
     ]
    },
    {
     "name": "stderr",
     "output_type": "stream",
     "text": [
      "Training loss = 0.836504 val accuracy = 0.793750: 100%|██████████| 10/10 [01:51<00:00, 11.12s/it]\n"
     ]
    },
    {
     "name": "stdout",
     "output_type": "stream",
     "text": [
      "------------------------------------------------------\n",
      "Architecture:  [(32, 'relu'), (256, 'sigmoid'), (10, 'last layer')]\n"
     ]
    },
    {
     "name": "stderr",
     "output_type": "stream",
     "text": [
      "Training loss = 0.334308 val accuracy = 0.896167: 100%|██████████| 10/10 [01:51<00:00, 11.10s/it]\n"
     ]
    },
    {
     "name": "stdout",
     "output_type": "stream",
     "text": [
      "------------------------------------------------------\n",
      "Architecture:  [(512, 'sigmoid'), (256, 'tanh'), (10, 'last layer')]\n"
     ]
    },
    {
     "name": "stderr",
     "output_type": "stream",
     "text": [
      "Training loss = 2.552841 val accuracy = 0.095000: 100%|██████████| 10/10 [01:54<00:00, 11.43s/it]\n"
     ]
    },
    {
     "name": "stdout",
     "output_type": "stream",
     "text": [
      "------------------------------------------------------\n",
      "Architecture:  [(32, 'elu'), (64, 'sigmoid'), (10, 'last layer')]\n"
     ]
    },
    {
     "name": "stderr",
     "output_type": "stream",
     "text": [
      "Training loss = 0.316112 val accuracy = 0.901583: 100%|██████████| 10/10 [01:52<00:00, 11.22s/it]\n"
     ]
    },
    {
     "name": "stdout",
     "output_type": "stream",
     "text": [
      "------------------------------------------------------\n",
      "------------------------------------------------------------------\n",
      "                       CONTROLLER EPOCH: 6\n",
      "------------------------------------------------------------------\n",
      "GENERATING ARCHITECTURE SAMPLES...\n",
      "------------------------------------------------------\n",
      "Architecture:  [(16, 'relu'), (256, 'sigmoid'), (10, 'last layer')]\n"
     ]
    },
    {
     "name": "stderr",
     "output_type": "stream",
     "text": [
      "Training loss = 0.520726 val accuracy = 0.851000: 100%|██████████| 10/10 [01:51<00:00, 11.11s/it]\n"
     ]
    },
    {
     "name": "stdout",
     "output_type": "stream",
     "text": [
      "------------------------------------------------------\n",
      "Architecture:  [(128, 'tanh'), (32, 'tanh'), (10, 'last layer')]\n"
     ]
    },
    {
     "name": "stderr",
     "output_type": "stream",
     "text": [
      "Training loss = 2.340113 val accuracy = 0.100167: 100%|██████████| 10/10 [01:51<00:00, 11.13s/it]\n"
     ]
    },
    {
     "name": "stdout",
     "output_type": "stream",
     "text": [
      "------------------------------------------------------\n",
      "Architecture:  [(512, 'sigmoid'), (8, 'relu'), (10, 'last layer')]\n"
     ]
    },
    {
     "name": "stderr",
     "output_type": "stream",
     "text": [
      "Training loss = 2.302643 val accuracy = 0.114583: 100%|██████████| 10/10 [01:52<00:00, 11.29s/it]\n"
     ]
    },
    {
     "name": "stdout",
     "output_type": "stream",
     "text": [
      "------------------------------------------------------\n",
      "Architecture:  [(32, 'elu'), (8, 'elu'), (10, 'last layer')]\n"
     ]
    },
    {
     "name": "stderr",
     "output_type": "stream",
     "text": [
      "Training loss = 0.292399 val accuracy = 0.904250: 100%|██████████| 10/10 [01:50<00:00, 11.08s/it]\n"
     ]
    },
    {
     "name": "stdout",
     "output_type": "stream",
     "text": [
      "------------------------------------------------------\n",
      "Architecture:  [(128, 'elu'), (16, 'relu'), (10, 'last layer')]\n"
     ]
    },
    {
     "name": "stderr",
     "output_type": "stream",
     "text": [
      "Training loss = 0.212915 val accuracy = 0.940000: 100%|██████████| 10/10 [01:51<00:00, 11.19s/it]\n"
     ]
    },
    {
     "name": "stdout",
     "output_type": "stream",
     "text": [
      "------------------------------------------------------\n",
      "Architecture:  [(64, 'relu'), (8, 'relu'), (10, 'last layer')]\n"
     ]
    },
    {
     "name": "stderr",
     "output_type": "stream",
     "text": [
      "Training loss = 2.302559 val accuracy = 0.114583: 100%|██████████| 10/10 [01:51<00:00, 11.17s/it]\n"
     ]
    },
    {
     "name": "stdout",
     "output_type": "stream",
     "text": [
      "------------------------------------------------------\n",
      "Architecture:  [(256, 'relu'), (512, 'elu'), (10, 'last layer')]\n"
     ]
    },
    {
     "name": "stderr",
     "output_type": "stream",
     "text": [
      "Training loss = 0.950711 val accuracy = 0.622167: 100%|██████████| 10/10 [01:55<00:00, 11.51s/it]\n"
     ]
    },
    {
     "name": "stdout",
     "output_type": "stream",
     "text": [
      "------------------------------------------------------\n",
      "Architecture:  [(128, 'tanh'), (16, 'elu'), (10, 'last layer')]\n"
     ]
    },
    {
     "name": "stderr",
     "output_type": "stream",
     "text": [
      "Training loss = 1.121941 val accuracy = 0.612083: 100%|██████████| 10/10 [01:51<00:00, 11.19s/it]\n"
     ]
    },
    {
     "name": "stdout",
     "output_type": "stream",
     "text": [
      "------------------------------------------------------\n",
      "Architecture:  [(128, 'elu'), (128, 'elu'), (10, 'last layer')]\n"
     ]
    },
    {
     "name": "stderr",
     "output_type": "stream",
     "text": [
      "Training loss = 0.350375 val accuracy = 0.908083: 100%|██████████| 10/10 [01:51<00:00, 11.18s/it]\n"
     ]
    },
    {
     "name": "stdout",
     "output_type": "stream",
     "text": [
      "------------------------------------------------------\n",
      "Architecture:  [(8, 'relu'), (32, 'tanh'), (10, 'last layer')]\n"
     ]
    },
    {
     "name": "stderr",
     "output_type": "stream",
     "text": [
      "Training loss = 0.997853 val accuracy = 0.698750: 100%|██████████| 10/10 [01:51<00:00, 11.19s/it]\n"
     ]
    },
    {
     "name": "stdout",
     "output_type": "stream",
     "text": [
      "------------------------------------------------------\n",
      "------------------------------------------------------------------\n",
      "                       CONTROLLER EPOCH: 7\n",
      "------------------------------------------------------------------\n",
      "GENERATING ARCHITECTURE SAMPLES...\n",
      "------------------------------------------------------\n",
      "Architecture:  [(512, 'relu'), (64, 'sigmoid'), (10, 'last layer')]\n"
     ]
    },
    {
     "name": "stderr",
     "output_type": "stream",
     "text": [
      "Training loss = 2.017567 val accuracy = 0.199500: 100%|██████████| 10/10 [01:53<00:00, 11.40s/it]\n"
     ]
    },
    {
     "name": "stdout",
     "output_type": "stream",
     "text": [
      "------------------------------------------------------\n",
      "Architecture:  [(256, 'sigmoid'), (32, 'tanh'), (10, 'last layer')]\n"
     ]
    },
    {
     "name": "stderr",
     "output_type": "stream",
     "text": [
      "Training loss = 1.109880 val accuracy = 0.585167: 100%|██████████| 10/10 [01:53<00:00, 11.34s/it]\n"
     ]
    },
    {
     "name": "stdout",
     "output_type": "stream",
     "text": [
      "------------------------------------------------------\n",
      "Architecture:  [(256, 'tanh'), (32, 'relu'), (10, 'last layer')]\n"
     ]
    },
    {
     "name": "stderr",
     "output_type": "stream",
     "text": [
      "Training loss = 2.302398 val accuracy = 0.114583: 100%|██████████| 10/10 [01:53<00:00, 11.39s/it]\n"
     ]
    },
    {
     "name": "stdout",
     "output_type": "stream",
     "text": [
      "------------------------------------------------------\n",
      "Architecture:  [(128, 'tanh'), (512, 'elu'), (10, 'last layer')]\n"
     ]
    },
    {
     "name": "stderr",
     "output_type": "stream",
     "text": [
      "Training loss = 1.592026 val accuracy = 0.572167: 100%|██████████| 10/10 [01:55<00:00, 11.54s/it]\n"
     ]
    },
    {
     "name": "stdout",
     "output_type": "stream",
     "text": [
      "------------------------------------------------------\n",
      "Architecture:  [(32, 'sigmoid'), (16, 'sigmoid'), (10, 'last layer')]\n"
     ]
    },
    {
     "name": "stderr",
     "output_type": "stream",
     "text": [
      "Training loss = 0.815708 val accuracy = 0.733417: 100%|██████████| 10/10 [01:51<00:00, 11.13s/it]\n"
     ]
    },
    {
     "name": "stdout",
     "output_type": "stream",
     "text": [
      "------------------------------------------------------\n",
      "Architecture:  [(512, 'sigmoid'), (128, 'relu'), (10, 'last layer')]\n"
     ]
    },
    {
     "name": "stderr",
     "output_type": "stream",
     "text": [
      "Training loss = 0.767799 val accuracy = 0.789083: 100%|██████████| 10/10 [01:54<00:00, 11.45s/it]\n"
     ]
    },
    {
     "name": "stdout",
     "output_type": "stream",
     "text": [
      "------------------------------------------------------\n",
      "Architecture:  [(8, 'sigmoid'), (16, 'sigmoid'), (10, 'last layer')]\n"
     ]
    },
    {
     "name": "stderr",
     "output_type": "stream",
     "text": [
      "Training loss = 2.302763 val accuracy = 0.114583: 100%|██████████| 10/10 [01:51<00:00, 11.14s/it]\n"
     ]
    },
    {
     "name": "stdout",
     "output_type": "stream",
     "text": [
      "------------------------------------------------------\n",
      "Architecture:  [(8, 'relu'), (10, 'last layer')]\n"
     ]
    },
    {
     "name": "stderr",
     "output_type": "stream",
     "text": [
      "Training loss = 2.302636 val accuracy = 0.101167: 100%|██████████| 10/10 [01:47<00:00, 10.72s/it]\n"
     ]
    },
    {
     "name": "stdout",
     "output_type": "stream",
     "text": [
      "------------------------------------------------------\n",
      "Architecture:  [(32, 'tanh'), (10, 'last layer')]\n"
     ]
    },
    {
     "name": "stderr",
     "output_type": "stream",
     "text": [
      "Training loss = 2.340380 val accuracy = 0.087000: 100%|██████████| 10/10 [01:47<00:00, 10.74s/it]\n"
     ]
    },
    {
     "name": "stdout",
     "output_type": "stream",
     "text": [
      "------------------------------------------------------\n",
      "Architecture:  [(256, 'relu'), (8, 'relu'), (10, 'last layer')]\n"
     ]
    },
    {
     "name": "stderr",
     "output_type": "stream",
     "text": [
      "Training loss = 2.302819 val accuracy = 0.101167: 100%|██████████| 10/10 [01:54<00:00, 11.41s/it]\n"
     ]
    },
    {
     "name": "stdout",
     "output_type": "stream",
     "text": [
      "------------------------------------------------------\n",
      "------------------------------------------------------------------\n",
      "                       CONTROLLER EPOCH: 8\n",
      "------------------------------------------------------------------\n",
      "GENERATING ARCHITECTURE SAMPLES...\n",
      "------------------------------------------------------\n",
      "Architecture:  [(8, 'relu'), (32, 'elu'), (10, 'last layer')]\n"
     ]
    },
    {
     "name": "stderr",
     "output_type": "stream",
     "text": [
      "Training loss = 1.556576 val accuracy = 0.406333: 100%|██████████| 10/10 [01:51<00:00, 11.17s/it]\n"
     ]
    },
    {
     "name": "stdout",
     "output_type": "stream",
     "text": [
      "------------------------------------------------------\n",
      "Architecture:  [(8, 'relu'), (256, 'relu'), (10, 'last layer')]\n"
     ]
    },
    {
     "name": "stderr",
     "output_type": "stream",
     "text": [
      "Training loss = 2.302476 val accuracy = 0.114583: 100%|██████████| 10/10 [01:51<00:00, 11.18s/it]\n"
     ]
    },
    {
     "name": "stdout",
     "output_type": "stream",
     "text": [
      "------------------------------------------------------\n",
      "Architecture:  [(128, 'relu'), (8, 'sigmoid'), (10, 'last layer')]\n"
     ]
    },
    {
     "name": "stderr",
     "output_type": "stream",
     "text": [
      "Training loss = 2.303807 val accuracy = 0.114583: 100%|██████████| 10/10 [01:52<00:00, 11.27s/it]\n"
     ]
    },
    {
     "name": "stdout",
     "output_type": "stream",
     "text": [
      "------------------------------------------------------\n",
      "Architecture:  [(8, 'relu'), (8, 'relu'), (10, 'last layer')]\n"
     ]
    },
    {
     "name": "stderr",
     "output_type": "stream",
     "text": [
      "Training loss = 2.302588 val accuracy = 0.102333: 100%|██████████| 10/10 [01:51<00:00, 11.16s/it]\n"
     ]
    },
    {
     "name": "stdout",
     "output_type": "stream",
     "text": [
      "------------------------------------------------------\n",
      "Architecture:  [(32, 'tanh'), (16, 'elu'), (10, 'last layer')]\n"
     ]
    },
    {
     "name": "stderr",
     "output_type": "stream",
     "text": [
      "Training loss = 2.320740 val accuracy = 0.104083: 100%|██████████| 10/10 [01:50<00:00, 11.06s/it]\n"
     ]
    },
    {
     "name": "stdout",
     "output_type": "stream",
     "text": [
      "------------------------------------------------------\n",
      "Architecture:  [(8, 'sigmoid'), (8, 'relu'), (10, 'last layer')]\n"
     ]
    },
    {
     "name": "stderr",
     "output_type": "stream",
     "text": [
      "Training loss = 1.240431 val accuracy = 0.546250: 100%|██████████| 10/10 [01:51<00:00, 11.15s/it]\n"
     ]
    },
    {
     "name": "stdout",
     "output_type": "stream",
     "text": [
      "------------------------------------------------------\n",
      "Architecture:  [(8, 'sigmoid'), (256, 'elu'), (10, 'last layer')]\n"
     ]
    },
    {
     "name": "stderr",
     "output_type": "stream",
     "text": [
      "Training loss = 1.822323 val accuracy = 0.197750: 100%|██████████| 10/10 [01:50<00:00, 11.08s/it]\n"
     ]
    },
    {
     "name": "stdout",
     "output_type": "stream",
     "text": [
      "------------------------------------------------------\n",
      "Architecture:  [(32, 'tanh'), (64, 'sigmoid'), (10, 'last layer')]\n"
     ]
    },
    {
     "name": "stderr",
     "output_type": "stream",
     "text": [
      "Training loss = 1.477327 val accuracy = 0.367417: 100%|██████████| 10/10 [01:50<00:00, 11.06s/it]\n"
     ]
    },
    {
     "name": "stdout",
     "output_type": "stream",
     "text": [
      "------------------------------------------------------\n",
      "Architecture:  [(8, 'sigmoid'), (16, 'tanh'), (10, 'last layer')]\n"
     ]
    },
    {
     "name": "stderr",
     "output_type": "stream",
     "text": [
      "Training loss = 1.399595 val accuracy = 0.394250: 100%|██████████| 10/10 [01:51<00:00, 11.14s/it]\n"
     ]
    },
    {
     "name": "stdout",
     "output_type": "stream",
     "text": [
      "------------------------------------------------------\n",
      "Architecture:  [(512, 'elu'), (256, 'relu'), (10, 'last layer')]\n"
     ]
    },
    {
     "name": "stderr",
     "output_type": "stream",
     "text": [
      "Training loss = 0.289907 val accuracy = 0.935583: 100%|██████████| 10/10 [01:54<00:00, 11.49s/it]\n"
     ]
    },
    {
     "name": "stdout",
     "output_type": "stream",
     "text": [
      "------------------------------------------------------\n",
      "------------------------------------------------------------------\n",
      "                       CONTROLLER EPOCH: 9\n",
      "------------------------------------------------------------------\n",
      "GENERATING ARCHITECTURE SAMPLES...\n",
      "------------------------------------------------------\n",
      "Architecture:  [(32, 'elu'), (32, 'tanh'), (10, 'last layer')]\n"
     ]
    },
    {
     "name": "stderr",
     "output_type": "stream",
     "text": [
      "Training loss = 0.553771 val accuracy = 0.760667: 100%|██████████| 10/10 [01:51<00:00, 11.18s/it]\n"
     ]
    },
    {
     "name": "stdout",
     "output_type": "stream",
     "text": [
      "------------------------------------------------------\n",
      "Architecture:  [(32, 'elu'), (256, 'sigmoid'), (10, 'last layer')]\n"
     ]
    },
    {
     "name": "stderr",
     "output_type": "stream",
     "text": [
      "Training loss = 0.360764 val accuracy = 0.899333: 100%|██████████| 10/10 [01:51<00:00, 11.12s/it]\n"
     ]
    },
    {
     "name": "stdout",
     "output_type": "stream",
     "text": [
      "------------------------------------------------------\n",
      "Architecture:  [(256, 'sigmoid'), (256, 'sigmoid'), (10, 'last layer')]\n"
     ]
    },
    {
     "name": "stderr",
     "output_type": "stream",
     "text": [
      "Training loss = 0.431205 val accuracy = 0.890250: 100%|██████████| 10/10 [01:53<00:00, 11.40s/it]\n"
     ]
    },
    {
     "name": "stdout",
     "output_type": "stream",
     "text": [
      "------------------------------------------------------\n",
      "Architecture:  [(16, 'elu'), 'dropout', (10, 'last layer')]\n"
     ]
    },
    {
     "name": "stderr",
     "output_type": "stream",
     "text": [
      "Training loss = 1.119747 val accuracy = 0.794083: 100%|██████████| 10/10 [01:47<00:00, 10.75s/it]\n"
     ]
    },
    {
     "name": "stdout",
     "output_type": "stream",
     "text": [
      "------------------------------------------------------\n",
      "Architecture:  [(128, 'tanh'), (64, 'tanh'), (10, 'last layer')]\n"
     ]
    },
    {
     "name": "stderr",
     "output_type": "stream",
     "text": [
      "Training loss = 1.692593 val accuracy = 0.373083: 100%|██████████| 10/10 [01:51<00:00, 11.15s/it]\n"
     ]
    },
    {
     "name": "stdout",
     "output_type": "stream",
     "text": [
      "------------------------------------------------------\n",
      "Architecture:  [(512, 'relu'), (10, 'last layer')]\n"
     ]
    },
    {
     "name": "stderr",
     "output_type": "stream",
     "text": [
      "Training loss = 0.511125 val accuracy = 0.851750: 100%|██████████| 10/10 [01:51<00:00, 11.14s/it]\n"
     ]
    },
    {
     "name": "stdout",
     "output_type": "stream",
     "text": [
      "------------------------------------------------------\n",
      "Architecture:  [(8, 'relu'), (8, 'sigmoid'), (10, 'last layer')]\n"
     ]
    },
    {
     "name": "stderr",
     "output_type": "stream",
     "text": [
      "Training loss = 0.650645 val accuracy = 0.828333: 100%|██████████| 10/10 [01:52<00:00, 11.21s/it]\n"
     ]
    },
    {
     "name": "stdout",
     "output_type": "stream",
     "text": [
      "------------------------------------------------------\n",
      "Architecture:  [(256, 'sigmoid'), (10, 'last layer')]\n"
     ]
    },
    {
     "name": "stderr",
     "output_type": "stream",
     "text": [
      "Training loss = 0.438542 val accuracy = 0.871833: 100%|██████████| 10/10 [01:49<00:00, 10.94s/it]\n"
     ]
    },
    {
     "name": "stdout",
     "output_type": "stream",
     "text": [
      "------------------------------------------------------\n",
      "Architecture:  [(16, 'elu'), (8, 'tanh'), (10, 'last layer')]\n"
     ]
    },
    {
     "name": "stderr",
     "output_type": "stream",
     "text": [
      "Training loss = 0.721586 val accuracy = 0.804417: 100%|██████████| 10/10 [01:54<00:00, 11.43s/it]\n"
     ]
    },
    {
     "name": "stdout",
     "output_type": "stream",
     "text": [
      "------------------------------------------------------\n",
      "Running script...\n",
      "------------------------------------------------------------------\n",
      "                       CONTROLLER EPOCH: 0\n",
      "------------------------------------------------------------------\n",
      "GENERATING ARCHITECTURE SAMPLES...\n",
      "------------------------------------------------------\n",
      "Architecture:  [(256, 'tanh'), (10, 'last layer')]\n"
     ]
    },
    {
     "name": "stderr",
     "output_type": "stream",
     "text": [
      "Training loss = 0.743261 val accuracy = 0.810833: 100%|██████████| 10/10 [01:51<00:00, 11.14s/it]\n"
     ]
    },
    {
     "name": "stdout",
     "output_type": "stream",
     "text": [
      "------------------------------------------------------\n",
      "Architecture:  [(64, 'tanh'), (32, 'sigmoid'), (10, 'last layer')]\n"
     ]
    },
    {
     "name": "stderr",
     "output_type": "stream",
     "text": [
      "Training loss = 2.302534 val accuracy = 0.113583: 100%|██████████| 10/10 [01:54<00:00, 11.41s/it]\n"
     ]
    },
    {
     "name": "stdout",
     "output_type": "stream",
     "text": [
      "------------------------------------------------------\n",
      "Architecture:  [(16, 'sigmoid'), (128, 'tanh'), (10, 'last layer')]\n"
     ]
    },
    {
     "name": "stderr",
     "output_type": "stream",
     "text": [
      "Training loss = 0.641059 val accuracy = 0.819750: 100%|██████████| 10/10 [01:54<00:00, 11.48s/it]\n"
     ]
    },
    {
     "name": "stdout",
     "output_type": "stream",
     "text": [
      "------------------------------------------------------\n",
      "Architecture:  [(512, 'tanh'), (128, 'relu'), (10, 'last layer')]\n"
     ]
    },
    {
     "name": "stderr",
     "output_type": "stream",
     "text": [
      "Training loss = 2.302692 val accuracy = 0.102083: 100%|██████████| 10/10 [01:57<00:00, 11.78s/it]\n"
     ]
    },
    {
     "name": "stdout",
     "output_type": "stream",
     "text": [
      "------------------------------------------------------\n",
      "Architecture:  [(32, 'elu'), (256, 'sigmoid'), (10, 'last layer')]\n"
     ]
    },
    {
     "name": "stderr",
     "output_type": "stream",
     "text": [
      "Training loss = 0.335570 val accuracy = 0.909417: 100%|██████████| 10/10 [01:54<00:00, 11.43s/it]\n"
     ]
    },
    {
     "name": "stdout",
     "output_type": "stream",
     "text": [
      "------------------------------------------------------\n",
      "Architecture:  [(256, 'tanh'), (8, 'relu'), (10, 'last layer')]\n"
     ]
    },
    {
     "name": "stderr",
     "output_type": "stream",
     "text": [
      "Training loss = 2.302702 val accuracy = 0.113583: 100%|██████████| 10/10 [01:56<00:00, 11.60s/it]\n"
     ]
    },
    {
     "name": "stdout",
     "output_type": "stream",
     "text": [
      "------------------------------------------------------\n",
      "Architecture:  [(256, 'sigmoid'), (8, 'tanh'), (10, 'last layer')]\n"
     ]
    },
    {
     "name": "stderr",
     "output_type": "stream",
     "text": [
      "Training loss = 1.093082 val accuracy = 0.536417: 100%|██████████| 10/10 [01:56<00:00, 11.62s/it]\n"
     ]
    },
    {
     "name": "stdout",
     "output_type": "stream",
     "text": [
      "------------------------------------------------------\n",
      "Architecture:  [(128, 'sigmoid'), (64, 'tanh'), (10, 'last layer')]\n"
     ]
    },
    {
     "name": "stderr",
     "output_type": "stream",
     "text": [
      "Training loss = 0.504481 val accuracy = 0.864167: 100%|██████████| 10/10 [01:54<00:00, 11.50s/it]\n"
     ]
    },
    {
     "name": "stdout",
     "output_type": "stream",
     "text": [
      "------------------------------------------------------\n",
      "Architecture:  [(8, 'relu'), (256, 'relu'), (10, 'last layer')]\n"
     ]
    },
    {
     "name": "stderr",
     "output_type": "stream",
     "text": [
      "Training loss = 2.302282 val accuracy = 0.103583: 100%|██████████| 10/10 [01:54<00:00, 11.40s/it]\n"
     ]
    },
    {
     "name": "stdout",
     "output_type": "stream",
     "text": [
      "------------------------------------------------------\n",
      "Architecture:  [(8, 'tanh'), (8, 'tanh'), (10, 'last layer')]\n"
     ]
    },
    {
     "name": "stderr",
     "output_type": "stream",
     "text": [
      "Training loss = 2.304223 val accuracy = 0.095167: 100%|██████████| 10/10 [01:53<00:00, 11.38s/it]\n"
     ]
    },
    {
     "name": "stdout",
     "output_type": "stream",
     "text": [
      "------------------------------------------------------\n",
      "------------------------------------------------------------------\n",
      "                       CONTROLLER EPOCH: 1\n",
      "------------------------------------------------------------------\n",
      "GENERATING ARCHITECTURE SAMPLES...\n",
      "------------------------------------------------------\n",
      "Architecture:  [(16, 'tanh'), (16, 'tanh'), (10, 'last layer')]\n"
     ]
    },
    {
     "name": "stderr",
     "output_type": "stream",
     "text": [
      "Training loss = 2.313295 val accuracy = 0.099917: 100%|██████████| 10/10 [01:53<00:00, 11.32s/it]\n"
     ]
    },
    {
     "name": "stdout",
     "output_type": "stream",
     "text": [
      "------------------------------------------------------\n",
      "Architecture:  [(256, 'relu'), (32, 'elu'), (10, 'last layer')]\n"
     ]
    },
    {
     "name": "stderr",
     "output_type": "stream",
     "text": [
      "Training loss = 0.247558 val accuracy = 0.918917: 100%|██████████| 10/10 [01:54<00:00, 11.49s/it]\n"
     ]
    },
    {
     "name": "stdout",
     "output_type": "stream",
     "text": [
      "------------------------------------------------------\n",
      "Architecture:  [(512, 'sigmoid'), (64, 'elu'), (10, 'last layer')]\n"
     ]
    },
    {
     "name": "stderr",
     "output_type": "stream",
     "text": [
      "Training loss = 0.452887 val accuracy = 0.876167: 100%|██████████| 10/10 [01:55<00:00, 11.59s/it]\n"
     ]
    },
    {
     "name": "stdout",
     "output_type": "stream",
     "text": [
      "------------------------------------------------------\n",
      "Architecture:  [(512, 'elu'), (64, 'tanh'), (10, 'last layer')]\n"
     ]
    },
    {
     "name": "stderr",
     "output_type": "stream",
     "text": [
      "Training loss = 2.370159 val accuracy = 0.101500: 100%|██████████| 10/10 [01:55<00:00, 11.51s/it]\n"
     ]
    },
    {
     "name": "stdout",
     "output_type": "stream",
     "text": [
      "------------------------------------------------------\n",
      "Architecture:  [(64, 'sigmoid'), (16, 'tanh'), (10, 'last layer')]\n"
     ]
    },
    {
     "name": "stderr",
     "output_type": "stream",
     "text": [
      "Training loss = 1.023672 val accuracy = 0.645833: 100%|██████████| 10/10 [01:52<00:00, 11.29s/it]\n"
     ]
    },
    {
     "name": "stdout",
     "output_type": "stream",
     "text": [
      "------------------------------------------------------\n",
      "Architecture:  [(16, 'tanh'), (512, 'elu'), (10, 'last layer')]\n"
     ]
    },
    {
     "name": "stderr",
     "output_type": "stream",
     "text": [
      "Training loss = 1.493638 val accuracy = 0.362417: 100%|██████████| 10/10 [01:53<00:00, 11.33s/it]\n"
     ]
    },
    {
     "name": "stdout",
     "output_type": "stream",
     "text": [
      "------------------------------------------------------\n",
      "Architecture:  [(128, 'elu'), (512, 'relu'), (10, 'last layer')]\n"
     ]
    },
    {
     "name": "stderr",
     "output_type": "stream",
     "text": [
      "Training loss = 0.287691 val accuracy = 0.924500: 100%|██████████| 10/10 [01:55<00:00, 11.59s/it]\n"
     ]
    },
    {
     "name": "stdout",
     "output_type": "stream",
     "text": [
      "------------------------------------------------------\n",
      "Architecture:  [(16, 'tanh'), (32, 'elu'), (10, 'last layer')]\n"
     ]
    },
    {
     "name": "stderr",
     "output_type": "stream",
     "text": [
      "Training loss = 2.312649 val accuracy = 0.113583: 100%|██████████| 10/10 [01:54<00:00, 11.43s/it]\n"
     ]
    },
    {
     "name": "stdout",
     "output_type": "stream",
     "text": [
      "------------------------------------------------------\n",
      "Architecture:  [(16, 'relu'), (16, 'relu'), (10, 'last layer')]\n"
     ]
    },
    {
     "name": "stderr",
     "output_type": "stream",
     "text": [
      "Training loss = 0.638899 val accuracy = 0.801583: 100%|██████████| 10/10 [01:54<00:00, 11.41s/it]\n"
     ]
    },
    {
     "name": "stdout",
     "output_type": "stream",
     "text": [
      "------------------------------------------------------\n",
      "Architecture:  [(32, 'sigmoid'), (128, 'tanh'), (10, 'last layer')]\n"
     ]
    },
    {
     "name": "stderr",
     "output_type": "stream",
     "text": [
      "Training loss = 0.787389 val accuracy = 0.752083: 100%|██████████| 10/10 [01:54<00:00, 11.43s/it]\n"
     ]
    },
    {
     "name": "stdout",
     "output_type": "stream",
     "text": [
      "------------------------------------------------------\n",
      "------------------------------------------------------------------\n",
      "                       CONTROLLER EPOCH: 2\n",
      "------------------------------------------------------------------\n",
      "GENERATING ARCHITECTURE SAMPLES...\n",
      "------------------------------------------------------\n",
      "Architecture:  [(32, 'sigmoid'), (16, 'tanh'), (10, 'last layer')]\n"
     ]
    },
    {
     "name": "stderr",
     "output_type": "stream",
     "text": [
      "Training loss = 0.427176 val accuracy = 0.890417: 100%|██████████| 10/10 [01:54<00:00, 11.48s/it]\n"
     ]
    },
    {
     "name": "stdout",
     "output_type": "stream",
     "text": [
      "------------------------------------------------------\n",
      "Architecture:  [(128, 'elu'), (64, 'sigmoid'), (10, 'last layer')]\n"
     ]
    },
    {
     "name": "stderr",
     "output_type": "stream",
     "text": [
      "Training loss = 0.497327 val accuracy = 0.841167: 100%|██████████| 10/10 [01:54<00:00, 11.42s/it]\n"
     ]
    },
    {
     "name": "stdout",
     "output_type": "stream",
     "text": [
      "------------------------------------------------------\n",
      "Architecture:  [(16, 'elu'), (128, 'relu'), (10, 'last layer')]\n"
     ]
    },
    {
     "name": "stderr",
     "output_type": "stream",
     "text": [
      "Training loss = 0.481859 val accuracy = 0.858000: 100%|██████████| 10/10 [01:53<00:00, 11.38s/it]\n"
     ]
    },
    {
     "name": "stdout",
     "output_type": "stream",
     "text": [
      "------------------------------------------------------\n",
      "Architecture:  [(64, 'elu'), (64, 'sigmoid'), (10, 'last layer')]\n"
     ]
    },
    {
     "name": "stderr",
     "output_type": "stream",
     "text": [
      "Training loss = 0.364901 val accuracy = 0.871750: 100%|██████████| 10/10 [01:53<00:00, 11.35s/it]\n"
     ]
    },
    {
     "name": "stdout",
     "output_type": "stream",
     "text": [
      "------------------------------------------------------\n",
      "Architecture:  [(64, 'relu'), (128, 'sigmoid'), (10, 'last layer')]\n"
     ]
    },
    {
     "name": "stderr",
     "output_type": "stream",
     "text": [
      "Training loss = 0.350543 val accuracy = 0.862167: 100%|██████████| 10/10 [01:53<00:00, 11.38s/it]\n"
     ]
    },
    {
     "name": "stdout",
     "output_type": "stream",
     "text": [
      "------------------------------------------------------\n",
      "Architecture:  [(8, 'relu'), (16, 'sigmoid'), (10, 'last layer')]\n"
     ]
    },
    {
     "name": "stderr",
     "output_type": "stream",
     "text": [
      "Training loss = 0.593155 val accuracy = 0.778000: 100%|██████████| 10/10 [01:52<00:00, 11.28s/it]\n"
     ]
    },
    {
     "name": "stdout",
     "output_type": "stream",
     "text": [
      "------------------------------------------------------\n",
      "Architecture:  [(8, 'elu'), (10, 'last layer')]\n"
     ]
    },
    {
     "name": "stderr",
     "output_type": "stream",
     "text": [
      "Training loss = 0.684261 val accuracy = 0.778500: 100%|██████████| 10/10 [01:49<00:00, 10.93s/it]\n"
     ]
    },
    {
     "name": "stdout",
     "output_type": "stream",
     "text": [
      "------------------------------------------------------\n",
      "Architecture:  [(512, 'tanh'), (64, 'relu'), (10, 'last layer')]\n"
     ]
    },
    {
     "name": "stderr",
     "output_type": "stream",
     "text": [
      "Training loss = 2.302514 val accuracy = 0.113583: 100%|██████████| 10/10 [01:54<00:00, 11.41s/it]\n"
     ]
    },
    {
     "name": "stdout",
     "output_type": "stream",
     "text": [
      "------------------------------------------------------\n",
      "Architecture:  [(32, 'tanh'), (512, 'tanh'), (10, 'last layer')]\n"
     ]
    },
    {
     "name": "stderr",
     "output_type": "stream",
     "text": [
      "Training loss = 2.413254 val accuracy = 0.099667: 100%|██████████| 10/10 [01:52<00:00, 11.21s/it]\n"
     ]
    },
    {
     "name": "stdout",
     "output_type": "stream",
     "text": [
      "------------------------------------------------------\n",
      "Architecture:  [(512, 'elu'), (16, 'tanh'), (10, 'last layer')]\n"
     ]
    },
    {
     "name": "stderr",
     "output_type": "stream",
     "text": [
      "Training loss = 2.323341 val accuracy = 0.113583: 100%|██████████| 10/10 [01:54<00:00, 11.48s/it]\n"
     ]
    },
    {
     "name": "stdout",
     "output_type": "stream",
     "text": [
      "------------------------------------------------------\n",
      "------------------------------------------------------------------\n",
      "                       CONTROLLER EPOCH: 3\n",
      "------------------------------------------------------------------\n",
      "GENERATING ARCHITECTURE SAMPLES...\n",
      "------------------------------------------------------\n",
      "Architecture:  [(512, 'relu'), (256, 'elu'), (10, 'last layer')]\n"
     ]
    },
    {
     "name": "stderr",
     "output_type": "stream",
     "text": [
      "Training loss = 0.507914 val accuracy = 0.904667: 100%|██████████| 10/10 [01:56<00:00, 11.69s/it]\n"
     ]
    },
    {
     "name": "stdout",
     "output_type": "stream",
     "text": [
      "------------------------------------------------------\n",
      "Architecture:  [(16, 'tanh'), (64, 'elu'), (10, 'last layer')]\n"
     ]
    },
    {
     "name": "stderr",
     "output_type": "stream",
     "text": [
      "Training loss = 1.463295 val accuracy = 0.361917:  70%|███████   | 7/10 [01:20<00:34, 11.41s/it]"
     ]
    }
   ],
   "source": [
    "import time\n",
    "\n",
    "# Define the fixed duration in seconds for which you want to run the script\n",
    "fixed_duration_seconds = 29*360000  # Change this to the desired duration in seconds\n",
    "\n",
    "# Define the maximum number of times you want the script to be executed\n",
    "max_execution_count = 10  # Change this to the desired maximum execution count\n",
    "\n",
    "# Get the current time in seconds\n",
    "start_time = time.time()\n",
    "\n",
    "# Counter to keep track of the number of script executions\n",
    "execution_count = 0\n",
    "\n",
    "# Main loop that will run until the fixed duration is reached or max execution count is reached\n",
    "while (time.time() - start_time < fixed_duration_seconds) and (execution_count < max_execution_count):\n",
    "    # Place your script or code that you want to run here\n",
    "    # For example, print a message every time the script runs\n",
    "    print(\"Running script...\")\n",
    "    %run ./Pytorch/run.py\n",
    "    # Increment the execution count\n",
    "    execution_count += 1\n",
    "\n",
    "    # Add a delay to control the loop execution frequency (optional)\n",
    "    time.sleep(1)  # Sleep for 1 second\n",
    "\n",
    "# The loop will exit either after the fixed duration is reached or max execution count is reached\n",
    "print(\"Script execution completed.\")\n"
   ]
  }
 ],
 "metadata": {
  "kernelspec": {
   "display_name": "saturn (Python 3)",
   "language": "python",
   "name": "python3"
  },
  "language_info": {
   "codemirror_mode": {
    "name": "ipython",
    "version": 3
   },
   "file_extension": ".py",
   "mimetype": "text/x-python",
   "name": "python",
   "nbconvert_exporter": "python",
   "pygments_lexer": "ipython3",
   "version": "3.9.15"
  },
  "vscode": {
   "interpreter": {
    "hash": "0acf3a43864080be2c12a8131525f00380261cf4c845198ddc9955ee0334afb7"
   }
  }
 },
 "nbformat": 4,
 "nbformat_minor": 4
}
