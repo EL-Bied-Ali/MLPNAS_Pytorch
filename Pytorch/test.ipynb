{
 "cells": [
  {
   "cell_type": "code",
   "execution_count": 74,
   "metadata": {},
   "outputs": [],
   "source": [
    "import torch\n",
    "import torch.nn as nn\n",
    "from functools import reduce\n",
    "\n",
    "from sklearn.metrics import accuracy_score\n",
    "\n",
    "from CONSTANTS import *\n",
    "from utils import *\n",
    "from tqdm import tqdm, trange\n",
    "\n",
    "\n",
    "\n",
    "from brevitas.nn import QuantIdentity, QuantLinear, QuantReLU, QuantHardTanh\n",
    "from brevitas import quant \n",
    "\n",
    "\n",
    "\n",
    "def clamp_weight(model):\n",
    "    for mod in model:\n",
    "        if isinstance(mod, QuantLinear):\n",
    "            mod.weight.data.clamp_(-1, 1)\n",
    "\n",
    "def train_model(model, data_loader, nb_epochs, lr, device):\n",
    "        \n",
    "        criterion = nn.CrossEntropyLoss().to(device)\n",
    "        optimizer = torch.optim.Adam(model.parameters(), lr=lr, betas=(0.9, 0.999))\n",
    "\n",
    "        train_loader = data_loader[0]\n",
    "        valid_loader = data_loader[1]\n",
    "\n",
    "        train_losses = []\n",
    "        train_accs = []\n",
    "        valid_losses = []\n",
    "        valid_accs = []\n",
    "\n",
    "        t = trange(nb_epochs, desc=\"Training loss\", leave=True)\n",
    "\n",
    "        for epoch in t:\n",
    "\n",
    "            train_loss_total = 0.0\n",
    "    \n",
    "            # ensure model is in training mode\n",
    "            model.train()    \n",
    "\n",
    "            for data in train_loader:        \n",
    "                inputs, target = data\n",
    "                inputs, target = inputs.to(device), target.to(device)\n",
    "                optimizer.zero_grad()   \n",
    "                        \n",
    "                # forward pass\n",
    "                # output = model(inputs.view(inputs.shape[0], -1)) # flattening the input image\n",
    "                inputs = inputs.view(inputs.shape[0], -1)\n",
    "                inputs = 2.0 * inputs - torch.tensor([1.0], device=device)\n",
    "                output = model(inputs)\n",
    "            \n",
    "                loss = criterion(output, target)\n",
    "                \n",
    "                # backward pass + run optimizer to update weights\n",
    "                loss.backward()\n",
    "                optimizer.step()\n",
    "                clamp_weight(model)\n",
    "            \n",
    "                # keep track of loss value\n",
    "                train_loss_total += loss.item()\n",
    "\n",
    "            train_losses.append(train_loss_total / len(train_loader)) #average train loss for each epoch  \n",
    "            \n",
    "            # Validation loop\n",
    "            # valid_loss_total = 0.0\n",
    "            model.eval()\n",
    "            y_true = []\n",
    "            y_pred = []\n",
    "            for data in valid_loader:\n",
    "                inputs, target = data\n",
    "                inputs, target = inputs.to(device), target.to(device)\n",
    "\n",
    "                # forward pass\n",
    "                # output = model(inputs.view(inputs.shape[0], -1)) # flattening the input image\n",
    "                inputs = inputs.view(inputs.shape[0], -1)\n",
    "                inputs = 2.0 * inputs - torch.tensor([1.0], device=device)\n",
    "                output = model(inputs)\n",
    "                \n",
    "                \n",
    "                # loss = criterion(output, target)\n",
    "                # valid_loss_total += loss.item()\n",
    "                \n",
    "                _, pred = torch.max(output, 1)\n",
    "                target = target.cpu().float()\n",
    "                y_true.extend(target.tolist()) \n",
    "                y_pred.extend(pred.reshape(-1).tolist())\n",
    "            \n",
    "            # valid_losses.append(valid_loss_total / len(valid_loader))\n",
    "            valid_accs.append(accuracy_score(y_true, y_pred))\n",
    "\n",
    "            \n",
    "            \n",
    "            t.set_description(\"Training loss = %f val accuracy = %f\" % (train_loss_total / len(train_loader), accuracy_score(y_true, y_pred)))\n",
    "            t.refresh() # to show immediately the update  \n",
    "\n",
    "        history = {\"accuracy\": train_accs, \"loss\": train_losses, \"val_accuracy\": valid_accs, \"val_loss\": valid_losses}\n",
    "        return history\n"
   ]
  },
  {
   "cell_type": "code",
   "execution_count": 75,
   "metadata": {},
   "outputs": [],
   "source": [
    "\n",
    "# from .common_bnn_pynq import CommonWeightQuant, CommonActQuant\n",
    "# from .tensor_norm import TensorNorm\n",
    "\n",
    "# import torch.nn as nn\n",
    "\n",
    "# Setting seeds for reproducibility\n",
    "torch.manual_seed(0)\n",
    "\n",
    "input_size = 28 * 28      \n",
    "hidden1 = 64      \n",
    "hidden2 = 64\n",
    "hidden3 = 64\n",
    "weight_bit_width = 1\n",
    "act_bit_width = 1\n",
    "in_bit_width = 1\n",
    "num_classes = 10\n",
    "dropout = 0.2   \n",
    "\n",
    "model = nn.Sequential(\n",
    "      QuantIdentity(bit_width=in_bit_width),\n",
    "      nn.Dropout(dropout),\n",
    "      QuantLinear(input_size, hidden1, bias=False, weight_bit_width=weight_bit_width, weight_quant=quant.SignedBinaryWeightPerTensorConst),\n",
    "      nn.BatchNorm1d(hidden1),\n",
    "      QuantIdentity(bit_width=act_bit_width, act_quant=quant.SignedBinaryActPerTensorConst),\n",
    "      nn.Dropout(dropout),\n",
    "      # QuantReLU(bit_width=act_bit_width),\n",
    "      QuantLinear(hidden1, hidden2, bias=False, weight_bit_width=weight_bit_width, weight_quant=quant.SignedBinaryWeightPerTensorConst),\n",
    "      nn.BatchNorm1d(hidden2),\n",
    "      QuantIdentity(bit_width=act_bit_width, act_quant=quant.SignedBinaryActPerTensorConst),\n",
    "      nn.Dropout(dropout),\n",
    "      # QuantReLU(bit_width=act_bit_width),\n",
    "      QuantLinear(hidden2, hidden3, bias=False, weight_bit_width=weight_bit_width, weight_quant=quant.SignedBinaryWeightPerTensorConst),\n",
    "      nn.BatchNorm1d(hidden3),\n",
    "      QuantIdentity(bit_width=act_bit_width, act_quant=quant.SignedBinaryActPerTensorConst),\n",
    "      nn.Dropout(dropout),\n",
    "      # QuantReLU(bit_width=act_bit_width),\n",
    "      QuantLinear(hidden3, num_classes, bias=False, weight_bit_width=weight_bit_width, weight_quant=quant.SignedBinaryWeightPerTensorConst)\n",
    "      # QuantLinear(hidden3, num_classes, bias=False, weight_bit_width=32)\n",
    ")"
   ]
  },
  {
   "cell_type": "code",
   "execution_count": 76,
   "metadata": {},
   "outputs": [
    {
     "name": "stderr",
     "output_type": "stream",
     "text": [
      "Training loss = 0.731369 val accuracy = 0.860500: 100%|██████████| 1000/1000 [2:09:31<00:00,  7.77s/it] \n"
     ]
    }
   ],
   "source": [
    "lr = 0.02\n",
    "nb_epochs = 1000\n",
    "\n",
    "device = torch.device(\"cuda\" if torch.cuda.is_available() else \"cpu\")\n",
    "\n",
    "train_loader, valid_loader, test_loader = load_dataset()\n",
    "data_loader = (train_loader, valid_loader)\n",
    "\n",
    "history = train_model(model.to(device), data_loader, nb_epochs=nb_epochs, lr=lr, device=device)"
   ]
  },
  {
   "cell_type": "code",
   "execution_count": 79,
   "metadata": {},
   "outputs": [
    {
     "data": {
      "text/plain": [
       "tensor(0.8687, dtype=torch.float64)"
      ]
     },
     "execution_count": 79,
     "metadata": {},
     "output_type": "execute_result"
    }
   ],
   "source": [
    "torch.max(torch.as_tensor(history['val_accuracy']))"
   ]
  },
  {
   "cell_type": "code",
   "execution_count": 77,
   "metadata": {},
   "outputs": [
    {
     "data": {
      "image/png": "[encoded data removed]",
      "text/plain": [
       "<Figure size 432x288 with 1 Axes>"
      ]
     },
     "metadata": {
      "needs_background": "light"
     },
     "output_type": "display_data"
    }
   ],
   "source": [
    "def display_loss_plot(losses, title=\"Training loss\", xlabel=\"Epochs\", ylabel=\"Loss\"):\n",
    "    x_axis = [i for i in range(len(losses))]\n",
    "    plt.plot(x_axis,losses)\n",
    "    plt.title(title)\n",
    "    plt.xlabel(xlabel)\n",
    "    plt.ylabel(ylabel)\n",
    "    plt.show()\n",
    "\n",
    "display_loss_plot(history['val_accuracy'], title=\"Test accuracy\", ylabel=\"Accuracy [%]\")"
   ]
  },
  {
   "cell_type": "code",
   "execution_count": null,
   "metadata": {},
   "outputs": [],
   "source": []
  }
 ],
 "metadata": {
  "kernelspec": {
   "display_name": "Python 3.10.4 64-bit",
   "language": "python",
   "name": "python3"
  },
  "language_info": {
   "codemirror_mode": {
    "name": "ipython",
    "version": 3
   },
   "file_extension": ".py",
   "mimetype": "text/x-python",
   "name": "python",
   "nbconvert_exporter": "python",
   "pygments_lexer": "ipython3",
   "version": "3.10.4"
  },
  "orig_nbformat": 4,
  "vscode": {
   "interpreter": {
    "hash": "0acf3a43864080be2c12a8131525f00380261cf4c845198ddc9955ee0334afb7"
   }
  }
 },
 "nbformat": 4,
 "nbformat_minor": 2
}
